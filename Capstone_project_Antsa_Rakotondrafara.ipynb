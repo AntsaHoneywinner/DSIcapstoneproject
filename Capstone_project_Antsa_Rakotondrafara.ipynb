{
  "cells": [
    {
      "cell_type": "markdown",
      "metadata": {
        "id": "view-in-github",
        "colab_type": "text"
      },
      "source": [
        "<a href=\"https://colab.research.google.com/github/AntsaHoneywinner/DSIcapstoneproject/blob/main/Capstone_project_Antsa_Rakotondrafara.ipynb\" target=\"_parent\"><img src=\"https://colab.research.google.com/assets/colab-badge.svg\" alt=\"Open In Colab\"/></a>"
      ]
    },
    {
      "cell_type": "markdown",
      "source": [
        "# Capstone Project\n",
        "\n",
        "# DSI Program\n",
        "\n",
        "# Antsa Tantely Fandresena Rakotondrafara\n",
        "\n",
        "\n",
        "Github [link](https://github.com/AntsaHoneywinner/DSIcapstoneproject/).\n",
        "\n",
        "Dashboard [link](https://datastudio.google.com/reporting/785bef4b-8c1e-48cd-87a8-c76372f4a0d7).\n",
        "\n",
        "To access the [GeoData](https://datahub.io/core/geo-countries) of all countries.\n",
        "\n",
        "Understand [TIMMS](https://timss2019.org/international-database/?_gl=1*e0igog*_ga*MTE1MzU3MjcyNi4xNjQ0ODc5NDUw*_ga_L2FMXN42HR*MTY0NDg3OTUxMy4xLjAuMTY0NDg3OTUxMy4w).\n",
        "\n",
        "## Regression Analysis  of  Mathematical Achievement using TIMMS 2019 database\n",
        "\n",
        "I owe thanks to all people who make DSI happen!"
      ],
      "metadata": {
        "id": "d5wBXmYxys-F"
      }
    },
    {
      "cell_type": "markdown",
      "source": [
        "Goals :     \n",
        "\n",
        "-  Merging student, school, home and teacher context data in TIMMS,\n",
        "- Build machine learning models that can sketch the feature importance while the target is the achievement.\n",
        "-  Plot all results"
      ],
      "metadata": {
        "id": "Max98xzYzknV"
      }
    },
    {
      "cell_type": "markdown",
      "source": [
        "## The problem to be solved.\n",
        "\n",
        "\n",
        "Overview : When creating a NGO to help girls to achieve their goals, we have limited resources. Hence, we need to focus  on the ones that need the help urgently. Predicting the achievement of a given girl and taking the decision to help her immediately or put her in waiting list is very crucial. The purpose of this project is to build a model that can do such decision. Statistical analysis and machine learning projects have been done in the area, even in the user guide of the datasets but not all participating countries have been studied. \n",
        "\n",
        "\n",
        "### Dataset used :  [TIMSS (TRENDS IN INTERNATIONAL MATHEMATICS AND SCIENCE STUDY) 2019 International Database](https://timss2019.org/international-database/?_gl=1*e0igog*_ga*MTE1MzU3MjcyNi4xNjQ0ODc5NDUw*_ga_L2FMXN42HR*MTY0NDg3OTUxMy4xLjAuMTY0NDg3OTUxMy4w)\n",
        "\n",
        "\n",
        "The database includes student achievement data as well as student, home, teacher, school, and national context data for 64 countries and 8 benchmarking participants. TIMSS 2019 is the seventh assessment cycle of TIMSS since 1995, providing 24 years of trends in mathematics and science achievement at the fourth and eighth grades.\n",
        "\n",
        "\n",
        "\n",
        "We are using machine learning models to predict the average mathematics achievement of fourth  and eight grade students depending on student context, school context, teacher contexct, then  we will visualize the importance.  \n",
        "\n",
        "\n",
        "\n",
        "\n",
        "\n",
        "\n",
        "#### Achievement list  :\n",
        "\n",
        "BSMMAT01;BSMMAT02;BSMMAT03;BSMMAT03;BSMMAT04;BSMMAT05   PLAUSIBLE VALUE MATHEMATICS \n",
        "\n",
        "BSSSCI01; BSSSCI02;BSSSCI03;BSSSCI04;BSSSCI05;BSSSCI0 PLAUSIBLE VALUE SCIENCE \n",
        "\n",
        "\n",
        "BSMIBM01;BSMIBM02;BSMIBM03;BSMIBM04;BSMIBM05\n",
        "\n",
        "INTERN. MATH BENCH REACHED WITH ith PV\n",
        "\n",
        "BSSIBM01;BSSIBM02;BSSIBM03;BSSIBM04;BSSIBM05\n",
        "\n",
        "INTERN. SCI BENCH REACHED WITH ith PV\n",
        "\n",
        "\n",
        "\n",
        "\n",
        "#### Tutorials to be considered\n",
        "\n",
        "\n",
        "For the EDA \n",
        "\n",
        "https://medium.com/analytics-vidhya/implementing-linear-regression-using-sklearn-76264a3c073c\n",
        "\n",
        "\n",
        "For the models\n",
        "\n",
        "https://www.askpython.com/python/examples/multiple-linear-regression\n",
        "\n",
        "\n",
        "https://www.sfu.ca/~mjbrydon/tutorials/BAinPy/10_multiple_regression.html"
      ],
      "metadata": {
        "id": "yzXgYV0Vz0hk"
      }
    },
    {
      "cell_type": "markdown",
      "source": [
        "# Loading and preprocessing the data"
      ],
      "metadata": {
        "id": "wHlnwsVajvDo"
      }
    },
    {
      "cell_type": "markdown",
      "source": [
        "#### Mounting my google drive to access the file."
      ],
      "metadata": {
        "id": "a3VEkuTc0sgD"
      }
    },
    {
      "cell_type": "code",
      "source": [
        "from google.colab import drive\n",
        "drive.mount('/content/gdrive') "
      ],
      "metadata": {
        "colab": {
          "base_uri": "https://localhost:8080/"
        },
        "id": "2RRsAHIC6BVB",
        "outputId": "6610046d-cc65-4951-e5e5-8fcb5e51e55c"
      },
      "execution_count": 1,
      "outputs": [
        {
          "output_type": "stream",
          "name": "stdout",
          "text": [
            "Drive already mounted at /content/gdrive; to attempt to forcibly remount, call drive.mount(\"/content/gdrive\", force_remount=True).\n"
          ]
        }
      ]
    },
    {
      "cell_type": "markdown",
      "source": [
        "I created the following path to store all my data in tghis project, please change here according to your data path."
      ],
      "metadata": {
        "id": "0R_N8F9Uji5L"
      }
    },
    {
      "cell_type": "code",
      "source": [
        "ls /content/gdrive/MyDrive/Antsa_Rakotondrafara_Capstone_project/Mydata/"
      ],
      "metadata": {
        "id": "otevzlFp6VYh",
        "colab": {
          "base_uri": "https://localhost:8080/"
        },
        "outputId": "79cb4ec1-d9db-443b-d35b-32c1c0ac7198"
      },
      "execution_count": 2,
      "outputs": [
        {
          "output_type": "stream",
          "name": "stdout",
          "text": [
            " countries.geojson         \u001b[0m\u001b[01;34m'T19_G4_TCMA Item Selection'\u001b[0m/\n",
            " \u001b[01;34mT19_G4_Almanacs\u001b[0m/           \u001b[01;34mT19_G8_Almanacs\u001b[0m/\n",
            " \u001b[01;34mT19_G4_Codebooks\u001b[0m/          \u001b[01;34mT19_G8_Codebooks\u001b[0m/\n",
            "\u001b[01;34m'T19_G4_Curriculum Data'\u001b[0m/  \u001b[01;34m'T19_G8_SPSS Data'\u001b[0m/\n",
            "\u001b[01;34m'T19_G4_SPSS Data'\u001b[0m/        \u001b[01;34m'T19_G8_TCMA Item Selection'\u001b[0m/\n"
          ]
        }
      ]
    },
    {
      "cell_type": "code",
      "source": [
        "cd /content/gdrive/MyDrive/Antsa_Rakotondrafara_Capstone_project/Mydata/"
      ],
      "metadata": {
        "colab": {
          "base_uri": "https://localhost:8080/"
        },
        "id": "-qElnvYXhKaJ",
        "outputId": "303dd457-08ba-473a-b4ed-da5e76677437"
      },
      "execution_count": 3,
      "outputs": [
        {
          "output_type": "stream",
          "name": "stdout",
          "text": [
            "/content/gdrive/MyDrive/Antsa_Rakotondrafara_Capstone_project/Mydata\n"
          ]
        }
      ]
    },
    {
      "cell_type": "code",
      "source": [
        "ls"
      ],
      "metadata": {
        "colab": {
          "base_uri": "https://localhost:8080/"
        },
        "id": "FgDe21H1j4TT",
        "outputId": "8d38378c-425e-48cf-edf1-2cbaf165d55a"
      },
      "execution_count": null,
      "outputs": [
        {
          "output_type": "stream",
          "name": "stdout",
          "text": [
            " countries.geojson         \u001b[0m\u001b[01;34m'T19_G4_TCMA Item Selection'\u001b[0m/\n",
            " \u001b[01;34mT19_G4_Almanacs\u001b[0m/           \u001b[01;34mT19_G8_Almanacs\u001b[0m/\n",
            " \u001b[01;34mT19_G4_Codebooks\u001b[0m/          \u001b[01;34mT19_G8_Codebooks\u001b[0m/\n",
            "\u001b[01;34m'T19_G4_Curriculum Data'\u001b[0m/  \u001b[01;34m'T19_G8_SPSS Data'\u001b[0m/\n",
            "\u001b[01;34m'T19_G4_SPSS Data'\u001b[0m/        \u001b[01;34m'T19_G8_TCMA Item Selection'\u001b[0m/\n"
          ]
        }
      ]
    },
    {
      "cell_type": "markdown",
      "source": [
        "#### Download the data from the TIMMS website.\n",
        "\n",
        "Please uncomment when running at the first time and comment again after running."
      ],
      "metadata": {
        "id": "EcUTa746jOet"
      }
    },
    {
      "cell_type": "code",
      "source": [
        "#!wget -P / https://timss2019.org/international-database/downloads/T19_G4_SPSS%20Data.zip\n",
        "#!wget -P / https://timss2019.org/international-database/downloads/T19_G8_SPSS%20Data.zip\n",
        "#!wget -P / https://timss2019.org/international-database/downloads/T19_G4_Curriculum%20Data.zip\n",
        "#!wget -P / https://timss2019.org/international-database/downloads/T19_G8_Curriculum%20Data.zip\n",
        "#!wget -P / https://timss2019.org/international-database/downloads/T19_G4_Codebooks.zip\n",
        "#!wget -P / https://timss2019.org/international-database/downloads/T19_G8_Codebooks.zip\n",
        "#!wget -P / https://timss2019.org/international-database/downloads/T19_G4_Almanacs.zip\n",
        "#!wget -P / https://timss2019.org/international-database/downloads/T19_G8_Almanacs.zip\n",
        "#!wget -P / https://timss2019.org/international-database/downloads/T19_G4_TCMA%20Item%20Selection.zip\n",
        "#!wget -P / https://timss2019.org/international-database/downloads/T19_G8_TCMA%20Item%20Selection.zip"
      ],
      "metadata": {
        "id": "ZNu4y3V_i3tB"
      },
      "execution_count": null,
      "outputs": []
    },
    {
      "cell_type": "markdown",
      "source": [
        "### Download the geo file for the visualization.\n",
        "\n",
        "Please uncomment the cells in this section when running at the first time and comment again after running."
      ],
      "metadata": {
        "id": "cMkCdUlnlG3y"
      }
    },
    {
      "cell_type": "code",
      "source": [
        "#!wget -P / https://datahub.io/core/geo-countries/r/countries.geojson"
      ],
      "metadata": {
        "id": "6XCmXkS3lM-g"
      },
      "execution_count": null,
      "outputs": []
    },
    {
      "cell_type": "markdown",
      "source": [
        "The following cells was used to unzip the data in drive."
      ],
      "metadata": {
        "id": "ZyaRfIgT_INU"
      }
    },
    {
      "cell_type": "code",
      "source": [
        "#!unzip 'T19_G4_SPSS Data.zip' -d 'T19_G4_SPSS Data'\n",
        "# !unzip   T19_G4_Almanacs.zip -d  T19_G4_Almanacs\n",
        "# !unzip   'T19_G4_Curriculum Data.zip' -d  'T19_G4_Curriculum Data'\n",
        "# !unzip   'T19_G4_TCMA Item Selection.zip' -d  'T19_G4_TCMA Item Selection'\n",
        "# !unzip   T19_G8_Almanacs.zip -d  T19_G8_Almanacs\n",
        "# !unzip   T19_G8_Codebooks.zip -d  T19_G8_Codebooks\n",
        "# !unzip   T19_G4_Codebooks.zip -d  T19_G4_Codebooks\n",
        "# !unzip   'T19_G8_TCMA Item Selection.zip' -d  'T19_G8_TCMA Item Selection'\n",
        "#!unzip 'T19_G8_SPSS Data.zip' -d 'T19_G8_SPSS Data'"
      ],
      "metadata": {
        "id": "BTThPTya99Ub"
      },
      "execution_count": null,
      "outputs": []
    },
    {
      "cell_type": "markdown",
      "source": [
        "Remove all the zipped file."
      ],
      "metadata": {
        "id": "kMFNZtfYnv5E"
      }
    },
    {
      "cell_type": "code",
      "source": [
        "# #!rm 'T19_G4_SPSS Data.zip'\n",
        "# !rm T19_G4_Almanacs.zip\n",
        "# !rm T19_G4_Codebooks.zip\n",
        "# !rm 'T19_G4_Curriculum Data.zip'\n",
        "# !rm 'T19_G4_TCMA Item Selection.zip'\n",
        "# !rm T19_G8_Almanacs.zip\n",
        "# !rm T19_G8_Codebooks.zip\n",
        "# !rm 'T19_G8_Curriculum Data.zip'\n",
        "# !rm 'T19_G8_SPSS Data.zip'\n",
        "# !rm 'T19_G8_TCMA Item Selection.zip'"
      ],
      "metadata": {
        "id": "baq6DkgJ-szM"
      },
      "execution_count": null,
      "outputs": []
    },
    {
      "cell_type": "code",
      "source": [
        "ls"
      ],
      "metadata": {
        "colab": {
          "base_uri": "https://localhost:8080/"
        },
        "id": "6Eab6khDoFPm",
        "outputId": "205e182b-be9e-4561-8229-4e7fe8c62ac6"
      },
      "execution_count": null,
      "outputs": [
        {
          "output_type": "stream",
          "name": "stdout",
          "text": [
            " countries.geojson         \u001b[0m\u001b[01;34m'T19_G4_TCMA Item Selection'\u001b[0m/\n",
            " \u001b[01;34mT19_G4_Almanacs\u001b[0m/           \u001b[01;34mT19_G8_Almanacs\u001b[0m/\n",
            " \u001b[01;34mT19_G4_Codebooks\u001b[0m/          \u001b[01;34mT19_G8_Codebooks\u001b[0m/\n",
            "\u001b[01;34m'T19_G4_Curriculum Data'\u001b[0m/  \u001b[01;34m'T19_G8_SPSS Data'\u001b[0m/\n",
            "\u001b[01;34m'T19_G4_SPSS Data'\u001b[0m/        \u001b[01;34m'T19_G8_TCMA Item Selection'\u001b[0m/\n"
          ]
        }
      ]
    },
    {
      "cell_type": "markdown",
      "source": [
        "### Merge the datasets ; Student context data, Home context data, school context data, teacher context data."
      ],
      "metadata": {
        "id": "t963vkYhtyI9"
      }
    },
    {
      "cell_type": "markdown",
      "source": [
        "Installing pyreadstat to read ssps file"
      ],
      "metadata": {
        "id": "rQ9pZY8_4-eF"
      }
    },
    {
      "cell_type": "code",
      "source": [
        "!pip install pyreadstat"
      ],
      "metadata": {
        "colab": {
          "base_uri": "https://localhost:8080/"
        },
        "id": "0KH4IQJ8oncy",
        "outputId": "8699aa15-1a6c-4e99-9057-12a8b58c484a"
      },
      "execution_count": 4,
      "outputs": [
        {
          "output_type": "stream",
          "name": "stdout",
          "text": [
            "Collecting pyreadstat\n",
            "  Downloading pyreadstat-1.1.4-cp37-cp37m-manylinux_2_17_x86_64.manylinux2014_x86_64.whl (2.4 MB)\n",
            "\u001b[K     |████████████████████████████████| 2.4 MB 12.6 MB/s \n",
            "\u001b[?25hRequirement already satisfied: pandas>=1.2.0 in /usr/local/lib/python3.7/dist-packages (from pyreadstat) (1.3.5)\n",
            "Requirement already satisfied: numpy>=1.17.3 in /usr/local/lib/python3.7/dist-packages (from pandas>=1.2.0->pyreadstat) (1.21.6)\n",
            "Requirement already satisfied: pytz>=2017.3 in /usr/local/lib/python3.7/dist-packages (from pandas>=1.2.0->pyreadstat) (2022.1)\n",
            "Requirement already satisfied: python-dateutil>=2.7.3 in /usr/local/lib/python3.7/dist-packages (from pandas>=1.2.0->pyreadstat) (2.8.2)\n",
            "Requirement already satisfied: six>=1.5 in /usr/local/lib/python3.7/dist-packages (from python-dateutil>=2.7.3->pandas>=1.2.0->pyreadstat) (1.15.0)\n",
            "Installing collected packages: pyreadstat\n",
            "Successfully installed pyreadstat-1.1.4\n"
          ]
        }
      ]
    },
    {
      "cell_type": "markdown",
      "source": [
        "Importing requiered librairies."
      ],
      "metadata": {
        "id": "8cHCU_LZ5FlL"
      }
    },
    {
      "cell_type": "code",
      "source": [
        "import pandas as pd\n",
        "import pyreadstat\n",
        "from os import walk\n",
        "import time\n",
        "import datetime"
      ],
      "metadata": {
        "id": "MF9LOArA5PaI"
      },
      "execution_count": 45,
      "outputs": []
    },
    {
      "cell_type": "code",
      "source": [
        "def filenames(directory) :\n",
        "  '''take directory name as input return list of all files'''\n",
        "  return next(walk(directory), (None, None, []))[2]  # [] if no file"
      ],
      "metadata": {
        "id": "ShjWjqdvxCeK"
      },
      "execution_count": 5,
      "outputs": []
    },
    {
      "cell_type": "code",
      "source": [
        "Countries = list( set([ i[3:6]  for i in filenames('T19_G4_SPSS Data')]))"
      ],
      "metadata": {
        "id": "_GC99Slv6_xb"
      },
      "execution_count": 46,
      "outputs": []
    },
    {
      "cell_type": "code",
      "source": [
        "chunck_1 = Countries[0: 10]\n",
        "chunck_2 = Countries[10: 20]\n",
        "chunck_3 = Countries[20: 30]\n",
        "chunck_4 = Countries[20: 40]\n",
        "chunck_5 = Countries[40: 50]\n",
        "chunck_6 = Countries[50: 60]\n",
        "chunck_7 = Countries[60: 64]"
      ],
      "metadata": {
        "id": "34k60_l_T58d"
      },
      "execution_count": 12,
      "outputs": []
    },
    {
      "cell_type": "code",
      "source": [
        "def merge_two_dadaframe(df1,df2) :\n",
        "   '''take two dataframes a sinput and output the merged dataframe'''\n",
        "   list1 = df1.columns\n",
        "   list2 = df2.columns\n",
        "   merge_on = list(set.intersection(set(list1), set(list2)))\n",
        "   newdf = pd.merge( df1,df2, on = merge_on, suffixes=('',''))\n",
        "   return newdf"
      ],
      "metadata": {
        "id": "w04obOdzZoGq"
      },
      "execution_count": 38,
      "outputs": []
    },
    {
      "cell_type": "code",
      "source": [
        "def concat_all_data( tmp_list , directory = 'T19_G8_SPSS Data') :\n",
        "    '''take a list of filename and a directory and return the concatenated dataframe'''\n",
        "    my_data_list = []\n",
        "    for filename in tmp_list :\n",
        "      try :\n",
        "        my_data_list.append(pd.read_spss(directory +'/' + filename))\n",
        "      except :\n",
        "        pass\n",
        "    return( pd.concat(my_data_list) )"
      ],
      "metadata": {
        "id": "UsH2pLxbbgCc"
      },
      "execution_count": 51,
      "outputs": []
    },
    {
      "cell_type": "code",
      "source": [
        "def merge_data_countries( countrylist , directory = 'T19_G8_SPSS Data' ) :\n",
        "    '''This function take as input the directory and the country of the dataframe and combine them al in one dataframe. Valid only for G8'''\n",
        "    start = time.time()\n",
        "\n",
        "    tmpBCG_list = [ 'bcg' + country+ 'm7.sav' for country in countrylist]\n",
        "    tmpBSG_list = [ 'bsg' + country+ 'm7.sav' for country in countrylist]\n",
        "    tmpBSA_list = [ 'bsa' + country+ 'm7.sav' for country in countrylist]\n",
        "    tmpBST_list = [ 'bst' + country+ 'm7.sav' for country in countrylist]\n",
        "    tmpBTM_list = [ 'btm' + country+ 'm7.sav' for country in countrylist]\n",
        "    \n",
        "    \n",
        "    # create tmpBCG file \n",
        "   \n",
        "    tmpBCG = concat_all_data(tmpBCG_list)\n",
        "    \n",
        "    print('tmpBCG created')\n",
        "    \n",
        "    tmpBSG = concat_all_data(tmpBSG_list)\n",
        "\n",
        "\n",
        "    print('tmpBSG created')\n",
        "    \n",
        "    tmpBSA = concat_all_data(tmpBSA_list)\n",
        "\n",
        "\n",
        "    print('tmpBSA created')\n",
        "    \n",
        "    tmpBST = concat_all_data(tmpBST_list)\n",
        "\n",
        "    print('tmpBST created')\n",
        "    \n",
        "    tmpBTM = concat_all_data( tmpBTM_list)\n",
        "\n",
        "\n",
        "    # delete every temporary dataframe each time they are used\n",
        "    del tmpBCG_list\n",
        "    del tmpBSG_list\n",
        "    del tmpBSA_list\n",
        "    del tmpBST_list\n",
        "    del tmpBTM_list\n",
        "    print('temporary list deleted')\n",
        "    # Merging \n",
        "    \n",
        "    tmpBSGBSA = merge_two_dadaframe( tmpBSG,tmpBSA)\n",
        "\n",
        "    del tmpBSG\n",
        "    del tmpBSA\n",
        "    print('tmpBSGBSA created, tmpBSG and tmpBSA deleted')\n",
        "    #print(tmpBSGBSA.head())\n",
        "    \n",
        "    tmpBSTBTM =  merge_two_dadaframe(tmpBST,tmpBTM)\n",
        "\n",
        "    del tmpBST\n",
        "    del tmpBTM\n",
        "    print('tmpBSTBSTM created, tmpBST and tmpBTM deleted')\n",
        "\n",
        "    #print(tmpBSTBTM.head())\n",
        "    tmpBCGBSGBSA  = merge_two_dadaframe(tmpBSGBSA,tmpBCG)\n",
        "\n",
        "    del tmpBSGBSA\n",
        "    del tmpBCG\n",
        "    print('tmpBCGBSGBSA created, tmpBSGBSA and tmpBCG deleted')\n",
        "\n",
        "    tmpBCGBSGBSABSTBTM = merge_two_dadaframe(tmpBSTBTM,tmpBCGBSGBSA)\n",
        "\n",
        "    del tmpBSTBTM\n",
        "    del tmpBCGBSGBSA\n",
        "    print('tmpBCGBSGBSABSTBTM created, tmpBSTBTM and tmpBCGBSGBSA deleted')\n",
        "    countrylists = [ '_'+ country+'_' for country in countrylist]\n",
        "    name =  directory + ''.join(countrylists)  +'_merged.csv'\n",
        "    tmpBCGBSGBSABSTBTM.to_csv(name)\n",
        "    end = time.time()\n",
        "    print( \"csv file saved to \"+ name)\n",
        "    print(\"The time used to merge the data : \")\n",
        "    convert = str(datetime.timedelta(seconds = end - start))\n",
        "    print(convert)\n",
        "     \n",
        "    return tmpBCGBSGBSABSTBTM  "
      ],
      "metadata": {
        "id": "1kbPKKJE6qyD"
      },
      "execution_count": 55,
      "outputs": []
    },
    {
      "cell_type": "markdown",
      "source": [
        "Merge the data from both directory."
      ],
      "metadata": {
        "id": "u5HOgfyP6ued"
      }
    },
    {
      "cell_type": "code",
      "source": [
        "test =['usa']\n",
        "test_data = merge_data_countries(test)"
      ],
      "metadata": {
        "colab": {
          "base_uri": "https://localhost:8080/"
        },
        "id": "r495M80WVeCH",
        "outputId": "dbfec2a7-1384-42bc-e7d0-2c1eae73ed34"
      },
      "execution_count": 53,
      "outputs": [
        {
          "output_type": "stream",
          "name": "stdout",
          "text": [
            "tmpBCG created\n",
            "tmpBSG created\n",
            "tmpBSA created\n",
            "tmpBST created\n",
            "temporary list deleted\n",
            "tmpBSGBSA created, tmpBSG and tmpBSA deleted\n",
            "tmpBSTBSTM created, tmpBST and tmpBTM deleted\n",
            "tmpBCGBSGBSA created, tmpBSGBSA and tmpBCG deleted\n",
            "tmpBCGBSGBSABSTBTM created, tmpBSTBTM and tmpBCGBSGBSA deleted\n",
            "csv file saved to T19_G8_SPSS Datausa__merged.csv\n",
            "The time used to merge the data : \n",
            "0:01:55.906755\n"
          ]
        }
      ]
    },
    {
      "cell_type": "markdown",
      "source": [
        "We just see that merging the data for one country takes about 2 minutes. That is why, I merged the data chunck by chunck and upload it as csv file wich will be later combined to have the final one."
      ],
      "metadata": {
        "id": "JhQ3AwzsiVqQ"
      }
    },
    {
      "cell_type": "code",
      "source": [
        "#chunck_1_df =  merge_data_countries(chunck_1)"
      ],
      "metadata": {
        "colab": {
          "base_uri": "https://localhost:8080/"
        },
        "id": "TuFTE3zfDsGK",
        "outputId": "e0f62003-afdf-41f2-ed7e-3feb6d8491a8"
      },
      "execution_count": 56,
      "outputs": [
        {
          "output_type": "stream",
          "name": "stdout",
          "text": [
            "tmpBCG created\n",
            "tmpBSG created\n",
            "tmpBSA created\n",
            "tmpBST created\n",
            "temporary list deleted\n",
            "tmpBSGBSA created, tmpBSG and tmpBSA deleted\n",
            "tmpBSTBSTM created, tmpBST and tmpBTM deleted\n",
            "tmpBCGBSGBSA created, tmpBSGBSA and tmpBCG deleted\n",
            "tmpBCGBSGBSABSTBTM created, tmpBSTBTM and tmpBCGBSGBSA deleted\n",
            "csv file saved to T19_G8_SPSS Data_sgp__pak__kwt__aus__kor__pol__lva__kaz__zaf__xkx__merged.csv\n",
            "The time used to merge the data : \n",
            "0:06:04.163971\n"
          ]
        }
      ]
    },
    {
      "cell_type": "code",
      "source": [
        "#chunck_2_df =  merge_data_countries(chunck_2)"
      ],
      "metadata": {
        "colab": {
          "base_uri": "https://localhost:8080/"
        },
        "id": "zVNOyX1WjB2R",
        "outputId": "acc56ff2-ef98-4960-fe4f-54a929d0e2ec"
      },
      "execution_count": 57,
      "outputs": [
        {
          "output_type": "stream",
          "name": "stdout",
          "text": [
            "tmpBCG created\n",
            "tmpBSG created\n",
            "tmpBSA created\n",
            "tmpBST created\n",
            "temporary list deleted\n",
            "tmpBSGBSA created, tmpBSG and tmpBSA deleted\n",
            "tmpBSTBSTM created, tmpBST and tmpBTM deleted\n",
            "tmpBCGBSGBSA created, tmpBSGBSA and tmpBCG deleted\n",
            "tmpBCGBSGBSABSTBTM created, tmpBSTBTM and tmpBCGBSGBSA deleted\n",
            "csv file saved to T19_G8_SPSS Data_twn__usa__bhr__phl__irn__omn__nor__rmo__hrv__irl__merged.csv\n",
            "The time used to merge the data : \n",
            "0:06:21.896688\n"
          ]
        }
      ]
    },
    {
      "cell_type": "code",
      "source": [
        "# chunck_3_df =  merge_data_countries(chunck_3)"
      ],
      "metadata": {
        "colab": {
          "base_uri": "https://localhost:8080/"
        },
        "id": "iQIbcv-kjDiw",
        "outputId": "8f009c01-bce8-4260-bc70-3d8c05e7c2e9"
      },
      "execution_count": 58,
      "outputs": [
        {
          "output_type": "stream",
          "name": "stdout",
          "text": [
            "tmpBCG created\n",
            "tmpBSG created\n",
            "tmpBSA created\n",
            "tmpBST created\n",
            "temporary list deleted\n",
            "tmpBSGBSA created, tmpBSG and tmpBSA deleted\n",
            "tmpBSTBSTM created, tmpBST and tmpBTM deleted\n",
            "tmpBCGBSGBSA created, tmpBSGBSA and tmpBCG deleted\n",
            "tmpBCGBSGBSABSTBTM created, tmpBSTBTM and tmpBCGBSGBSA deleted\n",
            "csv file saved to T19_G8_SPSS Data_cqu__aad__bgr__mkd__ltu__mlt__bih__eng__hun__cot__merged.csv\n",
            "The time used to merge the data : \n",
            "0:04:51.051181\n"
          ]
        }
      ]
    },
    {
      "cell_type": "code",
      "source": [
        "# chunck_4_df =  merge_data_countries(chunck_4)"
      ],
      "metadata": {
        "colab": {
          "base_uri": "https://localhost:8080/"
        },
        "id": "h3Q41odUjE4o",
        "outputId": "affc9ff0-20cd-4d6c-c82a-fd0e5735aae8"
      },
      "execution_count": 59,
      "outputs": [
        {
          "output_type": "stream",
          "name": "stdout",
          "text": [
            "tmpBCG created\n",
            "tmpBSG created\n",
            "tmpBSA created\n",
            "tmpBST created\n",
            "temporary list deleted\n",
            "tmpBSGBSA created, tmpBSG and tmpBSA deleted\n",
            "tmpBSTBSTM created, tmpBST and tmpBTM deleted\n",
            "tmpBCGBSGBSA created, tmpBSGBSA and tmpBCG deleted\n",
            "tmpBCGBSGBSABSTBTM created, tmpBSTBTM and tmpBCGBSGBSA deleted\n",
            "csv file saved to T19_G8_SPSS Data_cqu__aad__bgr__mkd__ltu__mlt__bih__eng__hun__cot__geo__arm__aze__sau__are__dnk__srb__ita__rus__can__merged.csv\n",
            "The time used to merge the data : \n",
            "0:10:44.343230\n"
          ]
        }
      ]
    },
    {
      "cell_type": "code",
      "source": [
        "# chunck_5_df =  merge_data_countries(chunck_5)"
      ],
      "metadata": {
        "colab": {
          "base_uri": "https://localhost:8080/"
        },
        "id": "5gImn70GjGTY",
        "outputId": "ce81c372-14b2-44c8-b70e-82f9ce1e690b"
      },
      "execution_count": 60,
      "outputs": [
        {
          "output_type": "stream",
          "name": "stdout",
          "text": [
            "tmpBCG created\n",
            "tmpBSG created\n",
            "tmpBSA created\n",
            "tmpBST created\n",
            "temporary list deleted\n",
            "tmpBSGBSA created, tmpBSG and tmpBSA deleted\n",
            "tmpBSTBSTM created, tmpBST and tmpBTM deleted\n",
            "tmpBCGBSGBSA created, tmpBSGBSA and tmpBCG deleted\n",
            "tmpBCGBSGBSABSTBTM created, tmpBSTBTM and tmpBCGBSGBSA deleted\n",
            "csv file saved to T19_G8_SPSS Data_prt__cyp__svk__alb__adu__chl__fra__ema__cze__nzl__merged.csv\n",
            "The time used to merge the data : \n",
            "0:04:05.381054\n"
          ]
        }
      ]
    },
    {
      "cell_type": "code",
      "source": [
        "for a in [chunck_1_df,chunck_2_df,chunck_3_df,chunck_4_df,chunck_5_df] :\n",
        "  del a \n",
        "  # freeing up the RAM"
      ],
      "metadata": {
        "id": "H_A8cSBJsMy-"
      },
      "execution_count": 61,
      "outputs": []
    },
    {
      "cell_type": "code",
      "source": [
        "#chunck_6_df =  merge_data_countries(chunck_6)"
      ],
      "metadata": {
        "colab": {
          "base_uri": "https://localhost:8080/"
        },
        "id": "rXqUNJ-HjH8g",
        "outputId": "79e090a9-3e54-423f-865d-8c7c3b4ba217"
      },
      "execution_count": 62,
      "outputs": [
        {
          "output_type": "stream",
          "name": "stdout",
          "text": [
            "tmpBCG created\n",
            "tmpBSG created\n",
            "tmpBSA created\n",
            "tmpBST created\n",
            "temporary list deleted\n",
            "tmpBSGBSA created, tmpBSG and tmpBSA deleted\n",
            "tmpBSTBSTM created, tmpBST and tmpBTM deleted\n",
            "tmpBCGBSGBSA created, tmpBSGBSA and tmpBCG deleted\n",
            "tmpBCGBSGBSABSTBTM created, tmpBSTBTM and tmpBCGBSGBSA deleted\n",
            "csv file saved to T19_G8_SPSS Data_esp__hkg__deu__qat__fin__swe__aut__bfl__nir__jpn__merged.csv\n",
            "The time used to merge the data : \n",
            "0:03:17.462797\n"
          ]
        }
      ]
    },
    {
      "cell_type": "code",
      "source": [
        "# chunck_7_df =  merge_data_countries(chunck_7)"
      ],
      "metadata": {
        "colab": {
          "base_uri": "https://localhost:8080/"
        },
        "id": "5nfqHcIMjRmo",
        "outputId": "b82868fa-d5b0-4177-f250-0b60d3711fd7"
      },
      "execution_count": null,
      "outputs": [
        {
          "output_type": "stream",
          "name": "stdout",
          "text": [
            "tmpBCG created\n",
            "tmpBSG created\n"
          ]
        }
      ]
    },
    {
      "cell_type": "markdown",
      "source": [
        "Here is how to load after you already merged alll things and do not need to do it again."
      ],
      "metadata": {
        "id": "QsgAIbbjLVOO"
      }
    },
    {
      "cell_type": "code",
      "source": [
        "chunck_1_df = pd.read_csv('T19_G8_SPSS Data_sgp__pak__kwt__aus__kor__pol__lva__kaz__zaf__xkx__merged.csv') "
      ],
      "metadata": {
        "id": "lWSiEqYpLc68"
      },
      "execution_count": null,
      "outputs": []
    },
    {
      "cell_type": "code",
      "source": [
        "chunck_2_df = pd.read_csv('T19_G8_SPSS Data_twn__usa__bhr__phl__irn__omn__nor__rmo__hrv__irl__merged.csv')"
      ],
      "metadata": {
        "id": "4y8gfd19lMQL"
      },
      "execution_count": null,
      "outputs": []
    },
    {
      "cell_type": "code",
      "source": [
        "chunck_3_df = pd.read_csv('T19_G8_SPSS Data_cqu__aad__bgr__mkd__ltu__mlt__bih__eng__hun__cot__merged.csv')"
      ],
      "metadata": {
        "id": "hXjsOS5llOrC"
      },
      "execution_count": null,
      "outputs": []
    },
    {
      "cell_type": "code",
      "source": [
        "chunck_4_df = pd.read_csv('T19_G8_SPSS Data_cqu__aad__bgr__mkd__ltu__mlt__bih__eng__hun__cot__geo__arm__aze__sau__are__dnk__srb__ita__rus__can__merged.csv')"
      ],
      "metadata": {
        "id": "M2w8hlNGlP0q"
      },
      "execution_count": null,
      "outputs": []
    },
    {
      "cell_type": "code",
      "source": [
        "chunck_5_df = pd.read_csv('T19_G8_SPSS Data_prt__cyp__svk__alb__adu__chl__fra__ema__cze__nzl__merged.csv')"
      ],
      "metadata": {
        "id": "pC_l6jfmlQ2R"
      },
      "execution_count": null,
      "outputs": []
    },
    {
      "cell_type": "code",
      "source": [
        "chunck_6_df = pd.read_csv(T19_G8_SPSS Data_esp__hkg__deu__qat__fin__swe__aut__bfl__nir__jpn__merged.csv)"
      ],
      "metadata": {
        "id": "GfoTn84alRyk"
      },
      "execution_count": null,
      "outputs": []
    },
    {
      "cell_type": "code",
      "source": [
        "chunck_7_df = pd.read_csv("
      ],
      "metadata": {
        "id": "QvesvmvulS7r"
      },
      "execution_count": null,
      "outputs": []
    },
    {
      "cell_type": "markdown",
      "source": [
        "# Exploratory Data analysis."
      ],
      "metadata": {
        "id": "tj-48wuPLPPc"
      }
    },
    {
      "cell_type": "code",
      "source": [
        ""
      ],
      "metadata": {
        "id": "Wm19Qh5_onFN"
      },
      "execution_count": null,
      "outputs": []
    },
    {
      "cell_type": "markdown",
      "source": [
        "#### Preprocessing the data prior to putting in database"
      ],
      "metadata": {
        "id": "QXgtJ6uizUL0"
      }
    },
    {
      "cell_type": "markdown",
      "source": [
        "Now let us preprocess the data by changing the type of variables."
      ],
      "metadata": {
        "id": "xkVm2Az10sSl"
      }
    },
    {
      "cell_type": "code",
      "source": [
        "features = ['IDCNTRY', 'IDSTUD', 'ITSEX', 'ASBG10E', 'ASBG11F', 'ASBM01',  'ASDAGE', 'ASBS08D', 'ASBG05C', 'ASBG04', 'ASBG05D' ]\n",
        "targets = ['ASMMAT01', 'ASMMAT02', 'ASMMAT03', 'ASMMAT04', 'ASMMAT05']\n",
        "def agree_to_number(my_row) :\n",
        "    ''' This function is used to convert agreement to number'''\n",
        "    L = ['Disagree a lot', 'Disagree a little', 'Agree a little','Agree a lot']\n",
        "    for i in range(len(L)):\n",
        "         if my_row == L[i] :\n",
        "             return(i)\n",
        "def frequence_to_number(my_row) :\n",
        "    ''' This function is used to convert frequence to number'''\n",
        "    L = ['Never','A few times a year','Once or twice a month','At least once a week' ]\n",
        "    for i in range(len(L)):\n",
        "         if my_row == L[i] :\n",
        "             return(i)\n",
        "def ownwork_to_number(my_row) :\n",
        "    ''' This function is used the amount of own work to number'''\n",
        "    L =  [ 'Never', 'Some lessons', 'About half the lessons', 'Every or almost every lesson']\n",
        "    for i in range(len(L)):\n",
        "         if my_row == L[i] :\n",
        "             return(i)   \n",
        "def books_to_number(my_row) :\n",
        "    ''' This function is used the amount of book owned to number'''\n",
        "    L =  [ 'Enough to fill one shelf (11–25 books)', 'Enough to fill one bookcase (26–100 books)', 'None or very few (0–10 books)','Enough to fill two bookcases (101–200 books)', 'Enough to fill three or more bookcases (more than 200)']\n",
        "    for i in range(len(L)):\n",
        "         if my_row == L[i] :\n",
        "             return(i)   \n",
        "\n",
        "def makedata(country = 'USA') :\n",
        "    '''This function is used to make the dataframe from the file'''\n",
        "    country_asgz7 = pd.read_spss(country + '/asg'+country.lower()+'z7.sav') # taking the asg z7 dataset of the country\n",
        "    country_asgz7 = country_asgz7[features+ targets]\n",
        "    country_asgz7 = country_asgz7.dropna()\n",
        "    country_asgz7['ITSEX'] = country_asgz7['ITSEX'].astype('category') # Changing the sex to be categorical variable \n",
        "    itsex = pd.get_dummies(country_asgz7['ITSEX'], prefix='ITSEX', drop_first=True) # Changing the sex into numerical value\n",
        "    country_asgz7 = pd.concat([country_asgz7,itsex], axis=1) # Concatenate the itsex with the data\n",
        "    country_asgz7['ASBG10E'] = country_asgz7['ASBG10E'].apply(agree_to_number)\n",
        "    country_asgz7['ASBS08D'] = country_asgz7['ASBS08D'].apply(agree_to_number) \n",
        "    country_asgz7['ASBM01'] = country_asgz7['ASBM01'].apply(ownwork_to_number) \n",
        "    country_asgz7['ASBG11F'] = country_asgz7['ASBG11F'].apply(frequence_to_number)\n",
        "\n",
        "    country_asgz7['ASBG04'] = country_asgz7['ASBG04'].apply(books_to_number)\n",
        "    ASBG05C = pd.get_dummies(country_asgz7['ASBG05C'], prefix='ASBG05C', drop_first=True) # Changing the ASBG05C into numerical value\n",
        "    country_asgz7 = pd.concat([country_asgz7,ASBG05C], axis=1) # Concatenate the ASBG05C with the data\n",
        "    ASBG05D = pd.get_dummies(country_asgz7['ASBG05D'], prefix='ASBG05D', drop_first=True) # Changing the ASBG05C into numerical value\n",
        "    country_asgz7 = pd.concat([country_asgz7,ASBG05D], axis=1) # Concatenate the ASBG05C with the data\n",
        "    country_asgz7['target'] =  country_asgz7[['ASMMAT01', 'ASMMAT02', 'ASMMAT03', 'ASMMAT04', 'ASMMAT05']].mean(axis=1) # the target is the mean of 5 evaluation.\n",
        "\n",
        "    country_asgz7 = country_asgz7.drop(['ITSEX',\t'ASMMAT01', 'ASMMAT02', 'ASMMAT03', 'ASMMAT04', 'ASMMAT05','ASBG05C','ASBG05D'\t], axis =1)\n",
        "    country_asgz7 = country_asgz7.drop('IDSTUD',axis =1)\n",
        "    return country_asgz7"
      ],
      "metadata": {
        "id": "6VK6tdFjzNoU"
      },
      "execution_count": null,
      "outputs": []
    },
    {
      "cell_type": "code",
      "source": [
        "data_USA = makedata('USA')"
      ],
      "metadata": {
        "id": "coal6kjT02_c"
      },
      "execution_count": null,
      "outputs": []
    },
    {
      "cell_type": "code",
      "source": [
        "data_TUR = makedata('TUR')"
      ],
      "metadata": {
        "id": "lF5QaZv908Qk"
      },
      "execution_count": null,
      "outputs": []
    },
    {
      "cell_type": "code",
      "source": [
        "data_USA.head()"
      ],
      "metadata": {
        "colab": {
          "base_uri": "https://localhost:8080/",
          "height": 206
        },
        "id": "iVK0WaHF81-D",
        "outputId": "b3a771b7-09d8-4ec9-860c-a9d9a8e8df56"
      },
      "execution_count": null,
      "outputs": [
        {
          "output_type": "execute_result",
          "data": {
            "text/plain": [
              "  IDCNTRY ASBG10E ASBG11F ASBM01 ASDAGE ASBS08D ASBG04  ITSEX_Male  \\\n",
              "0   840.0       3       0      3  10.17       3      0           1   \n",
              "1   840.0       3       2      2  10.50       3      1           1   \n",
              "3   840.0       0       0      3  10.58       3      2           0   \n",
              "4   840.0       3       1      2   9.92       2      0           0   \n",
              "5   840.0       3       1      3  10.08       3      1           0   \n",
              "\n",
              "   ASBG05C_Yes  ASBG05D_Yes      target  \n",
              "0            1            1  570.808248  \n",
              "1            1            1  637.512912  \n",
              "3            1            0  522.506536  \n",
              "4            1            1  541.383564  \n",
              "5            1            1  621.487486  "
            ],
            "text/html": [
              "\n",
              "  <div id=\"df-6a09e59f-2adc-4da8-aaae-716e35494460\">\n",
              "    <div class=\"colab-df-container\">\n",
              "      <div>\n",
              "<style scoped>\n",
              "    .dataframe tbody tr th:only-of-type {\n",
              "        vertical-align: middle;\n",
              "    }\n",
              "\n",
              "    .dataframe tbody tr th {\n",
              "        vertical-align: top;\n",
              "    }\n",
              "\n",
              "    .dataframe thead th {\n",
              "        text-align: right;\n",
              "    }\n",
              "</style>\n",
              "<table border=\"1\" class=\"dataframe\">\n",
              "  <thead>\n",
              "    <tr style=\"text-align: right;\">\n",
              "      <th></th>\n",
              "      <th>IDCNTRY</th>\n",
              "      <th>ASBG10E</th>\n",
              "      <th>ASBG11F</th>\n",
              "      <th>ASBM01</th>\n",
              "      <th>ASDAGE</th>\n",
              "      <th>ASBS08D</th>\n",
              "      <th>ASBG04</th>\n",
              "      <th>ITSEX_Male</th>\n",
              "      <th>ASBG05C_Yes</th>\n",
              "      <th>ASBG05D_Yes</th>\n",
              "      <th>target</th>\n",
              "    </tr>\n",
              "  </thead>\n",
              "  <tbody>\n",
              "    <tr>\n",
              "      <th>0</th>\n",
              "      <td>840.0</td>\n",
              "      <td>3</td>\n",
              "      <td>0</td>\n",
              "      <td>3</td>\n",
              "      <td>10.17</td>\n",
              "      <td>3</td>\n",
              "      <td>0</td>\n",
              "      <td>1</td>\n",
              "      <td>1</td>\n",
              "      <td>1</td>\n",
              "      <td>570.808248</td>\n",
              "    </tr>\n",
              "    <tr>\n",
              "      <th>1</th>\n",
              "      <td>840.0</td>\n",
              "      <td>3</td>\n",
              "      <td>2</td>\n",
              "      <td>2</td>\n",
              "      <td>10.50</td>\n",
              "      <td>3</td>\n",
              "      <td>1</td>\n",
              "      <td>1</td>\n",
              "      <td>1</td>\n",
              "      <td>1</td>\n",
              "      <td>637.512912</td>\n",
              "    </tr>\n",
              "    <tr>\n",
              "      <th>3</th>\n",
              "      <td>840.0</td>\n",
              "      <td>0</td>\n",
              "      <td>0</td>\n",
              "      <td>3</td>\n",
              "      <td>10.58</td>\n",
              "      <td>3</td>\n",
              "      <td>2</td>\n",
              "      <td>0</td>\n",
              "      <td>1</td>\n",
              "      <td>0</td>\n",
              "      <td>522.506536</td>\n",
              "    </tr>\n",
              "    <tr>\n",
              "      <th>4</th>\n",
              "      <td>840.0</td>\n",
              "      <td>3</td>\n",
              "      <td>1</td>\n",
              "      <td>2</td>\n",
              "      <td>9.92</td>\n",
              "      <td>2</td>\n",
              "      <td>0</td>\n",
              "      <td>0</td>\n",
              "      <td>1</td>\n",
              "      <td>1</td>\n",
              "      <td>541.383564</td>\n",
              "    </tr>\n",
              "    <tr>\n",
              "      <th>5</th>\n",
              "      <td>840.0</td>\n",
              "      <td>3</td>\n",
              "      <td>1</td>\n",
              "      <td>3</td>\n",
              "      <td>10.08</td>\n",
              "      <td>3</td>\n",
              "      <td>1</td>\n",
              "      <td>0</td>\n",
              "      <td>1</td>\n",
              "      <td>1</td>\n",
              "      <td>621.487486</td>\n",
              "    </tr>\n",
              "  </tbody>\n",
              "</table>\n",
              "</div>\n",
              "      <button class=\"colab-df-convert\" onclick=\"convertToInteractive('df-6a09e59f-2adc-4da8-aaae-716e35494460')\"\n",
              "              title=\"Convert this dataframe to an interactive table.\"\n",
              "              style=\"display:none;\">\n",
              "        \n",
              "  <svg xmlns=\"http://www.w3.org/2000/svg\" height=\"24px\"viewBox=\"0 0 24 24\"\n",
              "       width=\"24px\">\n",
              "    <path d=\"M0 0h24v24H0V0z\" fill=\"none\"/>\n",
              "    <path d=\"M18.56 5.44l.94 2.06.94-2.06 2.06-.94-2.06-.94-.94-2.06-.94 2.06-2.06.94zm-11 1L8.5 8.5l.94-2.06 2.06-.94-2.06-.94L8.5 2.5l-.94 2.06-2.06.94zm10 10l.94 2.06.94-2.06 2.06-.94-2.06-.94-.94-2.06-.94 2.06-2.06.94z\"/><path d=\"M17.41 7.96l-1.37-1.37c-.4-.4-.92-.59-1.43-.59-.52 0-1.04.2-1.43.59L10.3 9.45l-7.72 7.72c-.78.78-.78 2.05 0 2.83L4 21.41c.39.39.9.59 1.41.59.51 0 1.02-.2 1.41-.59l7.78-7.78 2.81-2.81c.8-.78.8-2.07 0-2.86zM5.41 20L4 18.59l7.72-7.72 1.47 1.35L5.41 20z\"/>\n",
              "  </svg>\n",
              "      </button>\n",
              "      \n",
              "  <style>\n",
              "    .colab-df-container {\n",
              "      display:flex;\n",
              "      flex-wrap:wrap;\n",
              "      gap: 12px;\n",
              "    }\n",
              "\n",
              "    .colab-df-convert {\n",
              "      background-color: #E8F0FE;\n",
              "      border: none;\n",
              "      border-radius: 50%;\n",
              "      cursor: pointer;\n",
              "      display: none;\n",
              "      fill: #1967D2;\n",
              "      height: 32px;\n",
              "      padding: 0 0 0 0;\n",
              "      width: 32px;\n",
              "    }\n",
              "\n",
              "    .colab-df-convert:hover {\n",
              "      background-color: #E2EBFA;\n",
              "      box-shadow: 0px 1px 2px rgba(60, 64, 67, 0.3), 0px 1px 3px 1px rgba(60, 64, 67, 0.15);\n",
              "      fill: #174EA6;\n",
              "    }\n",
              "\n",
              "    [theme=dark] .colab-df-convert {\n",
              "      background-color: #3B4455;\n",
              "      fill: #D2E3FC;\n",
              "    }\n",
              "\n",
              "    [theme=dark] .colab-df-convert:hover {\n",
              "      background-color: #434B5C;\n",
              "      box-shadow: 0px 1px 3px 1px rgba(0, 0, 0, 0.15);\n",
              "      filter: drop-shadow(0px 1px 2px rgba(0, 0, 0, 0.3));\n",
              "      fill: #FFFFFF;\n",
              "    }\n",
              "  </style>\n",
              "\n",
              "      <script>\n",
              "        const buttonEl =\n",
              "          document.querySelector('#df-6a09e59f-2adc-4da8-aaae-716e35494460 button.colab-df-convert');\n",
              "        buttonEl.style.display =\n",
              "          google.colab.kernel.accessAllowed ? 'block' : 'none';\n",
              "\n",
              "        async function convertToInteractive(key) {\n",
              "          const element = document.querySelector('#df-6a09e59f-2adc-4da8-aaae-716e35494460');\n",
              "          const dataTable =\n",
              "            await google.colab.kernel.invokeFunction('convertToInteractive',\n",
              "                                                     [key], {});\n",
              "          if (!dataTable) return;\n",
              "\n",
              "          const docLinkHtml = 'Like what you see? Visit the ' +\n",
              "            '<a target=\"_blank\" href=https://colab.research.google.com/notebooks/data_table.ipynb>data table notebook</a>'\n",
              "            + ' to learn more about interactive tables.';\n",
              "          element.innerHTML = '';\n",
              "          dataTable['output_type'] = 'display_data';\n",
              "          await google.colab.output.renderOutput(dataTable, element);\n",
              "          const docLink = document.createElement('div');\n",
              "          docLink.innerHTML = docLinkHtml;\n",
              "          element.appendChild(docLink);\n",
              "        }\n",
              "      </script>\n",
              "    </div>\n",
              "  </div>\n",
              "  "
            ]
          },
          "metadata": {},
          "execution_count": 11
        }
      ]
    },
    {
      "cell_type": "code",
      "source": [
        ""
      ],
      "metadata": {
        "id": "7cNQjXs4k-qf"
      },
      "execution_count": null,
      "outputs": []
    },
    {
      "cell_type": "code",
      "source": [
        ""
      ],
      "metadata": {
        "colab": {
          "base_uri": "https://localhost:8080/"
        },
        "id": "LGSRK26alLHW",
        "outputId": "fc7afa0c-a721-4ae5-9f06-6895a6e4b1d8"
      },
      "execution_count": null,
      "outputs": [
        {
          "output_type": "stream",
          "name": "stdout",
          "text": [
            "Enough to fill one shelf (11–25 books)\n",
            "Enough to fill one bookcase (26–100 books)\n",
            "None or very few (0–10 books)\n",
            "Enough to fill two bookcases (101–200 books)\n",
            "Enough to fill three or more bookcases (more than 200)\n"
          ]
        }
      ]
    },
    {
      "cell_type": "code",
      "source": [
        "data_USA.isnull().values.sum()\n"
      ],
      "metadata": {
        "colab": {
          "base_uri": "https://localhost:8080/"
        },
        "id": "K2C8zMIV2Ohn",
        "outputId": "e6c57806-ebe5-4d4c-f3e9-34136c78d3f6"
      },
      "execution_count": null,
      "outputs": [
        {
          "output_type": "execute_result",
          "data": {
            "text/plain": [
              "0"
            ]
          },
          "metadata": {},
          "execution_count": 11
        }
      ]
    },
    {
      "cell_type": "code",
      "source": [
        "data_TUR.tail()"
      ],
      "metadata": {
        "colab": {
          "base_uri": "https://localhost:8080/",
          "height": 206
        },
        "id": "viX43Uyb84l7",
        "outputId": "2bbdb7b9-ca48-4f93-b7df-5624f4fbff09"
      },
      "execution_count": null,
      "outputs": [
        {
          "output_type": "execute_result",
          "data": {
            "text/plain": [
              "     IDCNTRY ASBG10E ASBG11F ASBM01 ASDAGE ASBS08D ASBG04  ITSEX_Male  \\\n",
              "4594   792.0       2       0      1  10.25       3      0           0   \n",
              "4595   792.0       2       3      1  10.17       1      2           0   \n",
              "4596   792.0       3       2      1  10.67       2      2           0   \n",
              "4597   792.0       2       3      1  10.17       0      2           1   \n",
              "4598   792.0       3       0      0  10.83       2      1           0   \n",
              "\n",
              "      ASBG05C_Yes  ASBG05D_Yes      target  \n",
              "4594            0            1  308.763926  \n",
              "4595            0            0  344.243346  \n",
              "4596            1            1  351.349700  \n",
              "4597            0            0  410.039824  \n",
              "4598            0            1  278.757942  "
            ],
            "text/html": [
              "\n",
              "  <div id=\"df-48bdf362-f4f0-47ed-a17e-437f55fd61f4\">\n",
              "    <div class=\"colab-df-container\">\n",
              "      <div>\n",
              "<style scoped>\n",
              "    .dataframe tbody tr th:only-of-type {\n",
              "        vertical-align: middle;\n",
              "    }\n",
              "\n",
              "    .dataframe tbody tr th {\n",
              "        vertical-align: top;\n",
              "    }\n",
              "\n",
              "    .dataframe thead th {\n",
              "        text-align: right;\n",
              "    }\n",
              "</style>\n",
              "<table border=\"1\" class=\"dataframe\">\n",
              "  <thead>\n",
              "    <tr style=\"text-align: right;\">\n",
              "      <th></th>\n",
              "      <th>IDCNTRY</th>\n",
              "      <th>ASBG10E</th>\n",
              "      <th>ASBG11F</th>\n",
              "      <th>ASBM01</th>\n",
              "      <th>ASDAGE</th>\n",
              "      <th>ASBS08D</th>\n",
              "      <th>ASBG04</th>\n",
              "      <th>ITSEX_Male</th>\n",
              "      <th>ASBG05C_Yes</th>\n",
              "      <th>ASBG05D_Yes</th>\n",
              "      <th>target</th>\n",
              "    </tr>\n",
              "  </thead>\n",
              "  <tbody>\n",
              "    <tr>\n",
              "      <th>4594</th>\n",
              "      <td>792.0</td>\n",
              "      <td>2</td>\n",
              "      <td>0</td>\n",
              "      <td>1</td>\n",
              "      <td>10.25</td>\n",
              "      <td>3</td>\n",
              "      <td>0</td>\n",
              "      <td>0</td>\n",
              "      <td>0</td>\n",
              "      <td>1</td>\n",
              "      <td>308.763926</td>\n",
              "    </tr>\n",
              "    <tr>\n",
              "      <th>4595</th>\n",
              "      <td>792.0</td>\n",
              "      <td>2</td>\n",
              "      <td>3</td>\n",
              "      <td>1</td>\n",
              "      <td>10.17</td>\n",
              "      <td>1</td>\n",
              "      <td>2</td>\n",
              "      <td>0</td>\n",
              "      <td>0</td>\n",
              "      <td>0</td>\n",
              "      <td>344.243346</td>\n",
              "    </tr>\n",
              "    <tr>\n",
              "      <th>4596</th>\n",
              "      <td>792.0</td>\n",
              "      <td>3</td>\n",
              "      <td>2</td>\n",
              "      <td>1</td>\n",
              "      <td>10.67</td>\n",
              "      <td>2</td>\n",
              "      <td>2</td>\n",
              "      <td>0</td>\n",
              "      <td>1</td>\n",
              "      <td>1</td>\n",
              "      <td>351.349700</td>\n",
              "    </tr>\n",
              "    <tr>\n",
              "      <th>4597</th>\n",
              "      <td>792.0</td>\n",
              "      <td>2</td>\n",
              "      <td>3</td>\n",
              "      <td>1</td>\n",
              "      <td>10.17</td>\n",
              "      <td>0</td>\n",
              "      <td>2</td>\n",
              "      <td>1</td>\n",
              "      <td>0</td>\n",
              "      <td>0</td>\n",
              "      <td>410.039824</td>\n",
              "    </tr>\n",
              "    <tr>\n",
              "      <th>4598</th>\n",
              "      <td>792.0</td>\n",
              "      <td>3</td>\n",
              "      <td>0</td>\n",
              "      <td>0</td>\n",
              "      <td>10.83</td>\n",
              "      <td>2</td>\n",
              "      <td>1</td>\n",
              "      <td>0</td>\n",
              "      <td>0</td>\n",
              "      <td>1</td>\n",
              "      <td>278.757942</td>\n",
              "    </tr>\n",
              "  </tbody>\n",
              "</table>\n",
              "</div>\n",
              "      <button class=\"colab-df-convert\" onclick=\"convertToInteractive('df-48bdf362-f4f0-47ed-a17e-437f55fd61f4')\"\n",
              "              title=\"Convert this dataframe to an interactive table.\"\n",
              "              style=\"display:none;\">\n",
              "        \n",
              "  <svg xmlns=\"http://www.w3.org/2000/svg\" height=\"24px\"viewBox=\"0 0 24 24\"\n",
              "       width=\"24px\">\n",
              "    <path d=\"M0 0h24v24H0V0z\" fill=\"none\"/>\n",
              "    <path d=\"M18.56 5.44l.94 2.06.94-2.06 2.06-.94-2.06-.94-.94-2.06-.94 2.06-2.06.94zm-11 1L8.5 8.5l.94-2.06 2.06-.94-2.06-.94L8.5 2.5l-.94 2.06-2.06.94zm10 10l.94 2.06.94-2.06 2.06-.94-2.06-.94-.94-2.06-.94 2.06-2.06.94z\"/><path d=\"M17.41 7.96l-1.37-1.37c-.4-.4-.92-.59-1.43-.59-.52 0-1.04.2-1.43.59L10.3 9.45l-7.72 7.72c-.78.78-.78 2.05 0 2.83L4 21.41c.39.39.9.59 1.41.59.51 0 1.02-.2 1.41-.59l7.78-7.78 2.81-2.81c.8-.78.8-2.07 0-2.86zM5.41 20L4 18.59l7.72-7.72 1.47 1.35L5.41 20z\"/>\n",
              "  </svg>\n",
              "      </button>\n",
              "      \n",
              "  <style>\n",
              "    .colab-df-container {\n",
              "      display:flex;\n",
              "      flex-wrap:wrap;\n",
              "      gap: 12px;\n",
              "    }\n",
              "\n",
              "    .colab-df-convert {\n",
              "      background-color: #E8F0FE;\n",
              "      border: none;\n",
              "      border-radius: 50%;\n",
              "      cursor: pointer;\n",
              "      display: none;\n",
              "      fill: #1967D2;\n",
              "      height: 32px;\n",
              "      padding: 0 0 0 0;\n",
              "      width: 32px;\n",
              "    }\n",
              "\n",
              "    .colab-df-convert:hover {\n",
              "      background-color: #E2EBFA;\n",
              "      box-shadow: 0px 1px 2px rgba(60, 64, 67, 0.3), 0px 1px 3px 1px rgba(60, 64, 67, 0.15);\n",
              "      fill: #174EA6;\n",
              "    }\n",
              "\n",
              "    [theme=dark] .colab-df-convert {\n",
              "      background-color: #3B4455;\n",
              "      fill: #D2E3FC;\n",
              "    }\n",
              "\n",
              "    [theme=dark] .colab-df-convert:hover {\n",
              "      background-color: #434B5C;\n",
              "      box-shadow: 0px 1px 3px 1px rgba(0, 0, 0, 0.15);\n",
              "      filter: drop-shadow(0px 1px 2px rgba(0, 0, 0, 0.3));\n",
              "      fill: #FFFFFF;\n",
              "    }\n",
              "  </style>\n",
              "\n",
              "      <script>\n",
              "        const buttonEl =\n",
              "          document.querySelector('#df-48bdf362-f4f0-47ed-a17e-437f55fd61f4 button.colab-df-convert');\n",
              "        buttonEl.style.display =\n",
              "          google.colab.kernel.accessAllowed ? 'block' : 'none';\n",
              "\n",
              "        async function convertToInteractive(key) {\n",
              "          const element = document.querySelector('#df-48bdf362-f4f0-47ed-a17e-437f55fd61f4');\n",
              "          const dataTable =\n",
              "            await google.colab.kernel.invokeFunction('convertToInteractive',\n",
              "                                                     [key], {});\n",
              "          if (!dataTable) return;\n",
              "\n",
              "          const docLinkHtml = 'Like what you see? Visit the ' +\n",
              "            '<a target=\"_blank\" href=https://colab.research.google.com/notebooks/data_table.ipynb>data table notebook</a>'\n",
              "            + ' to learn more about interactive tables.';\n",
              "          element.innerHTML = '';\n",
              "          dataTable['output_type'] = 'display_data';\n",
              "          await google.colab.output.renderOutput(dataTable, element);\n",
              "          const docLink = document.createElement('div');\n",
              "          docLink.innerHTML = docLinkHtml;\n",
              "          element.appendChild(docLink);\n",
              "        }\n",
              "      </script>\n",
              "    </div>\n",
              "  </div>\n",
              "  "
            ]
          },
          "metadata": {},
          "execution_count": 12
        }
      ]
    },
    {
      "cell_type": "markdown",
      "source": [
        "## Setting up a database,"
      ],
      "metadata": {
        "id": "8U_WULRW8xPz"
      }
    },
    {
      "cell_type": "code",
      "source": [
        "!pip install pyodbc\n"
      ],
      "metadata": {
        "colab": {
          "base_uri": "https://localhost:8080/"
        },
        "id": "5KoEiiT-_5MN",
        "outputId": "541d1c95-a161-4825-9005-7a1d5283e339"
      },
      "execution_count": null,
      "outputs": [
        {
          "output_type": "stream",
          "name": "stdout",
          "text": [
            "Collecting pyodbc\n",
            "  Downloading pyodbc-4.0.32.tar.gz (280 kB)\n",
            "\u001b[K     |████████████████████████████████| 280 kB 2.6 MB/s \n",
            "\u001b[?25hBuilding wheels for collected packages: pyodbc\n",
            "  Building wheel for pyodbc (setup.py) ... \u001b[?25l\u001b[?25hdone\n",
            "  Created wheel for pyodbc: filename=pyodbc-4.0.32-cp37-cp37m-linux_x86_64.whl size=287402 sha256=4c130115d9ce10f2d5b08f921945a9647448b06f19ccca09c7f55d9e40b6f3e0\n",
            "  Stored in directory: /root/.cache/pip/wheels/2e/9c/da/8652fd42e0f662015554f00a9e96fe4f438dfd1ef59787879e\n",
            "Successfully built pyodbc\n",
            "Installing collected packages: pyodbc\n",
            "Successfully installed pyodbc-4.0.32\n"
          ]
        }
      ]
    },
    {
      "cell_type": "code",
      "source": [
        "import sqlite3\n",
        "import csv"
      ],
      "metadata": {
        "id": "pgp026F50_vt"
      },
      "execution_count": null,
      "outputs": []
    },
    {
      "cell_type": "code",
      "source": [
        "data_USA.columns"
      ],
      "metadata": {
        "colab": {
          "base_uri": "https://localhost:8080/"
        },
        "id": "9HXPXM_K1EQ9",
        "outputId": "4c72126d-c6c1-4f4b-da0d-5bbc4182afea"
      },
      "execution_count": null,
      "outputs": [
        {
          "output_type": "execute_result",
          "data": {
            "text/plain": [
              "Index(['IDCNTRY', 'ASBG10E', 'ASBG11F', 'ASBM01', 'ASDAGE', 'ASBS08D',\n",
              "       'ASBG04', 'ITSEX_Male', 'ASBG05C_Yes', 'ASBG05D_Yes', 'target'],\n",
              "      dtype='object')"
            ]
          },
          "metadata": {},
          "execution_count": 14
        }
      ]
    },
    {
      "cell_type": "code",
      "source": [
        "import sqlite3\n",
        "\n",
        "def create_db(db_name):\n",
        "    from pathlib import Path\n",
        "    Path(db_name).touch()\n",
        "    \n",
        "def establish_db_connection(db_name):\n",
        "    connection = sqlite3.connect(db_name)\n",
        "    return connection\n",
        "\n",
        "def create_and_populate_table(csv_file, connection, db_name):\n",
        "    c = connection.cursor()\n",
        "    c.execute('''DROP TABLE IF EXISTS data''')\n",
        "    c.execute('''CREATE TABLE data (IDCNTRY int, ASBG10E int, ASBG11F int, ASBM01 int, ASDAGE int, ASBS08D int, ASBG04 int, ITSEX_Male int, ASBG05C_Yes int, ASBG05D_Yes int, target float)''')\n",
        "    csv_file.to_sql('data', connection, if_exists='append', index = False)\n",
        "    c.close()"
      ],
      "metadata": {
        "id": "0IsbY3NOCdQm"
      },
      "execution_count": null,
      "outputs": []
    },
    {
      "cell_type": "code",
      "source": [
        "db_name = 'data_USA.db'\n",
        "\n",
        "create_db(db_name)\n",
        "connection = establish_db_connection(db_name)\n",
        "create_and_populate_table(data_USA, connection, db_name)"
      ],
      "metadata": {
        "id": "IxhgHZb58OYK"
      },
      "execution_count": null,
      "outputs": []
    },
    {
      "cell_type": "code",
      "source": [
        "c = connection.cursor()\n",
        "c.execute('''SELECT * FROM data''').fetchall()"
      ],
      "metadata": {
        "colab": {
          "base_uri": "https://localhost:8080/"
        },
        "id": "-Jeuu2uqgDBf",
        "outputId": "4bfbea91-cb9e-4031-d26a-c68a8e24fab4"
      },
      "execution_count": null,
      "outputs": [
        {
          "output_type": "execute_result",
          "data": {
            "text/plain": [
              "[(840, 3, 0, 3, 10.17, 3, 0, 1, 1, 1, 570.808248),\n",
              " (840, 3, 2, 2, 10.5, 3, 1, 1, 1, 1, 637.5129119999999),\n",
              " (840, 0, 0, 3, 10.58, 3, 2, 0, 1, 0, 522.506536),\n",
              " (840, 3, 1, 2, 9.92, 2, 0, 0, 1, 1, 541.383564),\n",
              " (840, 3, 1, 3, 10.08, 3, 1, 0, 1, 1, 621.487486),\n",
              " (840, 3, 1, 3, 10.92, 2, 1, 0, 1, 1, 558.442548),\n",
              " (840, 3, 3, 3, 10.08, 2, 3, 1, 1, 1, 589.254882),\n",
              " (840, 3, 0, 2, 9.83, 3, 0, 0, 0, 1, 573.36589),\n",
              " (840, 3, 0, 3, 10.5, 2, 2, 0, 1, 1, 549.016118),\n",
              " (840, 3, 0, 3, 9.92, 3, 1, 0, 0, 1, 651.570888),\n",
              " (840, 3, 0, 3, 10.08, 3, 3, 1, 1, 1, 595.264924),\n",
              " (840, 3, 3, 3, 10.42, 1, 0, 1, 1, 1, 503.387262),\n",
              " (840, 3, 1, 3, 10.83, 2, 4, 1, 1, 1, 697.437636),\n",
              " (840, 3, 1, 3, 10.42, 3, 3, 0, 1, 1, 582.13688),\n",
              " (840, 3, 0, 3, 10.58, 2, 0, 1, 1, 1, 534.757276),\n",
              " (840, 0, 0, 3, 10.33, 2, 4, 1, 1, 1, 576.1013740000001),\n",
              " (840, 2, 0, 2, 10.42, 2, 1, 1, 1, 1, 605.2687840000001),\n",
              " (840, 3, 0, 1, 10.25, 3, 3, 0, 1, 1, 687.4132819999999),\n",
              " (840, 3, 0, 3, 10.42, 3, 0, 1, 1, 1, 571.1984580000001),\n",
              " (840, 3, 0, 3, 10.17, 3, 1, 1, 1, 1, 601.4006),\n",
              " (840, 3, 0, 2, 9.75, 3, 0, 0, 1, 1, 533.545108),\n",
              " (840, 3, 3, 2, 10.25, 3, 3, 0, 1, 1, 481.916838),\n",
              " (840, 3, 1, 3, 9.75, 2, 0, 1, 1, 1, 623.880362),\n",
              " (840, 0, 0, 2, 10.5, 3, 2, 1, 1, 1, 574.923984),\n",
              " (840, 3, 1, 3, 9.75, 2, 0, 0, 1, 1, 598.07609),\n",
              " (840, 3, 0, 3, 10.42, 3, 4, 0, 1, 1, 605.497474),\n",
              " (840, 3, 0, 2, 10.25, 3, 4, 0, 1, 1, 585.60184),\n",
              " (840, 3, 0, 3, 9.83, 3, 4, 1, 1, 1, 689.4860480000001),\n",
              " (840, 2, 0, 3, 10, 3, 0, 0, 1, 1, 508.851786),\n",
              " (840, 3, 0, 3, 10.5, 3, 4, 0, 1, 1, 615.396032),\n",
              " (840, 3, 0, 1, 10.08, 3, 2, 0, 1, 1, 486.2232),\n",
              " (840, 3, 0, 2, 10.58, 3, 1, 0, 1, 1, 483.11781),\n",
              " (840, 3, 0, 2, 9.92, 1, 0, 0, 1, 1, 562.45314),\n",
              " (840, 3, 0, 3, 10.33, 3, 3, 1, 0, 1, 685.8197040000001),\n",
              " (840, 3, 0, 3, 10.67, 3, 0, 0, 0, 0, 540.868664),\n",
              " (840, 2, 0, 2, 10.5, 2, 0, 0, 0, 1, 594.878216),\n",
              " (840, 3, 0, 3, 10.42, 3, 1, 1, 1, 1, 579.7117679999999),\n",
              " (840, 2, 0, 1, 9.92, 3, 2, 0, 1, 1, 538.8047700000001),\n",
              " (840, 3, 0, 3, 10.25, 3, 2, 1, 1, 1, 587.700934),\n",
              " (840, 3, 0, 1, 10.58, 3, 0, 0, 0, 1, 562.343388),\n",
              " (840, 3, 0, 1, 10.17, 3, 0, 1, 0, 1, 576.110844),\n",
              " (840, 2, 0, 2, 10.83, 2, 2, 1, 0, 1, 488.592858),\n",
              " (840, 3, 0, 1, 10.58, 2, 2, 0, 1, 1, 482.50243599999993),\n",
              " (840, 3, 0, 3, 10.25, 3, 2, 1, 1, 1, 672.6953460000001),\n",
              " (840, 2, 0, 2, 10.5, 3, 4, 0, 0, 1, 577.886616),\n",
              " (840, 2, 1, 2, 10.17, 2, 2, 1, 1, 1, 567.606494),\n",
              " (840, 3, 0, 1, 10.58, 3, 0, 0, 1, 0, 501.4369720000001),\n",
              " (840, 2, 1, 1, 10.42, 3, 1, 0, 0, 1, 638.341144),\n",
              " (840, 3, 0, 3, 10.17, 3, 1, 0, 1, 1, 597.016484),\n",
              " (840, 2, 0, 2, 11, 2, 0, 1, 1, 1, 565.29236),\n",
              " (840, 3, 0, 3, 11.08, 3, 0, 0, 0, 1, 571.1628560000001),\n",
              " (840, 1, 0, 3, 10.08, 2, 2, 0, 1, 1, 601.74479),\n",
              " (840, 3, 0, 0, 11.17, 3, 0, 1, 0, 0, 608.8796259999999),\n",
              " (840, 2, 0, 1, 10.33, 2, 4, 0, 1, 1, 593.51077),\n",
              " (840, 3, 1, 3, 10.33, 2, 1, 0, 0, 0, 610.631534),\n",
              " (840, 3, 0, 1, 10.67, 3, 2, 0, 1, 0, 513.938054),\n",
              " (840, 2, 1, 3, 9.92, 3, 1, 0, 0, 1, 631.515144),\n",
              " (840, 2, 0, 2, 10.17, 3, 2, 0, 0, 1, 510.66151999999994),\n",
              " (840, 2, 1, 3, 10.5, 3, 1, 1, 1, 1, 689.652508),\n",
              " (840, 3, 0, 3, 10.42, 2, 1, 0, 1, 1, 608.135176),\n",
              " (840, 3, 1, 2, 10.33, 2, 3, 1, 1, 1, 439.1082420000001),\n",
              " (840, 3, 0, 2, 10.08, 3, 4, 1, 1, 1, 463.123726),\n",
              " (840, 3, 1, 3, 10.33, 3, 4, 0, 1, 1, 555.264106),\n",
              " (840, 3, 0, 3, 10.58, 3, 3, 1, 1, 1, 637.2213600000001),\n",
              " (840, 3, 2, 2, 10.17, 3, 3, 1, 1, 1, 532.8127039999999),\n",
              " (840, 3, 2, 3, 10.33, 3, 3, 1, 1, 1, 589.564706),\n",
              " (840, 3, 0, 3, 9.92, 3, 4, 0, 1, 1, 714.4572780000001),\n",
              " (840, 3, 0, 3, 10.5, 3, 1, 0, 1, 1, 599.16448),\n",
              " (840, 3, 0, 2, 10.17, 3, 1, 0, 1, 1, 371.23949400000004),\n",
              " (840, 0, 0, 3, 9.83, 2, 4, 1, 1, 1, 438.058728),\n",
              " (840, 3, 0, 1, 10.08, 2, 4, 1, 1, 1, 570.8022800000001),\n",
              " (840, 2, 0, 3, 10.5, 3, 4, 0, 1, 1, 597.72351),\n",
              " (840, 2, 0, 3, 10, 3, 1, 0, 1, 1, 549.769896),\n",
              " (840, 3, 0, 3, 10.5, 3, 1, 0, 1, 1, 460.644216),\n",
              " (840, 3, 0, 3, 10.25, 3, 0, 1, 1, 1, 538.773508),\n",
              " (840, 3, 0, 3, 10.17, 3, 4, 0, 1, 0, 580.202798),\n",
              " (840, 3, 0, 3, 10.33, 3, 1, 0, 1, 1, 627.247042),\n",
              " (840, 3, 0, 3, 10.25, 3, 2, 0, 1, 1, 487.40329600000007),\n",
              " (840, 3, 0, 3, 10.08, 3, 4, 0, 1, 1, 580.888754),\n",
              " (840, 3, 0, 3, 10.17, 3, 1, 0, 1, 1, 522.126532),\n",
              " (840, 3, 0, 2, 10.83, 2, 4, 0, 0, 1, 557.907196),\n",
              " (840, 2, 3, 2, 9.67, 3, 4, 0, 0, 1, 490.18927),\n",
              " (840, 3, 0, 2, 10.25, 3, 3, 0, 1, 1, 617.8552159999999),\n",
              " (840, 3, 0, 2, 10.58, 3, 0, 0, 1, 0, 400.936668),\n",
              " (840, 3, 0, 3, 10.42, 3, 1, 0, 1, 1, 459.519336),\n",
              " (840, 2, 2, 1, 10.5, 3, 2, 1, 1, 1, 524.1746679999999),\n",
              " (840, 3, 0, 2, 10.33, 3, 4, 0, 1, 1, 665.303424),\n",
              " (840, 1, 1, 3, 10.83, 3, 4, 1, 1, 1, 621.357514),\n",
              " (840, 2, 2, 2, 10.08, 3, 1, 1, 0, 1, 711.740122),\n",
              " (840, 3, 2, 2, 10.25, 3, 4, 1, 1, 1, 633.216798),\n",
              " (840, 2, 1, 3, 9.92, 2, 4, 0, 1, 1, 623.152438),\n",
              " (840, 2, 0, 2, 9.75, 2, 1, 0, 0, 1, 421.180428),\n",
              " (840, 2, 2, 3, 10.42, 3, 3, 1, 1, 1, 543.4107720000001),\n",
              " (840, 2, 2, 3, 10.42, 3, 4, 1, 1, 1, 607.6775799999999),\n",
              " (840, 3, 0, 3, 9.75, 3, 4, 0, 1, 1, 636.788562),\n",
              " (840, 3, 1, 2, 9.67, 3, 1, 1, 1, 1, 497.7955400000001),\n",
              " (840, 2, 0, 3, 10.33, 2, 4, 0, 1, 1, 693.6610600000001),\n",
              " (840, 2, 1, 3, 10.92, 3, 1, 1, 1, 1, 606.262984),\n",
              " (840, 3, 1, 3, 9.92, 3, 3, 0, 1, 1, 565.62092),\n",
              " (840, 2, 0, 1, 10, 3, 1, 0, 1, 1, 517.4916660000001),\n",
              " (840, 1, 1, 3, 10.33, 1, 1, 0, 1, 1, 574.689654),\n",
              " (840, 3, 0, 3, 9.67, 3, 4, 1, 1, 1, 686.823744),\n",
              " (840, 1, 3, 3, 9.75, 3, 4, 0, 1, 1, 507.27666),\n",
              " (840, 3, 0, 3, 10.17, 3, 3, 0, 1, 1, 613.9537799999999),\n",
              " (840, 3, 0, 3, 9.83, 3, 0, 1, 1, 1, 515.982936),\n",
              " (840, 3, 0, 3, 10.58, 3, 0, 0, 0, 1, 519.45016),\n",
              " (840, 3, 0, 2, 10.5, 3, 2, 0, 0, 1, 503.25308000000007),\n",
              " (840, 3, 0, 2, 9.83, 3, 2, 0, 0, 1, 518.159466),\n",
              " (840, 1, 3, 0, 10, 3, 4, 0, 1, 1, 357.753976),\n",
              " (840, 3, 0, 3, 10.17, 2, 2, 1, 1, 1, 485.954274),\n",
              " (840, 3, 0, 3, 10.33, 3, 1, 0, 0, 1, 467.49162400000006),\n",
              " (840, 3, 0, 2, 10.33, 3, 2, 0, 1, 0, 440.404226),\n",
              " (840, 1, 0, 2, 11.42, 2, 2, 1, 0, 1, 536.143936),\n",
              " (840, 1, 1, 3, 10.08, 0, 2, 1, 1, 1, 400.744704),\n",
              " (840, 3, 3, 3, 11.5, 3, 4, 0, 1, 1, 413.25420199999996),\n",
              " (840, 3, 3, 3, 10.42, 3, 3, 1, 0, 1, 655.824586),\n",
              " (840, 0, 0, 3, 10.17, 3, 1, 1, 1, 1, 430.078982),\n",
              " (840, 2, 2, 0, 10.75, 2, 2, 0, 1, 1, 398.079024),\n",
              " (840, 3, 1, 3, 9.92, 1, 1, 1, 1, 1, 604.1143979999999),\n",
              " (840, 2, 0, 2, 10.58, 3, 0, 0, 1, 1, 570.171426),\n",
              " (840, 3, 0, 3, 10, 3, 1, 0, 1, 1, 602.0016919999999),\n",
              " (840, 2, 0, 2, 10.58, 3, 2, 0, 1, 1, 526.090286),\n",
              " (840, 3, 1, 3, 10.08, 3, 0, 1, 1, 1, 548.939214),\n",
              " (840, 3, 0, 3, 10.67, 3, 0, 1, 0, 1, 452.12443999999994),\n",
              " (840, 2, 0, 1, 10.75, 2, 0, 0, 0, 1, 574.695186),\n",
              " (840, 2, 0, 2, 10.67, 2, 0, 1, 1, 1, 509.95837200000005),\n",
              " (840, 3, 0, 3, 11.33, 3, 0, 1, 1, 1, 481.5908820000001),\n",
              " (840, 2, 2, 2, 9.92, 2, 3, 1, 0, 1, 555.270888),\n",
              " (840, 3, 0, 3, 10.5, 2, 1, 0, 1, 1, 523.05942),\n",
              " (840, 2, 2, 3, 10.5, 3, 1, 1, 1, 1, 548.2298720000001),\n",
              " (840, 3, 0, 1, 10.67, 3, 2, 0, 0, 0, 439.525534),\n",
              " (840, 2, 0, 3, 10.08, 2, 1, 1, 0, 1, 685.249724),\n",
              " (840, 2, 0, 3, 10.17, 1, 1, 1, 1, 1, 526.006802),\n",
              " (840, 2, 1, 2, 10.25, 3, 0, 0, 1, 1, 499.327016),\n",
              " (840, 3, 0, 1, 9.75, 3, 1, 1, 1, 1, 623.367758),\n",
              " (840, 2, 0, 2, 11, 3, 0, 0, 0, 1, 437.23312999999996),\n",
              " (840, 3, 0, 2, 10.67, 3, 0, 0, 0, 1, 469.251426),\n",
              " (840, 0, 0, 2, 10.58, 1, 0, 0, 0, 1, 507.15458400000006),\n",
              " (840, 1, 1, 1, 9.75, 1, 0, 1, 0, 0, 633.105442),\n",
              " (840, 3, 0, 2, 10.5, 3, 2, 0, 0, 1, 510.848336),\n",
              " (840, 3, 0, 3, 10.67, 2, 0, 0, 0, 1, 500.5500639999999),\n",
              " (840, 2, 0, 3, 10.08, 3, 0, 1, 0, 1, 544.904178),\n",
              " (840, 3, 1, 2, 10.5, 2, 3, 0, 0, 1, 640.6355759999999),\n",
              " (840, 1, 0, 3, 10.25, 3, 1, 1, 0, 1, 634.823292),\n",
              " (840, 0, 3, 2, 10.83, 3, 3, 1, 1, 1, 496.61732599999993),\n",
              " (840, 0, 2, 2, 10.5, 3, 2, 0, 1, 1, 552.65122),\n",
              " (840, 2, 0, 3, 10, 2, 0, 1, 0, 1, 626.23627),\n",
              " (840, 2, 0, 3, 10.92, 3, 0, 1, 1, 1, 556.569708),\n",
              " (840, 3, 0, 3, 10.5, 3, 1, 0, 1, 1, 559.5367919999999),\n",
              " (840, 3, 1, 0, 9.58, 2, 1, 0, 1, 1, 468.37587599999995),\n",
              " (840, 3, 0, 3, 10.25, 3, 3, 0, 1, 1, 528.4432899999999),\n",
              " (840, 0, 1, 3, 10.58, 3, 1, 1, 1, 1, 582.381848),\n",
              " (840, 2, 0, 3, 10.33, 2, 2, 0, 1, 1, 623.3474239999999),\n",
              " (840, 3, 0, 3, 10.17, 3, 2, 0, 1, 0, 561.675416),\n",
              " (840, 3, 0, 3, 9.92, 3, 1, 0, 1, 1, 511.690248),\n",
              " (840, 3, 0, 3, 10, 3, 1, 0, 1, 0, 537.377726),\n",
              " (840, 3, 0, 3, 10.42, 3, 3, 1, 1, 1, 607.65311),\n",
              " (840, 2, 0, 3, 10.67, 3, 0, 0, 1, 1, 606.9813999999999),\n",
              " (840, 3, 0, 3, 9.83, 3, 2, 0, 0, 1, 616.749982),\n",
              " (840, 3, 0, 3, 10.42, 3, 3, 0, 1, 1, 580.1135339999998),\n",
              " (840, 3, 0, 3, 10.5, 2, 1, 0, 1, 1, 613.914634),\n",
              " (840, 3, 0, 2, 9.92, 3, 0, 0, 1, 1, 489.38816399999996),\n",
              " (840, 3, 0, 1, 11.08, 2, 2, 1, 0, 1, 544.663948),\n",
              " (840, 3, 0, 3, 10.17, 3, 1, 0, 1, 1, 531.365146),\n",
              " (840, 2, 0, 2, 10.83, 3, 0, 1, 0, 1, 505.0938040000001),\n",
              " (840, 3, 0, 2, 10.17, 3, 4, 1, 0, 1, 552.430326),\n",
              " (840, 3, 1, 2, 10.25, 3, 3, 0, 1, 1, 615.4200820000001),\n",
              " (840, 1, 0, 3, 9.83, 1, 2, 0, 1, 1, 503.5868899999999),\n",
              " (840, 3, 0, 3, 10, 3, 4, 0, 1, 1, 578.74151),\n",
              " (840, 3, 2, 3, 10.08, 3, 0, 0, 0, 1, 568.7424719999999),\n",
              " (840, 3, 0, 2, 10.17, 3, 0, 1, 1, 1, 480.20331400000003),\n",
              " (840, 3, 0, 2, 10.08, 3, 1, 0, 0, 1, 563.197806),\n",
              " (840, 3, 1, 2, 10.33, 3, 2, 0, 0, 1, 492.27859),\n",
              " (840, 3, 1, 3, 9.92, 2, 2, 1, 0, 1, 370.99051999999995),\n",
              " (840, 2, 0, 2, 11.17, 3, 0, 1, 0, 1, 472.60896),\n",
              " (840, 3, 2, 1, 9.83, 3, 0, 0, 0, 1, 543.69247),\n",
              " (840, 1, 2, 2, 10.92, 2, 3, 1, 0, 1, 355.81425),\n",
              " (840, 3, 0, 2, 10.5, 3, 1, 1, 1, 1, 532.831678),\n",
              " (840, 2, 0, 0, 10.5, 3, 1, 1, 0, 1, 375.97478600000005),\n",
              " (840, 0, 1, 2, 10.58, 3, 1, 1, 0, 1, 468.05010000000004),\n",
              " (840, 0, 0, 3, 11.17, 3, 2, 0, 0, 1, 485.44558400000005),\n",
              " (840, 3, 0, 2, 10.33, 3, 1, 0, 1, 1, 526.938124),\n",
              " (840, 3, 0, 3, 9.92, 3, 3, 0, 1, 1, 485.82249),\n",
              " (840, 3, 1, 2, 10.42, 3, 2, 0, 0, 1, 361.247364),\n",
              " (840, 3, 0, 1, 11, 3, 0, 0, 0, 1, 442.637356),\n",
              " (840, 2, 0, 3, 9.5, 1, 1, 0, 1, 1, 484.096404),\n",
              " (840, 3, 1, 2, 9.92, 1, 1, 0, 0, 1, 570.6159380000001),\n",
              " (840, 3, 0, 3, 9.67, 1, 3, 0, 1, 1, 625.642504),\n",
              " (840, 2, 1, 3, 10.42, 3, 1, 0, 0, 1, 579.221238),\n",
              " (840, 2, 0, 3, 10.5, 0, 0, 1, 1, 1, 550.734648),\n",
              " (840, 3, 1, 2, 9.83, 3, 3, 1, 0, 1, 612.63256),\n",
              " (840, 3, 0, 3, 10.42, 2, 1, 1, 1, 1, 584.428758),\n",
              " (840, 3, 3, 3, 10.58, 3, 0, 1, 1, 1, 498.510218),\n",
              " (840, 3, 0, 3, 10.5, 3, 2, 1, 1, 1, 563.0474280000001),\n",
              " (840, 1, 0, 2, 9.33, 2, 2, 0, 1, 1, 451.701702),\n",
              " (840, 2, 1, 3, 10.33, 3, 2, 0, 1, 1, 627.6769280000001),\n",
              " (840, 3, 0, 3, 10.58, 3, 0, 1, 1, 1, 613.3635620000001),\n",
              " (840, 3, 0, 3, 10.75, 2, 3, 1, 1, 1, 598.26284),\n",
              " (840, 0, 1, 3, 9.75, 3, 0, 1, 1, 1, 445.78332599999993),\n",
              " (840, 0, 1, 3, 11.33, 0, 4, 0, 0, 1, 412.215652),\n",
              " (840, 2, 1, 3, 10.08, 3, 1, 1, 1, 1, 520.618764),\n",
              " (840, 3, 3, 2, 9.42, 3, 0, 1, 0, 1, 442.700606),\n",
              " (840, 2, 0, 1, 10.58, 0, 0, 1, 0, 1, 609.2906660000001),\n",
              " (840, 3, 1, 3, 10.08, 3, 3, 0, 1, 1, 424.788414),\n",
              " (840, 3, 1, 3, 10.42, 3, 4, 0, 1, 1, 540.4285000000001),\n",
              " (840, 3, 0, 3, 10.5, 3, 4, 0, 1, 1, 567.8908859999999),\n",
              " (840, 3, 2, 3, 10.33, 3, 1, 0, 0, 1, 491.02758400000005),\n",
              " (840, 1, 2, 3, 9.92, 3, 1, 1, 1, 1, 620.61547),\n",
              " (840, 3, 0, 2, 10.08, 3, 0, 0, 1, 1, 493.42326599999996),\n",
              " (840, 3, 2, 3, 10, 3, 2, 1, 1, 1, 619.902332),\n",
              " (840, 2, 1, 3, 10, 3, 0, 1, 0, 1, 656.6075020000001),\n",
              " (840, 2, 1, 2, 10.17, 2, 3, 0, 1, 1, 529.9422360000001),\n",
              " (840, 3, 0, 3, 9.75, 3, 0, 1, 0, 1, 526.0748639999999),\n",
              " (840, 2, 3, 3, 10.17, 2, 0, 1, 1, 1, 632.4801540000001),\n",
              " (840, 3, 0, 3, 10.67, 2, 3, 1, 1, 1, 428.947724),\n",
              " (840, 3, 0, 3, 10.58, 3, 2, 0, 1, 1, 556.8437999999999),\n",
              " (840, 0, 0, 3, 10.17, 0, 4, 1, 1, 1, 492.095956),\n",
              " (840, 1, 0, 3, 10.17, 3, 1, 0, 1, 1, 486.728878),\n",
              " (840, 1, 1, 3, 10.08, 2, 1, 0, 1, 1, 556.65594),\n",
              " (840, 3, 0, 3, 10.33, 3, 2, 1, 0, 1, 442.554438),\n",
              " (840, 3, 0, 1, 9.75, 3, 0, 1, 1, 1, 583.256602),\n",
              " (840, 3, 0, 3, 10.58, 3, 3, 0, 1, 1, 597.568876),\n",
              " (840, 3, 0, 1, 10.08, 2, 0, 1, 0, 1, 518.784054),\n",
              " (840, 3, 0, 3, 10.42, 3, 1, 0, 1, 1, 606.10518),\n",
              " (840, 3, 0, 3, 10.33, 3, 1, 0, 1, 1, 649.81171),\n",
              " (840, 3, 1, 2, 10.75, 3, 4, 0, 1, 1, 596.0222640000001),\n",
              " (840, 1, 0, 3, 10.5, 3, 1, 0, 1, 1, 559.241276),\n",
              " (840, 2, 0, 2, 10.42, 3, 0, 1, 1, 1, 512.689916),\n",
              " (840, 2, 0, 3, 10.67, 2, 1, 0, 1, 1, 608.110272),\n",
              " (840, 0, 0, 1, 10.92, 0, 4, 0, 1, 1, 523.573486),\n",
              " (840, 3, 0, 2, 10.25, 3, 1, 0, 0, 1, 502.70963),\n",
              " (840, 2, 1, 3, 10, 1, 1, 1, 0, 1, 523.747444),\n",
              " (840, 3, 1, 3, 10.08, 3, 2, 0, 1, 1, 536.637242),\n",
              " (840, 2, 3, 2, 10.67, 3, 0, 1, 0, 1, 585.460134),\n",
              " (840, 3, 0, 2, 10.42, 1, 0, 0, 1, 1, 599.14568),\n",
              " (840, 2, 1, 3, 10, 1, 3, 0, 1, 1, 637.673826),\n",
              " (840, 1, 1, 3, 10.75, 3, 4, 1, 1, 1, 597.032658),\n",
              " (840, 3, 1, 3, 10.33, 3, 4, 0, 1, 1, 666.591676),\n",
              " (840, 3, 0, 3, 10.75, 2, 3, 1, 1, 1, 655.9486960000002),\n",
              " (840, 2, 0, 3, 9.75, 3, 1, 0, 1, 1, 581.642474),\n",
              " (840, 3, 1, 3, 10, 2, 1, 1, 0, 1, 580.5710260000001),\n",
              " (840, 3, 3, 2, 10.5, 2, 3, 1, 1, 1, 520.5192059999999),\n",
              " (840, 3, 0, 3, 10.5, 2, 3, 0, 1, 1, 658.867648),\n",
              " (840, 3, 0, 1, 10.17, 3, 0, 1, 1, 1, 392.69395000000003),\n",
              " (840, 3, 0, 2, 10.42, 2, 1, 0, 1, 1, 528.842778),\n",
              " (840, 3, 1, 2, 10.67, 3, 3, 0, 0, 1, 421.4421700000001),\n",
              " (840, 3, 1, 3, 10.42, 3, 3, 1, 1, 1, 527.7587),\n",
              " (840, 2, 0, 1, 10.58, 3, 3, 0, 1, 1, 613.701598),\n",
              " (840, 3, 0, 3, 10.58, 3, 1, 0, 1, 1, 434.53414599999996),\n",
              " (840, 2, 1, 3, 10.5, 2, 0, 1, 1, 1, 554.915438),\n",
              " (840, 0, 1, 0, 10.33, 3, 0, 0, 1, 1, 581.628638),\n",
              " (840, 0, 0, 1, 10.5, 3, 3, 0, 0, 0, 460.38822200000004),\n",
              " (840, 2, 0, 3, 10.33, 2, 0, 0, 1, 1, 567.4138559999999),\n",
              " (840, 2, 1, 3, 10.33, 2, 1, 1, 1, 1, 600.243168),\n",
              " (840, 2, 1, 3, 9.58, 3, 2, 1, 1, 1, 500.3857019999999),\n",
              " (840, 3, 0, 3, 10.42, 3, 1, 1, 1, 1, 632.636926),\n",
              " (840, 3, 0, 3, 10.58, 3, 0, 1, 1, 1, 563.7657879999999),\n",
              " (840, 2, 0, 1, 9.75, 0, 4, 1, 1, 1, 499.47969600000005),\n",
              " (840, 3, 0, 3, 9.67, 3, 0, 0, 1, 1, 387.21304),\n",
              " (840, 3, 0, 1, 10, 3, 0, 1, 0, 1, 597.822308),\n",
              " (840, 3, 0, 3, 10.25, 3, 0, 0, 0, 1, 396.96713400000004),\n",
              " (840, 3, 0, 3, 10.17, 3, 4, 0, 0, 1, 573.66765),\n",
              " (840, 2, 0, 3, 10.08, 3, 0, 1, 0, 1, 513.382894),\n",
              " (840, 3, 1, 2, 10.5, 3, 0, 1, 1, 1, 616.6686460000001),\n",
              " (840, 3, 1, 1, 10.17, 3, 1, 0, 1, 1, 453.72782000000007),\n",
              " (840, 2, 0, 3, 9.5, 3, 1, 1, 1, 1, 619.185444),\n",
              " (840, 3, 0, 3, 9.75, 3, 1, 0, 0, 1, 561.669736),\n",
              " (840, 2, 1, 1, 10.67, 3, 4, 1, 0, 1, 511.6850079999999),\n",
              " (840, 3, 0, 3, 10, 1, 0, 1, 0, 1, 425.259836),\n",
              " (840, 3, 0, 2, 10.92, 3, 2, 1, 0, 1, 511.99396799999994),\n",
              " (840, 3, 0, 3, 10.25, 3, 1, 1, 0, 1, 618.589304),\n",
              " (840, 3, 0, 3, 9.83, 3, 4, 0, 1, 1, 648.53605),\n",
              " (840, 3, 1, 3, 10, 2, 1, 1, 1, 1, 494.81899400000003),\n",
              " (840, 3, 0, 1, 10.17, 3, 2, 0, 1, 1, 473.995356),\n",
              " (840, 3, 1, 3, 9.67, 2, 0, 1, 0, 1, 576.442462),\n",
              " (840, 3, 1, 2, 9.92, 3, 2, 1, 0, 1, 599.022618),\n",
              " (840, 3, 0, 2, 11.08, 3, 2, 1, 0, 1, 464.708562),\n",
              " (840, 3, 0, 3, 10.25, 3, 0, 0, 0, 1, 458.303346),\n",
              " (840, 2, 2, 3, 9.83, 3, 3, 1, 1, 1, 528.2429),\n",
              " (840, 3, 0, 2, 9.83, 2, 0, 0, 0, 1, 498.765412),\n",
              " (840, 3, 1, 2, 9.75, 3, 2, 1, 0, 0, 498.557238),\n",
              " (840, 3, 2, 3, 9.5, 3, 1, 1, 0, 1, 583.522612),\n",
              " (840, 3, 3, 3, 10.25, 3, 1, 1, 1, 1, 449.134764),\n",
              " (840, 2, 0, 3, 10, 3, 1, 0, 1, 1, 603.4750080000001),\n",
              " (840, 3, 1, 3, 9.92, 3, 1, 1, 1, 1, 471.648948),\n",
              " (840, 3, 0, 3, 10.33, 3, 0, 0, 1, 1, 430.945916),\n",
              " (840, 3, 0, 2, 10.08, 3, 0, 0, 1, 1, 362.833578),\n",
              " (840, 3, 0, 3, 9.75, 3, 0, 1, 0, 0, 554.78925),\n",
              " (840, 3, 3, 3, 10.5, 3, 2, 1, 0, 1, 592.2832599999999),\n",
              " (840, 2, 2, 3, 11.08, 2, 2, 1, 1, 1, 471.484454),\n",
              " (840, 3, 3, 3, 9.92, 3, 2, 1, 0, 1, 580.659296),\n",
              " (840, 3, 0, 2, 10.17, 3, 0, 0, 0, 1, 584.156142),\n",
              " (840, 3, 0, 3, 9.92, 3, 4, 0, 1, 1, 461.3270119999999),\n",
              " (840, 3, 0, 3, 10.42, 2, 1, 0, 0, 1, 545.581458),\n",
              " (840, 2, 0, 1, 10.5, 3, 4, 0, 0, 1, 425.033906),\n",
              " (840, 0, 2, 0, 10.58, 3, 1, 1, 1, 1, 465.979864),\n",
              " (840, 3, 0, 2, 9.83, 3, 0, 0, 1, 1, 542.43913),\n",
              " (840, 3, 0, 1, 10.75, 3, 1, 1, 1, 1, 588.601436),\n",
              " (840, 3, 0, 3, 9.75, 3, 0, 0, 0, 1, 514.416758),\n",
              " (840, 3, 0, 3, 10.33, 3, 1, 0, 1, 1, 513.6604659999999),\n",
              " (840, 3, 0, 2, 9.92, 2, 0, 0, 0, 1, 560.862316),\n",
              " (840, 2, 0, 2, 10.25, 3, 2, 0, 0, 0, 385.00870199999997),\n",
              " (840, 2, 0, 3, 10.42, 3, 0, 1, 0, 1, 481.23623),\n",
              " (840, 3, 2, 3, 10.25, 3, 4, 0, 1, 1, 497.649636),\n",
              " (840, 0, 2, 3, 10.83, 1, 2, 1, 0, 1, 530.172092),\n",
              " (840, 3, 0, 1, 10.17, 3, 1, 0, 0, 1, 526.650402),\n",
              " (840, 0, 0, 3, 10.08, 1, 2, 1, 0, 1, 604.6003000000001),\n",
              " (840, 3, 0, 3, 10.42, 3, 1, 0, 0, 1, 569.485744),\n",
              " (840, 3, 0, 3, 9.75, 3, 0, 0, 0, 1, 558.217562),\n",
              " (840, 3, 1, 1, 9.92, 2, 2, 1, 1, 1, 604.727028),\n",
              " (840, 2, 3, 3, 10.42, 3, 1, 1, 1, 1, 514.237798),\n",
              " (840, 0, 0, 3, 10.25, 1, 0, 0, 0, 1, 588.1456420000001),\n",
              " (840, 2, 0, 3, 9.83, 3, 1, 0, 1, 1, 557.756048),\n",
              " (840, 3, 0, 3, 10.5, 2, 2, 1, 0, 1, 474.670902),\n",
              " (840, 1, 1, 3, 9.75, 2, 2, 1, 0, 0, 582.664864),\n",
              " (840, 2, 3, 3, 10.08, 2, 1, 1, 1, 1, 637.7623980000001),\n",
              " (840, 3, 2, 2, 10.42, 3, 0, 1, 0, 1, 571.8309999999999),\n",
              " (840, 3, 0, 1, 10.83, 3, 0, 1, 0, 1, 424.412958),\n",
              " (840, 0, 3, 0, 9.92, 3, 3, 1, 0, 0, 289.996352),\n",
              " (840, 3, 0, 3, 9.67, 3, 2, 0, 1, 1, 295.46525600000007),\n",
              " (840, 0, 3, 3, 10.08, 2, 0, 1, 1, 1, 420.110188),\n",
              " (840, 3, 0, 1, 10.08, 3, 0, 1, 0, 1, 305.60422),\n",
              " (840, 3, 0, 2, 9.67, 3, 2, 1, 0, 0, 374.75683399999997),\n",
              " (840, 3, 3, 2, 10.75, 1, 2, 0, 0, 0, 308.40601),\n",
              " (840, 3, 0, 1, 9.92, 3, 2, 1, 1, 1, 372.497216),\n",
              " (840, 3, 3, 1, 10, 3, 1, 1, 1, 1, 491.669956),\n",
              " (840, 3, 1, 3, 9.83, 3, 2, 0, 0, 1, 550.226232),\n",
              " (840, 3, 0, 3, 11.08, 3, 0, 1, 1, 0, 464.689848),\n",
              " (840, 2, 3, 2, 9.75, 3, 0, 0, 1, 1, 413.609722),\n",
              " (840, 3, 2, 2, 10.08, 3, 3, 0, 1, 1, 368.08231399999994),\n",
              " (840, 3, 1, 1, 9.75, 3, 1, 1, 1, 0, 445.15789399999994),\n",
              " (840, 3, 0, 2, 10.17, 3, 1, 0, 1, 1, 435.060322),\n",
              " (840, 3, 0, 1, 10, 3, 2, 0, 1, 1, 430.597462),\n",
              " (840, 2, 0, 3, 9.67, 3, 0, 1, 1, 1, 481.06588200000004),\n",
              " (840, 3, 0, 3, 9.75, 3, 0, 0, 1, 1, 449.307114),\n",
              " (840, 2, 0, 3, 10.17, 3, 0, 0, 1, 1, 463.06723600000004),\n",
              " (840, 3, 3, 3, 9.67, 3, 1, 1, 1, 1, 436.151506),\n",
              " (840, 3, 0, 2, 10.5, 3, 1, 1, 1, 0, 487.2700500000001),\n",
              " (840, 3, 3, 1, 10.42, 3, 2, 0, 1, 0, 391.24233999999996),\n",
              " (840, 2, 1, 3, 10.25, 3, 1, 0, 1, 1, 507.806256),\n",
              " (840, 3, 0, 3, 9.67, 3, 2, 0, 0, 1, 443.66786599999995),\n",
              " (840, 3, 0, 2, 10.17, 3, 0, 1, 0, 1, 550.056112),\n",
              " (840, 2, 2, 2, 10.25, 1, 0, 1, 0, 1, 599.84365),\n",
              " (840, 1, 1, 1, 11.5, 3, 0, 0, 0, 1, 404.005962),\n",
              " (840, 3, 3, 2, 10.42, 3, 2, 1, 0, 1, 499.29251000000005),\n",
              " (840, 3, 0, 3, 10.33, 3, 4, 1, 1, 1, 567.6042420000001),\n",
              " (840, 0, 3, 2, 10.33, 0, 2, 0, 1, 1, 387.909686),\n",
              " (840, 0, 0, 1, 9.5, 3, 1, 0, 1, 1, 401.03633),\n",
              " (840, 3, 1, 1, 9.83, 3, 1, 1, 1, 1, 524.2634820000001),\n",
              " (840, 2, 0, 3, 9.75, 3, 0, 0, 1, 1, 418.62036),\n",
              " (840, 2, 0, 3, 10.17, 2, 2, 0, 0, 1, 419.91942200000005),\n",
              " (840, 2, 0, 3, 10.17, 3, 1, 0, 1, 1, 504.89258600000005),\n",
              " (840, 2, 1, 3, 10.75, 1, 1, 0, 1, 1, 604.339392),\n",
              " (840, 0, 1, 0, 10.58, 3, 2, 1, 1, 1, 560.935874),\n",
              " (840, 3, 3, 2, 10.08, 3, 4, 0, 1, 1, 574.8859580000001),\n",
              " (840, 3, 0, 2, 10.08, 2, 1, 1, 0, 1, 626.070656),\n",
              " (840, 3, 1, 2, 10.17, 3, 1, 1, 1, 1, 592.937174),\n",
              " (840, 2, 1, 2, 10.17, 3, 2, 1, 0, 1, 597.842362),\n",
              " (840, 3, 0, 3, 10.25, 3, 1, 0, 0, 1, 557.327176),\n",
              " (840, 2, 1, 3, 10.58, 2, 2, 1, 1, 1, 541.34402),\n",
              " (840, 3, 0, 3, 10.33, 3, 0, 0, 1, 1, 539.976926),\n",
              " (840, 3, 0, 2, 10.5, 3, 1, 1, 1, 1, 584.743896),\n",
              " (840, 3, 0, 3, 9.83, 3, 3, 1, 1, 1, 649.6054160000001),\n",
              " (840, 3, 0, 3, 10.17, 3, 1, 0, 1, 1, 592.359306),\n",
              " (840, 2, 1, 3, 9.83, 3, 3, 1, 1, 1, 638.3481459999999),\n",
              " (840, 0, 3, 3, 9.83, 3, 4, 1, 1, 1, 551.7690260000002),\n",
              " (840, 3, 3, 2, 10.92, 3, 2, 1, 1, 1, 474.367248),\n",
              " (840, 3, 1, 3, 10.33, 2, 4, 0, 1, 1, 567.8071659999999),\n",
              " (840, 3, 0, 3, 10.33, 3, 1, 1, 1, 1, 673.1747320000001),\n",
              " (840, 3, 0, 2, 10.17, 3, 0, 1, 0, 1, 587.4481699999999),\n",
              " (840, 3, 1, 3, 9.75, 3, 1, 1, 1, 1, 536.2460080000001),\n",
              " (840, 1, 3, 3, 10.25, 3, 4, 1, 1, 1, 608.3317119999999),\n",
              " (840, 3, 3, 3, 9.75, 3, 3, 0, 1, 1, 596.0864020000001),\n",
              " (840, 3, 3, 2, 10.33, 3, 1, 0, 1, 1, 624.733332),\n",
              " (840, 0, 1, 2, 10.5, 0, 3, 0, 1, 0, 457.33565600000003),\n",
              " (840, 0, 0, 3, 10.33, 3, 2, 1, 1, 1, 513.7437900000001),\n",
              " (840, 3, 1, 3, 10.92, 3, 1, 0, 1, 0, 507.43945199999996),\n",
              " (840, 3, 0, 3, 10, 3, 1, 0, 1, 1, 442.101138),\n",
              " (840, 3, 2, 1, 10, 3, 2, 0, 1, 1, 438.80223399999994),\n",
              " (840, 2, 0, 3, 11.42, 3, 2, 0, 1, 1, 494.41092),\n",
              " (840, 0, 0, 1, 10.67, 3, 2, 1, 1, 1, 391.98351599999995),\n",
              " (840, 1, 0, 2, 9.75, 3, 1, 1, 0, 1, 582.943066),\n",
              " (840, 3, 0, 2, 9.83, 3, 0, 0, 1, 1, 481.02956800000004),\n",
              " (840, 3, 0, 2, 10.75, 3, 4, 1, 1, 1, 398.323172),\n",
              " (840, 3, 0, 3, 9.92, 3, 1, 1, 1, 1, 467.26198400000004),\n",
              " (840, 3, 0, 3, 10.58, 3, 0, 1, 0, 1, 516.4558020000001),\n",
              " (840, 3, 2, 2, 10, 3, 0, 1, 0, 1, 566.4544420000001),\n",
              " (840, 3, 0, 2, 10.33, 3, 2, 0, 0, 1, 396.57912999999996),\n",
              " (840, 3, 0, 1, 10.42, 3, 0, 0, 0, 1, 533.5403979999999),\n",
              " (840, 3, 1, 3, 10.58, 3, 1, 1, 0, 1, 533.7278880000001),\n",
              " (840, 3, 1, 3, 10.58, 3, 3, 0, 0, 1, 548.7021500000001),\n",
              " (840, 3, 0, 2, 10.17, 3, 2, 0, 0, 1, 531.3290000000001),\n",
              " (840, 3, 0, 2, 10.67, 3, 1, 1, 0, 1, 546.423104),\n",
              " (840, 3, 0, 3, 9.75, 3, 2, 0, 0, 0, 467.56389599999994),\n",
              " (840, 3, 0, 1, 10.08, 3, 0, 0, 0, 1, 543.6971139999999),\n",
              " (840, 3, 0, 2, 10.67, 3, 2, 0, 1, 1, 587.529726),\n",
              " (840, 3, 0, 3, 10.58, 3, 0, 0, 0, 1, 484.000766),\n",
              " (840, 2, 0, 1, 9.92, 2, 2, 0, 0, 1, 598.860036),\n",
              " (840, 2, 0, 2, 10.42, 3, 0, 1, 1, 1, 533.842902),\n",
              " (840, 3, 0, 3, 10.25, 3, 0, 1, 1, 1, 612.884118),\n",
              " (840, 2, 0, 3, 9.75, 3, 3, 1, 0, 1, 568.651818),\n",
              " (840, 3, 0, 3, 11.5, 3, 0, 0, 1, 0, 602.83505),\n",
              " (840, 3, 1, 1, 10.58, 3, 1, 0, 0, 1, 485.50122),\n",
              " (840, 3, 0, 3, 10.25, 3, 4, 1, 1, 1, 656.997084),\n",
              " (840, 2, 1, 3, 10.5, 3, 2, 0, 1, 1, 559.24534),\n",
              " (840, 3, 2, 3, 10.5, 3, 0, 0, 1, 1, 587.936562),\n",
              " (840, 2, 0, 3, 10.58, 2, 0, 1, 1, 0, 576.432124),\n",
              " (840, 1, 0, 1, 10, 3, 2, 0, 1, 1, 517.464042),\n",
              " (840, 3, 0, 0, 9.83, 3, 2, 0, 1, 1, 529.435376),\n",
              " (840, 0, 0, 3, 9.83, 2, 1, 0, 1, 1, 587.768376),\n",
              " (840, 3, 0, 2, 10.08, 3, 1, 0, 1, 1, 543.643412),\n",
              " (840, 3, 0, 3, 10, 3, 1, 1, 1, 0, 637.210022),\n",
              " (840, 2, 0, 3, 9.75, 3, 3, 0, 1, 1, 548.640592),\n",
              " (840, 3, 0, 2, 9.83, 3, 0, 0, 0, 0, 566.15073),\n",
              " (840, 3, 0, 2, 10.25, 3, 1, 0, 1, 1, 532.1839039999999),\n",
              " (840, 1, 0, 2, 10.42, 3, 3, 1, 1, 1, 589.618394),\n",
              " (840, 3, 1, 3, 9.5, 3, 3, 0, 0, 1, 650.9992),\n",
              " (840, 3, 1, 2, 10.25, 2, 3, 1, 1, 1, 514.517462),\n",
              " (840, 3, 0, 3, 10.33, 3, 4, 1, 1, 1, 608.0830100000001),\n",
              " (840, 2, 0, 3, 10.08, 3, 4, 1, 0, 1, 627.666338),\n",
              " (840, 3, 0, 2, 9.83, 3, 3, 0, 1, 1, 546.208744),\n",
              " (840, 3, 1, 3, 10.5, 3, 4, 0, 1, 1, 543.60681),\n",
              " (840, 3, 0, 3, 10.58, 3, 4, 0, 1, 1, 603.891072),\n",
              " (840, 2, 0, 2, 10.08, 3, 3, 0, 1, 1, 516.4712499999999),\n",
              " (840, 3, 0, 2, 10, 3, 3, 0, 1, 1, 479.55237),\n",
              " (840, 2, 0, 3, 10.17, 3, 1, 1, 0, 1, 523.4758199999999),\n",
              " (840, 3, 0, 3, 10.5, 3, 4, 0, 1, 1, 598.462904),\n",
              " (840, 3, 0, 3, 9.67, 3, 1, 0, 1, 1, 475.880386),\n",
              " (840, 3, 0, 2, 10.33, 3, 3, 0, 1, 1, 548.7218959999999),\n",
              " (840, 3, 0, 3, 10.33, 3, 3, 0, 1, 1, 523.965666),\n",
              " (840, 3, 0, 3, 10.25, 3, 2, 1, 1, 1, 571.14445),\n",
              " (840, 3, 0, 2, 9.92, 3, 3, 0, 1, 1, 505.09723799999995),\n",
              " (840, 3, 2, 3, 10, 2, 3, 1, 0, 1, 666.2677940000001),\n",
              " (840, 3, 0, 2, 9.75, 3, 0, 0, 1, 1, 580.5107),\n",
              " (840, 3, 0, 2, 9.92, 3, 0, 1, 1, 1, 599.5903220000001),\n",
              " (840, 3, 0, 2, 10, 3, 1, 0, 1, 1, 466.0780720000001),\n",
              " (840, 3, 1, 2, 10.75, 3, 1, 1, 1, 1, 581.2474159999999),\n",
              " (840, 3, 0, 3, 10.08, 3, 0, 1, 1, 1, 629.4752040000001),\n",
              " (840, 3, 0, 2, 10.75, 3, 3, 0, 1, 1, 549.4885620000001),\n",
              " (840, 3, 0, 2, 10.58, 3, 4, 0, 1, 1, 611.516942),\n",
              " (840, 1, 0, 2, 10.08, 1, 3, 1, 1, 1, 526.8718120000001),\n",
              " (840, 2, 1, 2, 10.5, 3, 3, 0, 1, 1, 558.0422759999999),\n",
              " (840, 3, 0, 3, 9.67, 3, 3, 0, 1, 1, 491.173118),\n",
              " (840, 3, 0, 3, 9.58, 3, 0, 1, 1, 1, 535.411284),\n",
              " (840, 3, 1, 3, 10.17, 3, 4, 1, 1, 1, 457.387472),\n",
              " (840, 3, 1, 3, 9.92, 3, 4, 0, 0, 1, 549.201404),\n",
              " (840, 3, 1, 3, 10.67, 3, 1, 1, 1, 1, 562.27324),\n",
              " (840, 3, 0, 3, 10.5, 3, 3, 0, 1, 1, 599.101924),\n",
              " (840, 2, 0, 3, 9.58, 3, 3, 1, 1, 1, 687.8550799999999),\n",
              " (840, 3, 0, 3, 10.67, 3, 1, 1, 1, 1, 590.055544),\n",
              " (840, 3, 1, 3, 9.75, 3, 0, 0, 0, 1, 652.696422),\n",
              " (840, 2, 0, 3, 10.58, 3, 4, 1, 1, 1, 694.1590699999999),\n",
              " (840, 3, 0, 3, 10.5, 3, 1, 0, 1, 1, 512.964274),\n",
              " (840, 3, 0, 2, 10.67, 3, 0, 0, 0, 1, 397.59528600000004),\n",
              " (840, 3, 0, 3, 10.42, 3, 0, 1, 1, 1, 457.336674),\n",
              " (840, 0, 3, 0, 10.33, 3, 2, 1, 0, 0, 374.22853799999996),\n",
              " (840, 3, 0, 3, 10.5, 3, 0, 0, 1, 1, 487.613728),\n",
              " (840, 0, 2, 0, 9.92, 0, 0, 1, 1, 1, 432.09026800000004),\n",
              " (840, 3, 2, 2, 10.5, 2, 0, 1, 0, 1, 544.987502),\n",
              " (840, 3, 0, 3, 10.33, 2, 1, 0, 1, 1, 578.342594),\n",
              " (840, 3, 0, 3, 10.67, 3, 0, 0, 1, 1, 569.396584),\n",
              " (840, 3, 0, 3, 10.25, 0, 0, 0, 1, 1, 393.55774600000007),\n",
              " (840, 2, 1, 2, 10.17, 3, 0, 0, 0, 1, 538.3898019999999),\n",
              " (840, 3, 1, 2, 10.17, 3, 0, 1, 1, 1, 506.426138),\n",
              " (840, 3, 0, 3, 9.92, 3, 2, 0, 1, 0, 515.9325040000001),\n",
              " (840, 3, 0, 2, 9.92, 3, 0, 0, 0, 1, 497.225174),\n",
              " (840, 2, 3, 1, 9.83, 3, 0, 1, 1, 0, 480.322498),\n",
              " (840, 1, 1, 2, 10.58, 0, 0, 1, 0, 0, 486.25333200000006),\n",
              " (840, 3, 3, 1, 9.83, 2, 4, 1, 1, 1, 388.75332199999997),\n",
              " (840, 3, 0, 3, 10.42, 3, 0, 1, 1, 1, 499.88709200000005),\n",
              " (840, 0, 3, 2, 9.75, 3, 2, 0, 1, 0, 395.29404400000004),\n",
              " (840, 3, 0, 3, 10.5, 2, 1, 0, 0, 0, 503.62001),\n",
              " (840, 1, 1, 3, 10, 3, 1, 1, 1, 1, 527.5231019999999),\n",
              " (840, 3, 0, 3, 10.67, 2, 4, 1, 0, 0, 498.99284),\n",
              " (840, 3, 2, 3, 9.75, 3, 4, 0, 1, 1, 585.9478839999999),\n",
              " (840, 3, 0, 3, 10.5, 0, 0, 1, 1, 1, 499.82725),\n",
              " (840, 2, 2, 1, 9.75, 3, 4, 0, 0, 1, 430.15925200000004),\n",
              " (840, 2, 0, 2, 10.58, 0, 0, 0, 1, 1, 427.748726),\n",
              " (840, 3, 0, 1, 9.92, 3, 0, 0, 1, 1, 465.64420600000005),\n",
              " (840, 1, 0, 3, 10.92, 3, 1, 1, 1, 1, 623.5598259999999),\n",
              " (840, 3, 1, 2, 10.42, 3, 3, 1, 0, 0, 560.868944),\n",
              " (840, 3, 2, 3, 10.08, 3, 3, 0, 1, 0, 577.537688),\n",
              " (840, 3, 0, 3, 9.92, 3, 0, 1, 1, 1, 636.904482),\n",
              " (840, 0, 1, 1, 10.42, 2, 0, 1, 1, 0, 583.694394),\n",
              " (840, 3, 0, 2, 10.5, 3, 3, 0, 1, 1, 553.0548019999999),\n",
              " (840, 2, 0, 2, 10.58, 3, 4, 1, 1, 1, 533.4734980000001),\n",
              " (840, 3, 0, 3, 10.58, 2, 1, 0, 1, 0, 597.29015),\n",
              " (840, 3, 0, 3, 10.5, 2, 1, 0, 0, 0, 607.711814),\n",
              " (840, 2, 1, 3, 10.58, 3, 4, 0, 0, 0, 567.5079079999999),\n",
              " (840, 2, 1, 1, 10.17, 0, 4, 0, 1, 1, 464.041086),\n",
              " (840, 3, 0, 3, 11.08, 3, 4, 1, 0, 1, 590.380862),\n",
              " (840, 3, 0, 3, 10.08, 3, 4, 0, 1, 1, 450.815426),\n",
              " (840, 3, 3, 2, 10.08, 3, 1, 1, 1, 1, 479.96907200000004),\n",
              " (840, 3, 0, 2, 10.42, 3, 0, 1, 1, 1, 527.9836220000001),\n",
              " (840, 3, 0, 3, 10.75, 3, 4, 0, 0, 1, 683.0868040000001),\n",
              " (840, 3, 0, 3, 10.33, 3, 0, 0, 0, 1, 611.3601160000001),\n",
              " (840, 2, 1, 3, 10.33, 3, 1, 1, 1, 1, 566.044384),\n",
              " (840, 3, 1, 3, 10, 3, 2, 1, 1, 1, 435.775832),\n",
              " (840, 2, 1, 3, 10.75, 3, 3, 0, 1, 1, 646.001288),\n",
              " (840, 3, 2, 3, 10.5, 3, 4, 1, 1, 1, 539.347618),\n",
              " (840, 3, 1, 3, 9.92, 3, 3, 1, 0, 1, 666.3999259999999),\n",
              " (840, 3, 0, 3, 10.42, 3, 0, 0, 0, 1, 387.741064),\n",
              " (840, 3, 0, 3, 10.75, 2, 4, 1, 1, 1, 712.6368),\n",
              " (840, 2, 0, 2, 10.17, 3, 0, 0, 0, 1, 641.045346),\n",
              " (840, 0, 2, 3, 10.75, 3, 3, 1, 0, 1, 650.1885),\n",
              " (840, 3, 0, 3, 10.67, 3, 0, 0, 1, 0, 525.4901219999999),\n",
              " (840, 2, 0, 3, 9.75, 3, 3, 1, 1, 1, 558.229274),\n",
              " (840, 3, 1, 3, 10, 3, 1, 0, 0, 1, 628.799812),\n",
              " (840, 0, 0, 3, 9.92, 2, 1, 1, 0, 1, 564.720556),\n",
              " (840, 3, 1, 2, 11, 3, 1, 1, 0, 1, 440.71780800000005),\n",
              " (840, 3, 1, 3, 9.75, 3, 1, 1, 0, 1, 540.627572),\n",
              " (840, 3, 0, 3, 10.92, 3, 0, 0, 1, 1, 472.212712),\n",
              " (840, 2, 1, 1, 11.75, 0, 0, 1, 0, 1, 330.877246),\n",
              " (840, 2, 0, 3, 10.92, 2, 1, 0, 1, 1, 538.9694360000001),\n",
              " (840, 0, 3, 3, 11.42, 3, 2, 1, 1, 1, 535.734972),\n",
              " (840, 3, 0, 3, 11.75, 3, 1, 0, 1, 1, 501.431876),\n",
              " (840, 3, 0, 3, 9.83, 3, 4, 1, 1, 1, 455.506888),\n",
              " (840, 3, 0, 3, 10.75, 3, 1, 1, 1, 1, 505.129144),\n",
              " (840, 2, 0, 1, 10.67, 3, 0, 0, 1, 0, 533.526374),\n",
              " (840, 2, 0, 1, 9.83, 3, 3, 1, 1, 1, 533.8148779999999),\n",
              " (840, 1, 1, 3, 10.08, 1, 1, 1, 0, 1, 585.283138),\n",
              " (840, 3, 0, 1, 9.75, 3, 3, 1, 0, 1, 602.0446979999999),\n",
              " (840, 1, 0, 1, 10.92, 2, 1, 1, 1, 1, 539.2572739999999),\n",
              " (840, 3, 1, 3, 10.67, 3, 1, 1, 1, 1, 556.6138659999999),\n",
              " (840, 3, 0, 3, 10.33, 3, 3, 0, 0, 1, 607.86358),\n",
              " (840, 3, 1, 2, 10.92, 3, 4, 1, 1, 1, 596.418772),\n",
              " (840, 2, 0, 3, 10.17, 3, 4, 1, 1, 1, 611.88591),\n",
              " (840, 3, 0, 2, 10.33, 3, 1, 1, 1, 1, 552.779044),\n",
              " (840, 1, 1, 2, 9.75, 2, 1, 1, 1, 1, 629.400238),\n",
              " (840, 3, 0, 2, 9.75, 3, 1, 0, 1, 1, 626.138174),\n",
              " (840, 3, 2, 3, 10.58, 3, 4, 1, 0, 1, 642.67484),\n",
              " (840, 3, 2, 2, 10.08, 3, 4, 0, 1, 1, 569.7884320000001),\n",
              " (840, 2, 0, 1, 10.08, 2, 3, 1, 1, 1, 628.76952),\n",
              " (840, 1, 0, 2, 10.42, 3, 4, 1, 1, 1, 624.098532),\n",
              " (840, 1, 1, 2, 10.58, 2, 4, 0, 1, 1, 681.029608),\n",
              " (840, 3, 1, 1, 9.75, 1, 1, 0, 0, 1, 600.471212),\n",
              " (840, 3, 1, 2, 10.25, 3, 3, 0, 1, 0, 653.0537999999999),\n",
              " (840, 2, 0, 1, 9.83, 1, 0, 1, 1, 1, 503.84996),\n",
              " (840, 3, 0, 3, 10.17, 3, 3, 0, 1, 1, 616.35135),\n",
              " (840, 3, 1, 3, 10, 3, 4, 0, 1, 1, 602.71059),\n",
              " (840, 3, 1, 2, 10.25, 3, 4, 0, 1, 1, 585.9510640000001),\n",
              " (840, 2, 2, 3, 10.25, 3, 1, 1, 1, 1, 642.4241959999999),\n",
              " (840, 2, 1, 1, 10.42, 2, 1, 0, 1, 1, 581.5924160000001),\n",
              " (840, 3, 1, 0, 10, 3, 1, 1, 0, 0, 436.55396999999994),\n",
              " (840, 1, 3, 2, 10.33, 2, 3, 0, 1, 1, 433.325742),\n",
              " (840, 2, 0, 2, 10.75, 2, 3, 0, 1, 1, 590.988926),\n",
              " (840, 2, 3, 1, 9.83, 0, 3, 0, 1, 1, 513.678024),\n",
              " (840, 3, 0, 3, 10.17, 3, 0, 1, 1, 1, 657.274866),\n",
              " (840, 3, 0, 3, 10.08, 3, 1, 1, 1, 1, 625.003888),\n",
              " (840, 1, 2, 0, 10.67, 2, 0, 0, 0, 1, 445.94909800000005),\n",
              " (840, 3, 3, 1, 9.92, 3, 2, 1, 0, 1, 460.39878),\n",
              " (840, 3, 0, 3, 10.5, 3, 0, 1, 1, 1, 583.4603),\n",
              " (840, 2, 3, 0, 10.25, 3, 2, 0, 1, 0, 384.179324),\n",
              " (840, 3, 0, 3, 10.58, 3, 4, 1, 0, 1, 516.229584),\n",
              " (840, 0, 0, 2, 10.58, 3, 2, 1, 0, 1, 380.29332800000003),\n",
              " (840, 3, 0, 3, 10.5, 3, 0, 0, 0, 1, 488.378226),\n",
              " (840, 3, 0, 3, 10.58, 3, 0, 1, 0, 1, 612.8542299999999),\n",
              " (840, 3, 0, 2, 9.92, 0, 4, 1, 1, 1, 502.9608179999999),\n",
              " (840, 2, 0, 3, 10.42, 3, 1, 0, 1, 1, 579.192556),\n",
              " (840, 3, 0, 1, 10.25, 3, 0, 0, 0, 1, 536.086492),\n",
              " (840, 3, 0, 3, 10.08, 3, 1, 0, 0, 1, 556.677058),\n",
              " (840, 3, 0, 3, 9.75, 3, 0, 0, 1, 1, 500.62085799999994),\n",
              " (840, 3, 0, 3, 10.58, 2, 2, 0, 1, 1, 441.25166599999994),\n",
              " (840, 3, 1, 2, 10.08, 3, 1, 0, 1, 1, 554.1336520000001),\n",
              " (840, 3, 0, 3, 10.67, 2, 0, 0, 1, 0, 500.491434),\n",
              " (840, 0, 0, 1, 9.75, 2, 1, 0, 0, 1, 367.139312),\n",
              " (840, 1, 3, 2, 10.42, 3, 2, 0, 1, 1, 409.047112),\n",
              " (840, 3, 0, 2, 9.83, 2, 1, 0, 0, 1, 502.177964),\n",
              " (840, 2, 1, 3, 9.92, 3, 1, 0, 0, 1, 493.74054399999994),\n",
              " (840, 3, 2, 3, 10.17, 3, 0, 1, 0, 1, 590.1932220000001),\n",
              " (840, 2, 0, 1, 10.58, 0, 2, 1, 0, 1, 385.18933200000004),\n",
              " (840, 2, 0, 2, 9.83, 3, 1, 1, 0, 1, 508.41347400000006),\n",
              " (840, 3, 0, 3, 10, 3, 1, 1, 0, 1, 545.934708),\n",
              " (840, 3, 3, 2, 10.5, 3, 0, 1, 1, 1, 483.740194),\n",
              " (840, 0, 0, 0, 13.08, 2, 2, 1, 0, 1, 410.09489199999996),\n",
              " (840, 3, 0, 3, 9.75, 3, 4, 1, 0, 1, 596.655814),\n",
              " (840, 3, 0, 3, 9.83, 3, 0, 1, 1, 1, 637.100128),\n",
              " (840, 2, 0, 2, 10.08, 3, 0, 1, 1, 1, 540.1296759999999),\n",
              " (840, 3, 0, 3, 10, 3, 2, 1, 1, 1, 512.932682),\n",
              " (840, 3, 0, 3, 10.5, 1, 1, 1, 1, 1, 440.18677399999996),\n",
              " (840, 1, 3, 1, 10.58, 2, 0, 1, 1, 1, 471.37139399999995),\n",
              " (840, 3, 0, 3, 10.25, 3, 1, 0, 1, 1, 616.170634),\n",
              " (840, 2, 2, 3, 10.5, 2, 1, 0, 1, 1, 438.87441),\n",
              " (840, 2, 0, 3, 10, 3, 1, 0, 0, 1, 529.417616),\n",
              " (840, 3, 0, 2, 10.25, 3, 2, 0, 0, 1, 500.01102000000003),\n",
              " (840, 2, 0, 3, 10.33, 3, 1, 1, 1, 1, 489.238198),\n",
              " (840, 1, 0, 3, 10.42, 0, 1, 1, 1, 1, 520.517684),\n",
              " (840, 3, 0, 3, 10.25, 3, 1, 0, 1, 1, 612.16928),\n",
              " (840, 3, 0, 3, 10.08, 2, 1, 0, 1, 1, 574.29915),\n",
              " (840, 1, 0, 1, 10.67, 2, 0, 0, 1, 1, 422.55631200000005),\n",
              " (840, 2, 0, 2, 10.25, 2, 1, 1, 1, 1, 476.4576139999999),\n",
              " (840, 2, 0, 3, 9.75, 2, 1, 1, 0, 1, 512.019914),\n",
              " (840, 3, 0, 0, 10.58, 2, 1, 0, 0, 1, 481.77969),\n",
              " (840, 2, 0, 3, 10.67, 2, 0, 1, 1, 1, 627.5019980000001),\n",
              " (840, 2, 0, 2, 10.92, 3, 0, 1, 1, 1, 536.230216),\n",
              " (840, 3, 1, 3, 10.17, 3, 0, 0, 1, 1, 538.0289260000001),\n",
              " (840, 3, 0, 2, 9.92, 2, 3, 0, 1, 1, 510.617616),\n",
              " (840, 3, 0, 3, 9.92, 3, 0, 0, 1, 1, 472.82588),\n",
              " (840, 3, 0, 3, 10.08, 3, 4, 1, 0, 1, 539.9165260000001),\n",
              " (840, 3, 0, 3, 10.5, 3, 0, 0, 1, 1, 413.472818),\n",
              " (840, 3, 0, 3, 10.17, 3, 3, 1, 0, 1, 484.64717600000006),\n",
              " (840, 3, 0, 1, 9.75, 3, 1, 0, 0, 1, 537.087046),\n",
              " (840, 2, 0, 3, 9.92, 0, 0, 1, 1, 1, 481.5654860000001),\n",
              " (840, 3, 3, 3, 10.25, 3, 1, 1, 1, 1, 592.357392),\n",
              " (840, 0, 3, 2, 9.83, 3, 2, 1, 1, 1, 440.3180899999999),\n",
              " (840, 1, 2, 3, 10, 3, 1, 0, 1, 1, 520.461902),\n",
              " (840, 2, 0, 3, 9.92, 3, 1, 0, 0, 1, 492.78734999999995),\n",
              " (840, 0, 3, 0, 12.17, 0, 4, 0, 0, 1, 403.18858199999994),\n",
              " (840, 2, 3, 3, 9.92, 3, 2, 0, 1, 1, 420.471198),\n",
              " (840, 2, 1, 2, 11.08, 2, 0, 1, 0, 1, 493.16686799999997),\n",
              " (840, 3, 2, 1, 10.83, 1, 1, 0, 1, 0, 305.682494),\n",
              " (840, 3, 2, 1, 10.58, 3, 0, 0, 0, 1, 448.598858),\n",
              " (840, 1, 3, 3, 10.5, 3, 0, 1, 1, 1, 535.566246),\n",
              " (840, 3, 3, 3, 11.5, 3, 1, 1, 1, 1, 419.251372),\n",
              " (840, 3, 0, 1, 9.92, 3, 2, 1, 1, 1, 357.546248),\n",
              " (840, 2, 0, 3, 10.67, 3, 0, 0, 0, 1, 391.839422),\n",
              " (840, 3, 0, 2, 10.42, 3, 1, 0, 1, 1, 422.53729400000003),\n",
              " (840, 3, 0, 2, 11.75, 3, 1, 0, 0, 1, 422.40727),\n",
              " (840, 3, 0, 3, 10.33, 2, 2, 1, 1, 1, 499.511486),\n",
              " (840, 3, 0, 1, 9.83, 3, 2, 0, 0, 1, 470.93846199999996),\n",
              " (840, 0, 2, 3, 10.25, 1, 4, 0, 1, 1, 502.0619519999999),\n",
              " (840, 2, 0, 2, 10.33, 0, 2, 0, 1, 1, 467.3428139999999),\n",
              " (840, 1, 1, 2, 11.42, 3, 2, 0, 0, 1, 533.626784),\n",
              " (840, 2, 3, 3, 10.25, 3, 0, 0, 0, 1, 565.550336),\n",
              " (840, 1, 0, 3, 10.33, 2, 0, 0, 1, 1, 456.44557999999995),\n",
              " (840, 3, 0, 2, 10.42, 3, 0, 1, 0, 1, 413.011176),\n",
              " (840, 1, 0, 3, 10.67, 3, 0, 0, 1, 1, 551.5207800000001),\n",
              " (840, 2, 0, 2, 11.42, 3, 2, 0, 1, 1, 401.78289000000007),\n",
              " (840, 3, 1, 3, 10.75, 3, 2, 0, 0, 1, 577.81733),\n",
              " (840, 2, 0, 3, 10.17, 3, 0, 0, 0, 1, 651.218946),\n",
              " (840, 2, 0, 3, 11.92, 2, 1, 0, 1, 1, 479.15762399999994),\n",
              " (840, 3, 0, 3, 10.75, 3, 4, 1, 1, 1, 467.536328),\n",
              " (840, 3, 0, 2, 11.75, 3, 1, 0, 1, 1, 454.91613399999994),\n",
              " (840, 2, 0, 2, 10.25, 3, 2, 1, 1, 1, 514.3734360000001),\n",
              " (840, 3, 3, 3, 10.75, 3, 1, 1, 1, 1, 495.60049399999997),\n",
              " (840, 3, 0, 2, 10, 3, 1, 0, 0, 1, 571.84933),\n",
              " (840, 0, 0, 3, 10.67, 3, 4, 1, 1, 1, 573.8202880000001),\n",
              " (840, 2, 1, 2, 10.5, 3, 0, 0, 1, 1, 530.24424),\n",
              " (840, 2, 2, 3, 10.58, 3, 3, 1, 1, 1, 610.2412660000001),\n",
              " (840, 3, 2, 3, 10.42, 3, 0, 1, 1, 1, 629.3395699999999),\n",
              " (840, 3, 2, 3, 10.42, 3, 2, 1, 1, 1, 468.637122),\n",
              " (840, 3, 0, 2, 10.5, 3, 3, 1, 1, 1, 562.477326),\n",
              " (840, 3, 0, 2, 10.58, 3, 0, 0, 1, 1, 549.9964620000001),\n",
              " (840, 3, 3, 2, 10.17, 3, 1, 0, 1, 1, 563.1097040000001),\n",
              " (840, 3, 0, 3, 10.67, 3, 0, 0, 1, 1, 615.5663699999999),\n",
              " (840, 3, 0, 3, 10.25, 3, 1, 0, 1, 1, 627.64199),\n",
              " (840, 3, 2, 3, 10.5, 3, 0, 1, 1, 0, 598.815688),\n",
              " (840, 0, 3, 3, 10.5, 2, 0, 1, 1, 1, 545.8137300000001),\n",
              " (840, 3, 0, 3, 9.92, 1, 4, 0, 1, 0, 612.737062),\n",
              " (840, 0, 2, 2, 11.58, 2, 0, 1, 1, 1, 446.47754199999997),\n",
              " (840, 3, 0, 3, 9.83, 3, 3, 0, 1, 1, 649.278284),\n",
              " (840, 3, 0, 3, 9.92, 3, 1, 1, 1, 1, 596.668618),\n",
              " (840, 3, 1, 3, 10.08, 3, 4, 1, 1, 1, 675.12627),\n",
              " (840, 3, 3, 1, 10.58, 3, 0, 1, 1, 1, 494.255682),\n",
              " (840, 3, 1, 1, 10.25, 3, 1, 1, 0, 0, 585.190476),\n",
              " (840, 3, 3, 3, 10.25, 3, 1, 1, 1, 1, 573.733588),\n",
              " (840, 3, 0, 1, 10.5, 3, 0, 0, 1, 1, 534.7375059999999),\n",
              " (840, 2, 2, 1, 10.5, 2, 1, 1, 1, 1, 654.942058),\n",
              " (840, 3, 1, 3, 10.25, 3, 4, 0, 1, 1, 576.5496400000001),\n",
              " (840, 3, 1, 3, 10.58, 3, 1, 0, 0, 1, 660.555422),\n",
              " (840, 2, 1, 3, 10.08, 3, 1, 1, 0, 1, 664.6323259999999),\n",
              " (840, 3, 1, 3, 9.92, 3, 3, 0, 1, 1, 640.20151),\n",
              " (840, 3, 0, 1, 9.83, 2, 3, 0, 0, 1, 618.530544),\n",
              " (840, 2, 0, 2, 9.83, 3, 0, 0, 1, 1, 510.20434400000005),\n",
              " (840, 3, 0, 2, 10.08, 3, 1, 0, 0, 1, 639.28004),\n",
              " (840, 3, 0, 3, 10.25, 3, 1, 1, 1, 1, 581.329826),\n",
              " (840, 2, 2, 3, 10.5, 3, 1, 1, 0, 1, 597.152168),\n",
              " (840, 3, 0, 3, 9.92, 3, 3, 1, 1, 1, 695.411604),\n",
              " (840, 3, 0, 3, 10.42, 3, 2, 0, 0, 1, 543.341508),\n",
              " (840, 3, 0, 1, 9.92, 3, 0, 0, 1, 1, 581.904644),\n",
              " (840, 3, 0, 3, 10, 3, 3, 0, 1, 1, 648.4494980000001),\n",
              " (840, 3, 3, 3, 10.67, 3, 0, 1, 1, 1, 550.892884),\n",
              " (840, 3, 0, 3, 10.58, 3, 1, 1, 1, 1, 652.17296),\n",
              " (840, 3, 2, 3, 10.17, 3, 1, 1, 1, 1, 615.411106),\n",
              " (840, 3, 0, 2, 10, 2, 1, 1, 1, 1, 570.457254),\n",
              " (840, 3, 0, 2, 10.5, 3, 1, 1, 1, 1, 569.9903400000001),\n",
              " (840, 3, 0, 1, 9.83, 3, 1, 1, 1, 1, 596.911032),\n",
              " (840, 2, 0, 3, 10.17, 3, 2, 1, 1, 1, 574.608146),\n",
              " (840, 3, 0, 2, 9.83, 3, 1, 0, 1, 1, 597.4425159999998),\n",
              " (840, 2, 2, 1, 10.17, 3, 1, 1, 1, 1, 644.1988880000001),\n",
              " (840, 0, 3, 3, 10.58, 3, 2, 1, 1, 1, 550.489896),\n",
              " (840, 3, 1, 3, 10.25, 3, 1, 1, 0, 1, 658.73193),\n",
              " (840, 3, 1, 2, 9.92, 3, 0, 1, 1, 1, 589.7559480000001),\n",
              " (840, 3, 1, 3, 10.08, 3, 1, 0, 1, 0, 605.531228),\n",
              " (840, 2, 2, 1, 10.92, 3, 1, 0, 0, 1, 490.401218),\n",
              " (840, 3, 0, 3, 10.5, 3, 1, 0, 1, 0, 578.8990220000001),\n",
              " (840, 3, 1, 3, 10.75, 2, 1, 1, 1, 1, 613.37358),\n",
              " (840, 3, 3, 3, 10.5, 3, 2, 1, 0, 1, 508.645658),\n",
              " (840, 3, 0, 3, 10.17, 3, 4, 0, 0, 0, 665.0628760000001),\n",
              " (840, 3, 0, 3, 10, 3, 1, 1, 1, 1, 679.679564),\n",
              " (840, 0, 2, 3, 9.92, 2, 2, 1, 1, 1, 548.907204),\n",
              " (840, 0, 0, 3, 10.25, 3, 2, 1, 0, 1, 605.66352),\n",
              " (840, 3, 0, 3, 10.08, 3, 3, 0, 1, 1, 682.598874),\n",
              " (840, 3, 0, 3, 10, 3, 1, 1, 1, 1, 536.9585119999999),\n",
              " (840, 0, 0, 2, 11, 3, 2, 1, 1, 1, 372.9681),\n",
              " (840, 3, 3, 3, 10.42, 3, 0, 0, 1, 1, 630.873272),\n",
              " (840, 3, 1, 3, 10.42, 3, 3, 1, 0, 1, 607.8846960000001),\n",
              " (840, 3, 1, 2, 10.17, 3, 1, 0, 1, 0, 491.514228),\n",
              " (840, 3, 3, 3, 10.75, 2, 1, 1, 1, 0, 370.378198),\n",
              " (840, 3, 0, 2, 9.83, 2, 0, 0, 0, 0, 502.388006),\n",
              " (840, 1, 3, 1, 10, 3, 2, 1, 1, 1, 495.59598399999993),\n",
              " (840, 3, 0, 3, 10.67, 3, 3, 1, 1, 1, 573.3396620000001),\n",
              " (840, 3, 0, 2, 10.25, 3, 1, 0, 1, 1, 398.25240600000006),\n",
              " (840, 3, 0, 3, 10.08, 3, 0, 0, 1, 1, 463.516478),\n",
              " (840, 2, 1, 3, 10.33, 3, 1, 1, 1, 1, 479.733826),\n",
              " (840, 3, 3, 3, 9.83, 2, 3, 0, 0, 1, 512.196076),\n",
              " (840, 3, 0, 3, 10.67, 3, 0, 0, 1, 1, 634.881854),\n",
              " (840, 1, 2, 3, 10.17, 2, 2, 1, 1, 1, 631.4998800000001),\n",
              " (840, 3, 2, 3, 10, 3, 0, 1, 1, 1, 652.7373399999999),\n",
              " (840, 3, 0, 1, 10.42, 3, 4, 1, 0, 1, 592.8065280000001),\n",
              " (840, 3, 0, 3, 10.08, 3, 1, 0, 1, 1, 505.687388),\n",
              " (840, 3, 1, 3, 10, 3, 0, 0, 1, 1, 525.212172),\n",
              " (840, 3, 1, 3, 10, 3, 1, 0, 1, 1, 520.250814),\n",
              " (840, 3, 1, 3, 9.92, 3, 1, 1, 1, 1, 650.62896),\n",
              " (840, 3, 2, 3, 10.17, 3, 1, 0, 1, 1, 616.3053980000001),\n",
              " (840, 3, 2, 1, 10, 3, 3, 1, 1, 1, 498.242184),\n",
              " (840, 3, 0, 3, 9.42, 3, 0, 0, 1, 1, 526.778294),\n",
              " (840, 3, 3, 1, 10.83, 3, 1, 1, 0, 1, 505.70780399999995),\n",
              " (840, 3, 0, 3, 10.33, 3, 3, 1, 0, 1, 634.709114),\n",
              " (840, 3, 0, 3, 9.75, 3, 1, 1, 1, 1, 449.203668),\n",
              " (840, 3, 1, 3, 9.92, 3, 1, 1, 0, 1, 579.746006),\n",
              " (840, 2, 0, 3, 10.17, 1, 0, 1, 1, 1, 625.856106),\n",
              " (840, 2, 1, 3, 10.25, 2, 3, 0, 1, 1, 577.6998719999999),\n",
              " (840, 2, 1, 3, 10.33, 3, 3, 1, 1, 1, 617.578676),\n",
              " (840, 3, 0, 3, 9.75, 3, 0, 0, 1, 1, 574.5150679999999),\n",
              " (840, 3, 0, 3, 9.67, 3, 4, 0, 1, 1, 637.676154),\n",
              " (840, 3, 0, 3, 10.5, 3, 4, 0, 1, 1, 630.689408),\n",
              " (840, 3, 0, 3, 10.42, 3, 3, 0, 1, 1, 529.5866699999999),\n",
              " (840, 3, 1, 3, 10.58, 3, 1, 0, 0, 1, 566.719182),\n",
              " (840, 3, 1, 3, 9.67, 3, 3, 0, 1, 1, 609.621248),\n",
              " (840, 3, 1, 3, 10.5, 3, 1, 1, 1, 1, 609.2222999999999),\n",
              " (840, 3, 1, 3, 10, 3, 1, 1, 1, 1, 550.932384),\n",
              " (840, 3, 0, 3, 10.33, 3, 4, 1, 0, 1, 596.872572),\n",
              " (840, 3, 0, 2, 10.5, 2, 3, 0, 1, 1, 602.0170820000001),\n",
              " (840, 3, 0, 3, 9.75, 2, 3, 0, 1, 1, 557.196638),\n",
              " (840, 3, 0, 3, 10.42, 3, 4, 1, 1, 1, 580.6191500000001),\n",
              " (840, 3, 0, 3, 9.83, 2, 2, 1, 0, 1, 404.87942),\n",
              " (840, 3, 0, 1, 10.08, 3, 4, 1, 1, 1, 554.668746),\n",
              " (840, 2, 0, 2, 9.42, 2, 2, 1, 1, 1, 622.4459899999999),\n",
              " (840, 3, 0, 3, 10.08, 3, 3, 1, 1, 1, 624.5417239999999),\n",
              " (840, 3, 0, 3, 9.83, 3, 1, 0, 0, 1, 603.854846),\n",
              " (840, 0, 2, 1, 10, 1, 0, 1, 0, 1, 401.38752400000004),\n",
              " (840, 3, 0, 2, 9.75, 3, 0, 0, 1, 1, 465.36968399999995),\n",
              " (840, 3, 0, 3, 9.92, 3, 1, 1, 1, 1, 632.57657),\n",
              " (840, 3, 1, 3, 10.08, 3, 0, 0, 1, 1, 506.862538),\n",
              " (840, 3, 1, 2, 10.58, 3, 1, 0, 1, 1, 475.593246),\n",
              " (840, 3, 0, 3, 10.5, 3, 1, 0, 1, 1, 585.248692),\n",
              " (840, 3, 0, 3, 10.17, 3, 1, 1, 1, 1, 516.6682679999999),\n",
              " (840, 3, 0, 3, 9.67, 3, 4, 1, 1, 1, 447.24769200000003),\n",
              " (840, 3, 1, 2, 9.92, 3, 3, 0, 0, 1, 546.897544),\n",
              " (840, 2, 2, 2, 9.92, 2, 0, 1, 1, 1, 505.73192200000005),\n",
              " (840, 3, 0, 3, 10.25, 3, 1, 1, 1, 1, 582.965692),\n",
              " (840, 0, 1, 3, 9.75, 3, 4, 1, 1, 1, 500.33686),\n",
              " (840, 0, 0, 3, 10.25, 3, 1, 1, 0, 1, 523.310126),\n",
              " (840, 2, 0, 1, 10.08, 3, 0, 1, 1, 1, 506.5712160000001),\n",
              " (840, 2, 0, 3, 10.25, 3, 2, 1, 1, 1, 400.063198),\n",
              " (840, 1, 1, 3, 10.08, 3, 1, 1, 1, 1, 609.1296319999999),\n",
              " (840, 3, 0, 3, 10.5, 3, 3, 0, 1, 1, 526.540338),\n",
              " (840, 2, 0, 1, 10, 2, 0, 1, 1, 1, 596.94805),\n",
              " (840, 2, 0, 3, 10.08, 2, 1, 0, 1, 1, 558.0953999999999),\n",
              " (840, 3, 0, 2, 11.25, 2, 2, 0, 1, 1, 414.774626),\n",
              " (840, 3, 0, 2, 11.25, 3, 1, 1, 1, 1, 509.11514000000005),\n",
              " (840, 2, 1, 2, 10, 2, 1, 1, 1, 1, 535.688894),\n",
              " (840, 3, 0, 1, 9.83, 2, 1, 0, 1, 1, 451.493452),\n",
              " (840, 3, 1, 3, 9.67, 3, 4, 0, 1, 1, 581.7020580000001),\n",
              " (840, 3, 0, 3, 10.42, 3, 3, 0, 1, 1, 479.61456799999996),\n",
              " (840, 3, 0, 3, 10.5, 3, 4, 0, 1, 1, 570.455926),\n",
              " (840, 2, 1, 2, 10.33, 3, 0, 1, 1, 1, 499.174536),\n",
              " (840, 3, 0, 3, 9.58, 3, 1, 1, 0, 1, 534.944028),\n",
              " (840, 3, 0, 2, 10, 3, 4, 0, 0, 1, 397.4373),\n",
              " (840, 2, 0, 1, 10.08, 3, 1, 1, 0, 1, 631.930958),\n",
              " (840, 2, 1, 3, 9.42, 3, 1, 1, 1, 1, 654.1663540000001),\n",
              " (840, 1, 1, 3, 10.08, 3, 4, 1, 1, 1, 644.230526),\n",
              " (840, 3, 0, 3, 9.92, 3, 3, 0, 1, 1, 606.775312),\n",
              " (840, 3, 0, 3, 9.83, 3, 1, 0, 0, 1, 500.53615),\n",
              " (840, 2, 0, 1, 10, 3, 1, 1, 0, 1, 601.1233439999999),\n",
              " (840, 2, 1, 3, 9.83, 3, 1, 0, 1, 1, 576.3009500000001),\n",
              " (840, 2, 3, 3, 9.83, 3, 1, 1, 0, 1, 579.446068),\n",
              " (840, 2, 0, 2, 10.58, 2, 3, 1, 1, 1, 614.337536),\n",
              " (840, 1, 1, 3, 10.42, 3, 4, 1, 1, 1, 546.408202),\n",
              " (840, 2, 0, 3, 10.5, 0, 0, 1, 1, 1, 633.742988),\n",
              " (840, 3, 0, 2, 10.33, 3, 2, 0, 1, 1, 530.951714),\n",
              " (840, 1, 0, 3, 9.25, 3, 3, 0, 1, 1, 477.150062),\n",
              " (840, 2, 0, 3, 9.92, 2, 1, 1, 1, 0, 598.502758),\n",
              " (840, 3, 1, 3, 10.58, 3, 0, 0, 1, 1, 639.524254),\n",
              " (840, 3, 0, 0, 10.25, 3, 2, 1, 0, 1, 341.630228),\n",
              " (840, 2, 0, 1, 10.25, 3, 0, 0, 0, 1, 408.43032800000003),\n",
              " (840, 3, 0, 1, 11.08, 3, 0, 0, 1, 0, 558.529896),\n",
              " (840, 3, 3, 2, 10.17, 2, 2, 0, 0, 1, 464.882092),\n",
              " (840, 3, 0, 3, 11, 3, 0, 0, 0, 1, 448.692742),\n",
              " (840, 3, 0, 1, 9.83, 3, 2, 1, 0, 1, 452.18551399999996),\n",
              " (840, 3, 3, 3, 10.67, 3, 1, 0, 0, 1, 499.95802999999995),\n",
              " (840, 3, 1, 1, 10.17, 3, 2, 1, 0, 1, 447.381402),\n",
              " (840, 0, 3, 3, 10.08, 3, 0, 1, 0, 1, 592.869996),\n",
              " (840, 3, 0, 1, 10.42, 3, 2, 0, 0, 1, 463.76749199999995),\n",
              " (840, 3, 0, 3, 10.67, 3, 3, 1, 1, 1, 629.493628),\n",
              " (840, 3, 0, 1, 10.67, 3, 2, 0, 1, 1, 512.158336),\n",
              " (840, 3, 3, 3, 10.92, 3, 2, 1, 0, 1, 529.98667),\n",
              " (840, 3, 0, 3, 10.42, 3, 1, 1, 1, 1, 517.328138),\n",
              " (840, 0, 0, 2, 9.75, 3, 2, 1, 1, 1, 454.465438),\n",
              " (840, 3, 0, 2, 10.42, 3, 2, 0, 0, 1, 552.9135239999999),\n",
              " (840, 3, 0, 1, 10.83, 3, 0, 0, 1, 1, 522.3771300000001),\n",
              " (840, 3, 2, 3, 10.67, 2, 1, 1, 1, 1, 528.4466799999999),\n",
              " (840, 3, 1, 3, 10.42, 3, 0, 0, 1, 1, 614.797578),\n",
              " (840, 1, 0, 3, 10.67, 2, 2, 0, 0, 1, 636.175826),\n",
              " (840, 2, 3, 3, 9.75, 3, 4, 0, 1, 1, 460.81969),\n",
              " (840, 3, 0, 3, 11.58, 3, 1, 0, 1, 1, 435.34905800000007),\n",
              " (840, 3, 0, 3, 10, 3, 1, 0, 1, 1, 626.6158720000001),\n",
              " (840, 1, 1, 3, 10.58, 3, 3, 1, 1, 1, 630.229084),\n",
              " (840, 3, 2, 1, 10.5, 3, 0, 1, 0, 0, 584.915092),\n",
              " (840, 0, 0, 3, 11.5, 3, 1, 0, 1, 0, 502.83589599999993),\n",
              " (840, 0, 0, 3, 10.67, 2, 4, 0, 1, 0, 592.6475399999999),\n",
              " (840, 0, 1, 3, 10.25, 3, 4, 0, 1, 1, 555.4685360000001),\n",
              " (840, 0, 0, 3, 10.5, 0, 0, 0, 1, 1, 567.98172),\n",
              " (840, 1, 1, 2, 10.75, 3, 1, 1, 0, 1, 459.65112),\n",
              " (840, 3, 0, 2, 9.75, 3, 0, 0, 0, 1, 602.897062),\n",
              " (840, 2, 0, 3, 10.67, 3, 2, 0, 0, 1, 523.877882),\n",
              " (840, 3, 0, 2, 10.92, 3, 1, 0, 0, 1, 510.230068),\n",
              " (840, 3, 0, 1, 10.17, 0, 0, 0, 0, 1, 528.5076240000001),\n",
              " (840, 2, 0, 3, 10.67, 3, 1, 1, 1, 1, 531.588332),\n",
              " (840, 3, 0, 3, 10.17, 2, 4, 1, 1, 1, 522.9434060000001),\n",
              " (840, 2, 0, 3, 9.75, 0, 2, 1, 1, 1, 458.37343799999996),\n",
              " (840, 0, 0, 3, 10.58, 3, 0, 0, 1, 1, 449.098214),\n",
              " (840, 3, 0, 2, 11.58, 3, 2, 0, 1, 1, 505.23215),\n",
              " (840, 2, 3, 0, 10.08, 2, 2, 1, 0, 1, 616.950434),\n",
              " (840, 2, 0, 2, 11.17, 3, 1, 1, 1, 0, 399.103368),\n",
              " (840, 3, 2, 3, 10.25, 3, 3, 1, 0, 1, 585.6733620000001),\n",
              " (840, 2, 0, 3, 9.67, 3, 2, 1, 0, 0, 491.89098),\n",
              " (840, 2, 2, 3, 10.25, 3, 0, 0, 0, 1, 587.970498),\n",
              " (840, 3, 0, 3, 10.33, 3, 3, 0, 1, 1, 637.0143780000001),\n",
              " (840, 3, 0, 2, 9.92, 3, 1, 0, 1, 1, 488.7847),\n",
              " (840, 3, 0, 3, 10.25, 3, 1, 1, 0, 0, 562.7937019999999),\n",
              " (840, 3, 0, 3, 10, 3, 4, 0, 1, 1, 597.3051520000001),\n",
              " (840, 3, 0, 2, 10, 3, 1, 0, 1, 1, 555.90352),\n",
              " (840, 3, 0, 3, 10.42, 3, 1, 1, 1, 1, 576.3039860000001),\n",
              " (840, 3, 0, 2, 10.67, 1, 1, 0, 1, 1, 580.353326),\n",
              " (840, 3, 0, 3, 9.75, 3, 1, 0, 0, 1, 537.8755900000001),\n",
              " (840, 3, 0, 2, 9.75, 3, 1, 0, 0, 1, 538.60137),\n",
              " (840, 3, 0, 3, 9.75, 3, 4, 1, 0, 1, 694.698474),\n",
              " (840, 3, 0, 3, 9.75, 3, 3, 0, 0, 1, 563.983668),\n",
              " (840, 3, 1, 3, 10.58, 2, 1, 1, 1, 1, 583.021536),\n",
              " (840, 3, 1, 3, 10.17, 3, 4, 1, 0, 1, 676.7376280000001),\n",
              " (840, 3, 1, 2, 10.5, 2, 1, 0, 1, 1, 589.229146),\n",
              " (840, 3, 0, 2, 9.75, 1, 0, 0, 1, 1, 515.89825),\n",
              " (840, 3, 0, 3, 10.67, 3, 3, 0, 1, 1, 455.180356),\n",
              " (840, 3, 0, 3, 10.08, 3, 3, 0, 1, 1, 561.121328),\n",
              " (840, 3, 0, 3, 10.67, 3, 0, 0, 1, 1, 587.20128),\n",
              " (840, 3, 3, 0, 10.42, 3, 1, 0, 1, 1, 476.4392180000001),\n",
              " (840, 3, 0, 2, 9.83, 3, 1, 0, 0, 1, 609.423512),\n",
              " (840, 3, 0, 1, 9.92, 3, 1, 1, 0, 1, 520.639354),\n",
              " (840, 2, 0, 1, 10.08, 3, 0, 1, 0, 1, 391.13202999999993),\n",
              " (840, 3, 0, 3, 10, 3, 1, 1, 1, 1, 608.59542),\n",
              " (840, 3, 1, 3, 10.58, 3, 2, 0, 1, 1, 492.26478399999996),\n",
              " (840, 3, 0, 1, 9.83, 3, 3, 0, 1, 1, 549.2146759999999),\n",
              " (840, 3, 0, 3, 9.75, 3, 1, 0, 0, 1, 561.0394279999999),\n",
              " (840, 3, 0, 2, 10.25, 2, 1, 1, 1, 1, 507.046862),\n",
              " (840, 3, 1, 3, 10.42, 3, 1, 0, 1, 1, 614.945104),\n",
              " (840, 3, 1, 3, 9.83, 1, 1, 0, 1, 1, 593.243686),\n",
              " (840, 3, 1, 2, 10.67, 2, 1, 1, 1, 1, 606.708004),\n",
              " (840, 3, 1, 3, 10.25, 3, 3, 0, 1, 1, 593.21021),\n",
              " (840, 3, 0, 3, 10.58, 3, 0, 0, 1, 1, 526.2336740000001),\n",
              " (840, 3, 0, 3, 10.25, 2, 3, 0, 1, 1, 565.6970020000001),\n",
              " (840, 0, 0, 1, 10.58, 3, 1, 1, 0, 1, 541.918276),\n",
              " (840, 3, 1, 3, 10.25, 3, 1, 0, 0, 0, 557.687582),\n",
              " (840, 1, 3, 2, 10.17, 1, 0, 1, 1, 1, 439.322044),\n",
              " (840, 3, 0, 1, 9.92, 3, 2, 0, 1, 1, 489.738066),\n",
              " (840, 3, 0, 3, 10.33, 3, 1, 0, 1, 1, 680.446916),\n",
              " (840, 3, 0, 3, 10.17, 2, 1, 0, 1, 1, 608.6676739999999),\n",
              " (840, 3, 0, 3, 10.75, 3, 1, 0, 1, 1, 636.2536739999999),\n",
              " (840, 3, 0, 3, 10.5, 3, 0, 0, 0, 1, 561.1673840000001),\n",
              " (840, 3, 0, 3, 11, 3, 0, 1, 1, 1, 668.4246),\n",
              " (840, 3, 0, 3, 10.08, 3, 1, 1, 0, 1, 510.439236),\n",
              " (840, 3, 0, 1, 10.5, 3, 0, 1, 1, 1, 635.574348),\n",
              " (840, 2, 1, 2, 10.67, 2, 0, 0, 1, 1, 459.99570400000005),\n",
              " (840, 3, 1, 2, 10.5, 3, 1, 1, 1, 1, 593.3345800000001),\n",
              " (840, 3, 0, 3, 10.42, 3, 1, 1, 0, 1, 573.52793),\n",
              " (840, 3, 0, 3, 9.75, 3, 1, 1, 0, 1, 629.24361),\n",
              " (840, 3, 0, 3, 10.25, 2, 4, 1, 1, 1, 658.3433239999999),\n",
              " (840, 3, 0, 3, 10.33, 3, 4, 0, 1, 1, 591.2197239999999),\n",
              " (840, 3, 0, 3, 9.75, 3, 1, 1, 1, 1, 649.193082),\n",
              " (840, 3, 0, 1, 9.75, 3, 2, 0, 0, 0, 618.1528000000001),\n",
              " (840, 3, 2, 1, 9.83, 3, 0, 1, 0, 1, 622.449868),\n",
              " (840, 2, 0, 2, 9.58, 3, 1, 1, 0, 1, 665.700932),\n",
              " (840, 2, 2, 2, 10, 2, 0, 0, 0, 1, 629.012346),\n",
              " (840, 3, 1, 3, 9.67, 3, 0, 1, 0, 1, 635.9611580000001),\n",
              " (840, 3, 0, 2, 10.42, 3, 0, 0, 1, 1, 630.429726),\n",
              " (840, 3, 0, 1, 10.25, 3, 2, 0, 0, 1, 581.198332),\n",
              " (840, 3, 0, 3, 9.92, 3, 4, 0, 1, 1, 637.5461320000001),\n",
              " (840, 3, 0, 3, 9.75, 3, 1, 0, 1, 1, 658.335618),\n",
              " (840, 3, 0, 3, 9.75, 2, 4, 1, 1, 1, 622.5059279999999),\n",
              " (840, 2, 1, 3, 10.42, 3, 4, 1, 1, 1, 698.3053239999999),\n",
              " (840, 0, 3, 3, 10, 1, 4, 0, 0, 1, 449.84026400000005),\n",
              " (840, 2, 0, 2, 9.67, 2, 0, 0, 1, 1, 473.74104),\n",
              " (840, 3, 1, 3, 9.75, 3, 1, 1, 1, 1, 508.772912),\n",
              " (840, 3, 1, 3, 9.58, 2, 0, 1, 1, 1, 453.85627800000003),\n",
              " (840, 3, 0, 2, 9.75, 2, 0, 0, 1, 1, 385.387972),\n",
              " (840, 2, 0, 2, 10.42, 2, 0, 0, 1, 1, 428.052916),\n",
              " (840, 0, 1, 3, 10.25, 1, 4, 0, 1, 1, 577.003586),\n",
              " (840, 3, 0, 3, 10.25, 3, 1, 0, 1, 1, 635.343942),\n",
              " (840, 0, 3, 3, 9.5, 0, 3, 1, 0, 1, 522.2821),\n",
              " (840, 3, 0, 3, 9.92, 3, 2, 1, 1, 1, 530.576804),\n",
              " (840, 3, 0, 3, 10.17, 3, 2, 1, 1, 1, 573.6817060000001),\n",
              " (840, 0, 2, 0, 10.17, 3, 0, 1, 0, 1, 523.8033379999999),\n",
              " (840, 2, 0, 3, 9.92, 3, 1, 1, 1, 1, 511.338744),\n",
              " (840, 2, 0, 2, 9.92, 3, 3, 0, 1, 1, 546.3974959999999),\n",
              " (840, 1, 0, 2, 10.17, 2, 1, 0, 1, 1, 470.675806),\n",
              " (840, 1, 3, 1, 10, 2, 1, 1, 0, 1, 620.815714),\n",
              " (840, 0, 0, 2, 9.83, 3, 3, 0, 1, 1, 435.20197800000005),\n",
              " (840, 3, 0, 3, 10, 3, 2, 0, 0, 1, 522.649042),\n",
              " (840, 3, 3, 1, 9.5, 3, 0, 1, 1, 1, 439.80834400000003),\n",
              " (840, 2, 1, 3, 9.5, 3, 3, 1, 1, 1, 514.077034),\n",
              " (840, 3, 1, 3, 9.75, 3, 3, 1, 1, 1, 512.500058),\n",
              " (840, 0, 0, 3, 9.5, 0, 1, 0, 1, 1, 507.53065399999997),\n",
              " (840, 3, 3, 2, 10.42, 3, 2, 0, 0, 1, 461.33301),\n",
              " (840, 0, 3, 0, 9.67, 3, 0, 0, 1, 1, 424.202204),\n",
              " (840, 1, 0, 3, 9.92, 2, 2, 1, 1, 1, 546.4918720000001),\n",
              " (840, 1, 0, 3, 10.92, 3, 0, 0, 0, 1, 420.455818),\n",
              " (840, 2, 0, 3, 10.25, 3, 3, 0, 1, 1, 519.29312),\n",
              " (840, 3, 3, 2, 9.83, 3, 0, 0, 0, 1, 403.428736),\n",
              " (840, 3, 3, 3, 10, 2, 0, 0, 1, 1, 535.0754999999999),\n",
              " (840, 3, 3, 3, 9.83, 2, 0, 0, 0, 1, 400.23580400000003),\n",
              " (840, 2, 2, 1, 10.33, 3, 1, 0, 0, 1, 399.829274),\n",
              " (840, 2, 1, 2, 9.58, 3, 3, 0, 0, 1, 555.435104),\n",
              " (840, 3, 1, 2, 10, 3, 4, 0, 1, 1, 463.411354),\n",
              " (840, 3, 1, 1, 10.58, 3, 4, 0, 0, 1, 523.3353979999999),\n",
              " (840, 3, 0, 3, 10.58, 3, 3, 1, 0, 1, 635.874088),\n",
              " (840, 2, 1, 3, 9.75, 2, 1, 0, 1, 1, 539.775934),\n",
              " (840, 2, 0, 3, 9.5, 3, 3, 1, 1, 1, 669.2133299999999),\n",
              " (840, 3, 0, 3, 9.92, 2, 0, 1, 1, 1, 548.4242700000001),\n",
              " (840, 1, 0, 3, 9.92, 2, 4, 0, 1, 1, 583.1322319999999),\n",
              " (840, 3, 0, 3, 9.92, 3, 4, 0, 1, 1, 675.048106),\n",
              " (840, 3, 0, 3, 10.58, 3, 4, 0, 1, 1, 671.68755),\n",
              " (840, 2, 2, 3, 9.92, 3, 1, 1, 1, 1, 646.86148),\n",
              " (840, 0, 0, 2, 10.33, 1, 2, 1, 0, 1, 484.770596),\n",
              " (840, 3, 0, 2, 9.92, 2, 2, 0, 1, 1, 483.445742),\n",
              " (840, 3, 1, 3, 10.25, 1, 1, 0, 1, 1, 488.5159280000001),\n",
              " (840, 3, 0, 3, 10.33, 3, 3, 1, 1, 1, 612.421548),\n",
              " (840, 2, 2, 3, 10.5, 2, 1, 1, 1, 1, 632.139828),\n",
              " (840, 0, 3, 3, 9.83, 3, 4, 1, 1, 0, 553.67605),\n",
              " (840, 3, 1, 3, 10.5, 3, 1, 0, 0, 1, 556.532518),\n",
              " (840, 3, 2, 2, 10.33, 3, 4, 1, 1, 1, 637.9696460000001),\n",
              " (840, 3, 1, 3, 10.58, 3, 1, 0, 1, 1, 641.829622),\n",
              " (840, 0, 0, 3, 10.58, 3, 0, 0, 0, 1, 551.3744839999999),\n",
              " (840, 3, 1, 3, 10.42, 3, 1, 0, 1, 1, 617.6062420000001),\n",
              " (840, 3, 1, 3, 10.33, 3, 2, 1, 1, 1, 628.4500840000001),\n",
              " (840, 3, 3, 3, 10.17, 3, 4, 0, 0, 1, 632.9505660000001),\n",
              " (840, 3, 1, 2, 10.33, 1, 0, 1, 0, 1, 450.315534),\n",
              " (840, 3, 3, 2, 10.25, 3, 2, 1, 1, 1, 559.100676),\n",
              " (840, 2, 0, 2, 10.17, 1, 1, 0, 1, 1, 544.943666),\n",
              " (840, 2, 0, 2, 9.83, 3, 0, 0, 0, 1, 500.55438599999997),\n",
              " (840, 3, 0, 3, 10.5, 3, 4, 1, 1, 1, 642.8059099999999),\n",
              " (840, 0, 3, 3, 10.42, 3, 1, 1, 0, 1, 536.445726),\n",
              " (840, 2, 1, 3, 10.58, 2, 1, 0, 1, 1, 566.450106),\n",
              " (840, 3, 0, 3, 9.75, 3, 3, 0, 1, 1, 415.9018239999999),\n",
              " (840, 3, 2, 2, 9.92, 3, 1, 0, 1, 1, 632.1055700000001),\n",
              " (840, 3, 0, 1, 10.17, 3, 3, 0, 1, 1, 524.937774),\n",
              " (840, 3, 0, 2, 10.67, 3, 3, 1, 1, 1, 610.215768),\n",
              " (840, 0, 1, 3, 10.5, 2, 3, 1, 1, 1, 646.523218),\n",
              " (840, 3, 0, 3, 10.5, 3, 1, 1, 1, 1, 528.63735),\n",
              " (840, 3, 0, 3, 10.42, 3, 3, 0, 0, 1, 614.077104),\n",
              " (840, 3, 0, 3, 9.83, 3, 0, 0, 0, 1, 614.659526),\n",
              " (840, 2, 0, 2, 10.58, 2, 4, 1, 1, 1, 625.499006),\n",
              " (840, 3, 1, 3, 9.83, 3, 4, 1, 1, 1, 671.5691939999999),\n",
              " (840, 3, 0, 1, 10.5, 3, 0, 1, 1, 1, 522.048254),\n",
              " (840, 2, 0, 3, 10.25, 3, 3, 1, 0, 1, 643.916158),\n",
              " (840, 3, 0, 3, 9.75, 3, 4, 1, 1, 1, 595.0386839999999),\n",
              " (840, 3, 0, 3, 10.42, 3, 3, 0, 1, 1, 655.361266),\n",
              " (840, 3, 3, 2, 9.83, 3, 1, 0, 1, 1, 532.0694019999999),\n",
              " (840, 3, 0, 3, 9.75, 3, 0, 0, 1, 1, 568.2188560000001),\n",
              " (840, 3, 0, 3, 10.42, 3, 3, 0, 1, 1, 639.1533939999999),\n",
              " (840, 2, 3, 3, 10.17, 3, 1, 1, 1, 1, 505.536794),\n",
              " (840, 3, 0, 3, 10.42, 3, 1, 1, 1, 1, 641.548152),\n",
              " (840, 3, 0, 3, 10, 2, 3, 0, 1, 1, 631.0682939999999),\n",
              " (840, 2, 0, 3, 10.42, 3, 4, 1, 1, 1, 590.424272),\n",
              " (840, 3, 0, 3, 10.5, 1, 3, 1, 1, 1, 416.74429200000003),\n",
              " (840, 3, 0, 3, 9.67, 3, 4, 0, 1, 1, 612.10144),\n",
              " (840, 3, 1, 3, 9.92, 3, 1, 0, 1, 1, 535.714276),\n",
              " (840, 3, 0, 3, 10.33, 3, 1, 0, 1, 1, 553.5057720000001),\n",
              " (840, 3, 0, 1, 10, 3, 1, 0, 1, 0, 453.6602),\n",
              " (840, 3, 0, 1, 9.75, 3, 0, 0, 1, 1, 439.68510200000003),\n",
              " (840, 3, 1, 3, 10.42, 3, 4, 0, 1, 1, 438.16270599999996),\n",
              " (840, 3, 1, 1, 10, 3, 1, 0, 1, 1, 497.86266800000004),\n",
              " (840, 3, 0, 3, 9.75, 3, 3, 1, 1, 1, 489.16947),\n",
              " (840, 3, 0, 0, 11.08, 3, 4, 1, 0, 0, 384.906158),\n",
              " (840, 3, 1, 3, 10.67, 3, 3, 1, 1, 1, 663.212484),\n",
              " (840, 3, 0, 3, 9.67, 3, 0, 0, 0, 1, 455.61042800000007),\n",
              " (840, 3, 0, 2, 10.17, 3, 1, 1, 1, 1, 522.4693279999999),\n",
              " (840, 0, 0, 3, 10.5, 3, 1, 0, 1, 1, 588.00458),\n",
              " (840, 3, 0, 3, 10.67, 3, 1, 1, 1, 1, 574.2502440000001),\n",
              " (840, 0, 0, 3, 10.08, 3, 0, 0, 1, 1, 488.363566),\n",
              " (840, 3, 0, 3, 9.75, 3, 3, 0, 1, 1, 590.3553039999999),\n",
              " (840, 3, 0, 3, 10.25, 3, 3, 0, 1, 1, 627.510092),\n",
              " (840, 2, 0, 3, 10, 3, 0, 1, 1, 1, 483.921036),\n",
              " (840, 3, 3, 2, 10.08, 3, 1, 1, 0, 1, 434.47631199999995),\n",
              " (840, 3, 1, 3, 10.08, 3, 4, 0, 1, 1, 578.403588),\n",
              " (840, 0, 0, 1, 9.75, 3, 4, 0, 1, 1, 550.911348),\n",
              " (840, 3, 0, 3, 10.5, 3, 1, 0, 1, 1, 563.4866480000001),\n",
              " (840, 3, 0, 3, 10.17, 3, 1, 1, 0, 1, 520.26519),\n",
              " (840, 3, 0, 3, 9.92, 3, 1, 1, 1, 1, 433.25636399999996),\n",
              " (840, 0, 0, 3, 11.58, 3, 2, 1, 1, 1, 475.002848),\n",
              " ...]"
            ]
          },
          "metadata": {},
          "execution_count": 17
        }
      ]
    },
    {
      "cell_type": "code",
      "source": [
        "my_data_USA = pd.read_sql('''SELECT * FROM data''',connection)\n"
      ],
      "metadata": {
        "id": "BslD4m6jgJ2n"
      },
      "execution_count": null,
      "outputs": []
    },
    {
      "cell_type": "code",
      "source": [
        "data_USA_csv = my_data_USA.to_csv('dataUSA.csv')"
      ],
      "metadata": {
        "id": "ApT5PSddj5DI"
      },
      "execution_count": null,
      "outputs": []
    },
    {
      "cell_type": "code",
      "source": [
        "data_TUR_csv = data_TUR.to_csv('dataTUR.csv')"
      ],
      "metadata": {
        "id": "KxSSX8wvJR7V"
      },
      "execution_count": null,
      "outputs": []
    },
    {
      "cell_type": "code",
      "source": [
        "ls"
      ],
      "metadata": {
        "colab": {
          "base_uri": "https://localhost:8080/"
        },
        "id": "1HqwBesxGCF3",
        "outputId": "34387deb-8912-4ef6-93e8-c1a184a089df"
      },
      "execution_count": null,
      "outputs": [
        {
          "output_type": "stream",
          "name": "stdout",
          "text": [
            "dataTUR.csv  dataUSA.gsheet       T19_G4_TUR_SPSS.zip  \u001b[0m\u001b[01;34mTUR\u001b[0m/\n",
            "dataUSA.csv  \u001b[01;34mPHL\u001b[0m/                 T19_G4_USA_SPSS.zip  \u001b[01;34mUSA\u001b[0m/\n",
            "data_USA.db  T19_G4_PHL_SPSS.zip  T19_G4_ZAF_SPSS.zip  \u001b[01;34mZAF\u001b[0m/\n"
          ]
        }
      ]
    },
    {
      "cell_type": "markdown",
      "source": [
        "##### Test database to use in grafana"
      ],
      "metadata": {
        "id": "qhJU_jgOeQ72"
      }
    },
    {
      "cell_type": "code",
      "source": [
        ""
      ],
      "metadata": {
        "id": "eM861MdGedrV"
      },
      "execution_count": null,
      "outputs": []
    },
    {
      "cell_type": "code",
      "source": [
        ""
      ],
      "metadata": {
        "id": "2nlsPSZueUIf"
      },
      "execution_count": null,
      "outputs": []
    },
    {
      "cell_type": "markdown",
      "source": [
        "## Building a regression model"
      ],
      "metadata": {
        "id": "FbtmYfQHhDtc"
      }
    },
    {
      "cell_type": "markdown",
      "source": [
        "For this twist challenge, let us use Random forest regressor."
      ],
      "metadata": {
        "id": "PQO5iO5jxjcj"
      }
    },
    {
      "cell_type": "markdown",
      "source": [
        "### Splitting the data into train and test."
      ],
      "metadata": {
        "id": "nvxaliAzz9NK"
      }
    },
    {
      "cell_type": "code",
      "source": [
        "L = data_USA.columns"
      ],
      "metadata": {
        "id": "6MpdU4JF0UDC"
      },
      "execution_count": null,
      "outputs": []
    },
    {
      "cell_type": "code",
      "source": [
        "L = L.drop('target')"
      ],
      "metadata": {
        "id": "aT5SEbkT0bBL"
      },
      "execution_count": null,
      "outputs": []
    },
    {
      "cell_type": "code",
      "source": [
        "from sklearn.model_selection import train_test_split\n",
        "X_train, X_test, y_train, y_test = train_test_split( data_USA[L], data_USA['target'], test_size=0.2, random_state=42)"
      ],
      "metadata": {
        "id": "391GbRMU0BWj"
      },
      "execution_count": null,
      "outputs": []
    },
    {
      "cell_type": "code",
      "source": [
        "X_train.head()"
      ],
      "metadata": {
        "colab": {
          "base_uri": "https://localhost:8080/",
          "height": 206
        },
        "id": "ehWxTlkE2cqW",
        "outputId": "59277b38-7e3b-48bd-d3b0-9e9826b9de60"
      },
      "execution_count": null,
      "outputs": [
        {
          "output_type": "execute_result",
          "data": {
            "text/plain": [
              "     IDCNTRY ASBG10E ASBG11F ASBM01 ASDAGE ASBS08D ASBG04  ITSEX_Male  \\\n",
              "3758   840.0       2       3      2  10.33       3      1           1   \n",
              "3093   840.0       3       3      3  10.08       3      1           1   \n",
              "2223   840.0       3       0      3  10.25       2      3           1   \n",
              "9302   840.0       3       0      2  10.08       3      1           0   \n",
              "7831   840.0       3       1      1   9.83       1      1           1   \n",
              "\n",
              "      ASBG05C_Yes  ASBG05D_Yes  \n",
              "3758            1            1  \n",
              "3093            1            1  \n",
              "2223            1            1  \n",
              "9302            1            1  \n",
              "7831            1            1  "
            ],
            "text/html": [
              "\n",
              "  <div id=\"df-9ea52ef3-a92a-4c54-a200-c7b613d2ae6a\">\n",
              "    <div class=\"colab-df-container\">\n",
              "      <div>\n",
              "<style scoped>\n",
              "    .dataframe tbody tr th:only-of-type {\n",
              "        vertical-align: middle;\n",
              "    }\n",
              "\n",
              "    .dataframe tbody tr th {\n",
              "        vertical-align: top;\n",
              "    }\n",
              "\n",
              "    .dataframe thead th {\n",
              "        text-align: right;\n",
              "    }\n",
              "</style>\n",
              "<table border=\"1\" class=\"dataframe\">\n",
              "  <thead>\n",
              "    <tr style=\"text-align: right;\">\n",
              "      <th></th>\n",
              "      <th>IDCNTRY</th>\n",
              "      <th>ASBG10E</th>\n",
              "      <th>ASBG11F</th>\n",
              "      <th>ASBM01</th>\n",
              "      <th>ASDAGE</th>\n",
              "      <th>ASBS08D</th>\n",
              "      <th>ASBG04</th>\n",
              "      <th>ITSEX_Male</th>\n",
              "      <th>ASBG05C_Yes</th>\n",
              "      <th>ASBG05D_Yes</th>\n",
              "    </tr>\n",
              "  </thead>\n",
              "  <tbody>\n",
              "    <tr>\n",
              "      <th>3758</th>\n",
              "      <td>840.0</td>\n",
              "      <td>2</td>\n",
              "      <td>3</td>\n",
              "      <td>2</td>\n",
              "      <td>10.33</td>\n",
              "      <td>3</td>\n",
              "      <td>1</td>\n",
              "      <td>1</td>\n",
              "      <td>1</td>\n",
              "      <td>1</td>\n",
              "    </tr>\n",
              "    <tr>\n",
              "      <th>3093</th>\n",
              "      <td>840.0</td>\n",
              "      <td>3</td>\n",
              "      <td>3</td>\n",
              "      <td>3</td>\n",
              "      <td>10.08</td>\n",
              "      <td>3</td>\n",
              "      <td>1</td>\n",
              "      <td>1</td>\n",
              "      <td>1</td>\n",
              "      <td>1</td>\n",
              "    </tr>\n",
              "    <tr>\n",
              "      <th>2223</th>\n",
              "      <td>840.0</td>\n",
              "      <td>3</td>\n",
              "      <td>0</td>\n",
              "      <td>3</td>\n",
              "      <td>10.25</td>\n",
              "      <td>2</td>\n",
              "      <td>3</td>\n",
              "      <td>1</td>\n",
              "      <td>1</td>\n",
              "      <td>1</td>\n",
              "    </tr>\n",
              "    <tr>\n",
              "      <th>9302</th>\n",
              "      <td>840.0</td>\n",
              "      <td>3</td>\n",
              "      <td>0</td>\n",
              "      <td>2</td>\n",
              "      <td>10.08</td>\n",
              "      <td>3</td>\n",
              "      <td>1</td>\n",
              "      <td>0</td>\n",
              "      <td>1</td>\n",
              "      <td>1</td>\n",
              "    </tr>\n",
              "    <tr>\n",
              "      <th>7831</th>\n",
              "      <td>840.0</td>\n",
              "      <td>3</td>\n",
              "      <td>1</td>\n",
              "      <td>1</td>\n",
              "      <td>9.83</td>\n",
              "      <td>1</td>\n",
              "      <td>1</td>\n",
              "      <td>1</td>\n",
              "      <td>1</td>\n",
              "      <td>1</td>\n",
              "    </tr>\n",
              "  </tbody>\n",
              "</table>\n",
              "</div>\n",
              "      <button class=\"colab-df-convert\" onclick=\"convertToInteractive('df-9ea52ef3-a92a-4c54-a200-c7b613d2ae6a')\"\n",
              "              title=\"Convert this dataframe to an interactive table.\"\n",
              "              style=\"display:none;\">\n",
              "        \n",
              "  <svg xmlns=\"http://www.w3.org/2000/svg\" height=\"24px\"viewBox=\"0 0 24 24\"\n",
              "       width=\"24px\">\n",
              "    <path d=\"M0 0h24v24H0V0z\" fill=\"none\"/>\n",
              "    <path d=\"M18.56 5.44l.94 2.06.94-2.06 2.06-.94-2.06-.94-.94-2.06-.94 2.06-2.06.94zm-11 1L8.5 8.5l.94-2.06 2.06-.94-2.06-.94L8.5 2.5l-.94 2.06-2.06.94zm10 10l.94 2.06.94-2.06 2.06-.94-2.06-.94-.94-2.06-.94 2.06-2.06.94z\"/><path d=\"M17.41 7.96l-1.37-1.37c-.4-.4-.92-.59-1.43-.59-.52 0-1.04.2-1.43.59L10.3 9.45l-7.72 7.72c-.78.78-.78 2.05 0 2.83L4 21.41c.39.39.9.59 1.41.59.51 0 1.02-.2 1.41-.59l7.78-7.78 2.81-2.81c.8-.78.8-2.07 0-2.86zM5.41 20L4 18.59l7.72-7.72 1.47 1.35L5.41 20z\"/>\n",
              "  </svg>\n",
              "      </button>\n",
              "      \n",
              "  <style>\n",
              "    .colab-df-container {\n",
              "      display:flex;\n",
              "      flex-wrap:wrap;\n",
              "      gap: 12px;\n",
              "    }\n",
              "\n",
              "    .colab-df-convert {\n",
              "      background-color: #E8F0FE;\n",
              "      border: none;\n",
              "      border-radius: 50%;\n",
              "      cursor: pointer;\n",
              "      display: none;\n",
              "      fill: #1967D2;\n",
              "      height: 32px;\n",
              "      padding: 0 0 0 0;\n",
              "      width: 32px;\n",
              "    }\n",
              "\n",
              "    .colab-df-convert:hover {\n",
              "      background-color: #E2EBFA;\n",
              "      box-shadow: 0px 1px 2px rgba(60, 64, 67, 0.3), 0px 1px 3px 1px rgba(60, 64, 67, 0.15);\n",
              "      fill: #174EA6;\n",
              "    }\n",
              "\n",
              "    [theme=dark] .colab-df-convert {\n",
              "      background-color: #3B4455;\n",
              "      fill: #D2E3FC;\n",
              "    }\n",
              "\n",
              "    [theme=dark] .colab-df-convert:hover {\n",
              "      background-color: #434B5C;\n",
              "      box-shadow: 0px 1px 3px 1px rgba(0, 0, 0, 0.15);\n",
              "      filter: drop-shadow(0px 1px 2px rgba(0, 0, 0, 0.3));\n",
              "      fill: #FFFFFF;\n",
              "    }\n",
              "  </style>\n",
              "\n",
              "      <script>\n",
              "        const buttonEl =\n",
              "          document.querySelector('#df-9ea52ef3-a92a-4c54-a200-c7b613d2ae6a button.colab-df-convert');\n",
              "        buttonEl.style.display =\n",
              "          google.colab.kernel.accessAllowed ? 'block' : 'none';\n",
              "\n",
              "        async function convertToInteractive(key) {\n",
              "          const element = document.querySelector('#df-9ea52ef3-a92a-4c54-a200-c7b613d2ae6a');\n",
              "          const dataTable =\n",
              "            await google.colab.kernel.invokeFunction('convertToInteractive',\n",
              "                                                     [key], {});\n",
              "          if (!dataTable) return;\n",
              "\n",
              "          const docLinkHtml = 'Like what you see? Visit the ' +\n",
              "            '<a target=\"_blank\" href=https://colab.research.google.com/notebooks/data_table.ipynb>data table notebook</a>'\n",
              "            + ' to learn more about interactive tables.';\n",
              "          element.innerHTML = '';\n",
              "          dataTable['output_type'] = 'display_data';\n",
              "          await google.colab.output.renderOutput(dataTable, element);\n",
              "          const docLink = document.createElement('div');\n",
              "          docLink.innerHTML = docLinkHtml;\n",
              "          element.appendChild(docLink);\n",
              "        }\n",
              "      </script>\n",
              "    </div>\n",
              "  </div>\n",
              "  "
            ]
          },
          "metadata": {},
          "execution_count": 24
        }
      ]
    },
    {
      "cell_type": "code",
      "source": [
        "y_train.head()"
      ],
      "metadata": {
        "colab": {
          "base_uri": "https://localhost:8080/"
        },
        "id": "jjKr9oYN2f3_",
        "outputId": "aba53f70-4e11-436a-f3a8-16118e47d9f1"
      },
      "execution_count": null,
      "outputs": [
        {
          "output_type": "execute_result",
          "data": {
            "text/plain": [
              "3758    500.902970\n",
              "3093    599.405774\n",
              "2223    531.362990\n",
              "9302    560.740720\n",
              "7831    426.118330\n",
              "Name: target, dtype: float64"
            ]
          },
          "metadata": {},
          "execution_count": 25
        }
      ]
    },
    {
      "cell_type": "markdown",
      "source": [
        "### Loading the model"
      ],
      "metadata": {
        "id": "JSh4ImdRxy2U"
      }
    },
    {
      "cell_type": "code",
      "source": [
        "# Fitting Random Forest Regression to the dataset\n",
        "# import the regressor\n",
        "from sklearn.ensemble import RandomForestRegressor\n",
        " \n",
        " # create regressor object\n",
        "regressor = RandomForestRegressor(n_estimators = 100, random_state = 0)\n"
      ],
      "metadata": {
        "id": "S5Ah_xfFz8GR"
      },
      "execution_count": null,
      "outputs": []
    },
    {
      "cell_type": "markdown",
      "source": [
        "### Training the model"
      ],
      "metadata": {
        "id": "AT7V9Sb8xvE0"
      }
    },
    {
      "cell_type": "code",
      "source": [
        " # fit the regressor with x and y data\n",
        "regressor.fit(X_train, y_train) "
      ],
      "metadata": {
        "id": "ncMnoZ5_mQsh",
        "colab": {
          "base_uri": "https://localhost:8080/"
        },
        "outputId": "603e8402-f220-459f-9af3-3b11eb75aa63"
      },
      "execution_count": null,
      "outputs": [
        {
          "output_type": "execute_result",
          "data": {
            "text/plain": [
              "RandomForestRegressor(random_state=0)"
            ]
          },
          "metadata": {},
          "execution_count": 27
        }
      ]
    },
    {
      "cell_type": "markdown",
      "source": [
        "### Feature importance and prediction"
      ],
      "metadata": {
        "id": "qhNNg43vPEJ-"
      }
    },
    {
      "cell_type": "code",
      "source": [
        "import time\n",
        "import numpy as np\n",
        "\n",
        "start_time = time.time()\n",
        "importances = regressor.feature_importances_\n",
        "std = np.std([tree.feature_importances_ for tree in regressor.estimators_], axis=0)\n",
        "elapsed_time = time.time() - start_time\n",
        "\n",
        "print(f\"Elapsed time to compute the importances: {elapsed_time:.3f} seconds\")"
      ],
      "metadata": {
        "id": "t0M95eW3x2Iz",
        "colab": {
          "base_uri": "https://localhost:8080/"
        },
        "outputId": "58ff98f5-513e-4de0-bd4d-f4335d2cf4c5"
      },
      "execution_count": null,
      "outputs": [
        {
          "output_type": "stream",
          "name": "stdout",
          "text": [
            "Elapsed time to compute the importances: 0.036 seconds\n"
          ]
        }
      ]
    },
    {
      "cell_type": "code",
      "source": [
        "import pandas as pd\n",
        "import matplotlib.pyplot as plt\n",
        "\n",
        "\n",
        "forest_importances = pd.Series(importances, index=L)\n",
        "\n",
        "fig, ax = plt.subplots()\n",
        "forest_importances.plot.bar(yerr=std, ax=ax)\n",
        "ax.set_title(\"Feature importances using MDI\")\n",
        "ax.set_ylabel(\"Mean decrease in impurity\")\n",
        "fig.tight_layout()"
      ],
      "metadata": {
        "id": "pQyS42A-0uEb",
        "colab": {
          "base_uri": "https://localhost:8080/",
          "height": 297
        },
        "outputId": "cf7b8d0c-d5ab-479c-85a3-b9c06db4388f"
      },
      "execution_count": null,
      "outputs": [
        {
          "output_type": "display_data",
          "data": {
            "text/plain": [
              "<Figure size 432x288 with 1 Axes>"
            ],
            "image/png": "[encoded data removed]"
          },
          "metadata": {
            "needs_background": "light"
          }
        }
      ]
    },
    {
      "cell_type": "code",
      "source": [
        "forest_importances"
      ],
      "metadata": {
        "colab": {
          "base_uri": "https://localhost:8080/"
        },
        "id": "Oi-oIW5AP5hV",
        "outputId": "12b600c9-1769-4d28-a9e6-feab62a79906"
      },
      "execution_count": null,
      "outputs": [
        {
          "output_type": "execute_result",
          "data": {
            "text/plain": [
              "IDCNTRY        0.000000\n",
              "ASBG10E        0.100363\n",
              "ASBG11F        0.108055\n",
              "ASBM01         0.119141\n",
              "ASDAGE         0.306218\n",
              "ASBS08D        0.082764\n",
              "ASBG04         0.146251\n",
              "ITSEX_Male     0.048129\n",
              "ASBG05C_Yes    0.055608\n",
              "ASBG05D_Yes    0.033472\n",
              "dtype: float64"
            ]
          },
          "metadata": {},
          "execution_count": 40
        }
      ]
    },
    {
      "cell_type": "code",
      "source": [
        "list(forest_importances)"
      ],
      "metadata": {
        "colab": {
          "base_uri": "https://localhost:8080/"
        },
        "id": "TBuHNosHQdRN",
        "outputId": "3cbdaa91-a4fb-4258-cf18-b748c0e6946d"
      },
      "execution_count": null,
      "outputs": [
        {
          "output_type": "execute_result",
          "data": {
            "text/plain": [
              "[0.0,\n",
              " 0.10036294823363204,\n",
              " 0.10805461659440871,\n",
              " 0.11914050206247966,\n",
              " 0.30621826432586946,\n",
              " 0.08276419121267217,\n",
              " 0.14625061827982055,\n",
              " 0.048129065166746525,\n",
              " 0.0556078414677752,\n",
              " 0.03347195265659578]"
            ]
          },
          "metadata": {},
          "execution_count": 41
        }
      ]
    },
    {
      "cell_type": "code",
      "source": [
        "importance = pd.DataFrame(forest_importances, columns = ['USA'])"
      ],
      "metadata": {
        "id": "dbVqYP9hQB-M"
      },
      "execution_count": null,
      "outputs": []
    },
    {
      "cell_type": "code",
      "source": [
        "importance"
      ],
      "metadata": {
        "colab": {
          "base_uri": "https://localhost:8080/",
          "height": 362
        },
        "id": "KKdy9NYTQMDd",
        "outputId": "4fdc38de-918e-4a14-e4d0-4627aa237b35"
      },
      "execution_count": null,
      "outputs": [
        {
          "output_type": "execute_result",
          "data": {
            "text/plain": [
              "                  USA\n",
              "IDCNTRY      0.000000\n",
              "ASBG10E      0.100363\n",
              "ASBG11F      0.108055\n",
              "ASBM01       0.119141\n",
              "ASDAGE       0.306218\n",
              "ASBS08D      0.082764\n",
              "ASBG04       0.146251\n",
              "ITSEX_Male   0.048129\n",
              "ASBG05C_Yes  0.055608\n",
              "ASBG05D_Yes  0.033472"
            ],
            "text/html": [
              "\n",
              "  <div id=\"df-1cc705f1-b7e2-4006-9bec-f24163162afa\">\n",
              "    <div class=\"colab-df-container\">\n",
              "      <div>\n",
              "<style scoped>\n",
              "    .dataframe tbody tr th:only-of-type {\n",
              "        vertical-align: middle;\n",
              "    }\n",
              "\n",
              "    .dataframe tbody tr th {\n",
              "        vertical-align: top;\n",
              "    }\n",
              "\n",
              "    .dataframe thead th {\n",
              "        text-align: right;\n",
              "    }\n",
              "</style>\n",
              "<table border=\"1\" class=\"dataframe\">\n",
              "  <thead>\n",
              "    <tr style=\"text-align: right;\">\n",
              "      <th></th>\n",
              "      <th>USA</th>\n",
              "    </tr>\n",
              "  </thead>\n",
              "  <tbody>\n",
              "    <tr>\n",
              "      <th>IDCNTRY</th>\n",
              "      <td>0.000000</td>\n",
              "    </tr>\n",
              "    <tr>\n",
              "      <th>ASBG10E</th>\n",
              "      <td>0.100363</td>\n",
              "    </tr>\n",
              "    <tr>\n",
              "      <th>ASBG11F</th>\n",
              "      <td>0.108055</td>\n",
              "    </tr>\n",
              "    <tr>\n",
              "      <th>ASBM01</th>\n",
              "      <td>0.119141</td>\n",
              "    </tr>\n",
              "    <tr>\n",
              "      <th>ASDAGE</th>\n",
              "      <td>0.306218</td>\n",
              "    </tr>\n",
              "    <tr>\n",
              "      <th>ASBS08D</th>\n",
              "      <td>0.082764</td>\n",
              "    </tr>\n",
              "    <tr>\n",
              "      <th>ASBG04</th>\n",
              "      <td>0.146251</td>\n",
              "    </tr>\n",
              "    <tr>\n",
              "      <th>ITSEX_Male</th>\n",
              "      <td>0.048129</td>\n",
              "    </tr>\n",
              "    <tr>\n",
              "      <th>ASBG05C_Yes</th>\n",
              "      <td>0.055608</td>\n",
              "    </tr>\n",
              "    <tr>\n",
              "      <th>ASBG05D_Yes</th>\n",
              "      <td>0.033472</td>\n",
              "    </tr>\n",
              "  </tbody>\n",
              "</table>\n",
              "</div>\n",
              "      <button class=\"colab-df-convert\" onclick=\"convertToInteractive('df-1cc705f1-b7e2-4006-9bec-f24163162afa')\"\n",
              "              title=\"Convert this dataframe to an interactive table.\"\n",
              "              style=\"display:none;\">\n",
              "        \n",
              "  <svg xmlns=\"http://www.w3.org/2000/svg\" height=\"24px\"viewBox=\"0 0 24 24\"\n",
              "       width=\"24px\">\n",
              "    <path d=\"M0 0h24v24H0V0z\" fill=\"none\"/>\n",
              "    <path d=\"M18.56 5.44l.94 2.06.94-2.06 2.06-.94-2.06-.94-.94-2.06-.94 2.06-2.06.94zm-11 1L8.5 8.5l.94-2.06 2.06-.94-2.06-.94L8.5 2.5l-.94 2.06-2.06.94zm10 10l.94 2.06.94-2.06 2.06-.94-2.06-.94-.94-2.06-.94 2.06-2.06.94z\"/><path d=\"M17.41 7.96l-1.37-1.37c-.4-.4-.92-.59-1.43-.59-.52 0-1.04.2-1.43.59L10.3 9.45l-7.72 7.72c-.78.78-.78 2.05 0 2.83L4 21.41c.39.39.9.59 1.41.59.51 0 1.02-.2 1.41-.59l7.78-7.78 2.81-2.81c.8-.78.8-2.07 0-2.86zM5.41 20L4 18.59l7.72-7.72 1.47 1.35L5.41 20z\"/>\n",
              "  </svg>\n",
              "      </button>\n",
              "      \n",
              "  <style>\n",
              "    .colab-df-container {\n",
              "      display:flex;\n",
              "      flex-wrap:wrap;\n",
              "      gap: 12px;\n",
              "    }\n",
              "\n",
              "    .colab-df-convert {\n",
              "      background-color: #E8F0FE;\n",
              "      border: none;\n",
              "      border-radius: 50%;\n",
              "      cursor: pointer;\n",
              "      display: none;\n",
              "      fill: #1967D2;\n",
              "      height: 32px;\n",
              "      padding: 0 0 0 0;\n",
              "      width: 32px;\n",
              "    }\n",
              "\n",
              "    .colab-df-convert:hover {\n",
              "      background-color: #E2EBFA;\n",
              "      box-shadow: 0px 1px 2px rgba(60, 64, 67, 0.3), 0px 1px 3px 1px rgba(60, 64, 67, 0.15);\n",
              "      fill: #174EA6;\n",
              "    }\n",
              "\n",
              "    [theme=dark] .colab-df-convert {\n",
              "      background-color: #3B4455;\n",
              "      fill: #D2E3FC;\n",
              "    }\n",
              "\n",
              "    [theme=dark] .colab-df-convert:hover {\n",
              "      background-color: #434B5C;\n",
              "      box-shadow: 0px 1px 3px 1px rgba(0, 0, 0, 0.15);\n",
              "      filter: drop-shadow(0px 1px 2px rgba(0, 0, 0, 0.3));\n",
              "      fill: #FFFFFF;\n",
              "    }\n",
              "  </style>\n",
              "\n",
              "      <script>\n",
              "        const buttonEl =\n",
              "          document.querySelector('#df-1cc705f1-b7e2-4006-9bec-f24163162afa button.colab-df-convert');\n",
              "        buttonEl.style.display =\n",
              "          google.colab.kernel.accessAllowed ? 'block' : 'none';\n",
              "\n",
              "        async function convertToInteractive(key) {\n",
              "          const element = document.querySelector('#df-1cc705f1-b7e2-4006-9bec-f24163162afa');\n",
              "          const dataTable =\n",
              "            await google.colab.kernel.invokeFunction('convertToInteractive',\n",
              "                                                     [key], {});\n",
              "          if (!dataTable) return;\n",
              "\n",
              "          const docLinkHtml = 'Like what you see? Visit the ' +\n",
              "            '<a target=\"_blank\" href=https://colab.research.google.com/notebooks/data_table.ipynb>data table notebook</a>'\n",
              "            + ' to learn more about interactive tables.';\n",
              "          element.innerHTML = '';\n",
              "          dataTable['output_type'] = 'display_data';\n",
              "          await google.colab.output.renderOutput(dataTable, element);\n",
              "          const docLink = document.createElement('div');\n",
              "          docLink.innerHTML = docLinkHtml;\n",
              "          element.appendChild(docLink);\n",
              "        }\n",
              "      </script>\n",
              "    </div>\n",
              "  </div>\n",
              "  "
            ]
          },
          "metadata": {},
          "execution_count": 44
        }
      ]
    },
    {
      "cell_type": "code",
      "source": [
        "from sklearn.inspection import permutation_importance\n",
        "\n",
        "start_time = time.time()\n",
        "result = permutation_importance(\n",
        "    regressor, X_test, y_test, n_repeats=10, random_state=42, n_jobs=2\n",
        ")\n",
        "elapsed_time = time.time() - start_time\n",
        "print(f\"Elapsed time to compute the importances: {elapsed_time:.3f} seconds\")\n",
        "\n",
        "forest_importances = pd.Series(result.importances_mean, index=L)"
      ],
      "metadata": {
        "colab": {
          "base_uri": "https://localhost:8080/"
        },
        "id": "7bDkyJ52PPr2",
        "outputId": "7f1fe516-edc8-4d40-ac87-21e0bc83c375"
      },
      "execution_count": null,
      "outputs": [
        {
          "output_type": "stream",
          "name": "stdout",
          "text": [
            "Elapsed time to compute the importances: 7.127 seconds\n"
          ]
        }
      ]
    },
    {
      "cell_type": "code",
      "source": [
        "fig, ax = plt.subplots()\n",
        "forest_importances.plot.bar(yerr=result.importances_std, ax=ax)\n",
        "ax.set_title(\"Feature importances using permutation on full model\")\n",
        "ax.set_ylabel(\"Mean accuracy decrease\")\n",
        "fig.tight_layout()\n",
        "plt.show()"
      ],
      "metadata": {
        "colab": {
          "base_uri": "https://localhost:8080/",
          "height": 297
        },
        "id": "Veu7Oz4QPf1-",
        "outputId": "44304f47-e27d-4575-db41-2d9233649d09"
      },
      "execution_count": null,
      "outputs": [
        {
          "output_type": "display_data",
          "data": {
            "text/plain": [
              "<Figure size 432x288 with 1 Axes>"
            ],
            "image/png": "[encoded data removed]"
          },
          "metadata": {
            "needs_background": "light"
          }
        }
      ]
    },
    {
      "cell_type": "code",
      "source": [
        "# Doing the same thing for Turkey\n",
        "\n",
        "Xtur_train, Xtur_test, ytur_train, ytur_test = train_test_split( data_TUR[L], data_TUR['target'], test_size=0.2, random_state=42)"
      ],
      "metadata": {
        "id": "iXWIk-0US24v"
      },
      "execution_count": null,
      "outputs": []
    },
    {
      "cell_type": "code",
      "source": [
        "regressortur = RandomForestRegressor(n_estimators = 100, random_state = 0)\n",
        "regressortur.fit(Xtur_train, ytur_train) \n",
        "importancestur = regressortur.feature_importances_\n",
        "forest_importancestur = pd.Series(importancestur, index=L)\n",
        "\n"
      ],
      "metadata": {
        "id": "SamEhCapTLxj"
      },
      "execution_count": null,
      "outputs": []
    },
    {
      "cell_type": "code",
      "source": [
        "importancetur = pd.DataFrame(forest_importancestur, columns =['TUR'])"
      ],
      "metadata": {
        "id": "PdTH0JReVNOZ"
      },
      "execution_count": null,
      "outputs": []
    },
    {
      "cell_type": "code",
      "source": [
        "importancetur"
      ],
      "metadata": {
        "colab": {
          "base_uri": "https://localhost:8080/",
          "height": 362
        },
        "id": "2tUnTuWiU4Dx",
        "outputId": "e1e12ff6-cb56-4c6b-cb80-5045c9bf0204"
      },
      "execution_count": null,
      "outputs": [
        {
          "output_type": "execute_result",
          "data": {
            "text/plain": [
              "                  TUR\n",
              "IDCNTRY      0.000000\n",
              "ASBG10E      0.069465\n",
              "ASBG11F      0.089420\n",
              "ASBM01       0.146794\n",
              "ASDAGE       0.302076\n",
              "ASBS08D      0.073222\n",
              "ASBG04       0.143912\n",
              "ITSEX_Male   0.059700\n",
              "ASBG05C_Yes  0.062765\n",
              "ASBG05D_Yes  0.052645"
            ],
            "text/html": [
              "\n",
              "  <div id=\"df-80654522-7181-4b7e-93b9-5f63565f66a9\">\n",
              "    <div class=\"colab-df-container\">\n",
              "      <div>\n",
              "<style scoped>\n",
              "    .dataframe tbody tr th:only-of-type {\n",
              "        vertical-align: middle;\n",
              "    }\n",
              "\n",
              "    .dataframe tbody tr th {\n",
              "        vertical-align: top;\n",
              "    }\n",
              "\n",
              "    .dataframe thead th {\n",
              "        text-align: right;\n",
              "    }\n",
              "</style>\n",
              "<table border=\"1\" class=\"dataframe\">\n",
              "  <thead>\n",
              "    <tr style=\"text-align: right;\">\n",
              "      <th></th>\n",
              "      <th>TUR</th>\n",
              "    </tr>\n",
              "  </thead>\n",
              "  <tbody>\n",
              "    <tr>\n",
              "      <th>IDCNTRY</th>\n",
              "      <td>0.000000</td>\n",
              "    </tr>\n",
              "    <tr>\n",
              "      <th>ASBG10E</th>\n",
              "      <td>0.069465</td>\n",
              "    </tr>\n",
              "    <tr>\n",
              "      <th>ASBG11F</th>\n",
              "      <td>0.089420</td>\n",
              "    </tr>\n",
              "    <tr>\n",
              "      <th>ASBM01</th>\n",
              "      <td>0.146794</td>\n",
              "    </tr>\n",
              "    <tr>\n",
              "      <th>ASDAGE</th>\n",
              "      <td>0.302076</td>\n",
              "    </tr>\n",
              "    <tr>\n",
              "      <th>ASBS08D</th>\n",
              "      <td>0.073222</td>\n",
              "    </tr>\n",
              "    <tr>\n",
              "      <th>ASBG04</th>\n",
              "      <td>0.143912</td>\n",
              "    </tr>\n",
              "    <tr>\n",
              "      <th>ITSEX_Male</th>\n",
              "      <td>0.059700</td>\n",
              "    </tr>\n",
              "    <tr>\n",
              "      <th>ASBG05C_Yes</th>\n",
              "      <td>0.062765</td>\n",
              "    </tr>\n",
              "    <tr>\n",
              "      <th>ASBG05D_Yes</th>\n",
              "      <td>0.052645</td>\n",
              "    </tr>\n",
              "  </tbody>\n",
              "</table>\n",
              "</div>\n",
              "      <button class=\"colab-df-convert\" onclick=\"convertToInteractive('df-80654522-7181-4b7e-93b9-5f63565f66a9')\"\n",
              "              title=\"Convert this dataframe to an interactive table.\"\n",
              "              style=\"display:none;\">\n",
              "        \n",
              "  <svg xmlns=\"http://www.w3.org/2000/svg\" height=\"24px\"viewBox=\"0 0 24 24\"\n",
              "       width=\"24px\">\n",
              "    <path d=\"M0 0h24v24H0V0z\" fill=\"none\"/>\n",
              "    <path d=\"M18.56 5.44l.94 2.06.94-2.06 2.06-.94-2.06-.94-.94-2.06-.94 2.06-2.06.94zm-11 1L8.5 8.5l.94-2.06 2.06-.94-2.06-.94L8.5 2.5l-.94 2.06-2.06.94zm10 10l.94 2.06.94-2.06 2.06-.94-2.06-.94-.94-2.06-.94 2.06-2.06.94z\"/><path d=\"M17.41 7.96l-1.37-1.37c-.4-.4-.92-.59-1.43-.59-.52 0-1.04.2-1.43.59L10.3 9.45l-7.72 7.72c-.78.78-.78 2.05 0 2.83L4 21.41c.39.39.9.59 1.41.59.51 0 1.02-.2 1.41-.59l7.78-7.78 2.81-2.81c.8-.78.8-2.07 0-2.86zM5.41 20L4 18.59l7.72-7.72 1.47 1.35L5.41 20z\"/>\n",
              "  </svg>\n",
              "      </button>\n",
              "      \n",
              "  <style>\n",
              "    .colab-df-container {\n",
              "      display:flex;\n",
              "      flex-wrap:wrap;\n",
              "      gap: 12px;\n",
              "    }\n",
              "\n",
              "    .colab-df-convert {\n",
              "      background-color: #E8F0FE;\n",
              "      border: none;\n",
              "      border-radius: 50%;\n",
              "      cursor: pointer;\n",
              "      display: none;\n",
              "      fill: #1967D2;\n",
              "      height: 32px;\n",
              "      padding: 0 0 0 0;\n",
              "      width: 32px;\n",
              "    }\n",
              "\n",
              "    .colab-df-convert:hover {\n",
              "      background-color: #E2EBFA;\n",
              "      box-shadow: 0px 1px 2px rgba(60, 64, 67, 0.3), 0px 1px 3px 1px rgba(60, 64, 67, 0.15);\n",
              "      fill: #174EA6;\n",
              "    }\n",
              "\n",
              "    [theme=dark] .colab-df-convert {\n",
              "      background-color: #3B4455;\n",
              "      fill: #D2E3FC;\n",
              "    }\n",
              "\n",
              "    [theme=dark] .colab-df-convert:hover {\n",
              "      background-color: #434B5C;\n",
              "      box-shadow: 0px 1px 3px 1px rgba(0, 0, 0, 0.15);\n",
              "      filter: drop-shadow(0px 1px 2px rgba(0, 0, 0, 0.3));\n",
              "      fill: #FFFFFF;\n",
              "    }\n",
              "  </style>\n",
              "\n",
              "      <script>\n",
              "        const buttonEl =\n",
              "          document.querySelector('#df-80654522-7181-4b7e-93b9-5f63565f66a9 button.colab-df-convert');\n",
              "        buttonEl.style.display =\n",
              "          google.colab.kernel.accessAllowed ? 'block' : 'none';\n",
              "\n",
              "        async function convertToInteractive(key) {\n",
              "          const element = document.querySelector('#df-80654522-7181-4b7e-93b9-5f63565f66a9');\n",
              "          const dataTable =\n",
              "            await google.colab.kernel.invokeFunction('convertToInteractive',\n",
              "                                                     [key], {});\n",
              "          if (!dataTable) return;\n",
              "\n",
              "          const docLinkHtml = 'Like what you see? Visit the ' +\n",
              "            '<a target=\"_blank\" href=https://colab.research.google.com/notebooks/data_table.ipynb>data table notebook</a>'\n",
              "            + ' to learn more about interactive tables.';\n",
              "          element.innerHTML = '';\n",
              "          dataTable['output_type'] = 'display_data';\n",
              "          await google.colab.output.renderOutput(dataTable, element);\n",
              "          const docLink = document.createElement('div');\n",
              "          docLink.innerHTML = docLinkHtml;\n",
              "          element.appendChild(docLink);\n",
              "        }\n",
              "      </script>\n",
              "    </div>\n",
              "  </div>\n",
              "  "
            ]
          },
          "metadata": {},
          "execution_count": 50
        }
      ]
    },
    {
      "cell_type": "code",
      "source": [
        "importancerf = pd.concat([importance,importancetur], axis=1)"
      ],
      "metadata": {
        "id": "fs2oS7gYU6JI"
      },
      "execution_count": null,
      "outputs": []
    },
    {
      "cell_type": "code",
      "source": [
        ""
      ],
      "metadata": {
        "id": "hRcfNm7P8Rgk"
      },
      "execution_count": null,
      "outputs": []
    },
    {
      "cell_type": "code",
      "source": [
        "importancerf"
      ],
      "metadata": {
        "colab": {
          "base_uri": "https://localhost:8080/",
          "height": 362
        },
        "id": "yMn4e9tvVm35",
        "outputId": "80b8c7e6-7682-4e19-84f1-1cc2094ad640"
      },
      "execution_count": null,
      "outputs": [
        {
          "output_type": "execute_result",
          "data": {
            "text/plain": [
              "                  USA       TUR\n",
              "IDCNTRY      0.000000  0.000000\n",
              "ASBG10E      0.100363  0.069465\n",
              "ASBG11F      0.108055  0.089420\n",
              "ASBM01       0.119141  0.146794\n",
              "ASDAGE       0.306218  0.302076\n",
              "ASBS08D      0.082764  0.073222\n",
              "ASBG04       0.146251  0.143912\n",
              "ITSEX_Male   0.048129  0.059700\n",
              "ASBG05C_Yes  0.055608  0.062765\n",
              "ASBG05D_Yes  0.033472  0.052645"
            ],
            "text/html": [
              "\n",
              "  <div id=\"df-9d89f118-a24a-4489-8889-afeb1059e861\">\n",
              "    <div class=\"colab-df-container\">\n",
              "      <div>\n",
              "<style scoped>\n",
              "    .dataframe tbody tr th:only-of-type {\n",
              "        vertical-align: middle;\n",
              "    }\n",
              "\n",
              "    .dataframe tbody tr th {\n",
              "        vertical-align: top;\n",
              "    }\n",
              "\n",
              "    .dataframe thead th {\n",
              "        text-align: right;\n",
              "    }\n",
              "</style>\n",
              "<table border=\"1\" class=\"dataframe\">\n",
              "  <thead>\n",
              "    <tr style=\"text-align: right;\">\n",
              "      <th></th>\n",
              "      <th>USA</th>\n",
              "      <th>TUR</th>\n",
              "    </tr>\n",
              "  </thead>\n",
              "  <tbody>\n",
              "    <tr>\n",
              "      <th>IDCNTRY</th>\n",
              "      <td>0.000000</td>\n",
              "      <td>0.000000</td>\n",
              "    </tr>\n",
              "    <tr>\n",
              "      <th>ASBG10E</th>\n",
              "      <td>0.100363</td>\n",
              "      <td>0.069465</td>\n",
              "    </tr>\n",
              "    <tr>\n",
              "      <th>ASBG11F</th>\n",
              "      <td>0.108055</td>\n",
              "      <td>0.089420</td>\n",
              "    </tr>\n",
              "    <tr>\n",
              "      <th>ASBM01</th>\n",
              "      <td>0.119141</td>\n",
              "      <td>0.146794</td>\n",
              "    </tr>\n",
              "    <tr>\n",
              "      <th>ASDAGE</th>\n",
              "      <td>0.306218</td>\n",
              "      <td>0.302076</td>\n",
              "    </tr>\n",
              "    <tr>\n",
              "      <th>ASBS08D</th>\n",
              "      <td>0.082764</td>\n",
              "      <td>0.073222</td>\n",
              "    </tr>\n",
              "    <tr>\n",
              "      <th>ASBG04</th>\n",
              "      <td>0.146251</td>\n",
              "      <td>0.143912</td>\n",
              "    </tr>\n",
              "    <tr>\n",
              "      <th>ITSEX_Male</th>\n",
              "      <td>0.048129</td>\n",
              "      <td>0.059700</td>\n",
              "    </tr>\n",
              "    <tr>\n",
              "      <th>ASBG05C_Yes</th>\n",
              "      <td>0.055608</td>\n",
              "      <td>0.062765</td>\n",
              "    </tr>\n",
              "    <tr>\n",
              "      <th>ASBG05D_Yes</th>\n",
              "      <td>0.033472</td>\n",
              "      <td>0.052645</td>\n",
              "    </tr>\n",
              "  </tbody>\n",
              "</table>\n",
              "</div>\n",
              "      <button class=\"colab-df-convert\" onclick=\"convertToInteractive('df-9d89f118-a24a-4489-8889-afeb1059e861')\"\n",
              "              title=\"Convert this dataframe to an interactive table.\"\n",
              "              style=\"display:none;\">\n",
              "        \n",
              "  <svg xmlns=\"http://www.w3.org/2000/svg\" height=\"24px\"viewBox=\"0 0 24 24\"\n",
              "       width=\"24px\">\n",
              "    <path d=\"M0 0h24v24H0V0z\" fill=\"none\"/>\n",
              "    <path d=\"M18.56 5.44l.94 2.06.94-2.06 2.06-.94-2.06-.94-.94-2.06-.94 2.06-2.06.94zm-11 1L8.5 8.5l.94-2.06 2.06-.94-2.06-.94L8.5 2.5l-.94 2.06-2.06.94zm10 10l.94 2.06.94-2.06 2.06-.94-2.06-.94-.94-2.06-.94 2.06-2.06.94z\"/><path d=\"M17.41 7.96l-1.37-1.37c-.4-.4-.92-.59-1.43-.59-.52 0-1.04.2-1.43.59L10.3 9.45l-7.72 7.72c-.78.78-.78 2.05 0 2.83L4 21.41c.39.39.9.59 1.41.59.51 0 1.02-.2 1.41-.59l7.78-7.78 2.81-2.81c.8-.78.8-2.07 0-2.86zM5.41 20L4 18.59l7.72-7.72 1.47 1.35L5.41 20z\"/>\n",
              "  </svg>\n",
              "      </button>\n",
              "      \n",
              "  <style>\n",
              "    .colab-df-container {\n",
              "      display:flex;\n",
              "      flex-wrap:wrap;\n",
              "      gap: 12px;\n",
              "    }\n",
              "\n",
              "    .colab-df-convert {\n",
              "      background-color: #E8F0FE;\n",
              "      border: none;\n",
              "      border-radius: 50%;\n",
              "      cursor: pointer;\n",
              "      display: none;\n",
              "      fill: #1967D2;\n",
              "      height: 32px;\n",
              "      padding: 0 0 0 0;\n",
              "      width: 32px;\n",
              "    }\n",
              "\n",
              "    .colab-df-convert:hover {\n",
              "      background-color: #E2EBFA;\n",
              "      box-shadow: 0px 1px 2px rgba(60, 64, 67, 0.3), 0px 1px 3px 1px rgba(60, 64, 67, 0.15);\n",
              "      fill: #174EA6;\n",
              "    }\n",
              "\n",
              "    [theme=dark] .colab-df-convert {\n",
              "      background-color: #3B4455;\n",
              "      fill: #D2E3FC;\n",
              "    }\n",
              "\n",
              "    [theme=dark] .colab-df-convert:hover {\n",
              "      background-color: #434B5C;\n",
              "      box-shadow: 0px 1px 3px 1px rgba(0, 0, 0, 0.15);\n",
              "      filter: drop-shadow(0px 1px 2px rgba(0, 0, 0, 0.3));\n",
              "      fill: #FFFFFF;\n",
              "    }\n",
              "  </style>\n",
              "\n",
              "      <script>\n",
              "        const buttonEl =\n",
              "          document.querySelector('#df-9d89f118-a24a-4489-8889-afeb1059e861 button.colab-df-convert');\n",
              "        buttonEl.style.display =\n",
              "          google.colab.kernel.accessAllowed ? 'block' : 'none';\n",
              "\n",
              "        async function convertToInteractive(key) {\n",
              "          const element = document.querySelector('#df-9d89f118-a24a-4489-8889-afeb1059e861');\n",
              "          const dataTable =\n",
              "            await google.colab.kernel.invokeFunction('convertToInteractive',\n",
              "                                                     [key], {});\n",
              "          if (!dataTable) return;\n",
              "\n",
              "          const docLinkHtml = 'Like what you see? Visit the ' +\n",
              "            '<a target=\"_blank\" href=https://colab.research.google.com/notebooks/data_table.ipynb>data table notebook</a>'\n",
              "            + ' to learn more about interactive tables.';\n",
              "          element.innerHTML = '';\n",
              "          dataTable['output_type'] = 'display_data';\n",
              "          await google.colab.output.renderOutput(dataTable, element);\n",
              "          const docLink = document.createElement('div');\n",
              "          docLink.innerHTML = docLinkHtml;\n",
              "          element.appendChild(docLink);\n",
              "        }\n",
              "      </script>\n",
              "    </div>\n",
              "  </div>\n",
              "  "
            ]
          },
          "metadata": {},
          "execution_count": 52
        }
      ]
    },
    {
      "cell_type": "code",
      "source": [
        "importancerf.columns"
      ],
      "metadata": {
        "colab": {
          "base_uri": "https://localhost:8080/"
        },
        "id": "4n6OK-Fr8Z_F",
        "outputId": "92826949-8e1b-446c-a146-4febd13c9676"
      },
      "execution_count": null,
      "outputs": [
        {
          "output_type": "execute_result",
          "data": {
            "text/plain": [
              "Index(['USA', 'TUR'], dtype='object')"
            ]
          },
          "metadata": {},
          "execution_count": 54
        }
      ]
    },
    {
      "cell_type": "code",
      "source": [
        "L"
      ],
      "metadata": {
        "colab": {
          "base_uri": "https://localhost:8080/"
        },
        "id": "6dB2ZfYW88gn",
        "outputId": "f71a80a4-9a0b-4da2-b76c-aab2677d02cb"
      },
      "execution_count": null,
      "outputs": [
        {
          "output_type": "execute_result",
          "data": {
            "text/plain": [
              "Index(['IDCNTRY', 'ASBG10E', 'ASBG11F', 'ASBM01', 'ASDAGE', 'ASBS08D',\n",
              "       'ASBG04', 'ITSEX_Male', 'ASBG05C_Yes', 'ASBG05D_Yes'],\n",
              "      dtype='object')"
            ]
          },
          "metadata": {},
          "execution_count": 55
        }
      ]
    },
    {
      "cell_type": "code",
      "source": [
        "cols = { 'IDCNTRY' : 'IDCNTRY', 'ASBG10E' : 'ASBG10E', 'ASBG11F' : 'ASBG11F', 'ASBM01' : 'ASBM01', 'ASDAGE' : 'ASDAGE', 'ASBS08D' : 'ASBS08D',\n",
        "       'ASBG04' : 'ASBG04', 'ITSEX_Male' : 'ITSEX_Male', 'ASBG05C_Yes' : 'ASBG05C_Yes', 'ASBG05D_Yes': 'ASBG05D_Yes'}\n",
        "colcol = pd.Series(data=cols, index=L)"
      ],
      "metadata": {
        "id": "el57Pfw08MOd"
      },
      "execution_count": null,
      "outputs": []
    },
    {
      "cell_type": "code",
      "source": [
        "colcol"
      ],
      "metadata": {
        "colab": {
          "base_uri": "https://localhost:8080/"
        },
        "id": "7jL1gDy59VCe",
        "outputId": "5d9c32d2-6206-435c-c892-ce56fb773ec3"
      },
      "execution_count": null,
      "outputs": [
        {
          "output_type": "execute_result",
          "data": {
            "text/plain": [
              "IDCNTRY            IDCNTRY\n",
              "ASBG10E            ASBG10E\n",
              "ASBG11F            ASBG11F\n",
              "ASBM01              ASBM01\n",
              "ASDAGE              ASDAGE\n",
              "ASBS08D            ASBS08D\n",
              "ASBG04              ASBG04\n",
              "ITSEX_Male      ITSEX_Male\n",
              "ASBG05C_Yes    ASBG05C_Yes\n",
              "ASBG05D_Yes    ASBG05D_Yes\n",
              "dtype: object"
            ]
          },
          "metadata": {},
          "execution_count": 58
        }
      ]
    },
    {
      "cell_type": "code",
      "source": [
        "coltodata = pd.DataFrame(colcol, columns =['COL'])"
      ],
      "metadata": {
        "id": "PjHCgkfY9ai1"
      },
      "execution_count": null,
      "outputs": []
    },
    {
      "cell_type": "code",
      "source": [
        ""
      ],
      "metadata": {
        "id": "NCBMwR9M9qHg"
      },
      "execution_count": null,
      "outputs": []
    },
    {
      "cell_type": "code",
      "source": [
        "importancerf = pd.concat([importancerf,coltodata], axis=1)"
      ],
      "metadata": {
        "id": "2oHN811_9fZ9"
      },
      "execution_count": null,
      "outputs": []
    },
    {
      "cell_type": "code",
      "source": [
        "importancerf"
      ],
      "metadata": {
        "colab": {
          "base_uri": "https://localhost:8080/",
          "height": 362
        },
        "id": "edySDV5x9l4I",
        "outputId": "ef26e512-8ecf-4dcf-c48e-9798d96c04d6"
      },
      "execution_count": null,
      "outputs": [
        {
          "output_type": "execute_result",
          "data": {
            "text/plain": [
              "                  USA       TUR          COL\n",
              "IDCNTRY      0.000000  0.000000      IDCNTRY\n",
              "ASBG10E      0.100363  0.069465      ASBG10E\n",
              "ASBG11F      0.108055  0.089420      ASBG11F\n",
              "ASBM01       0.119141  0.146794       ASBM01\n",
              "ASDAGE       0.306218  0.302076       ASDAGE\n",
              "ASBS08D      0.082764  0.073222      ASBS08D\n",
              "ASBG04       0.146251  0.143912       ASBG04\n",
              "ITSEX_Male   0.048129  0.059700   ITSEX_Male\n",
              "ASBG05C_Yes  0.055608  0.062765  ASBG05C_Yes\n",
              "ASBG05D_Yes  0.033472  0.052645  ASBG05D_Yes"
            ],
            "text/html": [
              "\n",
              "  <div id=\"df-d6fcc360-e511-4afa-ada0-efac0eda4048\">\n",
              "    <div class=\"colab-df-container\">\n",
              "      <div>\n",
              "<style scoped>\n",
              "    .dataframe tbody tr th:only-of-type {\n",
              "        vertical-align: middle;\n",
              "    }\n",
              "\n",
              "    .dataframe tbody tr th {\n",
              "        vertical-align: top;\n",
              "    }\n",
              "\n",
              "    .dataframe thead th {\n",
              "        text-align: right;\n",
              "    }\n",
              "</style>\n",
              "<table border=\"1\" class=\"dataframe\">\n",
              "  <thead>\n",
              "    <tr style=\"text-align: right;\">\n",
              "      <th></th>\n",
              "      <th>USA</th>\n",
              "      <th>TUR</th>\n",
              "      <th>COL</th>\n",
              "    </tr>\n",
              "  </thead>\n",
              "  <tbody>\n",
              "    <tr>\n",
              "      <th>IDCNTRY</th>\n",
              "      <td>0.000000</td>\n",
              "      <td>0.000000</td>\n",
              "      <td>IDCNTRY</td>\n",
              "    </tr>\n",
              "    <tr>\n",
              "      <th>ASBG10E</th>\n",
              "      <td>0.100363</td>\n",
              "      <td>0.069465</td>\n",
              "      <td>ASBG10E</td>\n",
              "    </tr>\n",
              "    <tr>\n",
              "      <th>ASBG11F</th>\n",
              "      <td>0.108055</td>\n",
              "      <td>0.089420</td>\n",
              "      <td>ASBG11F</td>\n",
              "    </tr>\n",
              "    <tr>\n",
              "      <th>ASBM01</th>\n",
              "      <td>0.119141</td>\n",
              "      <td>0.146794</td>\n",
              "      <td>ASBM01</td>\n",
              "    </tr>\n",
              "    <tr>\n",
              "      <th>ASDAGE</th>\n",
              "      <td>0.306218</td>\n",
              "      <td>0.302076</td>\n",
              "      <td>ASDAGE</td>\n",
              "    </tr>\n",
              "    <tr>\n",
              "      <th>ASBS08D</th>\n",
              "      <td>0.082764</td>\n",
              "      <td>0.073222</td>\n",
              "      <td>ASBS08D</td>\n",
              "    </tr>\n",
              "    <tr>\n",
              "      <th>ASBG04</th>\n",
              "      <td>0.146251</td>\n",
              "      <td>0.143912</td>\n",
              "      <td>ASBG04</td>\n",
              "    </tr>\n",
              "    <tr>\n",
              "      <th>ITSEX_Male</th>\n",
              "      <td>0.048129</td>\n",
              "      <td>0.059700</td>\n",
              "      <td>ITSEX_Male</td>\n",
              "    </tr>\n",
              "    <tr>\n",
              "      <th>ASBG05C_Yes</th>\n",
              "      <td>0.055608</td>\n",
              "      <td>0.062765</td>\n",
              "      <td>ASBG05C_Yes</td>\n",
              "    </tr>\n",
              "    <tr>\n",
              "      <th>ASBG05D_Yes</th>\n",
              "      <td>0.033472</td>\n",
              "      <td>0.052645</td>\n",
              "      <td>ASBG05D_Yes</td>\n",
              "    </tr>\n",
              "  </tbody>\n",
              "</table>\n",
              "</div>\n",
              "      <button class=\"colab-df-convert\" onclick=\"convertToInteractive('df-d6fcc360-e511-4afa-ada0-efac0eda4048')\"\n",
              "              title=\"Convert this dataframe to an interactive table.\"\n",
              "              style=\"display:none;\">\n",
              "        \n",
              "  <svg xmlns=\"http://www.w3.org/2000/svg\" height=\"24px\"viewBox=\"0 0 24 24\"\n",
              "       width=\"24px\">\n",
              "    <path d=\"M0 0h24v24H0V0z\" fill=\"none\"/>\n",
              "    <path d=\"M18.56 5.44l.94 2.06.94-2.06 2.06-.94-2.06-.94-.94-2.06-.94 2.06-2.06.94zm-11 1L8.5 8.5l.94-2.06 2.06-.94-2.06-.94L8.5 2.5l-.94 2.06-2.06.94zm10 10l.94 2.06.94-2.06 2.06-.94-2.06-.94-.94-2.06-.94 2.06-2.06.94z\"/><path d=\"M17.41 7.96l-1.37-1.37c-.4-.4-.92-.59-1.43-.59-.52 0-1.04.2-1.43.59L10.3 9.45l-7.72 7.72c-.78.78-.78 2.05 0 2.83L4 21.41c.39.39.9.59 1.41.59.51 0 1.02-.2 1.41-.59l7.78-7.78 2.81-2.81c.8-.78.8-2.07 0-2.86zM5.41 20L4 18.59l7.72-7.72 1.47 1.35L5.41 20z\"/>\n",
              "  </svg>\n",
              "      </button>\n",
              "      \n",
              "  <style>\n",
              "    .colab-df-container {\n",
              "      display:flex;\n",
              "      flex-wrap:wrap;\n",
              "      gap: 12px;\n",
              "    }\n",
              "\n",
              "    .colab-df-convert {\n",
              "      background-color: #E8F0FE;\n",
              "      border: none;\n",
              "      border-radius: 50%;\n",
              "      cursor: pointer;\n",
              "      display: none;\n",
              "      fill: #1967D2;\n",
              "      height: 32px;\n",
              "      padding: 0 0 0 0;\n",
              "      width: 32px;\n",
              "    }\n",
              "\n",
              "    .colab-df-convert:hover {\n",
              "      background-color: #E2EBFA;\n",
              "      box-shadow: 0px 1px 2px rgba(60, 64, 67, 0.3), 0px 1px 3px 1px rgba(60, 64, 67, 0.15);\n",
              "      fill: #174EA6;\n",
              "    }\n",
              "\n",
              "    [theme=dark] .colab-df-convert {\n",
              "      background-color: #3B4455;\n",
              "      fill: #D2E3FC;\n",
              "    }\n",
              "\n",
              "    [theme=dark] .colab-df-convert:hover {\n",
              "      background-color: #434B5C;\n",
              "      box-shadow: 0px 1px 3px 1px rgba(0, 0, 0, 0.15);\n",
              "      filter: drop-shadow(0px 1px 2px rgba(0, 0, 0, 0.3));\n",
              "      fill: #FFFFFF;\n",
              "    }\n",
              "  </style>\n",
              "\n",
              "      <script>\n",
              "        const buttonEl =\n",
              "          document.querySelector('#df-d6fcc360-e511-4afa-ada0-efac0eda4048 button.colab-df-convert');\n",
              "        buttonEl.style.display =\n",
              "          google.colab.kernel.accessAllowed ? 'block' : 'none';\n",
              "\n",
              "        async function convertToInteractive(key) {\n",
              "          const element = document.querySelector('#df-d6fcc360-e511-4afa-ada0-efac0eda4048');\n",
              "          const dataTable =\n",
              "            await google.colab.kernel.invokeFunction('convertToInteractive',\n",
              "                                                     [key], {});\n",
              "          if (!dataTable) return;\n",
              "\n",
              "          const docLinkHtml = 'Like what you see? Visit the ' +\n",
              "            '<a target=\"_blank\" href=https://colab.research.google.com/notebooks/data_table.ipynb>data table notebook</a>'\n",
              "            + ' to learn more about interactive tables.';\n",
              "          element.innerHTML = '';\n",
              "          dataTable['output_type'] = 'display_data';\n",
              "          await google.colab.output.renderOutput(dataTable, element);\n",
              "          const docLink = document.createElement('div');\n",
              "          docLink.innerHTML = docLinkHtml;\n",
              "          element.appendChild(docLink);\n",
              "        }\n",
              "      </script>\n",
              "    </div>\n",
              "  </div>\n",
              "  "
            ]
          },
          "metadata": {},
          "execution_count": 67
        }
      ]
    },
    {
      "cell_type": "code",
      "source": [
        "importancecsv = importancerf.to_csv('importance1.csv')"
      ],
      "metadata": {
        "id": "l2to2vOVVqop"
      },
      "execution_count": null,
      "outputs": []
    },
    {
      "cell_type": "code",
      "source": [
        ""
      ],
      "metadata": {
        "id": "m8i-NncPV0WD"
      },
      "execution_count": null,
      "outputs": []
    },
    {
      "cell_type": "code",
      "source": [
        ""
      ],
      "metadata": {
        "id": "Q_wfOFLu-T3T"
      },
      "execution_count": null,
      "outputs": []
    },
    {
      "cell_type": "code",
      "source": [
        ""
      ],
      "metadata": {
        "id": "N5VuCI8d-Y0K"
      },
      "execution_count": null,
      "outputs": []
    },
    {
      "cell_type": "markdown",
      "source": [
        "### Making prediction"
      ],
      "metadata": {
        "id": "VLXZAmVZx2d-"
      }
    },
    {
      "cell_type": "code",
      "source": [
        "y_pred = regressor.predict(X_test)"
      ],
      "metadata": {
        "id": "otO7o0d0mO6y"
      },
      "execution_count": null,
      "outputs": []
    },
    {
      "cell_type": "code",
      "source": [
        ""
      ],
      "metadata": {
        "id": "4xBk4DIPnP62"
      },
      "execution_count": null,
      "outputs": []
    },
    {
      "cell_type": "markdown",
      "source": [
        "### Showing our result in the dashboard."
      ],
      "metadata": {
        "id": "zYqTjUrSy0u_"
      }
    },
    {
      "cell_type": "code",
      "source": [
        ""
      ],
      "metadata": {
        "id": "rysbN1aGm5wU"
      },
      "execution_count": null,
      "outputs": []
    },
    {
      "cell_type": "code",
      "source": [
        ""
      ],
      "metadata": {
        "id": "5SI9ejVRm6bD"
      },
      "execution_count": null,
      "outputs": []
    },
    {
      "cell_type": "code",
      "source": [
        ""
      ],
      "metadata": {
        "id": "lh6xi3KkIPnZ"
      },
      "execution_count": null,
      "outputs": []
    },
    {
      "cell_type": "code",
      "source": [
        ""
      ],
      "metadata": {
        "id": "wJAD900kIaGm"
      },
      "execution_count": null,
      "outputs": []
    }
  ],
  "metadata": {
    "colab": {
      "collapsed_sections": [],
      "name": "Capstone project Antsa Rakotondrafara",
      "provenance": [],
      "include_colab_link": true
    },
    "kernelspec": {
      "display_name": "Python 3",
      "name": "python3"
    }
  },
  "nbformat": 4,
  "nbformat_minor": 0
}