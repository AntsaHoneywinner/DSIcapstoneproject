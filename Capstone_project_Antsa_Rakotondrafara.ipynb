{
  "cells": [
    {
      "cell_type": "markdown",
      "metadata": {
        "id": "view-in-github",
        "colab_type": "text"
      },
      "source": [
        "<a href=\"https://colab.research.google.com/github/AntsaHoneywinner/DSIcapstoneproject/blob/main/Capstone_project_Antsa_Rakotondrafara.ipynb\" target=\"_parent\"><img src=\"https://colab.research.google.com/assets/colab-badge.svg\" alt=\"Open In Colab\"/></a>"
      ]
    },
    {
      "cell_type": "markdown",
      "source": [
        "# Capstone Project\n",
        "\n",
        "# DSI Program\n",
        "\n",
        "# Antsa Tantely Fandresena Rakotondrafara\n",
        "\n",
        "\n",
        "Github [link](https://github.com/AntsaHoneywinner/DSIcapstoneproject/).\n",
        "\n",
        "Dashboard [link](https://datastudio.google.com/reporting/785bef4b-8c1e-48cd-87a8-c76372f4a0d7).\n",
        "\n",
        "To access the [GeoData](https://datahub.io/core/geo-countries) of all countries.\n",
        "\n",
        "Understand [TIMMS](https://timss2019.org/international-database/?_gl=1*e0igog*_ga*MTE1MzU3MjcyNi4xNjQ0ODc5NDUw*_ga_L2FMXN42HR*MTY0NDg3OTUxMy4xLjAuMTY0NDg3OTUxMy4w).\n",
        "\n",
        "## Regression Analysis  of  Mathematical Achievement using TIMMS 2019 database\n",
        "\n",
        "I owe thanks to all people who make DSI happen!"
      ],
      "metadata": {
        "id": "d5wBXmYxys-F"
      }
    },
    {
      "cell_type": "markdown",
      "source": [
        "Goals :     \n",
        "\n",
        "-  Merging student, school, home and teacher context data in TIMMS,\n",
        "- Build machine learning models that can sketch the feature importance while the target is the achievement.\n",
        "-  Plot all results"
      ],
      "metadata": {
        "id": "Max98xzYzknV"
      }
    },
    {
      "cell_type": "markdown",
      "source": [
        "## The problem to be solved.\n",
        "\n",
        "\n",
        "Overview : When creating a NGO to help girls to achieve their goals, we have limited resources. Hence, we need to focus  on the ones that need the help urgently. Predicting the achievement of a given girl and taking the decision to help her immediately or put her in waiting list is very crucial. The purpose of this project is to build a model that can do such decision. Statistical analysis and machine learning projects have been done in the area, even in the user guide of the datasets but not all participating countries have been studied. \n",
        "\n",
        "\n",
        "### Dataset used :  [TIMSS (TRENDS IN INTERNATIONAL MATHEMATICS AND SCIENCE STUDY) 2019 International Database](https://timss2019.org/international-database/?_gl=1*e0igog*_ga*MTE1MzU3MjcyNi4xNjQ0ODc5NDUw*_ga_L2FMXN42HR*MTY0NDg3OTUxMy4xLjAuMTY0NDg3OTUxMy4w)\n",
        "\n",
        "\n",
        "The database includes student achievement data as well as student, home, teacher, school, and national context data for 64 countries and 8 benchmarking participants. TIMSS 2019 is the seventh assessment cycle of TIMSS since 1995, providing 24 years of trends in mathematics and science achievement at the fourth and eighth grades.\n",
        "\n",
        "\n",
        "\n",
        "We are using machine learning models to predict the average mathematics achievement of fourth  and eight grade students depending on student context, school context, teacher contexct, then  we will visualize the importance.  \n",
        "\n",
        "\n",
        "\n",
        "\n",
        "\n",
        "\n",
        "\n",
        "#### Tutorials to be considered\n",
        "\n",
        "\n",
        "For the EDA \n",
        "\n",
        "https://medium.com/analytics-vidhya/implementing-linear-regression-using-sklearn-76264a3c073c\n",
        "\n",
        "\n",
        "For the models\n",
        "\n",
        "https://www.askpython.com/python/examples/multiple-linear-regression\n",
        "\n",
        "\n",
        "https://www.sfu.ca/~mjbrydon/tutorials/BAinPy/10_multiple_regression.html"
      ],
      "metadata": {
        "id": "yzXgYV0Vz0hk"
      }
    },
    {
      "cell_type": "markdown",
      "source": [
        "# Loading and preprocessing the data"
      ],
      "metadata": {
        "id": "wHlnwsVajvDo"
      }
    },
    {
      "cell_type": "code",
      "source": [
        "#@title Mounting my google drive to access the file. { run: \"auto\", display-mode: \"form\" }\n",
        "from google.colab import drive\n",
        "drive.mount('/content/gdrive') "
      ],
      "metadata": {
        "colab": {
          "base_uri": "https://localhost:8080/"
        },
        "id": "2RRsAHIC6BVB",
        "outputId": "b4257f4f-ff15-4ef2-f22d-3ec382c8b26b"
      },
      "execution_count": 1,
      "outputs": [
        {
          "output_type": "stream",
          "name": "stdout",
          "text": [
            "Drive already mounted at /content/gdrive; to attempt to forcibly remount, call drive.mount(\"/content/gdrive\", force_remount=True).\n"
          ]
        }
      ]
    },
    {
      "cell_type": "markdown",
      "source": [
        "I created the following path to store all my data in this project, please change here according to your data path."
      ],
      "metadata": {
        "id": "0R_N8F9Uji5L"
      }
    },
    {
      "cell_type": "code",
      "source": [
        "ls"
      ],
      "metadata": {
        "colab": {
          "base_uri": "https://localhost:8080/"
        },
        "id": "Fguy6cMgUfxp",
        "outputId": "d6a70a11-84e8-4a7a-872d-b2d3df03d1b3"
      },
      "execution_count": null,
      "outputs": [
        {
          "output_type": "stream",
          "name": "stdout",
          "text": [
            "\u001b[0m\u001b[01;34mgdrive\u001b[0m/  \u001b[01;34msample_data\u001b[0m/\n"
          ]
        }
      ]
    },
    {
      "cell_type": "code",
      "source": [
        "cd /content/gdrive/MyDrive/Antsa_Rakotondrafara_Capstone_project/Mydata"
      ],
      "metadata": {
        "colab": {
          "base_uri": "https://localhost:8080/"
        },
        "id": "-qElnvYXhKaJ",
        "outputId": "02e50430-0fdb-4795-fedf-409a311acb86"
      },
      "execution_count": 2,
      "outputs": [
        {
          "output_type": "stream",
          "name": "stdout",
          "text": [
            "/content/gdrive/MyDrive/Antsa_Rakotondrafara_Capstone_project/Mydata\n"
          ]
        }
      ]
    },
    {
      "cell_type": "markdown",
      "source": [
        "#### Download the data from the TIMMS website.\n",
        "\n",
        "Please uncomment when running at the first time and comment again after running."
      ],
      "metadata": {
        "id": "EcUTa746jOet"
      }
    },
    {
      "cell_type": "code",
      "source": [
        "#@title Downloading the datasets  { run: \"auto\", display-mode: \"form\" }\n",
        "#!wget -P / https://timss2019.org/international-database/downloads/T19_G4_SPSS%20Data.zip\n",
        "#!wget -P / https://timss2019.org/international-database/downloads/T19_G8_SPSS%20Data.zip\n",
        "#!wget -P / https://timss2019.org/international-database/downloads/T19_G4_Curriculum%20Data.zip\n",
        "#!wget -P / https://timss2019.org/international-database/downloads/T19_G8_Curriculum%20Data.zip\n",
        "#!wget -P / https://timss2019.org/international-database/downloads/T19_G4_Codebooks.zip\n",
        "#!wget -P / https://timss2019.org/international-database/downloads/T19_G8_Codebooks.zip\n",
        "#!wget -P / https://timss2019.org/international-database/downloads/T19_G4_Almanacs.zip\n",
        "#!wget -P / https://timss2019.org/international-database/downloads/T19_G8_Almanacs.zip\n",
        "#!wget -P / https://timss2019.org/international-database/downloads/T19_G4_TCMA%20Item%20Selection.zip\n",
        "#!wget -P / https://timss2019.org/international-database/downloads/T19_G8_TCMA%20Item%20Selection.zip"
      ],
      "metadata": {
        "id": "ZNu4y3V_i3tB"
      },
      "execution_count": null,
      "outputs": []
    },
    {
      "cell_type": "markdown",
      "source": [
        "### Download the geo file for the visualization.\n",
        "\n",
        "Please uncomment the cells in this section when running at the first time and comment again after running."
      ],
      "metadata": {
        "id": "cMkCdUlnlG3y"
      }
    },
    {
      "cell_type": "code",
      "source": [
        "#!wget -P / https://datahub.io/core/geo-countries/r/countries.geojson"
      ],
      "metadata": {
        "id": "6XCmXkS3lM-g"
      },
      "execution_count": null,
      "outputs": []
    },
    {
      "cell_type": "markdown",
      "source": [
        "The following cells was used to unzip the data in drive."
      ],
      "metadata": {
        "id": "ZyaRfIgT_INU"
      }
    },
    {
      "cell_type": "code",
      "source": [
        "#@title Unzip the downloaded files. { run: \"auto\", display-mode: \"form\" }\n",
        "#!unzip 'T19_G4_SPSS Data.zip' -d 'T19_G4_SPSS Data'\n",
        "# !unzip   T19_G4_Almanacs.zip -d  T19_G4_Almanacs\n",
        "# !unzip   'T19_G4_Curriculum Data.zip' -d  'T19_G4_Curriculum Data'\n",
        "# !unzip   'T19_G4_TCMA Item Selection.zip' -d  'T19_G4_TCMA Item Selection'\n",
        "# !unzip   T19_G8_Almanacs.zip -d  T19_G8_Almanacs\n",
        "# !unzip   T19_G8_Codebooks.zip -d  T19_G8_Codebooks\n",
        "# !unzip   T19_G4_Codebooks.zip -d  T19_G4_Codebooks\n",
        "# !unzip   'T19_G8_TCMA Item Selection.zip' -d  'T19_G8_TCMA Item Selection'\n",
        "#!unzip 'T19_G8_SPSS Data.zip' -d 'T19_G8_SPSS Data'"
      ],
      "metadata": {
        "id": "BTThPTya99Ub"
      },
      "execution_count": null,
      "outputs": []
    },
    {
      "cell_type": "markdown",
      "source": [
        "Remove all the zipped file."
      ],
      "metadata": {
        "id": "kMFNZtfYnv5E"
      }
    },
    {
      "cell_type": "code",
      "source": [
        "#@title Remove all zip files { display-mode: \"form\" }\n",
        "# #!rm 'T19_G4_SPSS Data.zip'\n",
        "# !rm T19_G4_Almanacs.zip\n",
        "# !rm T19_G4_Codebooks.zip\n",
        "# !rm 'T19_G4_Curriculum Data.zip'\n",
        "# !rm 'T19_G4_TCMA Item Selection.zip'\n",
        "# !rm T19_G8_Almanacs.zip\n",
        "# !rm T19_G8_Codebooks.zip\n",
        "# !rm 'T19_G8_Curriculum Data.zip'\n",
        "# !rm 'T19_G8_SPSS Data.zip'\n",
        "# !rm 'T19_G8_TCMA Item Selection.zip'"
      ],
      "metadata": {
        "id": "baq6DkgJ-szM"
      },
      "execution_count": null,
      "outputs": []
    },
    {
      "cell_type": "markdown",
      "source": [
        "### Merge the datasets ; Student context data, Home context data, school context data, teacher context data."
      ],
      "metadata": {
        "id": "t963vkYhtyI9"
      }
    },
    {
      "cell_type": "markdown",
      "source": [
        "Installing pyreadstat to read ssps file"
      ],
      "metadata": {
        "id": "rQ9pZY8_4-eF"
      }
    },
    {
      "cell_type": "code",
      "source": [
        "!pip install pyreadstat"
      ],
      "metadata": {
        "colab": {
          "base_uri": "https://localhost:8080/"
        },
        "id": "0KH4IQJ8oncy",
        "outputId": "81099897-e9d4-46ce-92fa-62c9073c8b8c"
      },
      "execution_count": 3,
      "outputs": [
        {
          "output_type": "stream",
          "name": "stdout",
          "text": [
            "Collecting pyreadstat\n",
            "  Downloading pyreadstat-1.1.5-cp37-cp37m-manylinux_2_17_x86_64.manylinux2014_x86_64.whl (2.5 MB)\n",
            "\u001b[K     |████████████████████████████████| 2.5 MB 4.2 MB/s \n",
            "\u001b[?25hRequirement already satisfied: pandas>=1.2.0 in /usr/local/lib/python3.7/dist-packages (from pyreadstat) (1.3.5)\n",
            "Requirement already satisfied: numpy>=1.17.3 in /usr/local/lib/python3.7/dist-packages (from pandas>=1.2.0->pyreadstat) (1.21.6)\n",
            "Requirement already satisfied: pytz>=2017.3 in /usr/local/lib/python3.7/dist-packages (from pandas>=1.2.0->pyreadstat) (2022.1)\n",
            "Requirement already satisfied: python-dateutil>=2.7.3 in /usr/local/lib/python3.7/dist-packages (from pandas>=1.2.0->pyreadstat) (2.8.2)\n",
            "Requirement already satisfied: six>=1.5 in /usr/local/lib/python3.7/dist-packages (from python-dateutil>=2.7.3->pandas>=1.2.0->pyreadstat) (1.15.0)\n",
            "Installing collected packages: pyreadstat\n",
            "Successfully installed pyreadstat-1.1.5\n"
          ]
        }
      ]
    },
    {
      "cell_type": "markdown",
      "source": [
        "Importing requiered librairies."
      ],
      "metadata": {
        "id": "8cHCU_LZ5FlL"
      }
    },
    {
      "cell_type": "code",
      "source": [
        "import pandas as pd\n",
        "import pyreadstat\n",
        "from os import walk\n",
        "import time\n",
        "import datetime\n",
        "import numpy as np"
      ],
      "metadata": {
        "id": "MF9LOArA5PaI"
      },
      "execution_count": 3,
      "outputs": []
    },
    {
      "cell_type": "code",
      "source": [
        "def filenames(directory) :\n",
        "  '''take directory name as input return list of all files'''\n",
        "  return next(walk(directory), (None, None, []))[2]  # [] if no file"
      ],
      "metadata": {
        "id": "ShjWjqdvxCeK"
      },
      "execution_count": 4,
      "outputs": []
    },
    {
      "cell_type": "code",
      "source": [
        "Countries = list( set([ i[3:6]  for i in filenames('T19_G4_SPSS Data')]))\n",
        "Countries.sort()"
      ],
      "metadata": {
        "id": "_GC99Slv6_xb"
      },
      "execution_count": 5,
      "outputs": []
    },
    {
      "cell_type": "code",
      "source": [
        "len(Countries)"
      ],
      "metadata": {
        "colab": {
          "base_uri": "https://localhost:8080/"
        },
        "id": "Qq2B-UBbuZ5H",
        "outputId": "46fa6374-ff68-4dab-eb8b-141ae4551d56"
      },
      "execution_count": 6,
      "outputs": [
        {
          "output_type": "execute_result",
          "data": {
            "text/plain": [
              "64"
            ]
          },
          "metadata": {},
          "execution_count": 6
        }
      ]
    },
    {
      "cell_type": "code",
      "source": [
        "def merge_two_dadaframe(df1,df2) :\n",
        "   '''take two dataframes a sinput and output the merged dataframe'''\n",
        "   list1 = df1.columns\n",
        "   list2 = df2.columns\n",
        "   merge_on = list(set.intersection(set(list1), set(list2)))\n",
        "   newdf = pd.merge( df1,df2, on = merge_on, suffixes=('',''))\n",
        "   \n",
        "   return(newdf.dropna(how='all', axis=1))"
      ],
      "metadata": {
        "id": "w04obOdzZoGq"
      },
      "execution_count": 7,
      "outputs": []
    },
    {
      "cell_type": "code",
      "source": [
        "def concat_all_data( tmp_list , directory = 'T19_G8_SPSS Data') :\n",
        "    '''take a list of filename and a directory and return the concatenated dataframe'''\n",
        "    my_data_list = []\n",
        "    for filename in tmp_list :\n",
        "      try :\n",
        "        my_data_list.append(pd.read_spss(directory +'/' + filename))\n",
        "      except :\n",
        "        pass\n",
        "    df = pd.concat(my_data_list)\n",
        "    for col in df.columns :\n",
        "      if 'WGT' in col :\n",
        "        df = df.drop(columns = [col])\n",
        "    return( df.dropna(thresh=len(df.index)* 2/3, axis=1) )"
      ],
      "metadata": {
        "id": "UsH2pLxbbgCc"
      },
      "execution_count": 8,
      "outputs": []
    },
    {
      "cell_type": "code",
      "source": [
        "#@title list column to remove { run: \"auto\", display-mode: \"form\" }\n",
        "myrange = ['01','02','03','04','05']\n",
        "columns_to_rm = ( ['SCOPE','VERSION','BSDGICP',\n",
        "         'WGTADJ1','WGTADJ2','WGTADJ3',\n",
        "         'WGTFAC1','WGTFAC2','WGTFAC',\n",
        "         'BSBG05F','BSBG05G','BSBG05H','BSBG05I',\n",
        "         'BSB21','BSBS22A','BSBS22B','BSBS22D','BSBS22C', 'BSBS22E','BSBS22F', 'BSBS22G','BSBS22I', 'BSBS23A','BSBS23B','BSBS23C','BSBS23D','BSBS23E','BSBS23F','BSBS23G', 'BSBS24A', 'BSBS24B','BSBS24C','BSBS24D','BSBS24E','BSBS24F','BSBS24G','BSBS24H',\n",
        "'BSBS25A','BSBS25B','BSBS25C','BSBS25D','BSBS25E','BSBS25F','BSBS25G','BSBS25H','BSBS25I', \n",
        "'BSBS26AB','BSBS27AB', 'BSBS27BB',\n",
        "'BSBB21', 'BSBB22', 'BSBB23A',  'BSBB23B', 'BSBB23C', 'BSBB23D', 'BSBB23E', 'BSBB23F', 'BSBB23G', 'BSBB23H', 'BSBB23I',\n",
        " 'BSBB24A',  'BSBB24B', 'BSBB24C', 'BSBB24D', 'BSBB24E', 'BSBB24F', 'BSBB24G',\n",
        " 'BSBB25A', 'BSBB25A','BSBB25B','BSBB25C','BSBB25D','BSBB25E','BSBB25F','BSBB25G','BSBB25H',\n",
        "'BSBE26', 'BSBE27', 'BSBE28A', 'BSBE28B', 'BSBE28C', 'BSBE28D', 'BSBE28E', 'BSBE28F', 'BSBE28G', 'BSBE28H', 'BSBE28I', 'BSBE29A','BSBE29B','BSBE29C','BSBE29D','BSBE29E','BSBE29F','BSBE29G',\n",
        "'BSBE30A', 'BSBE30B','BSBE30C','BSBE30D','BSBE30E','BSBE30F','BSBE30G','BSBE30H',\n",
        "'BSBC31', 'BSBC32', 'BSBC33A', 'BSBC33B','BSBC33C','BSBC33D','BSBC33E','BSBC33F','BSBC33G','BSBC33H','BSBC33I', 'BSBC34A', 'BSBC34B','BSBC34C', 'BSBC34D','BSBC34E','BSBC34F', 'BSBC34G',\n",
        "'BSBC35A', 'BSBC35B','BSBC35C','BSBC35D','BSBC35E','BSBC35F','BSBC35G','BSBC35H',\n",
        "'BSBP36', 'BSBP37', 'BSBP38B',  'BSBP38C', 'BSBP38D', 'BSBP38E', 'BSBP38F', 'BSBP38G', 'BSBP38H', 'BSBP38I', 'BSBP38A', \n",
        "'BSBP39A', 'BSBP39B', 'BSBP39C', 'BSBP39D', 'BSBP39E', 'BSBP39F', 'BSBP39G', \n",
        "'BSBP40A', 'BSBP40B', 'BSBP40C', 'BSBP40D', 'BSBP40E', 'BSBP40F', 'BSBP40G', 'BSBP40H', \n",
        "'BSBP41A', 'BSBP41B', 'BSBP41C', 'BSBP41D', 'BSBP41E', 'BSBP41F', 'BSBP41G', 'BSBP41H', 'BSBP41I', \n",
        "'BSBB42AB', 'BSBE42AC','BSBC42AD','BSBP42AE', 'BSBB42BB','BSBE42BC','BSBC42BD',\n",
        "'BSBP42BE','BSBS43AB','BSBS43BB', 'BSBGSLS',  'BSDGSLS',  'BSBGICS', 'BSDGICS',\n",
        "'BSBGSCS', 'BSDBGSCS',  'BSBGSVS', 'BSDGSVS',\n",
        "'BSDGSLB',  'BSBGSLB', 'BSBGICB', 'BSDGICB', 'BSBGSCB', 'BSDGSCB',\n",
        "'BSBGSLE', 'BSDGSLE', \n",
        "'BSBGICE', 'BSDGICE', 'BSBGSCE', 'BSDGSCE', 'BSBGSLC', 'BSDGSLC',  'BSBGICC',\n",
        "'BSDGICC', 'BSBGSCC',\n",
        " 'BSDGSCC', 'BSBGSLP',  'BSDGSLP',\n",
        " 'BSBGICP',  'BSDGICP',\n",
        " 'BSBGSCP',\n",
        " 'BSDGSCP', 'IDBOOK',\n",
        " 'IDPOP', 'IDGRADER', 'TOTWGT'\n",
        "       'IDGRADE', 'ITLANG_SQ', 'LCID_SQ', 'ITLANG_SA', 'LCID_SA', 'ITSEX',\n",
        "       'ITADMINI', 'WGTFAC3', 'JKREP', 'IDLINK',\n",
        "       'IDGRADE', 'IDSUBJ', 'ITCOURSE', 'MATSUBJ', 'SCISUBJ',\n",
        "]\n",
        "       + ['BSSKNO'+myrange[i] for i in range(5)]\n",
        "        + ['BSSBIO'+myrange[i] for i in range(5)]\n",
        "        + ['BSMKNO'+myrange[i] for i in range(5)]\n",
        "        + ['BSMIBM'+myrange[i] for i in range(5)]\n",
        "        + ['BSSIBM'+myrange[i] for i in range(5)]\n",
        "        +['BSSENV'+myrange[i] for i in range(5)]\n",
        "        + ['BSSREA'+myrange[i] for i in range(5) ]\n",
        "        +['BSSPHY'+myrange[i] for i in range(5) ]\n",
        "        + ['BSSEAR'+myrange[i] for i in range(5) ]\n",
        "        +['BSSCHE'+myrange[i] for i in range(5)]\n",
        "        + ['BSSAPP'+myrange[i] for i in range(5)]      \n",
        "        + ['BSMREA'+myrange[i] for i in range(5)] \n",
        "        + ['BSMNUM'+myrange[i] for i in range(5)]\n",
        "         + ['BSMGEO'+myrange[i] for i in range(5)]\n",
        "         + ['BSMDAT'+ myrange[i] for i in range(5)]\n",
        "         + ['BSMAPP'+ myrange[i] for i in range(5)]\n",
        "         + ['BSMALG'+ myrange[i] for i in range(5)]\n",
        "         + ['BSSSCI'+ myrange[i] for i in range(5)]\n",
        "         +  ['BSSIBM'+ myrange[i] for i in range(5)]\n",
        "         + ['BSMIBM01','BSMIBM02','BSMIBM03','BSMIBM04','BSMIBM05']\n",
        "         )\n",
        "\n",
        "\n",
        "achievement_col =  ['BSMMAT'+ myrange[i] for i in range(5)]\n",
        "index_cols = ['COUNTRY', 'IDSCHOOL', 'IDCLASS', 'IDSTUD','IDTEACH']\n"
      ],
      "metadata": {
        "id": "qJ_d9P-8SfKG"
      },
      "execution_count": 9,
      "outputs": []
    },
    {
      "cell_type": "code",
      "source": [
        "from statistics import mean"
      ],
      "metadata": {
        "id": "vpLjY0x_mYbB"
      },
      "execution_count": 10,
      "outputs": []
    },
    {
      "cell_type": "code",
      "source": [
        "test  = pd.read_spss('T19_G8_SPSS Data' +'/' +'bsgsweb7.sav')"
      ],
      "metadata": {
        "id": "naLmww_-Tdar"
      },
      "execution_count": 11,
      "outputs": []
    },
    {
      "cell_type": "code",
      "source": [
        "def drop_cols(df) :\n",
        "  for col in columns_to_rm :\n",
        "    try :\n",
        "        df = df.drop(columns = [col])\n",
        "    except : pass\n",
        "  return df"
      ],
      "metadata": {
        "id": "dvotN_pgfQHY"
      },
      "execution_count": 12,
      "outputs": []
    },
    {
      "cell_type": "code",
      "source": [
        "test = drop_cols(test)"
      ],
      "metadata": {
        "id": "PY1dei6ii6J9"
      },
      "execution_count": 13,
      "outputs": []
    },
    {
      "cell_type": "code",
      "source": [
        "test[achievement_col]"
      ],
      "metadata": {
        "colab": {
          "base_uri": "https://localhost:8080/",
          "height": 423
        },
        "id": "eKZj3v8CiVzL",
        "outputId": "6e993b3f-54d6-4a93-ea87-6513f7b20cc0"
      },
      "execution_count": 14,
      "outputs": [
        {
          "output_type": "execute_result",
          "data": {
            "text/plain": [
              "       BSMMAT01   BSMMAT02   BSMMAT03   BSMMAT04   BSMMAT05\n",
              "0     569.51633  518.33905  523.19754  533.95851  516.23680\n",
              "1     566.45433  542.41167  569.63464  548.14431  565.42280\n",
              "2     610.96609  700.67558  637.06737  698.95980  690.36918\n",
              "3     414.85784  417.21581  423.47393  350.01036  439.36993\n",
              "4     534.63218  541.16746  527.28159  577.90312  549.52355\n",
              "...         ...        ...        ...        ...        ...\n",
              "1577  566.56835  580.09974  554.66963  539.18886  591.58554\n",
              "1578  495.62217  477.63712  496.87171  484.00318  507.84728\n",
              "1579  501.02916  486.40706  490.71665  497.39446  489.97223\n",
              "1580  427.62173  315.76273  375.69163  379.96520  342.82645\n",
              "1581  467.54740  434.60095  450.06303  414.51052  477.83241\n",
              "\n",
              "[1582 rows x 5 columns]"
            ],
            "text/html": [
              "\n",
              "  <div id=\"df-c91cf06d-03fe-4a47-b70b-0d3625156745\">\n",
              "    <div class=\"colab-df-container\">\n",
              "      <div>\n",
              "<style scoped>\n",
              "    .dataframe tbody tr th:only-of-type {\n",
              "        vertical-align: middle;\n",
              "    }\n",
              "\n",
              "    .dataframe tbody tr th {\n",
              "        vertical-align: top;\n",
              "    }\n",
              "\n",
              "    .dataframe thead th {\n",
              "        text-align: right;\n",
              "    }\n",
              "</style>\n",
              "<table border=\"1\" class=\"dataframe\">\n",
              "  <thead>\n",
              "    <tr style=\"text-align: right;\">\n",
              "      <th></th>\n",
              "      <th>BSMMAT01</th>\n",
              "      <th>BSMMAT02</th>\n",
              "      <th>BSMMAT03</th>\n",
              "      <th>BSMMAT04</th>\n",
              "      <th>BSMMAT05</th>\n",
              "    </tr>\n",
              "  </thead>\n",
              "  <tbody>\n",
              "    <tr>\n",
              "      <th>0</th>\n",
              "      <td>569.51633</td>\n",
              "      <td>518.33905</td>\n",
              "      <td>523.19754</td>\n",
              "      <td>533.95851</td>\n",
              "      <td>516.23680</td>\n",
              "    </tr>\n",
              "    <tr>\n",
              "      <th>1</th>\n",
              "      <td>566.45433</td>\n",
              "      <td>542.41167</td>\n",
              "      <td>569.63464</td>\n",
              "      <td>548.14431</td>\n",
              "      <td>565.42280</td>\n",
              "    </tr>\n",
              "    <tr>\n",
              "      <th>2</th>\n",
              "      <td>610.96609</td>\n",
              "      <td>700.67558</td>\n",
              "      <td>637.06737</td>\n",
              "      <td>698.95980</td>\n",
              "      <td>690.36918</td>\n",
              "    </tr>\n",
              "    <tr>\n",
              "      <th>3</th>\n",
              "      <td>414.85784</td>\n",
              "      <td>417.21581</td>\n",
              "      <td>423.47393</td>\n",
              "      <td>350.01036</td>\n",
              "      <td>439.36993</td>\n",
              "    </tr>\n",
              "    <tr>\n",
              "      <th>4</th>\n",
              "      <td>534.63218</td>\n",
              "      <td>541.16746</td>\n",
              "      <td>527.28159</td>\n",
              "      <td>577.90312</td>\n",
              "      <td>549.52355</td>\n",
              "    </tr>\n",
              "    <tr>\n",
              "      <th>...</th>\n",
              "      <td>...</td>\n",
              "      <td>...</td>\n",
              "      <td>...</td>\n",
              "      <td>...</td>\n",
              "      <td>...</td>\n",
              "    </tr>\n",
              "    <tr>\n",
              "      <th>1577</th>\n",
              "      <td>566.56835</td>\n",
              "      <td>580.09974</td>\n",
              "      <td>554.66963</td>\n",
              "      <td>539.18886</td>\n",
              "      <td>591.58554</td>\n",
              "    </tr>\n",
              "    <tr>\n",
              "      <th>1578</th>\n",
              "      <td>495.62217</td>\n",
              "      <td>477.63712</td>\n",
              "      <td>496.87171</td>\n",
              "      <td>484.00318</td>\n",
              "      <td>507.84728</td>\n",
              "    </tr>\n",
              "    <tr>\n",
              "      <th>1579</th>\n",
              "      <td>501.02916</td>\n",
              "      <td>486.40706</td>\n",
              "      <td>490.71665</td>\n",
              "      <td>497.39446</td>\n",
              "      <td>489.97223</td>\n",
              "    </tr>\n",
              "    <tr>\n",
              "      <th>1580</th>\n",
              "      <td>427.62173</td>\n",
              "      <td>315.76273</td>\n",
              "      <td>375.69163</td>\n",
              "      <td>379.96520</td>\n",
              "      <td>342.82645</td>\n",
              "    </tr>\n",
              "    <tr>\n",
              "      <th>1581</th>\n",
              "      <td>467.54740</td>\n",
              "      <td>434.60095</td>\n",
              "      <td>450.06303</td>\n",
              "      <td>414.51052</td>\n",
              "      <td>477.83241</td>\n",
              "    </tr>\n",
              "  </tbody>\n",
              "</table>\n",
              "<p>1582 rows × 5 columns</p>\n",
              "</div>\n",
              "      <button class=\"colab-df-convert\" onclick=\"convertToInteractive('df-c91cf06d-03fe-4a47-b70b-0d3625156745')\"\n",
              "              title=\"Convert this dataframe to an interactive table.\"\n",
              "              style=\"display:none;\">\n",
              "        \n",
              "  <svg xmlns=\"http://www.w3.org/2000/svg\" height=\"24px\"viewBox=\"0 0 24 24\"\n",
              "       width=\"24px\">\n",
              "    <path d=\"M0 0h24v24H0V0z\" fill=\"none\"/>\n",
              "    <path d=\"M18.56 5.44l.94 2.06.94-2.06 2.06-.94-2.06-.94-.94-2.06-.94 2.06-2.06.94zm-11 1L8.5 8.5l.94-2.06 2.06-.94-2.06-.94L8.5 2.5l-.94 2.06-2.06.94zm10 10l.94 2.06.94-2.06 2.06-.94-2.06-.94-.94-2.06-.94 2.06-2.06.94z\"/><path d=\"M17.41 7.96l-1.37-1.37c-.4-.4-.92-.59-1.43-.59-.52 0-1.04.2-1.43.59L10.3 9.45l-7.72 7.72c-.78.78-.78 2.05 0 2.83L4 21.41c.39.39.9.59 1.41.59.51 0 1.02-.2 1.41-.59l7.78-7.78 2.81-2.81c.8-.78.8-2.07 0-2.86zM5.41 20L4 18.59l7.72-7.72 1.47 1.35L5.41 20z\"/>\n",
              "  </svg>\n",
              "      </button>\n",
              "      \n",
              "  <style>\n",
              "    .colab-df-container {\n",
              "      display:flex;\n",
              "      flex-wrap:wrap;\n",
              "      gap: 12px;\n",
              "    }\n",
              "\n",
              "    .colab-df-convert {\n",
              "      background-color: #E8F0FE;\n",
              "      border: none;\n",
              "      border-radius: 50%;\n",
              "      cursor: pointer;\n",
              "      display: none;\n",
              "      fill: #1967D2;\n",
              "      height: 32px;\n",
              "      padding: 0 0 0 0;\n",
              "      width: 32px;\n",
              "    }\n",
              "\n",
              "    .colab-df-convert:hover {\n",
              "      background-color: #E2EBFA;\n",
              "      box-shadow: 0px 1px 2px rgba(60, 64, 67, 0.3), 0px 1px 3px 1px rgba(60, 64, 67, 0.15);\n",
              "      fill: #174EA6;\n",
              "    }\n",
              "\n",
              "    [theme=dark] .colab-df-convert {\n",
              "      background-color: #3B4455;\n",
              "      fill: #D2E3FC;\n",
              "    }\n",
              "\n",
              "    [theme=dark] .colab-df-convert:hover {\n",
              "      background-color: #434B5C;\n",
              "      box-shadow: 0px 1px 3px 1px rgba(0, 0, 0, 0.15);\n",
              "      filter: drop-shadow(0px 1px 2px rgba(0, 0, 0, 0.3));\n",
              "      fill: #FFFFFF;\n",
              "    }\n",
              "  </style>\n",
              "\n",
              "      <script>\n",
              "        const buttonEl =\n",
              "          document.querySelector('#df-c91cf06d-03fe-4a47-b70b-0d3625156745 button.colab-df-convert');\n",
              "        buttonEl.style.display =\n",
              "          google.colab.kernel.accessAllowed ? 'block' : 'none';\n",
              "\n",
              "        async function convertToInteractive(key) {\n",
              "          const element = document.querySelector('#df-c91cf06d-03fe-4a47-b70b-0d3625156745');\n",
              "          const dataTable =\n",
              "            await google.colab.kernel.invokeFunction('convertToInteractive',\n",
              "                                                     [key], {});\n",
              "          if (!dataTable) return;\n",
              "\n",
              "          const docLinkHtml = 'Like what you see? Visit the ' +\n",
              "            '<a target=\"_blank\" href=https://colab.research.google.com/notebooks/data_table.ipynb>data table notebook</a>'\n",
              "            + ' to learn more about interactive tables.';\n",
              "          element.innerHTML = '';\n",
              "          dataTable['output_type'] = 'display_data';\n",
              "          await google.colab.output.renderOutput(dataTable, element);\n",
              "          const docLink = document.createElement('div');\n",
              "          docLink.innerHTML = docLinkHtml;\n",
              "          element.appendChild(docLink);\n",
              "        }\n",
              "      </script>\n",
              "    </div>\n",
              "  </div>\n",
              "  "
            ]
          },
          "metadata": {},
          "execution_count": 14
        }
      ]
    },
    {
      "cell_type": "code",
      "source": [
        "achievement_col"
      ],
      "metadata": {
        "colab": {
          "base_uri": "https://localhost:8080/"
        },
        "id": "KvQ7Z525jhdr",
        "outputId": "3ea0d911-37d7-4909-8a9f-c4e507aa9ad2"
      },
      "execution_count": 15,
      "outputs": [
        {
          "output_type": "execute_result",
          "data": {
            "text/plain": [
              "['BSMMAT01', 'BSMMAT02', 'BSMMAT03', 'BSMMAT04', 'BSMMAT05']"
            ]
          },
          "metadata": {},
          "execution_count": 15
        }
      ]
    },
    {
      "cell_type": "code",
      "source": [
        "def make_achievement_cols(df) :\n",
        "  '''Take the average of the 5 achievement columns'''\n",
        "  achiev = []\n",
        "  for row in df.itertuples():\n",
        "   achiev.append(mean([row.BSMMAT01, row.BSMMAT02,row.BSMMAT03,row.BSMMAT04,row.BSMMAT05]) )\n",
        "  df['ACHIEV'] = achiev \n",
        "  df = df.drop(columns = achievement_col)\n",
        "  return df"
      ],
      "metadata": {
        "id": "ABFVl2aUgUTx"
      },
      "execution_count": 16,
      "outputs": []
    },
    {
      "cell_type": "code",
      "source": [
        "test = make_achievement_cols(test) \n",
        "test.head()"
      ],
      "metadata": {
        "colab": {
          "base_uri": "https://localhost:8080/",
          "height": 510
        },
        "id": "SuzAsYVlVSj4",
        "outputId": "496d0b76-1d1c-4abd-a8c9-fb47da5bbf2b"
      },
      "execution_count": 17,
      "outputs": [
        {
          "output_type": "stream",
          "name": "stderr",
          "text": [
            "/usr/local/lib/python3.7/dist-packages/ipykernel_launcher.py:6: PerformanceWarning: DataFrame is highly fragmented.  This is usually the result of calling `frame.insert` many times, which has poor performance.  Consider joining all columns at once using pd.concat(axis=1) instead.  To get a de-fragmented frame, use `newframe = frame.copy()`\n",
            "  \n"
          ]
        },
        {
          "output_type": "execute_result",
          "data": {
            "text/plain": [
              "  IDCNTRY IDSCHOOL   IDCLASS      IDSTUD BSBG01         BSBG03  \\\n",
              "0   752.0   5005.0  500503.0  50050301.0    Boy         Always   \n",
              "1   752.0   5005.0  500503.0  50050303.0    Boy  Almost always   \n",
              "2   752.0   5005.0  500503.0  50050304.0    Boy         Always   \n",
              "3   752.0   5005.0  500503.0  50050305.0   Girl  Almost always   \n",
              "4   752.0   5005.0  500503.0  50050307.0    Boy         Always   \n",
              "\n",
              "                                       BSBG04 BSBG05A BSBG05B BSBG05C  ...  \\\n",
              "0  Enough to fill one bookcase (26–100 books)     Yes     Yes     Yes  ...   \n",
              "1  Enough to fill one bookcase (26–100 books)     Yes     Yes     Yes  ...   \n",
              "2  Enough to fill one bookcase (26–100 books)     Yes     Yes     Yes  ...   \n",
              "3      Enough to fill one shelf (11–25 books)     Yes     Yes     Yes  ...   \n",
              "4               None or very few (0–10 books)     Yes     Yes     Yes  ...   \n",
              "\n",
              "    BSBGSCM                            BSDGSCM   BSBGSVM  \\\n",
              "0  11.41779  Somewhat Confident in Mathematics   8.34615   \n",
              "1  10.59469  Somewhat Confident in Mathematics   8.12441   \n",
              "2  15.85188      Very Confident in Mathematics  13.48293   \n",
              "3   7.67800       Not Confident in Mathematics   8.82228   \n",
              "4   9.22591       Not Confident in Mathematics   9.65438   \n",
              "\n",
              "                      BSDGSVM BSDGSCS                                BSDG05S  \\\n",
              "0  Somewhat Value Mathematics     NaN  Both Own Room and Internet Connection   \n",
              "1  Somewhat Value Mathematics     NaN  Both Own Room and Internet Connection   \n",
              "2  Strongly Value Mathematics     NaN  Both Own Room and Internet Connection   \n",
              "3  Somewhat Value Mathematics     NaN  Both Own Room and Internet Connection   \n",
              "4  Somewhat Value Mathematics     NaN  Both Own Room and Internet Connection   \n",
              "\n",
              "                            BSDGEDUP BSDMLOWP BSDSLOWP      ACHIEV  \n",
              "0  Post-secondary but not University       No       No  532.249646  \n",
              "1                    Upper Secondary       No       No  558.413550  \n",
              "2               University or Higher       No       No  667.607604  \n",
              "3               University or Higher       No       No  408.985574  \n",
              "4                         Don't Know       No       No  546.101580  \n",
              "\n",
              "[5 rows x 135 columns]"
            ],
            "text/html": [
              "\n",
              "  <div id=\"df-9ca3e060-3284-4edc-a13a-5ccb896fe849\">\n",
              "    <div class=\"colab-df-container\">\n",
              "      <div>\n",
              "<style scoped>\n",
              "    .dataframe tbody tr th:only-of-type {\n",
              "        vertical-align: middle;\n",
              "    }\n",
              "\n",
              "    .dataframe tbody tr th {\n",
              "        vertical-align: top;\n",
              "    }\n",
              "\n",
              "    .dataframe thead th {\n",
              "        text-align: right;\n",
              "    }\n",
              "</style>\n",
              "<table border=\"1\" class=\"dataframe\">\n",
              "  <thead>\n",
              "    <tr style=\"text-align: right;\">\n",
              "      <th></th>\n",
              "      <th>IDCNTRY</th>\n",
              "      <th>IDSCHOOL</th>\n",
              "      <th>IDCLASS</th>\n",
              "      <th>IDSTUD</th>\n",
              "      <th>BSBG01</th>\n",
              "      <th>BSBG03</th>\n",
              "      <th>BSBG04</th>\n",
              "      <th>BSBG05A</th>\n",
              "      <th>BSBG05B</th>\n",
              "      <th>BSBG05C</th>\n",
              "      <th>...</th>\n",
              "      <th>BSBGSCM</th>\n",
              "      <th>BSDGSCM</th>\n",
              "      <th>BSBGSVM</th>\n",
              "      <th>BSDGSVM</th>\n",
              "      <th>BSDGSCS</th>\n",
              "      <th>BSDG05S</th>\n",
              "      <th>BSDGEDUP</th>\n",
              "      <th>BSDMLOWP</th>\n",
              "      <th>BSDSLOWP</th>\n",
              "      <th>ACHIEV</th>\n",
              "    </tr>\n",
              "  </thead>\n",
              "  <tbody>\n",
              "    <tr>\n",
              "      <th>0</th>\n",
              "      <td>752.0</td>\n",
              "      <td>5005.0</td>\n",
              "      <td>500503.0</td>\n",
              "      <td>50050301.0</td>\n",
              "      <td>Boy</td>\n",
              "      <td>Always</td>\n",
              "      <td>Enough to fill one bookcase (26–100 books)</td>\n",
              "      <td>Yes</td>\n",
              "      <td>Yes</td>\n",
              "      <td>Yes</td>\n",
              "      <td>...</td>\n",
              "      <td>11.41779</td>\n",
              "      <td>Somewhat Confident in Mathematics</td>\n",
              "      <td>8.34615</td>\n",
              "      <td>Somewhat Value Mathematics</td>\n",
              "      <td>NaN</td>\n",
              "      <td>Both Own Room and Internet Connection</td>\n",
              "      <td>Post-secondary but not University</td>\n",
              "      <td>No</td>\n",
              "      <td>No</td>\n",
              "      <td>532.249646</td>\n",
              "    </tr>\n",
              "    <tr>\n",
              "      <th>1</th>\n",
              "      <td>752.0</td>\n",
              "      <td>5005.0</td>\n",
              "      <td>500503.0</td>\n",
              "      <td>50050303.0</td>\n",
              "      <td>Boy</td>\n",
              "      <td>Almost always</td>\n",
              "      <td>Enough to fill one bookcase (26–100 books)</td>\n",
              "      <td>Yes</td>\n",
              "      <td>Yes</td>\n",
              "      <td>Yes</td>\n",
              "      <td>...</td>\n",
              "      <td>10.59469</td>\n",
              "      <td>Somewhat Confident in Mathematics</td>\n",
              "      <td>8.12441</td>\n",
              "      <td>Somewhat Value Mathematics</td>\n",
              "      <td>NaN</td>\n",
              "      <td>Both Own Room and Internet Connection</td>\n",
              "      <td>Upper Secondary</td>\n",
              "      <td>No</td>\n",
              "      <td>No</td>\n",
              "      <td>558.413550</td>\n",
              "    </tr>\n",
              "    <tr>\n",
              "      <th>2</th>\n",
              "      <td>752.0</td>\n",
              "      <td>5005.0</td>\n",
              "      <td>500503.0</td>\n",
              "      <td>50050304.0</td>\n",
              "      <td>Boy</td>\n",
              "      <td>Always</td>\n",
              "      <td>Enough to fill one bookcase (26–100 books)</td>\n",
              "      <td>Yes</td>\n",
              "      <td>Yes</td>\n",
              "      <td>Yes</td>\n",
              "      <td>...</td>\n",
              "      <td>15.85188</td>\n",
              "      <td>Very Confident in Mathematics</td>\n",
              "      <td>13.48293</td>\n",
              "      <td>Strongly Value Mathematics</td>\n",
              "      <td>NaN</td>\n",
              "      <td>Both Own Room and Internet Connection</td>\n",
              "      <td>University or Higher</td>\n",
              "      <td>No</td>\n",
              "      <td>No</td>\n",
              "      <td>667.607604</td>\n",
              "    </tr>\n",
              "    <tr>\n",
              "      <th>3</th>\n",
              "      <td>752.0</td>\n",
              "      <td>5005.0</td>\n",
              "      <td>500503.0</td>\n",
              "      <td>50050305.0</td>\n",
              "      <td>Girl</td>\n",
              "      <td>Almost always</td>\n",
              "      <td>Enough to fill one shelf (11–25 books)</td>\n",
              "      <td>Yes</td>\n",
              "      <td>Yes</td>\n",
              "      <td>Yes</td>\n",
              "      <td>...</td>\n",
              "      <td>7.67800</td>\n",
              "      <td>Not Confident in Mathematics</td>\n",
              "      <td>8.82228</td>\n",
              "      <td>Somewhat Value Mathematics</td>\n",
              "      <td>NaN</td>\n",
              "      <td>Both Own Room and Internet Connection</td>\n",
              "      <td>University or Higher</td>\n",
              "      <td>No</td>\n",
              "      <td>No</td>\n",
              "      <td>408.985574</td>\n",
              "    </tr>\n",
              "    <tr>\n",
              "      <th>4</th>\n",
              "      <td>752.0</td>\n",
              "      <td>5005.0</td>\n",
              "      <td>500503.0</td>\n",
              "      <td>50050307.0</td>\n",
              "      <td>Boy</td>\n",
              "      <td>Always</td>\n",
              "      <td>None or very few (0–10 books)</td>\n",
              "      <td>Yes</td>\n",
              "      <td>Yes</td>\n",
              "      <td>Yes</td>\n",
              "      <td>...</td>\n",
              "      <td>9.22591</td>\n",
              "      <td>Not Confident in Mathematics</td>\n",
              "      <td>9.65438</td>\n",
              "      <td>Somewhat Value Mathematics</td>\n",
              "      <td>NaN</td>\n",
              "      <td>Both Own Room and Internet Connection</td>\n",
              "      <td>Don't Know</td>\n",
              "      <td>No</td>\n",
              "      <td>No</td>\n",
              "      <td>546.101580</td>\n",
              "    </tr>\n",
              "  </tbody>\n",
              "</table>\n",
              "<p>5 rows × 135 columns</p>\n",
              "</div>\n",
              "      <button class=\"colab-df-convert\" onclick=\"convertToInteractive('df-9ca3e060-3284-4edc-a13a-5ccb896fe849')\"\n",
              "              title=\"Convert this dataframe to an interactive table.\"\n",
              "              style=\"display:none;\">\n",
              "        \n",
              "  <svg xmlns=\"http://www.w3.org/2000/svg\" height=\"24px\"viewBox=\"0 0 24 24\"\n",
              "       width=\"24px\">\n",
              "    <path d=\"M0 0h24v24H0V0z\" fill=\"none\"/>\n",
              "    <path d=\"M18.56 5.44l.94 2.06.94-2.06 2.06-.94-2.06-.94-.94-2.06-.94 2.06-2.06.94zm-11 1L8.5 8.5l.94-2.06 2.06-.94-2.06-.94L8.5 2.5l-.94 2.06-2.06.94zm10 10l.94 2.06.94-2.06 2.06-.94-2.06-.94-.94-2.06-.94 2.06-2.06.94z\"/><path d=\"M17.41 7.96l-1.37-1.37c-.4-.4-.92-.59-1.43-.59-.52 0-1.04.2-1.43.59L10.3 9.45l-7.72 7.72c-.78.78-.78 2.05 0 2.83L4 21.41c.39.39.9.59 1.41.59.51 0 1.02-.2 1.41-.59l7.78-7.78 2.81-2.81c.8-.78.8-2.07 0-2.86zM5.41 20L4 18.59l7.72-7.72 1.47 1.35L5.41 20z\"/>\n",
              "  </svg>\n",
              "      </button>\n",
              "      \n",
              "  <style>\n",
              "    .colab-df-container {\n",
              "      display:flex;\n",
              "      flex-wrap:wrap;\n",
              "      gap: 12px;\n",
              "    }\n",
              "\n",
              "    .colab-df-convert {\n",
              "      background-color: #E8F0FE;\n",
              "      border: none;\n",
              "      border-radius: 50%;\n",
              "      cursor: pointer;\n",
              "      display: none;\n",
              "      fill: #1967D2;\n",
              "      height: 32px;\n",
              "      padding: 0 0 0 0;\n",
              "      width: 32px;\n",
              "    }\n",
              "\n",
              "    .colab-df-convert:hover {\n",
              "      background-color: #E2EBFA;\n",
              "      box-shadow: 0px 1px 2px rgba(60, 64, 67, 0.3), 0px 1px 3px 1px rgba(60, 64, 67, 0.15);\n",
              "      fill: #174EA6;\n",
              "    }\n",
              "\n",
              "    [theme=dark] .colab-df-convert {\n",
              "      background-color: #3B4455;\n",
              "      fill: #D2E3FC;\n",
              "    }\n",
              "\n",
              "    [theme=dark] .colab-df-convert:hover {\n",
              "      background-color: #434B5C;\n",
              "      box-shadow: 0px 1px 3px 1px rgba(0, 0, 0, 0.15);\n",
              "      filter: drop-shadow(0px 1px 2px rgba(0, 0, 0, 0.3));\n",
              "      fill: #FFFFFF;\n",
              "    }\n",
              "  </style>\n",
              "\n",
              "      <script>\n",
              "        const buttonEl =\n",
              "          document.querySelector('#df-9ca3e060-3284-4edc-a13a-5ccb896fe849 button.colab-df-convert');\n",
              "        buttonEl.style.display =\n",
              "          google.colab.kernel.accessAllowed ? 'block' : 'none';\n",
              "\n",
              "        async function convertToInteractive(key) {\n",
              "          const element = document.querySelector('#df-9ca3e060-3284-4edc-a13a-5ccb896fe849');\n",
              "          const dataTable =\n",
              "            await google.colab.kernel.invokeFunction('convertToInteractive',\n",
              "                                                     [key], {});\n",
              "          if (!dataTable) return;\n",
              "\n",
              "          const docLinkHtml = 'Like what you see? Visit the ' +\n",
              "            '<a target=\"_blank\" href=https://colab.research.google.com/notebooks/data_table.ipynb>data table notebook</a>'\n",
              "            + ' to learn more about interactive tables.';\n",
              "          element.innerHTML = '';\n",
              "          dataTable['output_type'] = 'display_data';\n",
              "          await google.colab.output.renderOutput(dataTable, element);\n",
              "          const docLink = document.createElement('div');\n",
              "          docLink.innerHTML = docLinkHtml;\n",
              "          element.appendChild(docLink);\n",
              "        }\n",
              "      </script>\n",
              "    </div>\n",
              "  </div>\n",
              "  "
            ]
          },
          "metadata": {},
          "execution_count": 17
        }
      ]
    },
    {
      "cell_type": "code",
      "source": [
        ""
      ],
      "metadata": {
        "id": "D6BlsAXOxVzu"
      },
      "execution_count": null,
      "outputs": []
    },
    {
      "cell_type": "code",
      "source": [
        "country_id = pd.read_csv('country_id.csv')\n",
        "def country(idcntry) :\n",
        "    try : return ((country_id[country_id['IDCNTRY'] ==idcntry]).iloc[0])['Country']\n",
        "    except : return 'Not found'\n"
      ],
      "metadata": {
        "id": "YB7q06g8pHyf"
      },
      "execution_count": 18,
      "outputs": []
    },
    {
      "cell_type": "code",
      "source": [
        "country(62) "
      ],
      "metadata": {
        "colab": {
          "base_uri": "https://localhost:8080/",
          "height": 36
        },
        "id": "QLf1zEjYzskk",
        "outputId": "73ba0885-9d87-4b06-96e8-e0de9e49fe4d"
      },
      "execution_count": 19,
      "outputs": [
        {
          "output_type": "execute_result",
          "data": {
            "text/plain": [
              "'Not found'"
            ],
            "application/vnd.google.colaboratory.intrinsic+json": {
              "type": "string"
            }
          },
          "metadata": {},
          "execution_count": 19
        }
      ]
    },
    {
      "cell_type": "code",
      "source": [
        "def make_country(df) :\n",
        "  COUNTRY = []\n",
        "  for row in df.itertuples():\n",
        "     COUNTRY.append(country(row.IDCNTRY))\n",
        "  df['COUNTRY'] = COUNTRY \n",
        "  df = df.drop(columns = ['IDCNTRY'])\n",
        "  return df\n",
        "   "
      ],
      "metadata": {
        "id": "PFMzdVfToukT"
      },
      "execution_count": 20,
      "outputs": []
    },
    {
      "cell_type": "code",
      "source": [
        "make_country(test)"
      ],
      "metadata": {
        "id": "kQi1quoK0Wsd",
        "colab": {
          "base_uri": "https://localhost:8080/",
          "height": 1000
        },
        "outputId": "429b9125-5f8e-46e5-d8f6-c7690929480b"
      },
      "execution_count": 21,
      "outputs": [
        {
          "output_type": "stream",
          "name": "stderr",
          "text": [
            "/usr/local/lib/python3.7/dist-packages/ipykernel_launcher.py:5: PerformanceWarning: DataFrame is highly fragmented.  This is usually the result of calling `frame.insert` many times, which has poor performance.  Consider joining all columns at once using pd.concat(axis=1) instead.  To get a de-fragmented frame, use `newframe = frame.copy()`\n",
            "  \"\"\"\n"
          ]
        },
        {
          "output_type": "execute_result",
          "data": {
            "text/plain": [
              "     IDSCHOOL   IDCLASS      IDSTUD BSBG01         BSBG03  \\\n",
              "0      5005.0  500503.0  50050301.0    Boy         Always   \n",
              "1      5005.0  500503.0  50050303.0    Boy  Almost always   \n",
              "2      5005.0  500503.0  50050304.0    Boy         Always   \n",
              "3      5005.0  500503.0  50050305.0   Girl  Almost always   \n",
              "4      5005.0  500503.0  50050307.0    Boy         Always   \n",
              "...       ...       ...         ...    ...            ...   \n",
              "1577   5203.0  520304.0  52030419.0    Boy  Almost always   \n",
              "1578   5203.0  520304.0  52030420.0   Girl         Always   \n",
              "1579   5203.0  520304.0  52030421.0    Boy         Always   \n",
              "1580   5203.0  520304.0  52030422.0   Girl            NaN   \n",
              "1581   5203.0  520304.0  52030425.0    Boy      Sometimes   \n",
              "\n",
              "                                            BSBG04 BSBG05A BSBG05B BSBG05C  \\\n",
              "0       Enough to fill one bookcase (26–100 books)     Yes     Yes     Yes   \n",
              "1       Enough to fill one bookcase (26–100 books)     Yes     Yes     Yes   \n",
              "2       Enough to fill one bookcase (26–100 books)     Yes     Yes     Yes   \n",
              "3           Enough to fill one shelf (11–25 books)     Yes     Yes     Yes   \n",
              "4                    None or very few (0–10 books)     Yes     Yes     Yes   \n",
              "...                                            ...     ...     ...     ...   \n",
              "1577                 None or very few (0–10 books)     Yes     Yes      No   \n",
              "1578  Enough to fill two bookcases (101–200 books)     Yes     Yes     Yes   \n",
              "1579    Enough to fill one bookcase (26–100 books)     Yes     Yes      No   \n",
              "1580                                           NaN      No     Yes     Yes   \n",
              "1581                 None or very few (0–10 books)     Yes     Yes      No   \n",
              "\n",
              "     BSBG05D  ...                            BSDGSCM   BSBGSVM  \\\n",
              "0        Yes  ...  Somewhat Confident in Mathematics   8.34615   \n",
              "1        Yes  ...  Somewhat Confident in Mathematics   8.12441   \n",
              "2        Yes  ...      Very Confident in Mathematics  13.48293   \n",
              "3        Yes  ...       Not Confident in Mathematics   8.82228   \n",
              "4        Yes  ...       Not Confident in Mathematics   9.65438   \n",
              "...      ...  ...                                ...       ...   \n",
              "1577     Yes  ...      Very Confident in Mathematics   9.35676   \n",
              "1578     Yes  ...       Not Confident in Mathematics   8.34615   \n",
              "1579     Yes  ...  Somewhat Confident in Mathematics   9.35676   \n",
              "1580      No  ...       Not Confident in Mathematics   8.57829   \n",
              "1581     Yes  ...  Somewhat Confident in Mathematics   9.98068   \n",
              "\n",
              "                         BSDGSVM BSDGSCS  \\\n",
              "0     Somewhat Value Mathematics     NaN   \n",
              "1     Somewhat Value Mathematics     NaN   \n",
              "2     Strongly Value Mathematics     NaN   \n",
              "3     Somewhat Value Mathematics     NaN   \n",
              "4     Somewhat Value Mathematics     NaN   \n",
              "...                          ...     ...   \n",
              "1577  Somewhat Value Mathematics     NaN   \n",
              "1578  Somewhat Value Mathematics     NaN   \n",
              "1579  Somewhat Value Mathematics     NaN   \n",
              "1580  Somewhat Value Mathematics     NaN   \n",
              "1581  Somewhat Value Mathematics     NaN   \n",
              "\n",
              "                                     BSDG05S  \\\n",
              "0      Both Own Room and Internet Connection   \n",
              "1      Both Own Room and Internet Connection   \n",
              "2      Both Own Room and Internet Connection   \n",
              "3      Both Own Room and Internet Connection   \n",
              "4      Both Own Room and Internet Connection   \n",
              "...                                      ...   \n",
              "1577  Either Own Room or Internet Connection   \n",
              "1578   Both Own Room and Internet Connection   \n",
              "1579  Either Own Room or Internet Connection   \n",
              "1580  Either Own Room or Internet Connection   \n",
              "1581  Either Own Room or Internet Connection   \n",
              "\n",
              "                                        BSDGEDUP BSDMLOWP BSDSLOWP  \\\n",
              "0              Post-secondary but not University       No       No   \n",
              "1                                Upper Secondary       No       No   \n",
              "2                           University or Higher       No       No   \n",
              "3                           University or Higher       No       No   \n",
              "4                                     Don't Know       No       No   \n",
              "...                                          ...      ...      ...   \n",
              "1577                                  Don't Know       No       No   \n",
              "1578                             Upper Secondary       No       No   \n",
              "1579                             Upper Secondary       No       No   \n",
              "1580  Some Primary, Lower Secondary or No School      Yes      Yes   \n",
              "1581           Post-secondary but not University       No      Yes   \n",
              "\n",
              "          ACHIEV COUNTRY  \n",
              "0     532.249646  Sweden  \n",
              "1     558.413550  Sweden  \n",
              "2     667.607604  Sweden  \n",
              "3     408.985574  Sweden  \n",
              "4     546.101580  Sweden  \n",
              "...          ...     ...  \n",
              "1577  566.422424  Sweden  \n",
              "1578  492.396292  Sweden  \n",
              "1579  493.103912  Sweden  \n",
              "1580  368.373548  Sweden  \n",
              "1581  448.910862  Sweden  \n",
              "\n",
              "[1582 rows x 135 columns]"
            ],
            "text/html": [
              "\n",
              "  <div id=\"df-eebd6a71-782c-4caf-805e-871454b56878\">\n",
              "    <div class=\"colab-df-container\">\n",
              "      <div>\n",
              "<style scoped>\n",
              "    .dataframe tbody tr th:only-of-type {\n",
              "        vertical-align: middle;\n",
              "    }\n",
              "\n",
              "    .dataframe tbody tr th {\n",
              "        vertical-align: top;\n",
              "    }\n",
              "\n",
              "    .dataframe thead th {\n",
              "        text-align: right;\n",
              "    }\n",
              "</style>\n",
              "<table border=\"1\" class=\"dataframe\">\n",
              "  <thead>\n",
              "    <tr style=\"text-align: right;\">\n",
              "      <th></th>\n",
              "      <th>IDSCHOOL</th>\n",
              "      <th>IDCLASS</th>\n",
              "      <th>IDSTUD</th>\n",
              "      <th>BSBG01</th>\n",
              "      <th>BSBG03</th>\n",
              "      <th>BSBG04</th>\n",
              "      <th>BSBG05A</th>\n",
              "      <th>BSBG05B</th>\n",
              "      <th>BSBG05C</th>\n",
              "      <th>BSBG05D</th>\n",
              "      <th>...</th>\n",
              "      <th>BSDGSCM</th>\n",
              "      <th>BSBGSVM</th>\n",
              "      <th>BSDGSVM</th>\n",
              "      <th>BSDGSCS</th>\n",
              "      <th>BSDG05S</th>\n",
              "      <th>BSDGEDUP</th>\n",
              "      <th>BSDMLOWP</th>\n",
              "      <th>BSDSLOWP</th>\n",
              "      <th>ACHIEV</th>\n",
              "      <th>COUNTRY</th>\n",
              "    </tr>\n",
              "  </thead>\n",
              "  <tbody>\n",
              "    <tr>\n",
              "      <th>0</th>\n",
              "      <td>5005.0</td>\n",
              "      <td>500503.0</td>\n",
              "      <td>50050301.0</td>\n",
              "      <td>Boy</td>\n",
              "      <td>Always</td>\n",
              "      <td>Enough to fill one bookcase (26–100 books)</td>\n",
              "      <td>Yes</td>\n",
              "      <td>Yes</td>\n",
              "      <td>Yes</td>\n",
              "      <td>Yes</td>\n",
              "      <td>...</td>\n",
              "      <td>Somewhat Confident in Mathematics</td>\n",
              "      <td>8.34615</td>\n",
              "      <td>Somewhat Value Mathematics</td>\n",
              "      <td>NaN</td>\n",
              "      <td>Both Own Room and Internet Connection</td>\n",
              "      <td>Post-secondary but not University</td>\n",
              "      <td>No</td>\n",
              "      <td>No</td>\n",
              "      <td>532.249646</td>\n",
              "      <td>Sweden</td>\n",
              "    </tr>\n",
              "    <tr>\n",
              "      <th>1</th>\n",
              "      <td>5005.0</td>\n",
              "      <td>500503.0</td>\n",
              "      <td>50050303.0</td>\n",
              "      <td>Boy</td>\n",
              "      <td>Almost always</td>\n",
              "      <td>Enough to fill one bookcase (26–100 books)</td>\n",
              "      <td>Yes</td>\n",
              "      <td>Yes</td>\n",
              "      <td>Yes</td>\n",
              "      <td>Yes</td>\n",
              "      <td>...</td>\n",
              "      <td>Somewhat Confident in Mathematics</td>\n",
              "      <td>8.12441</td>\n",
              "      <td>Somewhat Value Mathematics</td>\n",
              "      <td>NaN</td>\n",
              "      <td>Both Own Room and Internet Connection</td>\n",
              "      <td>Upper Secondary</td>\n",
              "      <td>No</td>\n",
              "      <td>No</td>\n",
              "      <td>558.413550</td>\n",
              "      <td>Sweden</td>\n",
              "    </tr>\n",
              "    <tr>\n",
              "      <th>2</th>\n",
              "      <td>5005.0</td>\n",
              "      <td>500503.0</td>\n",
              "      <td>50050304.0</td>\n",
              "      <td>Boy</td>\n",
              "      <td>Always</td>\n",
              "      <td>Enough to fill one bookcase (26–100 books)</td>\n",
              "      <td>Yes</td>\n",
              "      <td>Yes</td>\n",
              "      <td>Yes</td>\n",
              "      <td>Yes</td>\n",
              "      <td>...</td>\n",
              "      <td>Very Confident in Mathematics</td>\n",
              "      <td>13.48293</td>\n",
              "      <td>Strongly Value Mathematics</td>\n",
              "      <td>NaN</td>\n",
              "      <td>Both Own Room and Internet Connection</td>\n",
              "      <td>University or Higher</td>\n",
              "      <td>No</td>\n",
              "      <td>No</td>\n",
              "      <td>667.607604</td>\n",
              "      <td>Sweden</td>\n",
              "    </tr>\n",
              "    <tr>\n",
              "      <th>3</th>\n",
              "      <td>5005.0</td>\n",
              "      <td>500503.0</td>\n",
              "      <td>50050305.0</td>\n",
              "      <td>Girl</td>\n",
              "      <td>Almost always</td>\n",
              "      <td>Enough to fill one shelf (11–25 books)</td>\n",
              "      <td>Yes</td>\n",
              "      <td>Yes</td>\n",
              "      <td>Yes</td>\n",
              "      <td>Yes</td>\n",
              "      <td>...</td>\n",
              "      <td>Not Confident in Mathematics</td>\n",
              "      <td>8.82228</td>\n",
              "      <td>Somewhat Value Mathematics</td>\n",
              "      <td>NaN</td>\n",
              "      <td>Both Own Room and Internet Connection</td>\n",
              "      <td>University or Higher</td>\n",
              "      <td>No</td>\n",
              "      <td>No</td>\n",
              "      <td>408.985574</td>\n",
              "      <td>Sweden</td>\n",
              "    </tr>\n",
              "    <tr>\n",
              "      <th>4</th>\n",
              "      <td>5005.0</td>\n",
              "      <td>500503.0</td>\n",
              "      <td>50050307.0</td>\n",
              "      <td>Boy</td>\n",
              "      <td>Always</td>\n",
              "      <td>None or very few (0–10 books)</td>\n",
              "      <td>Yes</td>\n",
              "      <td>Yes</td>\n",
              "      <td>Yes</td>\n",
              "      <td>Yes</td>\n",
              "      <td>...</td>\n",
              "      <td>Not Confident in Mathematics</td>\n",
              "      <td>9.65438</td>\n",
              "      <td>Somewhat Value Mathematics</td>\n",
              "      <td>NaN</td>\n",
              "      <td>Both Own Room and Internet Connection</td>\n",
              "      <td>Don't Know</td>\n",
              "      <td>No</td>\n",
              "      <td>No</td>\n",
              "      <td>546.101580</td>\n",
              "      <td>Sweden</td>\n",
              "    </tr>\n",
              "    <tr>\n",
              "      <th>...</th>\n",
              "      <td>...</td>\n",
              "      <td>...</td>\n",
              "      <td>...</td>\n",
              "      <td>...</td>\n",
              "      <td>...</td>\n",
              "      <td>...</td>\n",
              "      <td>...</td>\n",
              "      <td>...</td>\n",
              "      <td>...</td>\n",
              "      <td>...</td>\n",
              "      <td>...</td>\n",
              "      <td>...</td>\n",
              "      <td>...</td>\n",
              "      <td>...</td>\n",
              "      <td>...</td>\n",
              "      <td>...</td>\n",
              "      <td>...</td>\n",
              "      <td>...</td>\n",
              "      <td>...</td>\n",
              "      <td>...</td>\n",
              "      <td>...</td>\n",
              "    </tr>\n",
              "    <tr>\n",
              "      <th>1577</th>\n",
              "      <td>5203.0</td>\n",
              "      <td>520304.0</td>\n",
              "      <td>52030419.0</td>\n",
              "      <td>Boy</td>\n",
              "      <td>Almost always</td>\n",
              "      <td>None or very few (0–10 books)</td>\n",
              "      <td>Yes</td>\n",
              "      <td>Yes</td>\n",
              "      <td>No</td>\n",
              "      <td>Yes</td>\n",
              "      <td>...</td>\n",
              "      <td>Very Confident in Mathematics</td>\n",
              "      <td>9.35676</td>\n",
              "      <td>Somewhat Value Mathematics</td>\n",
              "      <td>NaN</td>\n",
              "      <td>Either Own Room or Internet Connection</td>\n",
              "      <td>Don't Know</td>\n",
              "      <td>No</td>\n",
              "      <td>No</td>\n",
              "      <td>566.422424</td>\n",
              "      <td>Sweden</td>\n",
              "    </tr>\n",
              "    <tr>\n",
              "      <th>1578</th>\n",
              "      <td>5203.0</td>\n",
              "      <td>520304.0</td>\n",
              "      <td>52030420.0</td>\n",
              "      <td>Girl</td>\n",
              "      <td>Always</td>\n",
              "      <td>Enough to fill two bookcases (101–200 books)</td>\n",
              "      <td>Yes</td>\n",
              "      <td>Yes</td>\n",
              "      <td>Yes</td>\n",
              "      <td>Yes</td>\n",
              "      <td>...</td>\n",
              "      <td>Not Confident in Mathematics</td>\n",
              "      <td>8.34615</td>\n",
              "      <td>Somewhat Value Mathematics</td>\n",
              "      <td>NaN</td>\n",
              "      <td>Both Own Room and Internet Connection</td>\n",
              "      <td>Upper Secondary</td>\n",
              "      <td>No</td>\n",
              "      <td>No</td>\n",
              "      <td>492.396292</td>\n",
              "      <td>Sweden</td>\n",
              "    </tr>\n",
              "    <tr>\n",
              "      <th>1579</th>\n",
              "      <td>5203.0</td>\n",
              "      <td>520304.0</td>\n",
              "      <td>52030421.0</td>\n",
              "      <td>Boy</td>\n",
              "      <td>Always</td>\n",
              "      <td>Enough to fill one bookcase (26–100 books)</td>\n",
              "      <td>Yes</td>\n",
              "      <td>Yes</td>\n",
              "      <td>No</td>\n",
              "      <td>Yes</td>\n",
              "      <td>...</td>\n",
              "      <td>Somewhat Confident in Mathematics</td>\n",
              "      <td>9.35676</td>\n",
              "      <td>Somewhat Value Mathematics</td>\n",
              "      <td>NaN</td>\n",
              "      <td>Either Own Room or Internet Connection</td>\n",
              "      <td>Upper Secondary</td>\n",
              "      <td>No</td>\n",
              "      <td>No</td>\n",
              "      <td>493.103912</td>\n",
              "      <td>Sweden</td>\n",
              "    </tr>\n",
              "    <tr>\n",
              "      <th>1580</th>\n",
              "      <td>5203.0</td>\n",
              "      <td>520304.0</td>\n",
              "      <td>52030422.0</td>\n",
              "      <td>Girl</td>\n",
              "      <td>NaN</td>\n",
              "      <td>NaN</td>\n",
              "      <td>No</td>\n",
              "      <td>Yes</td>\n",
              "      <td>Yes</td>\n",
              "      <td>No</td>\n",
              "      <td>...</td>\n",
              "      <td>Not Confident in Mathematics</td>\n",
              "      <td>8.57829</td>\n",
              "      <td>Somewhat Value Mathematics</td>\n",
              "      <td>NaN</td>\n",
              "      <td>Either Own Room or Internet Connection</td>\n",
              "      <td>Some Primary, Lower Secondary or No School</td>\n",
              "      <td>Yes</td>\n",
              "      <td>Yes</td>\n",
              "      <td>368.373548</td>\n",
              "      <td>Sweden</td>\n",
              "    </tr>\n",
              "    <tr>\n",
              "      <th>1581</th>\n",
              "      <td>5203.0</td>\n",
              "      <td>520304.0</td>\n",
              "      <td>52030425.0</td>\n",
              "      <td>Boy</td>\n",
              "      <td>Sometimes</td>\n",
              "      <td>None or very few (0–10 books)</td>\n",
              "      <td>Yes</td>\n",
              "      <td>Yes</td>\n",
              "      <td>No</td>\n",
              "      <td>Yes</td>\n",
              "      <td>...</td>\n",
              "      <td>Somewhat Confident in Mathematics</td>\n",
              "      <td>9.98068</td>\n",
              "      <td>Somewhat Value Mathematics</td>\n",
              "      <td>NaN</td>\n",
              "      <td>Either Own Room or Internet Connection</td>\n",
              "      <td>Post-secondary but not University</td>\n",
              "      <td>No</td>\n",
              "      <td>Yes</td>\n",
              "      <td>448.910862</td>\n",
              "      <td>Sweden</td>\n",
              "    </tr>\n",
              "  </tbody>\n",
              "</table>\n",
              "<p>1582 rows × 135 columns</p>\n",
              "</div>\n",
              "      <button class=\"colab-df-convert\" onclick=\"convertToInteractive('df-eebd6a71-782c-4caf-805e-871454b56878')\"\n",
              "              title=\"Convert this dataframe to an interactive table.\"\n",
              "              style=\"display:none;\">\n",
              "        \n",
              "  <svg xmlns=\"http://www.w3.org/2000/svg\" height=\"24px\"viewBox=\"0 0 24 24\"\n",
              "       width=\"24px\">\n",
              "    <path d=\"M0 0h24v24H0V0z\" fill=\"none\"/>\n",
              "    <path d=\"M18.56 5.44l.94 2.06.94-2.06 2.06-.94-2.06-.94-.94-2.06-.94 2.06-2.06.94zm-11 1L8.5 8.5l.94-2.06 2.06-.94-2.06-.94L8.5 2.5l-.94 2.06-2.06.94zm10 10l.94 2.06.94-2.06 2.06-.94-2.06-.94-.94-2.06-.94 2.06-2.06.94z\"/><path d=\"M17.41 7.96l-1.37-1.37c-.4-.4-.92-.59-1.43-.59-.52 0-1.04.2-1.43.59L10.3 9.45l-7.72 7.72c-.78.78-.78 2.05 0 2.83L4 21.41c.39.39.9.59 1.41.59.51 0 1.02-.2 1.41-.59l7.78-7.78 2.81-2.81c.8-.78.8-2.07 0-2.86zM5.41 20L4 18.59l7.72-7.72 1.47 1.35L5.41 20z\"/>\n",
              "  </svg>\n",
              "      </button>\n",
              "      \n",
              "  <style>\n",
              "    .colab-df-container {\n",
              "      display:flex;\n",
              "      flex-wrap:wrap;\n",
              "      gap: 12px;\n",
              "    }\n",
              "\n",
              "    .colab-df-convert {\n",
              "      background-color: #E8F0FE;\n",
              "      border: none;\n",
              "      border-radius: 50%;\n",
              "      cursor: pointer;\n",
              "      display: none;\n",
              "      fill: #1967D2;\n",
              "      height: 32px;\n",
              "      padding: 0 0 0 0;\n",
              "      width: 32px;\n",
              "    }\n",
              "\n",
              "    .colab-df-convert:hover {\n",
              "      background-color: #E2EBFA;\n",
              "      box-shadow: 0px 1px 2px rgba(60, 64, 67, 0.3), 0px 1px 3px 1px rgba(60, 64, 67, 0.15);\n",
              "      fill: #174EA6;\n",
              "    }\n",
              "\n",
              "    [theme=dark] .colab-df-convert {\n",
              "      background-color: #3B4455;\n",
              "      fill: #D2E3FC;\n",
              "    }\n",
              "\n",
              "    [theme=dark] .colab-df-convert:hover {\n",
              "      background-color: #434B5C;\n",
              "      box-shadow: 0px 1px 3px 1px rgba(0, 0, 0, 0.15);\n",
              "      filter: drop-shadow(0px 1px 2px rgba(0, 0, 0, 0.3));\n",
              "      fill: #FFFFFF;\n",
              "    }\n",
              "  </style>\n",
              "\n",
              "      <script>\n",
              "        const buttonEl =\n",
              "          document.querySelector('#df-eebd6a71-782c-4caf-805e-871454b56878 button.colab-df-convert');\n",
              "        buttonEl.style.display =\n",
              "          google.colab.kernel.accessAllowed ? 'block' : 'none';\n",
              "\n",
              "        async function convertToInteractive(key) {\n",
              "          const element = document.querySelector('#df-eebd6a71-782c-4caf-805e-871454b56878');\n",
              "          const dataTable =\n",
              "            await google.colab.kernel.invokeFunction('convertToInteractive',\n",
              "                                                     [key], {});\n",
              "          if (!dataTable) return;\n",
              "\n",
              "          const docLinkHtml = 'Like what you see? Visit the ' +\n",
              "            '<a target=\"_blank\" href=https://colab.research.google.com/notebooks/data_table.ipynb>data table notebook</a>'\n",
              "            + ' to learn more about interactive tables.';\n",
              "          element.innerHTML = '';\n",
              "          dataTable['output_type'] = 'display_data';\n",
              "          await google.colab.output.renderOutput(dataTable, element);\n",
              "          const docLink = document.createElement('div');\n",
              "          docLink.innerHTML = docLinkHtml;\n",
              "          element.appendChild(docLink);\n",
              "        }\n",
              "      </script>\n",
              "    </div>\n",
              "  </div>\n",
              "  "
            ]
          },
          "metadata": {},
          "execution_count": 21
        }
      ]
    },
    {
      "cell_type": "markdown",
      "source": [
        "Make dummy variable for the regression."
      ],
      "metadata": {
        "id": "gQBXz7ZP0-DG"
      }
    },
    {
      "cell_type": "code",
      "source": [
        "def take_care_single_dummy(df) :\n",
        "  '''make a dummy variable for 2 categories column'''\n",
        "  column_to_one_dummy = ['BSBG01']\n",
        "  for column in df.columns :\n",
        "    if (df[column].nunique() ==2):\n",
        "        column_to_one_dummy.append(column)\n",
        "  return(pd.get_dummies(df, columns= column_to_one_dummy ,  drop_first=True)) "
      ],
      "metadata": {
        "id": "1wKxuJvd1DBB"
      },
      "execution_count": 22,
      "outputs": []
    },
    {
      "cell_type": "code",
      "source": [
        "  def take_care_single_dummy2(df) :\n",
        "    '''make a dummy variable for 2 categories column'''\n",
        "    column_to_dummy = []\n",
        "    col_to_check = [ col for col in df.columns if col not in index_cols]\n",
        "    for column in col_to_check :\n",
        "      if type(df[column][1]) == str :\n",
        "                #print('I am done testing if it is a string')\n",
        "\n",
        "                try : \n",
        "                  if df[column].nunique() >= 1:\n",
        "                    #print('I am done testing if it is more than 3')\n",
        "                    if df[column].nunique() < 3:\n",
        "                        #print('I am done testing if it is less than 10')              \n",
        "                        column_to_dummy.append(column)\n",
        "                  else : pass\n",
        "                except : pass\n",
        "    return(pd.get_dummies(df, columns= column_to_dummy ,  drop_first=True)) "
      ],
      "metadata": {
        "id": "18YSYoY_bUTD"
      },
      "execution_count": 23,
      "outputs": []
    },
    {
      "cell_type": "code",
      "source": [
        "test  = pd.read_spss('T19_G8_SPSS Data' +'/' +'bsgsweb7.sav')\n",
        "test = take_care_single_dummy2(test)\n"
      ],
      "metadata": {
        "id": "8oGmC20q17F6"
      },
      "execution_count": 24,
      "outputs": []
    },
    {
      "cell_type": "code",
      "source": [
        "test.head()"
      ],
      "metadata": {
        "colab": {
          "base_uri": "https://localhost:8080/",
          "height": 681
        },
        "id": "RoD0DVImW0Ji",
        "outputId": "7483f35c-6853-44bf-b5f6-c2fd09af5fb1"
      },
      "execution_count": 25,
      "outputs": [
        {
          "output_type": "execute_result",
          "data": {
            "text/plain": [
              "  IDCNTRY      IDBOOK IDSCHOOL   IDCLASS      IDSTUD         BSBG03  \\\n",
              "0   752.0  Booklet 19   5005.0  500503.0  50050301.0         Always   \n",
              "1   752.0  Booklet 21   5005.0  500503.0  50050303.0  Almost always   \n",
              "2   752.0  Booklet 22   5005.0  500503.0  50050304.0         Always   \n",
              "3   752.0  Booklet 23   5005.0  500503.0  50050305.0  Almost always   \n",
              "4   752.0  Booklet 17   5005.0  500503.0  50050307.0         Always   \n",
              "\n",
              "                                       BSBG04 BSBG05I  \\\n",
              "0  Enough to fill one bookcase (26–100 books)     NaN   \n",
              "1  Enough to fill one bookcase (26–100 books)     NaN   \n",
              "2  Enough to fill one bookcase (26–100 books)     NaN   \n",
              "3      Enough to fill one shelf (11–25 books)     NaN   \n",
              "4               None or very few (0–10 books)     NaN   \n",
              "\n",
              "                                             BSBG06A  \\\n",
              "0  <Post-secondary, non-tertiary education—ISCED ...   \n",
              "1          <Upper secondary education—ISCED Level 3>   \n",
              "2     <Bachelor’s or equivalent level—ISCED Level 6>   \n",
              "3     <Short-cycle tertiary education—ISCED Level 5>   \n",
              "4                                       I don’t know   \n",
              "\n",
              "                                          BSBG06B  ... BSBG12D_Yes  \\\n",
              "0       <Upper secondary education—ISCED Level 3>  ...           1   \n",
              "1       <Upper secondary education—ISCED Level 3>  ...           0   \n",
              "2  <Bachelor’s or equivalent level—ISCED Level 6>  ...           1   \n",
              "3  <Bachelor’s or equivalent level—ISCED Level 6>  ...           1   \n",
              "4                                    I don’t know  ...           1   \n",
              "\n",
              "  BSBG12E_Yes BSBG12F_Yes BSBB21_Yes BSBC31_Yes BSBP36_Yes ITSEX_Male  \\\n",
              "0           1           0          1          1          1          1   \n",
              "1           0           0          1          1          1          1   \n",
              "2           1           0          1          0          1          1   \n",
              "3           1           1          1          1          1          0   \n",
              "4           0           0          1          1          1          1   \n",
              "\n",
              "  ITADMINI_Teacher from School BSDMLOWP_Yes BSDSLOWP_Yes  \n",
              "0                            0            0            0  \n",
              "1                            0            0            0  \n",
              "2                            0            0            0  \n",
              "3                            0            0            0  \n",
              "4                            0            0            0  \n",
              "\n",
              "[5 rows x 349 columns]"
            ],
            "text/html": [
              "\n",
              "  <div id=\"df-2bd3b415-a6f8-409b-bd01-f200d5a4e7aa\">\n",
              "    <div class=\"colab-df-container\">\n",
              "      <div>\n",
              "<style scoped>\n",
              "    .dataframe tbody tr th:only-of-type {\n",
              "        vertical-align: middle;\n",
              "    }\n",
              "\n",
              "    .dataframe tbody tr th {\n",
              "        vertical-align: top;\n",
              "    }\n",
              "\n",
              "    .dataframe thead th {\n",
              "        text-align: right;\n",
              "    }\n",
              "</style>\n",
              "<table border=\"1\" class=\"dataframe\">\n",
              "  <thead>\n",
              "    <tr style=\"text-align: right;\">\n",
              "      <th></th>\n",
              "      <th>IDCNTRY</th>\n",
              "      <th>IDBOOK</th>\n",
              "      <th>IDSCHOOL</th>\n",
              "      <th>IDCLASS</th>\n",
              "      <th>IDSTUD</th>\n",
              "      <th>BSBG03</th>\n",
              "      <th>BSBG04</th>\n",
              "      <th>BSBG05I</th>\n",
              "      <th>BSBG06A</th>\n",
              "      <th>BSBG06B</th>\n",
              "      <th>...</th>\n",
              "      <th>BSBG12D_Yes</th>\n",
              "      <th>BSBG12E_Yes</th>\n",
              "      <th>BSBG12F_Yes</th>\n",
              "      <th>BSBB21_Yes</th>\n",
              "      <th>BSBC31_Yes</th>\n",
              "      <th>BSBP36_Yes</th>\n",
              "      <th>ITSEX_Male</th>\n",
              "      <th>ITADMINI_Teacher from School</th>\n",
              "      <th>BSDMLOWP_Yes</th>\n",
              "      <th>BSDSLOWP_Yes</th>\n",
              "    </tr>\n",
              "  </thead>\n",
              "  <tbody>\n",
              "    <tr>\n",
              "      <th>0</th>\n",
              "      <td>752.0</td>\n",
              "      <td>Booklet 19</td>\n",
              "      <td>5005.0</td>\n",
              "      <td>500503.0</td>\n",
              "      <td>50050301.0</td>\n",
              "      <td>Always</td>\n",
              "      <td>Enough to fill one bookcase (26–100 books)</td>\n",
              "      <td>NaN</td>\n",
              "      <td>&lt;Post-secondary, non-tertiary education—ISCED ...</td>\n",
              "      <td>&lt;Upper secondary education—ISCED Level 3&gt;</td>\n",
              "      <td>...</td>\n",
              "      <td>1</td>\n",
              "      <td>1</td>\n",
              "      <td>0</td>\n",
              "      <td>1</td>\n",
              "      <td>1</td>\n",
              "      <td>1</td>\n",
              "      <td>1</td>\n",
              "      <td>0</td>\n",
              "      <td>0</td>\n",
              "      <td>0</td>\n",
              "    </tr>\n",
              "    <tr>\n",
              "      <th>1</th>\n",
              "      <td>752.0</td>\n",
              "      <td>Booklet 21</td>\n",
              "      <td>5005.0</td>\n",
              "      <td>500503.0</td>\n",
              "      <td>50050303.0</td>\n",
              "      <td>Almost always</td>\n",
              "      <td>Enough to fill one bookcase (26–100 books)</td>\n",
              "      <td>NaN</td>\n",
              "      <td>&lt;Upper secondary education—ISCED Level 3&gt;</td>\n",
              "      <td>&lt;Upper secondary education—ISCED Level 3&gt;</td>\n",
              "      <td>...</td>\n",
              "      <td>0</td>\n",
              "      <td>0</td>\n",
              "      <td>0</td>\n",
              "      <td>1</td>\n",
              "      <td>1</td>\n",
              "      <td>1</td>\n",
              "      <td>1</td>\n",
              "      <td>0</td>\n",
              "      <td>0</td>\n",
              "      <td>0</td>\n",
              "    </tr>\n",
              "    <tr>\n",
              "      <th>2</th>\n",
              "      <td>752.0</td>\n",
              "      <td>Booklet 22</td>\n",
              "      <td>5005.0</td>\n",
              "      <td>500503.0</td>\n",
              "      <td>50050304.0</td>\n",
              "      <td>Always</td>\n",
              "      <td>Enough to fill one bookcase (26–100 books)</td>\n",
              "      <td>NaN</td>\n",
              "      <td>&lt;Bachelor’s or equivalent level—ISCED Level 6&gt;</td>\n",
              "      <td>&lt;Bachelor’s or equivalent level—ISCED Level 6&gt;</td>\n",
              "      <td>...</td>\n",
              "      <td>1</td>\n",
              "      <td>1</td>\n",
              "      <td>0</td>\n",
              "      <td>1</td>\n",
              "      <td>0</td>\n",
              "      <td>1</td>\n",
              "      <td>1</td>\n",
              "      <td>0</td>\n",
              "      <td>0</td>\n",
              "      <td>0</td>\n",
              "    </tr>\n",
              "    <tr>\n",
              "      <th>3</th>\n",
              "      <td>752.0</td>\n",
              "      <td>Booklet 23</td>\n",
              "      <td>5005.0</td>\n",
              "      <td>500503.0</td>\n",
              "      <td>50050305.0</td>\n",
              "      <td>Almost always</td>\n",
              "      <td>Enough to fill one shelf (11–25 books)</td>\n",
              "      <td>NaN</td>\n",
              "      <td>&lt;Short-cycle tertiary education—ISCED Level 5&gt;</td>\n",
              "      <td>&lt;Bachelor’s or equivalent level—ISCED Level 6&gt;</td>\n",
              "      <td>...</td>\n",
              "      <td>1</td>\n",
              "      <td>1</td>\n",
              "      <td>1</td>\n",
              "      <td>1</td>\n",
              "      <td>1</td>\n",
              "      <td>1</td>\n",
              "      <td>0</td>\n",
              "      <td>0</td>\n",
              "      <td>0</td>\n",
              "      <td>0</td>\n",
              "    </tr>\n",
              "    <tr>\n",
              "      <th>4</th>\n",
              "      <td>752.0</td>\n",
              "      <td>Booklet 17</td>\n",
              "      <td>5005.0</td>\n",
              "      <td>500503.0</td>\n",
              "      <td>50050307.0</td>\n",
              "      <td>Always</td>\n",
              "      <td>None or very few (0–10 books)</td>\n",
              "      <td>NaN</td>\n",
              "      <td>I don’t know</td>\n",
              "      <td>I don’t know</td>\n",
              "      <td>...</td>\n",
              "      <td>1</td>\n",
              "      <td>0</td>\n",
              "      <td>0</td>\n",
              "      <td>1</td>\n",
              "      <td>1</td>\n",
              "      <td>1</td>\n",
              "      <td>1</td>\n",
              "      <td>0</td>\n",
              "      <td>0</td>\n",
              "      <td>0</td>\n",
              "    </tr>\n",
              "  </tbody>\n",
              "</table>\n",
              "<p>5 rows × 349 columns</p>\n",
              "</div>\n",
              "      <button class=\"colab-df-convert\" onclick=\"convertToInteractive('df-2bd3b415-a6f8-409b-bd01-f200d5a4e7aa')\"\n",
              "              title=\"Convert this dataframe to an interactive table.\"\n",
              "              style=\"display:none;\">\n",
              "        \n",
              "  <svg xmlns=\"http://www.w3.org/2000/svg\" height=\"24px\"viewBox=\"0 0 24 24\"\n",
              "       width=\"24px\">\n",
              "    <path d=\"M0 0h24v24H0V0z\" fill=\"none\"/>\n",
              "    <path d=\"M18.56 5.44l.94 2.06.94-2.06 2.06-.94-2.06-.94-.94-2.06-.94 2.06-2.06.94zm-11 1L8.5 8.5l.94-2.06 2.06-.94-2.06-.94L8.5 2.5l-.94 2.06-2.06.94zm10 10l.94 2.06.94-2.06 2.06-.94-2.06-.94-.94-2.06-.94 2.06-2.06.94z\"/><path d=\"M17.41 7.96l-1.37-1.37c-.4-.4-.92-.59-1.43-.59-.52 0-1.04.2-1.43.59L10.3 9.45l-7.72 7.72c-.78.78-.78 2.05 0 2.83L4 21.41c.39.39.9.59 1.41.59.51 0 1.02-.2 1.41-.59l7.78-7.78 2.81-2.81c.8-.78.8-2.07 0-2.86zM5.41 20L4 18.59l7.72-7.72 1.47 1.35L5.41 20z\"/>\n",
              "  </svg>\n",
              "      </button>\n",
              "      \n",
              "  <style>\n",
              "    .colab-df-container {\n",
              "      display:flex;\n",
              "      flex-wrap:wrap;\n",
              "      gap: 12px;\n",
              "    }\n",
              "\n",
              "    .colab-df-convert {\n",
              "      background-color: #E8F0FE;\n",
              "      border: none;\n",
              "      border-radius: 50%;\n",
              "      cursor: pointer;\n",
              "      display: none;\n",
              "      fill: #1967D2;\n",
              "      height: 32px;\n",
              "      padding: 0 0 0 0;\n",
              "      width: 32px;\n",
              "    }\n",
              "\n",
              "    .colab-df-convert:hover {\n",
              "      background-color: #E2EBFA;\n",
              "      box-shadow: 0px 1px 2px rgba(60, 64, 67, 0.3), 0px 1px 3px 1px rgba(60, 64, 67, 0.15);\n",
              "      fill: #174EA6;\n",
              "    }\n",
              "\n",
              "    [theme=dark] .colab-df-convert {\n",
              "      background-color: #3B4455;\n",
              "      fill: #D2E3FC;\n",
              "    }\n",
              "\n",
              "    [theme=dark] .colab-df-convert:hover {\n",
              "      background-color: #434B5C;\n",
              "      box-shadow: 0px 1px 3px 1px rgba(0, 0, 0, 0.15);\n",
              "      filter: drop-shadow(0px 1px 2px rgba(0, 0, 0, 0.3));\n",
              "      fill: #FFFFFF;\n",
              "    }\n",
              "  </style>\n",
              "\n",
              "      <script>\n",
              "        const buttonEl =\n",
              "          document.querySelector('#df-2bd3b415-a6f8-409b-bd01-f200d5a4e7aa button.colab-df-convert');\n",
              "        buttonEl.style.display =\n",
              "          google.colab.kernel.accessAllowed ? 'block' : 'none';\n",
              "\n",
              "        async function convertToInteractive(key) {\n",
              "          const element = document.querySelector('#df-2bd3b415-a6f8-409b-bd01-f200d5a4e7aa');\n",
              "          const dataTable =\n",
              "            await google.colab.kernel.invokeFunction('convertToInteractive',\n",
              "                                                     [key], {});\n",
              "          if (!dataTable) return;\n",
              "\n",
              "          const docLinkHtml = 'Like what you see? Visit the ' +\n",
              "            '<a target=\"_blank\" href=https://colab.research.google.com/notebooks/data_table.ipynb>data table notebook</a>'\n",
              "            + ' to learn more about interactive tables.';\n",
              "          element.innerHTML = '';\n",
              "          dataTable['output_type'] = 'display_data';\n",
              "          await google.colab.output.renderOutput(dataTable, element);\n",
              "          const docLink = document.createElement('div');\n",
              "          docLink.innerHTML = docLinkHtml;\n",
              "          element.appendChild(docLink);\n",
              "        }\n",
              "      </script>\n",
              "    </div>\n",
              "  </div>\n",
              "  "
            ]
          },
          "metadata": {},
          "execution_count": 25
        }
      ]
    },
    {
      "cell_type": "code",
      "source": [
        "test['BSBG03'].unique()"
      ],
      "metadata": {
        "colab": {
          "base_uri": "https://localhost:8080/"
        },
        "id": "tywur4ScXKGv",
        "outputId": "fdced98b-6fa6-4224-ee48-18ae8068d0f9"
      },
      "execution_count": 26,
      "outputs": [
        {
          "output_type": "execute_result",
          "data": {
            "text/plain": [
              "['Always', 'Almost always', NaN, 'Sometimes', 'Never']\n",
              "Categories (4, object): ['Almost always', 'Always', 'Never', 'Sometimes']"
            ]
          },
          "metadata": {},
          "execution_count": 26
        }
      ]
    },
    {
      "cell_type": "code",
      "source": [
        "def agree_to_number(my_row) :\n",
        "    ''' This function is used to convert agreement to number'''\n",
        "    L = ['Disagree a lot', 'Disagree a little','', 'Agree a little','Agree a lot']\n",
        "    for i in range(len(L)):\n",
        "         if my_row == L[i] :\n",
        "             return(i-2) # \n",
        "    return 0  \n",
        "\n",
        "def frequence_to_number(my_row) :\n",
        "    ''' This function is used to convert frequence to number'''\n",
        "    freq_dict = {'Never or almost never': 0,\n",
        "                  'Never' : 0 , \n",
        "                 'Always' : 1,\n",
        "                   'Almost always' : 0.8,\n",
        "                 'Sometimes' : 0.4,\n",
        "                  'Once a month' : 0.5, \n",
        "                  'Once every two month' : 0.4 ,\n",
        "                  'Once every two weeks' : 0.6 , \n",
        "                  'Almost every day' : 0.9, \n",
        "                  'Every day' : 1, \n",
        "                  'A few times a year': 0.2 ,\n",
        "                  'Once or twice a month': 0.6 , \n",
        "                  'Once a week' : 0.7,\n",
        "                  'At least once a week' : 0.7,\n",
        "                  '1 or 2 times a week': 0.7,\n",
        "                  '3 or 4 times a week' : 0.8,\n",
        "                  'Less than once a week' : 0.5\n",
        "                  }\n",
        "    try : return(freq_dict[my_row])\n",
        "    except : return 0\n",
        "\n",
        "\n",
        "def ownwork_to_number(my_row) :\n",
        "    ''' This function is used the amount of own work to number'''\n",
        "    L =  [ 'Never', 'Some lessons', 'About half the lessons', 'Every or almost every lesson']\n",
        "    for i in range(len(L)):\n",
        "         if my_row == L[i] :\n",
        "             return(i)\n",
        "    return 0   \n",
        "def books_to_number(my_row) :\n",
        "    ''' This function is used the amount of book owned to number'''\n",
        "    L =  [ 'Enough to fill one shelf (11–25 books)', 'Enough to fill one bookcase (26–100 books)', 'None or very few (0–10 books)','Enough to fill two bookcases (101–200 books)', 'Enough to fill three or more bookcases (more than 200)']\n",
        "    for i in range(len(L)):\n",
        "         if my_row == L[i] :\n",
        "             return(i) \n",
        "    return 0  "
      ],
      "metadata": {
        "id": "pc-kPAPoGrXl"
      },
      "execution_count": 27,
      "outputs": []
    },
    {
      "cell_type": "code",
      "source": [
        "def to_float(a) :\n",
        "  return(float(a))\n",
        "to_float('12')"
      ],
      "metadata": {
        "colab": {
          "base_uri": "https://localhost:8080/"
        },
        "id": "pb46kDQqQABs",
        "outputId": "4eaadca0-4c66-4c7a-8011-fb2f4c91593e"
      },
      "execution_count": 28,
      "outputs": [
        {
          "output_type": "execute_result",
          "data": {
            "text/plain": [
              "12.0"
            ]
          },
          "metadata": {},
          "execution_count": 28
        }
      ]
    },
    {
      "cell_type": "code",
      "source": [
        "def take_care_multiple_dummies(df) :\n",
        "  col_to_drop = []\n",
        "  try : \n",
        "    df['AGE'] = df['BSDAGE'].apply(to_float) \n",
        "    df = df.drop(columns = ['BSDAGE']) \n",
        "  except : pass \n",
        "  column_to_dummy =[]\n",
        "  \n",
        "  col_to_check = [ col for col in df.columns if col not in index_cols]\n",
        "  i = 1 #Counter\n",
        "  for column in col_to_check :\n",
        "      try :\n",
        "        if 'Disagree a little' in (df[column]).unique() :\n",
        "          df[column + '_agree'] = df[column].apply(agree_to_number)  \n",
        "          col_to_drop.append(column)\n",
        "          #print('Agree : pass')\n",
        "\n",
        "        elif 'Enough to fill one shelf (11–25 books)' in (df[column]).unique() :\n",
        "          df[column + '_nbr_book'] = df[column].apply(books_to_number)  \n",
        "          col_to_drop.append(column)\n",
        "          #print('Book : pass')\n",
        "        elif 'Some lessons' in df[column].unique() :\n",
        "          df[column + '_ownworkfreq'] = df[column].apply(ownwork_to_number)  \n",
        "          col_to_drop.append(column)\n",
        "          #print('work : pass')\n",
        "        elif (('Always' in df[column].unique() ) | ('Once a month'  in df[column].unique()) | ('Every day' in df[column].unique()) | ('Once a week' in df[column].unique()) | ('A few times a year' in (df[column]).unique() )):\n",
        "          df[column + '_freq'] = df[column].apply(frequence_to_number)\n",
        "          col_to_drop.append(column)\n",
        "          #print('freq : pass')\n",
        "\n",
        "        elif type(df[column][1]) == str :\n",
        "          #print('I am done testing if it is a string')\n",
        "          if df[column].nunique() >= 1:\n",
        "            #print('I am done testing if it is more than 3')\n",
        "            if df[column].nunique() < 10:\n",
        "                #print('I am done testing if it is less than 10')              \n",
        "                column_to_dummy.append(column)\n",
        "        else : pass\n",
        "        i+=1\n",
        "      except : pass\n",
        "  df = pd.get_dummies(df, columns= column_to_dummy ,  drop_first=False)\n",
        "  \n",
        "  for col in df.columns :\n",
        "    if (('don’t know' in col) or ('Not applicable'  in col) | ('Neither' in col) | ('_Not Affected' in col)) :\n",
        "      col_to_drop.append(col)\n",
        "\n",
        "  df = df.drop(columns = col_to_drop)\n",
        "  return( df )"
      ],
      "metadata": {
        "id": "SAR7BZ7_4g0B"
      },
      "execution_count": 29,
      "outputs": []
    },
    {
      "cell_type": "markdown",
      "source": [
        "The following cell provide us a function we use to merge the dataset."
      ],
      "metadata": {
        "id": "oJp9WOjCHLIY"
      }
    },
    {
      "cell_type": "code",
      "source": [
        "import warnings\n",
        "warnings.filterwarnings(\"ignore\")"
      ],
      "metadata": {
        "id": "4GoF1XwabFXn"
      },
      "execution_count": 30,
      "outputs": []
    },
    {
      "cell_type": "code",
      "source": [
        "columns_to_rm"
      ],
      "metadata": {
        "id": "og_HQKCtrsPb"
      },
      "execution_count": null,
      "outputs": []
    },
    {
      "cell_type": "code",
      "source": [
        "ls T19_G8_Codebooks/"
      ],
      "metadata": {
        "colab": {
          "base_uri": "https://localhost:8080/"
        },
        "id": "K1JXcdkq7RqG",
        "outputId": "38b510db-ec83-43af-d245-cb44bd411489"
      },
      "execution_count": null,
      "outputs": [
        {
          "output_type": "stream",
          "name": "stdout",
          "text": [
            "eT19PSI_G8_Codebook.xlsx  T19Br_G8_Codebook.xlsx  T19_G8_Codebook.xlsx\n"
          ]
        }
      ]
    },
    {
      "cell_type": "code",
      "source": [
        "columncode = pd.read_excel('T19_G8_Codebooks/T19_G8_Codebook.xlsx', sheet_name =[0,1,2,3,4,5,6] , usecols = 'A:B')"
      ],
      "metadata": {
        "id": "ravTS2Ht7HeN"
      },
      "execution_count": 32,
      "outputs": []
    },
    {
      "cell_type": "markdown",
      "source": [
        ""
      ],
      "metadata": {
        "id": "HE8VUE7jVHBQ"
      }
    },
    {
      "cell_type": "code",
      "source": [
        "all_column_explained = pd.concat(columncode, ignore_index =True)\n",
        "all_column_explained.head()"
      ],
      "metadata": {
        "colab": {
          "base_uri": "https://localhost:8080/",
          "height": 206
        },
        "id": "crFRjsR57P3w",
        "outputId": "1033ca22-48a4-4df2-9a14-3fe6f2982ca7"
      },
      "execution_count": 33,
      "outputs": [
        {
          "output_type": "execute_result",
          "data": {
            "text/plain": [
              "   Variable                                     Label\n",
              "0   IDCNTRY             Country ID - Numeric ISO Code\n",
              "1  IDSCHOOL                                 School ID\n",
              "2   BCBG03A  GEN\\STUDENTS BACKGROUND\\ECONOMIC DISADVA\n",
              "3   BCBG03B  GEN\\STUDENTS BACKGROUND\\ECONOMIC AFFLUEN\n",
              "4    BCBG04    GEN\\PERCENT OF STUDENTS <LANG OF TEST>"
            ],
            "text/html": [
              "\n",
              "  <div id=\"df-9ca9ab79-9061-4373-abe4-b65890cd6e31\">\n",
              "    <div class=\"colab-df-container\">\n",
              "      <div>\n",
              "<style scoped>\n",
              "    .dataframe tbody tr th:only-of-type {\n",
              "        vertical-align: middle;\n",
              "    }\n",
              "\n",
              "    .dataframe tbody tr th {\n",
              "        vertical-align: top;\n",
              "    }\n",
              "\n",
              "    .dataframe thead th {\n",
              "        text-align: right;\n",
              "    }\n",
              "</style>\n",
              "<table border=\"1\" class=\"dataframe\">\n",
              "  <thead>\n",
              "    <tr style=\"text-align: right;\">\n",
              "      <th></th>\n",
              "      <th>Variable</th>\n",
              "      <th>Label</th>\n",
              "    </tr>\n",
              "  </thead>\n",
              "  <tbody>\n",
              "    <tr>\n",
              "      <th>0</th>\n",
              "      <td>IDCNTRY</td>\n",
              "      <td>Country ID - Numeric ISO Code</td>\n",
              "    </tr>\n",
              "    <tr>\n",
              "      <th>1</th>\n",
              "      <td>IDSCHOOL</td>\n",
              "      <td>School ID</td>\n",
              "    </tr>\n",
              "    <tr>\n",
              "      <th>2</th>\n",
              "      <td>BCBG03A</td>\n",
              "      <td>GEN\\STUDENTS BACKGROUND\\ECONOMIC DISADVA</td>\n",
              "    </tr>\n",
              "    <tr>\n",
              "      <th>3</th>\n",
              "      <td>BCBG03B</td>\n",
              "      <td>GEN\\STUDENTS BACKGROUND\\ECONOMIC AFFLUEN</td>\n",
              "    </tr>\n",
              "    <tr>\n",
              "      <th>4</th>\n",
              "      <td>BCBG04</td>\n",
              "      <td>GEN\\PERCENT OF STUDENTS &lt;LANG OF TEST&gt;</td>\n",
              "    </tr>\n",
              "  </tbody>\n",
              "</table>\n",
              "</div>\n",
              "      <button class=\"colab-df-convert\" onclick=\"convertToInteractive('df-9ca9ab79-9061-4373-abe4-b65890cd6e31')\"\n",
              "              title=\"Convert this dataframe to an interactive table.\"\n",
              "              style=\"display:none;\">\n",
              "        \n",
              "  <svg xmlns=\"http://www.w3.org/2000/svg\" height=\"24px\"viewBox=\"0 0 24 24\"\n",
              "       width=\"24px\">\n",
              "    <path d=\"M0 0h24v24H0V0z\" fill=\"none\"/>\n",
              "    <path d=\"M18.56 5.44l.94 2.06.94-2.06 2.06-.94-2.06-.94-.94-2.06-.94 2.06-2.06.94zm-11 1L8.5 8.5l.94-2.06 2.06-.94-2.06-.94L8.5 2.5l-.94 2.06-2.06.94zm10 10l.94 2.06.94-2.06 2.06-.94-2.06-.94-.94-2.06-.94 2.06-2.06.94z\"/><path d=\"M17.41 7.96l-1.37-1.37c-.4-.4-.92-.59-1.43-.59-.52 0-1.04.2-1.43.59L10.3 9.45l-7.72 7.72c-.78.78-.78 2.05 0 2.83L4 21.41c.39.39.9.59 1.41.59.51 0 1.02-.2 1.41-.59l7.78-7.78 2.81-2.81c.8-.78.8-2.07 0-2.86zM5.41 20L4 18.59l7.72-7.72 1.47 1.35L5.41 20z\"/>\n",
              "  </svg>\n",
              "      </button>\n",
              "      \n",
              "  <style>\n",
              "    .colab-df-container {\n",
              "      display:flex;\n",
              "      flex-wrap:wrap;\n",
              "      gap: 12px;\n",
              "    }\n",
              "\n",
              "    .colab-df-convert {\n",
              "      background-color: #E8F0FE;\n",
              "      border: none;\n",
              "      border-radius: 50%;\n",
              "      cursor: pointer;\n",
              "      display: none;\n",
              "      fill: #1967D2;\n",
              "      height: 32px;\n",
              "      padding: 0 0 0 0;\n",
              "      width: 32px;\n",
              "    }\n",
              "\n",
              "    .colab-df-convert:hover {\n",
              "      background-color: #E2EBFA;\n",
              "      box-shadow: 0px 1px 2px rgba(60, 64, 67, 0.3), 0px 1px 3px 1px rgba(60, 64, 67, 0.15);\n",
              "      fill: #174EA6;\n",
              "    }\n",
              "\n",
              "    [theme=dark] .colab-df-convert {\n",
              "      background-color: #3B4455;\n",
              "      fill: #D2E3FC;\n",
              "    }\n",
              "\n",
              "    [theme=dark] .colab-df-convert:hover {\n",
              "      background-color: #434B5C;\n",
              "      box-shadow: 0px 1px 3px 1px rgba(0, 0, 0, 0.15);\n",
              "      filter: drop-shadow(0px 1px 2px rgba(0, 0, 0, 0.3));\n",
              "      fill: #FFFFFF;\n",
              "    }\n",
              "  </style>\n",
              "\n",
              "      <script>\n",
              "        const buttonEl =\n",
              "          document.querySelector('#df-9ca9ab79-9061-4373-abe4-b65890cd6e31 button.colab-df-convert');\n",
              "        buttonEl.style.display =\n",
              "          google.colab.kernel.accessAllowed ? 'block' : 'none';\n",
              "\n",
              "        async function convertToInteractive(key) {\n",
              "          const element = document.querySelector('#df-9ca9ab79-9061-4373-abe4-b65890cd6e31');\n",
              "          const dataTable =\n",
              "            await google.colab.kernel.invokeFunction('convertToInteractive',\n",
              "                                                     [key], {});\n",
              "          if (!dataTable) return;\n",
              "\n",
              "          const docLinkHtml = 'Like what you see? Visit the ' +\n",
              "            '<a target=\"_blank\" href=https://colab.research.google.com/notebooks/data_table.ipynb>data table notebook</a>'\n",
              "            + ' to learn more about interactive tables.';\n",
              "          element.innerHTML = '';\n",
              "          dataTable['output_type'] = 'display_data';\n",
              "          await google.colab.output.renderOutput(dataTable, element);\n",
              "          const docLink = document.createElement('div');\n",
              "          docLink.innerHTML = docLinkHtml;\n",
              "          element.appendChild(docLink);\n",
              "        }\n",
              "      </script>\n",
              "    </div>\n",
              "  </div>\n",
              "  "
            ]
          },
          "metadata": {},
          "execution_count": 33
        }
      ]
    },
    {
      "cell_type": "code",
      "source": [
        "def explain(col) :\n",
        "  try : return(all_column_explained[all_column_explained['Variable']== col]['Label'].unique()[0])\n",
        "\n",
        "\n",
        "  except :return col"
      ],
      "metadata": {
        "id": "QJ8XdPbP7Pv2"
      },
      "execution_count": 34,
      "outputs": []
    },
    {
      "cell_type": "code",
      "source": [
        "index_cols"
      ],
      "metadata": {
        "id": "51yWp1_J7Pju",
        "colab": {
          "base_uri": "https://localhost:8080/"
        },
        "outputId": "8d833b4a-a49b-4157-f62c-26488401e721"
      },
      "execution_count": 35,
      "outputs": [
        {
          "output_type": "execute_result",
          "data": {
            "text/plain": [
              "['COUNTRY', 'IDSCHOOL', 'IDCLASS', 'IDSTUD', 'IDTEACH']"
            ]
          },
          "metadata": {},
          "execution_count": 35
        }
      ]
    },
    {
      "cell_type": "code",
      "source": [
        "def merge_data_countries( countrylist = Countries, directory = 'T19_G8_SPSS Data', name = 'allfile_merged.csv',target_directory = 'T19_G8_SPSS Data', explain_mode = True, to_dummy = True) :\n",
        "    '''This function take as input the directory and the country of the dataframe and combine them al in one dataframe. Valid only for G8'''\n",
        "    start = time.time()\n",
        "\n",
        "    tmpBCG_list = [ 'bcg' + country+ 'm7.sav' for country in countrylist]\n",
        "    tmpBSG_list = [ 'bsg' + country+ 'm7.sav' for country in countrylist]\n",
        "    tmpBST_list = [ 'bst' + country+ 'm7.sav' for country in countrylist]\n",
        "    tmpBTM_list = [ 'btm' + country+ 'm7.sav' for country in countrylist]\n",
        "    \n",
        "    \n",
        "    # create tmpBCG file \n",
        "   \n",
        "    tmpBCG = concat_all_data(tmpBCG_list)\n",
        "    tmpBCG = drop_cols(tmpBCG)\n",
        "    #tmpBCG = make_achievement_cols(tmpBCG) \n",
        "\n",
        "    print('tmpBCG created')\n",
        "    \n",
        "    tmpBSG = concat_all_data(tmpBSG_list)\n",
        "    tmpBSG = drop_cols(tmpBSG)\n",
        "\n",
        "    print('tmpBSG created')\n",
        "    \n",
        "    tmpBST = concat_all_data(tmpBST_list)\n",
        "    tmpBST = drop_cols(tmpBST)\n",
        "\n",
        "    print('tmpBST created')\n",
        "    \n",
        "    tmpBTM = concat_all_data( tmpBTM_list)\n",
        "    tmpBTM =drop_cols(tmpBTM)\n",
        "\n",
        "    # delete every temporary dataframe each time they are used\n",
        "    del tmpBCG_list\n",
        "    del tmpBSG_list\n",
        "    del tmpBST_list\n",
        "    del tmpBTM_list\n",
        "    print('temporary list deleted')\n",
        "    # Merging \n",
        "      \n",
        "    \n",
        "    tmpBSTBTM =  merge_two_dadaframe(tmpBST,tmpBTM)\n",
        "\n",
        "    del tmpBST\n",
        "    del tmpBTM\n",
        "    print('tmpBSTBSTM created, tmpBST and tmpBTM deleted')\n",
        "\n",
        "    \n",
        "    tmpBCGBSG  = merge_two_dadaframe(tmpBSG,tmpBCG)\n",
        "\n",
        "    del tmpBSG\n",
        "    del tmpBCG\n",
        "    print('tmpBCGBSG created, tmpBSG and tmpBCG deleted')\n",
        "\n",
        "    tmpBCGBSGBSTBTM = merge_two_dadaframe(tmpBSTBTM,tmpBCGBSG)\n",
        "\n",
        "    del tmpBSTBTM\n",
        "    del tmpBCGBSG\n",
        "\n",
        "    tmpBCGBSGBSTBTM = make_country(tmpBCGBSGBSTBTM)\n",
        "    print('change country ; Done')\n",
        "    tmpBCGBSGBSTBTM = make_achievement_cols(tmpBCGBSGBSTBTM)\n",
        "    print('achievement : Done')\n",
        "\n",
        "    if explain_mode :\n",
        "\n",
        "      for col in list(tmpBCGBSGBSTBTM.columns) :\n",
        "        #print(col)\n",
        "\n",
        "        if (col not in index_cols) :\n",
        "          try :tmpBCGBSGBSTBTM.rename(columns = {col : explain(col)}, inplace = True)\n",
        "          except : pass\n",
        "\n",
        "    try : \n",
        "      tmpBCGBSGBSTBTM = tmpBCGBSGBSTBTM.drop(columns = ['NMTEACH',\t'NSTEACH','NTEACH',\t'JKZONE','IDTEALIN'])\n",
        "    except : pass\n",
        "\n",
        "\n",
        "    tmpBCGBSGBSTBTM['IDSCHOOL'] = tmpBCGBSGBSTBTM['IDSCHOOL'].astype(int,errors='ignore')\n",
        "    tmpBCGBSGBSTBTM['IDCLASS'] = tmpBCGBSGBSTBTM['IDCLASS'].astype(int,errors='ignore')\n",
        "    tmpBCGBSGBSTBTM['IDSTUD'] = tmpBCGBSGBSTBTM['IDSTUD'].astype(int,errors='ignore')\n",
        "    tmpBCGBSGBSTBTM['IDTEACH'] = tmpBCGBSGBSTBTM['IDTEACH'].astype(int,errors='ignore')\n",
        "    for col in columns_to_rm :\n",
        "      try : \n",
        "        tmpBCGBSGBSTBTM = tmpBCGBSGBSTBTM.drop(columns = [col])\n",
        "      except : pass\n",
        "\n",
        "    \n",
        "    #print('achievement : done')\n",
        "\n",
        "\n",
        "    #tmpBCGBSGBSTBTM = take_care_single_dummy2(tmpBCGBSGBSTBTM)\n",
        "    print('Dummy one variable ; Done')\n",
        "    if to_dummy : tmpBCGBSGBSTBTM = take_care_multiple_dummies(tmpBCGBSGBSTBTM)\n",
        "    print('Dummies other variable ; Done')\n",
        "\n",
        "\n",
        "    \n",
        "\n",
        "    \n",
        "    print('tmpBCGBSGBSABSTBTM created, tmpBSTBTM and tmpBCGBSGBSA deleted')\n",
        "\n",
        "    #countrylists = [ '_'+ country+'_' for country in countrylist]\n",
        "    #name =  directory +'_merged.csv'\n",
        "    tmpBCGBSGBSTBTM.to_csv(name)\n",
        "    end = time.time()\n",
        "    print( \"csv file saved to \"+ name)\n",
        "    print(\"The time used to merge the data : \")\n",
        "    convert = str(datetime.timedelta(seconds = end - start))\n",
        "    print(convert)\n",
        "     \n",
        "    return(tmpBCGBSGBSTBTM, name) "
      ],
      "metadata": {
        "id": "1kbPKKJE6qyD"
      },
      "execution_count": 36,
      "outputs": []
    },
    {
      "cell_type": "markdown",
      "source": [
        "Merge the data"
      ],
      "metadata": {
        "id": "u5HOgfyP6ued"
      }
    },
    {
      "cell_type": "code",
      "source": [
        "test_data_set = merge_data_countries( countrylist = ['usa','tur'], name = 'usaexplainedtest.csv' )"
      ],
      "metadata": {
        "id": "W3Er4HTx8opi",
        "colab": {
          "base_uri": "https://localhost:8080/"
        },
        "outputId": "1445b261-b12f-457d-89bf-0416fee03422"
      },
      "execution_count": 37,
      "outputs": [
        {
          "output_type": "stream",
          "name": "stdout",
          "text": [
            "tmpBCG created\n",
            "tmpBSG created\n",
            "tmpBST created\n",
            "temporary list deleted\n",
            "tmpBSTBSTM created, tmpBST and tmpBTM deleted\n",
            "tmpBCGBSG created, tmpBSG and tmpBCG deleted\n",
            "change country ; Done\n",
            "achievement : Done\n",
            "Dummy one variable ; Done\n",
            "Dummies other variable ; Done\n",
            "tmpBCGBSGBSABSTBTM created, tmpBSTBTM and tmpBCGBSGBSA deleted\n",
            "csv file saved to usaexplainedtest.csv\n",
            "The time used to merge the data : \n",
            "0:00:40.901275\n"
          ]
        }
      ]
    },
    {
      "cell_type": "code",
      "source": [
        "test_data_set[0].head()"
      ],
      "metadata": {
        "colab": {
          "base_uri": "https://localhost:8080/",
          "height": 386
        },
        "id": "PVpgbqrslLSK",
        "outputId": "771099ef-cd3a-4e5f-9c76-d9b98a7d7d0c"
      },
      "execution_count": 38,
      "outputs": [
        {
          "output_type": "execute_result",
          "data": {
            "text/plain": [
              "   IDSCHOOL  IDCLASS    IDSTUD  Teacher ID and Link  IDTEACH  \\\n",
              "0      5001   500104  50010403           50010101.0   500101   \n",
              "1      5001   500104  50010404           50010101.0   500101   \n",
              "2      5001   500104  50010405           50010101.0   500101   \n",
              "3      5001   500104  50010406           50010101.0   500101   \n",
              "4      5001   500104  50010407           50010101.0   500101   \n",
              "\n",
              "  Number of Math Teachers for Student  Number of Science Teachers for Student  \\\n",
              "0                                 1.0                                     1.0   \n",
              "1                                 1.0                                     1.0   \n",
              "2                                 1.0                                     1.0   \n",
              "3                                 1.0                                     1.0   \n",
              "4                                 1.0                                     1.0   \n",
              "\n",
              "   Number of Teachers JACKKNIFE ZONE  GEN\\YEARS BEEN TEACHING  ...  \\\n",
              "0                 2.0           11.0                     15.0  ...   \n",
              "1                 2.0           11.0                     15.0  ...   \n",
              "2                 2.0           11.0                     15.0  ...   \n",
              "3                 2.0           11.0                     15.0  ...   \n",
              "4                 2.0           11.0                     15.0  ...   \n",
              "\n",
              "   School Discipline Problems-Prncpl/IDX_Moderate to Severe Problems  \\\n",
              "0                                                  0                   \n",
              "1                                                  0                   \n",
              "2                                                  0                   \n",
              "3                                                  0                   \n",
              "4                                                  0                   \n",
              "\n",
              "   School Emph on Acad Success-Prncpl/IDX_High Emphasis  \\\n",
              "0                                                  0      \n",
              "1                                                  0      \n",
              "2                                                  0      \n",
              "3                                                  0      \n",
              "4                                                  0      \n",
              "\n",
              "   School Emph on Acad Success-Prncpl/IDX_Medium Emphasis  \\\n",
              "0                                                  0        \n",
              "1                                                  0        \n",
              "2                                                  0        \n",
              "3                                                  0        \n",
              "4                                                  0        \n",
              "\n",
              "   School Emph on Acad Success-Prncpl/IDX_Very High Emphasis  \\\n",
              "0                                                  1           \n",
              "1                                                  1           \n",
              "2                                                  1           \n",
              "3                                                  1           \n",
              "4                                                  1           \n",
              "\n",
              "   Instr Aff by Mat Res Shortage-Prncpl/IDX_Affected  \\\n",
              "0                                                  0   \n",
              "1                                                  0   \n",
              "2                                                  0   \n",
              "3                                                  0   \n",
              "4                                                  0   \n",
              "\n",
              "   Instr Aff by Mat Res Shortage-Prncpl/IDX_Affected A Lot  \\\n",
              "0                                                  0         \n",
              "1                                                  0         \n",
              "2                                                  0         \n",
              "3                                                  0         \n",
              "4                                                  0         \n",
              "\n",
              "  Instr Aff by Sci Res Shortage-Prncpl/IDX_Affected  \\\n",
              "0                                                 0   \n",
              "1                                                 0   \n",
              "2                                                 0   \n",
              "3                                                 0   \n",
              "4                                                 0   \n",
              "\n",
              "   Instr Aff by Sci Res Shortage-Prncpl/IDX_Affected A Lot  \\\n",
              "0                                                  0         \n",
              "1                                                  0         \n",
              "2                                                  0         \n",
              "3                                                  0         \n",
              "4                                                  0         \n",
              "\n",
              "   School Composition by Socioeconomic Background_More Affluent  \\\n",
              "0                                                  0              \n",
              "1                                                  0              \n",
              "2                                                  0              \n",
              "3                                                  0              \n",
              "4                                                  0              \n",
              "\n",
              "   School Composition by Socioeconomic Background_More Disadvantaged  \n",
              "0                                                  0                  \n",
              "1                                                  0                  \n",
              "2                                                  0                  \n",
              "3                                                  0                  \n",
              "4                                                  0                  \n",
              "\n",
              "[5 rows x 893 columns]"
            ],
            "text/html": [
              "\n",
              "  <div id=\"df-d08e249d-47f0-4b25-acf2-800b5d78d40a\">\n",
              "    <div class=\"colab-df-container\">\n",
              "      <div>\n",
              "<style scoped>\n",
              "    .dataframe tbody tr th:only-of-type {\n",
              "        vertical-align: middle;\n",
              "    }\n",
              "\n",
              "    .dataframe tbody tr th {\n",
              "        vertical-align: top;\n",
              "    }\n",
              "\n",
              "    .dataframe thead th {\n",
              "        text-align: right;\n",
              "    }\n",
              "</style>\n",
              "<table border=\"1\" class=\"dataframe\">\n",
              "  <thead>\n",
              "    <tr style=\"text-align: right;\">\n",
              "      <th></th>\n",
              "      <th>IDSCHOOL</th>\n",
              "      <th>IDCLASS</th>\n",
              "      <th>IDSTUD</th>\n",
              "      <th>Teacher ID and Link</th>\n",
              "      <th>IDTEACH</th>\n",
              "      <th>Number of Math Teachers for Student</th>\n",
              "      <th>Number of Science Teachers for Student</th>\n",
              "      <th>Number of Teachers</th>\n",
              "      <th>JACKKNIFE ZONE</th>\n",
              "      <th>GEN\\YEARS BEEN TEACHING</th>\n",
              "      <th>...</th>\n",
              "      <th>School Discipline Problems-Prncpl/IDX_Moderate to Severe Problems</th>\n",
              "      <th>School Emph on Acad Success-Prncpl/IDX_High Emphasis</th>\n",
              "      <th>School Emph on Acad Success-Prncpl/IDX_Medium Emphasis</th>\n",
              "      <th>School Emph on Acad Success-Prncpl/IDX_Very High Emphasis</th>\n",
              "      <th>Instr Aff by Mat Res Shortage-Prncpl/IDX_Affected</th>\n",
              "      <th>Instr Aff by Mat Res Shortage-Prncpl/IDX_Affected A Lot</th>\n",
              "      <th>Instr Aff by Sci Res Shortage-Prncpl/IDX_Affected</th>\n",
              "      <th>Instr Aff by Sci Res Shortage-Prncpl/IDX_Affected A Lot</th>\n",
              "      <th>School Composition by Socioeconomic Background_More Affluent</th>\n",
              "      <th>School Composition by Socioeconomic Background_More Disadvantaged</th>\n",
              "    </tr>\n",
              "  </thead>\n",
              "  <tbody>\n",
              "    <tr>\n",
              "      <th>0</th>\n",
              "      <td>5001</td>\n",
              "      <td>500104</td>\n",
              "      <td>50010403</td>\n",
              "      <td>50010101.0</td>\n",
              "      <td>500101</td>\n",
              "      <td>1.0</td>\n",
              "      <td>1.0</td>\n",
              "      <td>2.0</td>\n",
              "      <td>11.0</td>\n",
              "      <td>15.0</td>\n",
              "      <td>...</td>\n",
              "      <td>0</td>\n",
              "      <td>0</td>\n",
              "      <td>0</td>\n",
              "      <td>1</td>\n",
              "      <td>0</td>\n",
              "      <td>0</td>\n",
              "      <td>0</td>\n",
              "      <td>0</td>\n",
              "      <td>0</td>\n",
              "      <td>0</td>\n",
              "    </tr>\n",
              "    <tr>\n",
              "      <th>1</th>\n",
              "      <td>5001</td>\n",
              "      <td>500104</td>\n",
              "      <td>50010404</td>\n",
              "      <td>50010101.0</td>\n",
              "      <td>500101</td>\n",
              "      <td>1.0</td>\n",
              "      <td>1.0</td>\n",
              "      <td>2.0</td>\n",
              "      <td>11.0</td>\n",
              "      <td>15.0</td>\n",
              "      <td>...</td>\n",
              "      <td>0</td>\n",
              "      <td>0</td>\n",
              "      <td>0</td>\n",
              "      <td>1</td>\n",
              "      <td>0</td>\n",
              "      <td>0</td>\n",
              "      <td>0</td>\n",
              "      <td>0</td>\n",
              "      <td>0</td>\n",
              "      <td>0</td>\n",
              "    </tr>\n",
              "    <tr>\n",
              "      <th>2</th>\n",
              "      <td>5001</td>\n",
              "      <td>500104</td>\n",
              "      <td>50010405</td>\n",
              "      <td>50010101.0</td>\n",
              "      <td>500101</td>\n",
              "      <td>1.0</td>\n",
              "      <td>1.0</td>\n",
              "      <td>2.0</td>\n",
              "      <td>11.0</td>\n",
              "      <td>15.0</td>\n",
              "      <td>...</td>\n",
              "      <td>0</td>\n",
              "      <td>0</td>\n",
              "      <td>0</td>\n",
              "      <td>1</td>\n",
              "      <td>0</td>\n",
              "      <td>0</td>\n",
              "      <td>0</td>\n",
              "      <td>0</td>\n",
              "      <td>0</td>\n",
              "      <td>0</td>\n",
              "    </tr>\n",
              "    <tr>\n",
              "      <th>3</th>\n",
              "      <td>5001</td>\n",
              "      <td>500104</td>\n",
              "      <td>50010406</td>\n",
              "      <td>50010101.0</td>\n",
              "      <td>500101</td>\n",
              "      <td>1.0</td>\n",
              "      <td>1.0</td>\n",
              "      <td>2.0</td>\n",
              "      <td>11.0</td>\n",
              "      <td>15.0</td>\n",
              "      <td>...</td>\n",
              "      <td>0</td>\n",
              "      <td>0</td>\n",
              "      <td>0</td>\n",
              "      <td>1</td>\n",
              "      <td>0</td>\n",
              "      <td>0</td>\n",
              "      <td>0</td>\n",
              "      <td>0</td>\n",
              "      <td>0</td>\n",
              "      <td>0</td>\n",
              "    </tr>\n",
              "    <tr>\n",
              "      <th>4</th>\n",
              "      <td>5001</td>\n",
              "      <td>500104</td>\n",
              "      <td>50010407</td>\n",
              "      <td>50010101.0</td>\n",
              "      <td>500101</td>\n",
              "      <td>1.0</td>\n",
              "      <td>1.0</td>\n",
              "      <td>2.0</td>\n",
              "      <td>11.0</td>\n",
              "      <td>15.0</td>\n",
              "      <td>...</td>\n",
              "      <td>0</td>\n",
              "      <td>0</td>\n",
              "      <td>0</td>\n",
              "      <td>1</td>\n",
              "      <td>0</td>\n",
              "      <td>0</td>\n",
              "      <td>0</td>\n",
              "      <td>0</td>\n",
              "      <td>0</td>\n",
              "      <td>0</td>\n",
              "    </tr>\n",
              "  </tbody>\n",
              "</table>\n",
              "<p>5 rows × 893 columns</p>\n",
              "</div>\n",
              "      <button class=\"colab-df-convert\" onclick=\"convertToInteractive('df-d08e249d-47f0-4b25-acf2-800b5d78d40a')\"\n",
              "              title=\"Convert this dataframe to an interactive table.\"\n",
              "              style=\"display:none;\">\n",
              "        \n",
              "  <svg xmlns=\"http://www.w3.org/2000/svg\" height=\"24px\"viewBox=\"0 0 24 24\"\n",
              "       width=\"24px\">\n",
              "    <path d=\"M0 0h24v24H0V0z\" fill=\"none\"/>\n",
              "    <path d=\"M18.56 5.44l.94 2.06.94-2.06 2.06-.94-2.06-.94-.94-2.06-.94 2.06-2.06.94zm-11 1L8.5 8.5l.94-2.06 2.06-.94-2.06-.94L8.5 2.5l-.94 2.06-2.06.94zm10 10l.94 2.06.94-2.06 2.06-.94-2.06-.94-.94-2.06-.94 2.06-2.06.94z\"/><path d=\"M17.41 7.96l-1.37-1.37c-.4-.4-.92-.59-1.43-.59-.52 0-1.04.2-1.43.59L10.3 9.45l-7.72 7.72c-.78.78-.78 2.05 0 2.83L4 21.41c.39.39.9.59 1.41.59.51 0 1.02-.2 1.41-.59l7.78-7.78 2.81-2.81c.8-.78.8-2.07 0-2.86zM5.41 20L4 18.59l7.72-7.72 1.47 1.35L5.41 20z\"/>\n",
              "  </svg>\n",
              "      </button>\n",
              "      \n",
              "  <style>\n",
              "    .colab-df-container {\n",
              "      display:flex;\n",
              "      flex-wrap:wrap;\n",
              "      gap: 12px;\n",
              "    }\n",
              "\n",
              "    .colab-df-convert {\n",
              "      background-color: #E8F0FE;\n",
              "      border: none;\n",
              "      border-radius: 50%;\n",
              "      cursor: pointer;\n",
              "      display: none;\n",
              "      fill: #1967D2;\n",
              "      height: 32px;\n",
              "      padding: 0 0 0 0;\n",
              "      width: 32px;\n",
              "    }\n",
              "\n",
              "    .colab-df-convert:hover {\n",
              "      background-color: #E2EBFA;\n",
              "      box-shadow: 0px 1px 2px rgba(60, 64, 67, 0.3), 0px 1px 3px 1px rgba(60, 64, 67, 0.15);\n",
              "      fill: #174EA6;\n",
              "    }\n",
              "\n",
              "    [theme=dark] .colab-df-convert {\n",
              "      background-color: #3B4455;\n",
              "      fill: #D2E3FC;\n",
              "    }\n",
              "\n",
              "    [theme=dark] .colab-df-convert:hover {\n",
              "      background-color: #434B5C;\n",
              "      box-shadow: 0px 1px 3px 1px rgba(0, 0, 0, 0.15);\n",
              "      filter: drop-shadow(0px 1px 2px rgba(0, 0, 0, 0.3));\n",
              "      fill: #FFFFFF;\n",
              "    }\n",
              "  </style>\n",
              "\n",
              "      <script>\n",
              "        const buttonEl =\n",
              "          document.querySelector('#df-d08e249d-47f0-4b25-acf2-800b5d78d40a button.colab-df-convert');\n",
              "        buttonEl.style.display =\n",
              "          google.colab.kernel.accessAllowed ? 'block' : 'none';\n",
              "\n",
              "        async function convertToInteractive(key) {\n",
              "          const element = document.querySelector('#df-d08e249d-47f0-4b25-acf2-800b5d78d40a');\n",
              "          const dataTable =\n",
              "            await google.colab.kernel.invokeFunction('convertToInteractive',\n",
              "                                                     [key], {});\n",
              "          if (!dataTable) return;\n",
              "\n",
              "          const docLinkHtml = 'Like what you see? Visit the ' +\n",
              "            '<a target=\"_blank\" href=https://colab.research.google.com/notebooks/data_table.ipynb>data table notebook</a>'\n",
              "            + ' to learn more about interactive tables.';\n",
              "          element.innerHTML = '';\n",
              "          dataTable['output_type'] = 'display_data';\n",
              "          await google.colab.output.renderOutput(dataTable, element);\n",
              "          const docLink = document.createElement('div');\n",
              "          docLink.innerHTML = docLinkHtml;\n",
              "          element.appendChild(docLink);\n",
              "        }\n",
              "      </script>\n",
              "    </div>\n",
              "  </div>\n",
              "  "
            ]
          },
          "metadata": {},
          "execution_count": 38
        }
      ]
    },
    {
      "cell_type": "code",
      "source": [
        "#explained_final_data_set = merge_data_countries(name = 'explained.csv', to_dummy =False)"
      ],
      "metadata": {
        "colab": {
          "base_uri": "https://localhost:8080/"
        },
        "id": "8JWIrntrlet4",
        "outputId": "f71e876a-14db-4a23-beec-9fc38ba99234"
      },
      "execution_count": 39,
      "outputs": [
        {
          "output_type": "stream",
          "name": "stdout",
          "text": [
            "tmpBCG created\n",
            "tmpBSG created\n",
            "tmpBST created\n",
            "temporary list deleted\n",
            "tmpBSTBSTM created, tmpBST and tmpBTM deleted\n",
            "tmpBCGBSG created, tmpBSG and tmpBCG deleted\n",
            "change country ; Done\n",
            "achievement : Done\n",
            "Dummy one variable ; Done\n",
            "Dummies other variable ; Done\n",
            "tmpBCGBSGBSABSTBTM created, tmpBSTBTM and tmpBCGBSGBSA deleted\n",
            "csv file saved to explained\n",
            "The time used to merge the data : \n",
            "0:10:43.405676\n"
          ]
        }
      ]
    },
    {
      "cell_type": "code",
      "source": [
        "ls"
      ],
      "metadata": {
        "colab": {
          "base_uri": "https://localhost:8080/"
        },
        "id": "HIM0NDwWilDq",
        "outputId": "d7de9937-a211-4d70-b392-668edc123db4"
      },
      "execution_count": 40,
      "outputs": [
        {
          "output_type": "stream",
          "name": "stdout",
          "text": [
            " allfile_merged.csv   \u001b[0m\u001b[01;34m'T19_G4_Curriculum Data'\u001b[0m/\n",
            " countries.geojson    \u001b[01;34m'T19_G4_SPSS Data'\u001b[0m/\n",
            " country_id.csv       \u001b[01;34m'T19_G4_TCMA Item Selection'\u001b[0m/\n",
            " \u001b[01;34mdata_small_chuncks\u001b[0m/   \u001b[01;34mT19_G8_Almanacs\u001b[0m/\n",
            " explained             \u001b[01;34mT19_G8_Codebooks\u001b[0m/\n",
            " mergedtest.csv       \u001b[01;34m'T19_G8_SPSS Data'\u001b[0m/\n",
            " \u001b[01;34mT19_G4_Almanacs\u001b[0m/     \u001b[01;34m'T19_G8_TCMA Item Selection'\u001b[0m/\n",
            " \u001b[01;34mT19_G4_Codebooks\u001b[0m/     usaexplainedtest.csv\n"
          ]
        }
      ]
    },
    {
      "cell_type": "code",
      "source": [
        "explained_final_data_set =  pd.read_csv( 'explained.csv' )\n",
        "\n",
        "explained_final_data_set.head()"
      ],
      "metadata": {
        "colab": {
          "base_uri": "https://localhost:8080/",
          "height": 646
        },
        "id": "U6l15B9WgGxm",
        "outputId": "6761477c-c72e-41aa-9482-e5050df9ed22"
      },
      "execution_count": 42,
      "outputs": [
        {
          "output_type": "execute_result",
          "data": {
            "text/plain": [
              "   Unnamed: 0  IDSCHOOL  IDCLASS    IDSTUD  Teacher ID and Link  IDTEACH  \\\n",
              "0           0      5001   500102  50010201           50010101.0   500101   \n",
              "1           1      5001   500102  50010202           50010101.0   500101   \n",
              "2           2      5001   500102  50010203           50010101.0   500101   \n",
              "3           3      5001   500102  50010204           50010101.0   500101   \n",
              "4           4      5001   500102  50010207           50010101.0   500101   \n",
              "\n",
              "   Number of Math Teachers for Student  \\\n",
              "0                                  1.0   \n",
              "1                                  1.0   \n",
              "2                                  1.0   \n",
              "3                                  1.0   \n",
              "4                                  1.0   \n",
              "\n",
              "   Number of Science Teachers for Student  Number of Teachers  JACKKNIFE ZONE  \\\n",
              "0                                     1.0                 2.0            31.0   \n",
              "1                                     1.0                 2.0            31.0   \n",
              "2                                     1.0                 2.0            31.0   \n",
              "3                                     1.0                 2.0            31.0   \n",
              "4                                     1.0                 2.0            31.0   \n",
              "\n",
              "   ...  Instr Aff by Mat Res Shortage-Prncpl/SCL  \\\n",
              "0  ...                                  14.25596   \n",
              "1  ...                                  14.25596   \n",
              "2  ...                                  14.25596   \n",
              "3  ...                                  14.25596   \n",
              "4  ...                                  14.25596   \n",
              "\n",
              "  Instr Aff by Sci Res Shortage-Prncpl/SCL  \\\n",
              "0                                 14.57241   \n",
              "1                                 14.57241   \n",
              "2                                 14.57241   \n",
              "3                                 14.57241   \n",
              "4                                 14.57241   \n",
              "\n",
              "  School Discipline Problems-Prncpl/IDX  \\\n",
              "0                        Minor Problems   \n",
              "1                        Minor Problems   \n",
              "2                        Minor Problems   \n",
              "3                        Minor Problems   \n",
              "4                        Minor Problems   \n",
              "\n",
              "  School Emph on Acad Success-Prncpl/IDX  \\\n",
              "0                        Medium Emphasis   \n",
              "1                        Medium Emphasis   \n",
              "2                        Medium Emphasis   \n",
              "3                        Medium Emphasis   \n",
              "4                        Medium Emphasis   \n",
              "\n",
              "  Instr Aff by Mat Res Shortage-Prncpl/IDX  \\\n",
              "0                             Not Affected   \n",
              "1                             Not Affected   \n",
              "2                             Not Affected   \n",
              "3                             Not Affected   \n",
              "4                             Not Affected   \n",
              "\n",
              "  Instr Aff by Sci Res Shortage-Prncpl/IDX  \\\n",
              "0                             Not Affected   \n",
              "1                             Not Affected   \n",
              "2                             Not Affected   \n",
              "3                             Not Affected   \n",
              "4                             Not Affected   \n",
              "\n",
              "  School Composition by Socioeconomic Background  \\\n",
              "0   Neither More Affluent nor More Disadvantaged   \n",
              "1   Neither More Affluent nor More Disadvantaged   \n",
              "2   Neither More Affluent nor More Disadvantaged   \n",
              "3   Neither More Affluent nor More Disadvantaged   \n",
              "4   Neither More Affluent nor More Disadvantaged   \n",
              "\n",
              "  Total Instructional Hours per Year             COUNTRY      ACHIEV  \n",
              "0                             1350.0  UnitedArabEmirates  550.550842  \n",
              "1                             1350.0  UnitedArabEmirates  326.129702  \n",
              "2                             1350.0  UnitedArabEmirates  393.169444  \n",
              "3                             1350.0  UnitedArabEmirates  489.828648  \n",
              "4                             1350.0  UnitedArabEmirates  461.342258  \n",
              "\n",
              "[5 rows x 363 columns]"
            ],
            "text/html": [
              "\n",
              "  <div id=\"df-82131f0a-838c-419c-984b-b0bf89653411\">\n",
              "    <div class=\"colab-df-container\">\n",
              "      <div>\n",
              "<style scoped>\n",
              "    .dataframe tbody tr th:only-of-type {\n",
              "        vertical-align: middle;\n",
              "    }\n",
              "\n",
              "    .dataframe tbody tr th {\n",
              "        vertical-align: top;\n",
              "    }\n",
              "\n",
              "    .dataframe thead th {\n",
              "        text-align: right;\n",
              "    }\n",
              "</style>\n",
              "<table border=\"1\" class=\"dataframe\">\n",
              "  <thead>\n",
              "    <tr style=\"text-align: right;\">\n",
              "      <th></th>\n",
              "      <th>Unnamed: 0</th>\n",
              "      <th>IDSCHOOL</th>\n",
              "      <th>IDCLASS</th>\n",
              "      <th>IDSTUD</th>\n",
              "      <th>Teacher ID and Link</th>\n",
              "      <th>IDTEACH</th>\n",
              "      <th>Number of Math Teachers for Student</th>\n",
              "      <th>Number of Science Teachers for Student</th>\n",
              "      <th>Number of Teachers</th>\n",
              "      <th>JACKKNIFE ZONE</th>\n",
              "      <th>...</th>\n",
              "      <th>Instr Aff by Mat Res Shortage-Prncpl/SCL</th>\n",
              "      <th>Instr Aff by Sci Res Shortage-Prncpl/SCL</th>\n",
              "      <th>School Discipline Problems-Prncpl/IDX</th>\n",
              "      <th>School Emph on Acad Success-Prncpl/IDX</th>\n",
              "      <th>Instr Aff by Mat Res Shortage-Prncpl/IDX</th>\n",
              "      <th>Instr Aff by Sci Res Shortage-Prncpl/IDX</th>\n",
              "      <th>School Composition by Socioeconomic Background</th>\n",
              "      <th>Total Instructional Hours per Year</th>\n",
              "      <th>COUNTRY</th>\n",
              "      <th>ACHIEV</th>\n",
              "    </tr>\n",
              "  </thead>\n",
              "  <tbody>\n",
              "    <tr>\n",
              "      <th>0</th>\n",
              "      <td>0</td>\n",
              "      <td>5001</td>\n",
              "      <td>500102</td>\n",
              "      <td>50010201</td>\n",
              "      <td>50010101.0</td>\n",
              "      <td>500101</td>\n",
              "      <td>1.0</td>\n",
              "      <td>1.0</td>\n",
              "      <td>2.0</td>\n",
              "      <td>31.0</td>\n",
              "      <td>...</td>\n",
              "      <td>14.25596</td>\n",
              "      <td>14.57241</td>\n",
              "      <td>Minor Problems</td>\n",
              "      <td>Medium Emphasis</td>\n",
              "      <td>Not Affected</td>\n",
              "      <td>Not Affected</td>\n",
              "      <td>Neither More Affluent nor More Disadvantaged</td>\n",
              "      <td>1350.0</td>\n",
              "      <td>UnitedArabEmirates</td>\n",
              "      <td>550.550842</td>\n",
              "    </tr>\n",
              "    <tr>\n",
              "      <th>1</th>\n",
              "      <td>1</td>\n",
              "      <td>5001</td>\n",
              "      <td>500102</td>\n",
              "      <td>50010202</td>\n",
              "      <td>50010101.0</td>\n",
              "      <td>500101</td>\n",
              "      <td>1.0</td>\n",
              "      <td>1.0</td>\n",
              "      <td>2.0</td>\n",
              "      <td>31.0</td>\n",
              "      <td>...</td>\n",
              "      <td>14.25596</td>\n",
              "      <td>14.57241</td>\n",
              "      <td>Minor Problems</td>\n",
              "      <td>Medium Emphasis</td>\n",
              "      <td>Not Affected</td>\n",
              "      <td>Not Affected</td>\n",
              "      <td>Neither More Affluent nor More Disadvantaged</td>\n",
              "      <td>1350.0</td>\n",
              "      <td>UnitedArabEmirates</td>\n",
              "      <td>326.129702</td>\n",
              "    </tr>\n",
              "    <tr>\n",
              "      <th>2</th>\n",
              "      <td>2</td>\n",
              "      <td>5001</td>\n",
              "      <td>500102</td>\n",
              "      <td>50010203</td>\n",
              "      <td>50010101.0</td>\n",
              "      <td>500101</td>\n",
              "      <td>1.0</td>\n",
              "      <td>1.0</td>\n",
              "      <td>2.0</td>\n",
              "      <td>31.0</td>\n",
              "      <td>...</td>\n",
              "      <td>14.25596</td>\n",
              "      <td>14.57241</td>\n",
              "      <td>Minor Problems</td>\n",
              "      <td>Medium Emphasis</td>\n",
              "      <td>Not Affected</td>\n",
              "      <td>Not Affected</td>\n",
              "      <td>Neither More Affluent nor More Disadvantaged</td>\n",
              "      <td>1350.0</td>\n",
              "      <td>UnitedArabEmirates</td>\n",
              "      <td>393.169444</td>\n",
              "    </tr>\n",
              "    <tr>\n",
              "      <th>3</th>\n",
              "      <td>3</td>\n",
              "      <td>5001</td>\n",
              "      <td>500102</td>\n",
              "      <td>50010204</td>\n",
              "      <td>50010101.0</td>\n",
              "      <td>500101</td>\n",
              "      <td>1.0</td>\n",
              "      <td>1.0</td>\n",
              "      <td>2.0</td>\n",
              "      <td>31.0</td>\n",
              "      <td>...</td>\n",
              "      <td>14.25596</td>\n",
              "      <td>14.57241</td>\n",
              "      <td>Minor Problems</td>\n",
              "      <td>Medium Emphasis</td>\n",
              "      <td>Not Affected</td>\n",
              "      <td>Not Affected</td>\n",
              "      <td>Neither More Affluent nor More Disadvantaged</td>\n",
              "      <td>1350.0</td>\n",
              "      <td>UnitedArabEmirates</td>\n",
              "      <td>489.828648</td>\n",
              "    </tr>\n",
              "    <tr>\n",
              "      <th>4</th>\n",
              "      <td>4</td>\n",
              "      <td>5001</td>\n",
              "      <td>500102</td>\n",
              "      <td>50010207</td>\n",
              "      <td>50010101.0</td>\n",
              "      <td>500101</td>\n",
              "      <td>1.0</td>\n",
              "      <td>1.0</td>\n",
              "      <td>2.0</td>\n",
              "      <td>31.0</td>\n",
              "      <td>...</td>\n",
              "      <td>14.25596</td>\n",
              "      <td>14.57241</td>\n",
              "      <td>Minor Problems</td>\n",
              "      <td>Medium Emphasis</td>\n",
              "      <td>Not Affected</td>\n",
              "      <td>Not Affected</td>\n",
              "      <td>Neither More Affluent nor More Disadvantaged</td>\n",
              "      <td>1350.0</td>\n",
              "      <td>UnitedArabEmirates</td>\n",
              "      <td>461.342258</td>\n",
              "    </tr>\n",
              "  </tbody>\n",
              "</table>\n",
              "<p>5 rows × 363 columns</p>\n",
              "</div>\n",
              "      <button class=\"colab-df-convert\" onclick=\"convertToInteractive('df-82131f0a-838c-419c-984b-b0bf89653411')\"\n",
              "              title=\"Convert this dataframe to an interactive table.\"\n",
              "              style=\"display:none;\">\n",
              "        \n",
              "  <svg xmlns=\"http://www.w3.org/2000/svg\" height=\"24px\"viewBox=\"0 0 24 24\"\n",
              "       width=\"24px\">\n",
              "    <path d=\"M0 0h24v24H0V0z\" fill=\"none\"/>\n",
              "    <path d=\"M18.56 5.44l.94 2.06.94-2.06 2.06-.94-2.06-.94-.94-2.06-.94 2.06-2.06.94zm-11 1L8.5 8.5l.94-2.06 2.06-.94-2.06-.94L8.5 2.5l-.94 2.06-2.06.94zm10 10l.94 2.06.94-2.06 2.06-.94-2.06-.94-.94-2.06-.94 2.06-2.06.94z\"/><path d=\"M17.41 7.96l-1.37-1.37c-.4-.4-.92-.59-1.43-.59-.52 0-1.04.2-1.43.59L10.3 9.45l-7.72 7.72c-.78.78-.78 2.05 0 2.83L4 21.41c.39.39.9.59 1.41.59.51 0 1.02-.2 1.41-.59l7.78-7.78 2.81-2.81c.8-.78.8-2.07 0-2.86zM5.41 20L4 18.59l7.72-7.72 1.47 1.35L5.41 20z\"/>\n",
              "  </svg>\n",
              "      </button>\n",
              "      \n",
              "  <style>\n",
              "    .colab-df-container {\n",
              "      display:flex;\n",
              "      flex-wrap:wrap;\n",
              "      gap: 12px;\n",
              "    }\n",
              "\n",
              "    .colab-df-convert {\n",
              "      background-color: #E8F0FE;\n",
              "      border: none;\n",
              "      border-radius: 50%;\n",
              "      cursor: pointer;\n",
              "      display: none;\n",
              "      fill: #1967D2;\n",
              "      height: 32px;\n",
              "      padding: 0 0 0 0;\n",
              "      width: 32px;\n",
              "    }\n",
              "\n",
              "    .colab-df-convert:hover {\n",
              "      background-color: #E2EBFA;\n",
              "      box-shadow: 0px 1px 2px rgba(60, 64, 67, 0.3), 0px 1px 3px 1px rgba(60, 64, 67, 0.15);\n",
              "      fill: #174EA6;\n",
              "    }\n",
              "\n",
              "    [theme=dark] .colab-df-convert {\n",
              "      background-color: #3B4455;\n",
              "      fill: #D2E3FC;\n",
              "    }\n",
              "\n",
              "    [theme=dark] .colab-df-convert:hover {\n",
              "      background-color: #434B5C;\n",
              "      box-shadow: 0px 1px 3px 1px rgba(0, 0, 0, 0.15);\n",
              "      filter: drop-shadow(0px 1px 2px rgba(0, 0, 0, 0.3));\n",
              "      fill: #FFFFFF;\n",
              "    }\n",
              "  </style>\n",
              "\n",
              "      <script>\n",
              "        const buttonEl =\n",
              "          document.querySelector('#df-82131f0a-838c-419c-984b-b0bf89653411 button.colab-df-convert');\n",
              "        buttonEl.style.display =\n",
              "          google.colab.kernel.accessAllowed ? 'block' : 'none';\n",
              "\n",
              "        async function convertToInteractive(key) {\n",
              "          const element = document.querySelector('#df-82131f0a-838c-419c-984b-b0bf89653411');\n",
              "          const dataTable =\n",
              "            await google.colab.kernel.invokeFunction('convertToInteractive',\n",
              "                                                     [key], {});\n",
              "          if (!dataTable) return;\n",
              "\n",
              "          const docLinkHtml = 'Like what you see? Visit the ' +\n",
              "            '<a target=\"_blank\" href=https://colab.research.google.com/notebooks/data_table.ipynb>data table notebook</a>'\n",
              "            + ' to learn more about interactive tables.';\n",
              "          element.innerHTML = '';\n",
              "          dataTable['output_type'] = 'display_data';\n",
              "          await google.colab.output.renderOutput(dataTable, element);\n",
              "          const docLink = document.createElement('div');\n",
              "          docLink.innerHTML = docLinkHtml;\n",
              "          element.appendChild(docLink);\n",
              "        }\n",
              "      </script>\n",
              "    </div>\n",
              "  </div>\n",
              "  "
            ]
          },
          "metadata": {},
          "execution_count": 42
        }
      ]
    },
    {
      "cell_type": "markdown",
      "source": [
        "Here is how to load the final merged data after its construction. This data set will be the one used in the models, however, we will use the explained one in Datastudio because it is easy to read there. Also, we did not put the variables into dummy because Data Studio can handle them alone."
      ],
      "metadata": {
        "id": "wSkbpinwwJ7F"
      }
    },
    {
      "cell_type": "code",
      "source": [
        "final_data_set =  pd.read_csv( 'allfile_merged.csv' )\n",
        "final_data_set.head()"
      ],
      "metadata": {
        "id": "K_-nAbA6zgdO",
        "colab": {
          "base_uri": "https://localhost:8080/",
          "height": 334
        },
        "outputId": "2f1924b8-161c-4e9c-90e7-7e76ff120bed"
      },
      "execution_count": 154,
      "outputs": [
        {
          "output_type": "execute_result",
          "data": {
            "text/plain": [
              "   Unnamed: 0  IDSCHOOL  IDCLASS    IDSTUD  IDTEACH  BTBG01  BTBG10  BTBG11  \\\n",
              "0           0      5001   500102  50010201   500101    17.0    40.0    18.0   \n",
              "1           1      5001   500102  50010202   500101    17.0    40.0    18.0   \n",
              "2           2      5001   500102  50010203   500101    17.0    40.0    18.0   \n",
              "3           3      5001   500102  50010204   500101    17.0    40.0    18.0   \n",
              "4           4      5001   500102  50010207   500101    17.0    40.0    18.0   \n",
              "\n",
              "   BTBM14 ITLANG_T  ... BCDGDAS_Moderate to Severe Problems  \\\n",
              "0     NaN  English  ...                                   0   \n",
              "1     NaN  English  ...                                   0   \n",
              "2     NaN  English  ...                                   0   \n",
              "3     NaN  English  ...                                   0   \n",
              "4     NaN  English  ...                                   0   \n",
              "\n",
              "   BCDGEAS_High Emphasis  BCDGEAS_Medium Emphasis  BCDGEAS_Very High Emphasis  \\\n",
              "0                      0                        1                           0   \n",
              "1                      0                        1                           0   \n",
              "2                      0                        1                           0   \n",
              "3                      0                        1                           0   \n",
              "4                      0                        1                           0   \n",
              "\n",
              "   BCDGMRS_Affected  BCDGMRS_Affected A Lot  BCDGSRS_Affected  \\\n",
              "0                 0                       0                 0   \n",
              "1                 0                       0                 0   \n",
              "2                 0                       0                 0   \n",
              "3                 0                       0                 0   \n",
              "4                 0                       0                 0   \n",
              "\n",
              "   BCDGSRS_Affected A Lot  BCDGSBC_More Affluent  BCDGSBC_More Disadvantaged  \n",
              "0                       0                      0                           0  \n",
              "1                       0                      0                           0  \n",
              "2                       0                      0                           0  \n",
              "3                       0                      0                           0  \n",
              "4                       0                      0                           0  \n",
              "\n",
              "[5 rows x 778 columns]"
            ],
            "text/html": [
              "\n",
              "  <div id=\"df-f1acb94d-2dba-4bf4-92e9-5975312fc7e6\">\n",
              "    <div class=\"colab-df-container\">\n",
              "      <div>\n",
              "<style scoped>\n",
              "    .dataframe tbody tr th:only-of-type {\n",
              "        vertical-align: middle;\n",
              "    }\n",
              "\n",
              "    .dataframe tbody tr th {\n",
              "        vertical-align: top;\n",
              "    }\n",
              "\n",
              "    .dataframe thead th {\n",
              "        text-align: right;\n",
              "    }\n",
              "</style>\n",
              "<table border=\"1\" class=\"dataframe\">\n",
              "  <thead>\n",
              "    <tr style=\"text-align: right;\">\n",
              "      <th></th>\n",
              "      <th>Unnamed: 0</th>\n",
              "      <th>IDSCHOOL</th>\n",
              "      <th>IDCLASS</th>\n",
              "      <th>IDSTUD</th>\n",
              "      <th>IDTEACH</th>\n",
              "      <th>BTBG01</th>\n",
              "      <th>BTBG10</th>\n",
              "      <th>BTBG11</th>\n",
              "      <th>BTBM14</th>\n",
              "      <th>ITLANG_T</th>\n",
              "      <th>...</th>\n",
              "      <th>BCDGDAS_Moderate to Severe Problems</th>\n",
              "      <th>BCDGEAS_High Emphasis</th>\n",
              "      <th>BCDGEAS_Medium Emphasis</th>\n",
              "      <th>BCDGEAS_Very High Emphasis</th>\n",
              "      <th>BCDGMRS_Affected</th>\n",
              "      <th>BCDGMRS_Affected A Lot</th>\n",
              "      <th>BCDGSRS_Affected</th>\n",
              "      <th>BCDGSRS_Affected A Lot</th>\n",
              "      <th>BCDGSBC_More Affluent</th>\n",
              "      <th>BCDGSBC_More Disadvantaged</th>\n",
              "    </tr>\n",
              "  </thead>\n",
              "  <tbody>\n",
              "    <tr>\n",
              "      <th>0</th>\n",
              "      <td>0</td>\n",
              "      <td>5001</td>\n",
              "      <td>500102</td>\n",
              "      <td>50010201</td>\n",
              "      <td>500101</td>\n",
              "      <td>17.0</td>\n",
              "      <td>40.0</td>\n",
              "      <td>18.0</td>\n",
              "      <td>NaN</td>\n",
              "      <td>English</td>\n",
              "      <td>...</td>\n",
              "      <td>0</td>\n",
              "      <td>0</td>\n",
              "      <td>1</td>\n",
              "      <td>0</td>\n",
              "      <td>0</td>\n",
              "      <td>0</td>\n",
              "      <td>0</td>\n",
              "      <td>0</td>\n",
              "      <td>0</td>\n",
              "      <td>0</td>\n",
              "    </tr>\n",
              "    <tr>\n",
              "      <th>1</th>\n",
              "      <td>1</td>\n",
              "      <td>5001</td>\n",
              "      <td>500102</td>\n",
              "      <td>50010202</td>\n",
              "      <td>500101</td>\n",
              "      <td>17.0</td>\n",
              "      <td>40.0</td>\n",
              "      <td>18.0</td>\n",
              "      <td>NaN</td>\n",
              "      <td>English</td>\n",
              "      <td>...</td>\n",
              "      <td>0</td>\n",
              "      <td>0</td>\n",
              "      <td>1</td>\n",
              "      <td>0</td>\n",
              "      <td>0</td>\n",
              "      <td>0</td>\n",
              "      <td>0</td>\n",
              "      <td>0</td>\n",
              "      <td>0</td>\n",
              "      <td>0</td>\n",
              "    </tr>\n",
              "    <tr>\n",
              "      <th>2</th>\n",
              "      <td>2</td>\n",
              "      <td>5001</td>\n",
              "      <td>500102</td>\n",
              "      <td>50010203</td>\n",
              "      <td>500101</td>\n",
              "      <td>17.0</td>\n",
              "      <td>40.0</td>\n",
              "      <td>18.0</td>\n",
              "      <td>NaN</td>\n",
              "      <td>English</td>\n",
              "      <td>...</td>\n",
              "      <td>0</td>\n",
              "      <td>0</td>\n",
              "      <td>1</td>\n",
              "      <td>0</td>\n",
              "      <td>0</td>\n",
              "      <td>0</td>\n",
              "      <td>0</td>\n",
              "      <td>0</td>\n",
              "      <td>0</td>\n",
              "      <td>0</td>\n",
              "    </tr>\n",
              "    <tr>\n",
              "      <th>3</th>\n",
              "      <td>3</td>\n",
              "      <td>5001</td>\n",
              "      <td>500102</td>\n",
              "      <td>50010204</td>\n",
              "      <td>500101</td>\n",
              "      <td>17.0</td>\n",
              "      <td>40.0</td>\n",
              "      <td>18.0</td>\n",
              "      <td>NaN</td>\n",
              "      <td>English</td>\n",
              "      <td>...</td>\n",
              "      <td>0</td>\n",
              "      <td>0</td>\n",
              "      <td>1</td>\n",
              "      <td>0</td>\n",
              "      <td>0</td>\n",
              "      <td>0</td>\n",
              "      <td>0</td>\n",
              "      <td>0</td>\n",
              "      <td>0</td>\n",
              "      <td>0</td>\n",
              "    </tr>\n",
              "    <tr>\n",
              "      <th>4</th>\n",
              "      <td>4</td>\n",
              "      <td>5001</td>\n",
              "      <td>500102</td>\n",
              "      <td>50010207</td>\n",
              "      <td>500101</td>\n",
              "      <td>17.0</td>\n",
              "      <td>40.0</td>\n",
              "      <td>18.0</td>\n",
              "      <td>NaN</td>\n",
              "      <td>English</td>\n",
              "      <td>...</td>\n",
              "      <td>0</td>\n",
              "      <td>0</td>\n",
              "      <td>1</td>\n",
              "      <td>0</td>\n",
              "      <td>0</td>\n",
              "      <td>0</td>\n",
              "      <td>0</td>\n",
              "      <td>0</td>\n",
              "      <td>0</td>\n",
              "      <td>0</td>\n",
              "    </tr>\n",
              "  </tbody>\n",
              "</table>\n",
              "<p>5 rows × 778 columns</p>\n",
              "</div>\n",
              "      <button class=\"colab-df-convert\" onclick=\"convertToInteractive('df-f1acb94d-2dba-4bf4-92e9-5975312fc7e6')\"\n",
              "              title=\"Convert this dataframe to an interactive table.\"\n",
              "              style=\"display:none;\">\n",
              "        \n",
              "  <svg xmlns=\"http://www.w3.org/2000/svg\" height=\"24px\"viewBox=\"0 0 24 24\"\n",
              "       width=\"24px\">\n",
              "    <path d=\"M0 0h24v24H0V0z\" fill=\"none\"/>\n",
              "    <path d=\"M18.56 5.44l.94 2.06.94-2.06 2.06-.94-2.06-.94-.94-2.06-.94 2.06-2.06.94zm-11 1L8.5 8.5l.94-2.06 2.06-.94-2.06-.94L8.5 2.5l-.94 2.06-2.06.94zm10 10l.94 2.06.94-2.06 2.06-.94-2.06-.94-.94-2.06-.94 2.06-2.06.94z\"/><path d=\"M17.41 7.96l-1.37-1.37c-.4-.4-.92-.59-1.43-.59-.52 0-1.04.2-1.43.59L10.3 9.45l-7.72 7.72c-.78.78-.78 2.05 0 2.83L4 21.41c.39.39.9.59 1.41.59.51 0 1.02-.2 1.41-.59l7.78-7.78 2.81-2.81c.8-.78.8-2.07 0-2.86zM5.41 20L4 18.59l7.72-7.72 1.47 1.35L5.41 20z\"/>\n",
              "  </svg>\n",
              "      </button>\n",
              "      \n",
              "  <style>\n",
              "    .colab-df-container {\n",
              "      display:flex;\n",
              "      flex-wrap:wrap;\n",
              "      gap: 12px;\n",
              "    }\n",
              "\n",
              "    .colab-df-convert {\n",
              "      background-color: #E8F0FE;\n",
              "      border: none;\n",
              "      border-radius: 50%;\n",
              "      cursor: pointer;\n",
              "      display: none;\n",
              "      fill: #1967D2;\n",
              "      height: 32px;\n",
              "      padding: 0 0 0 0;\n",
              "      width: 32px;\n",
              "    }\n",
              "\n",
              "    .colab-df-convert:hover {\n",
              "      background-color: #E2EBFA;\n",
              "      box-shadow: 0px 1px 2px rgba(60, 64, 67, 0.3), 0px 1px 3px 1px rgba(60, 64, 67, 0.15);\n",
              "      fill: #174EA6;\n",
              "    }\n",
              "\n",
              "    [theme=dark] .colab-df-convert {\n",
              "      background-color: #3B4455;\n",
              "      fill: #D2E3FC;\n",
              "    }\n",
              "\n",
              "    [theme=dark] .colab-df-convert:hover {\n",
              "      background-color: #434B5C;\n",
              "      box-shadow: 0px 1px 3px 1px rgba(0, 0, 0, 0.15);\n",
              "      filter: drop-shadow(0px 1px 2px rgba(0, 0, 0, 0.3));\n",
              "      fill: #FFFFFF;\n",
              "    }\n",
              "  </style>\n",
              "\n",
              "      <script>\n",
              "        const buttonEl =\n",
              "          document.querySelector('#df-f1acb94d-2dba-4bf4-92e9-5975312fc7e6 button.colab-df-convert');\n",
              "        buttonEl.style.display =\n",
              "          google.colab.kernel.accessAllowed ? 'block' : 'none';\n",
              "\n",
              "        async function convertToInteractive(key) {\n",
              "          const element = document.querySelector('#df-f1acb94d-2dba-4bf4-92e9-5975312fc7e6');\n",
              "          const dataTable =\n",
              "            await google.colab.kernel.invokeFunction('convertToInteractive',\n",
              "                                                     [key], {});\n",
              "          if (!dataTable) return;\n",
              "\n",
              "          const docLinkHtml = 'Like what you see? Visit the ' +\n",
              "            '<a target=\"_blank\" href=https://colab.research.google.com/notebooks/data_table.ipynb>data table notebook</a>'\n",
              "            + ' to learn more about interactive tables.';\n",
              "          element.innerHTML = '';\n",
              "          dataTable['output_type'] = 'display_data';\n",
              "          await google.colab.output.renderOutput(dataTable, element);\n",
              "          const docLink = document.createElement('div');\n",
              "          docLink.innerHTML = docLinkHtml;\n",
              "          element.appendChild(docLink);\n",
              "        }\n",
              "      </script>\n",
              "    </div>\n",
              "  </div>\n",
              "  "
            ]
          },
          "metadata": {},
          "execution_count": 154
        }
      ]
    },
    {
      "cell_type": "markdown",
      "source": [
        "#### Excel files that go to Google Data Studio."
      ],
      "metadata": {
        "id": "b153aq6W5Ana"
      }
    },
    {
      "cell_type": "code",
      "source": [
        "#list of all column without the index column\n"
      ],
      "metadata": {
        "id": "tOnWxt7Tpxp9"
      },
      "execution_count": null,
      "outputs": []
    },
    {
      "cell_type": "markdown",
      "source": [
        "# Exploratory Data analysis.\n",
        "\n",
        "\n",
        "Tutorial used in this EDA  :\n",
        "\n",
        "[this one](https://www.analyticsvidhya.com/blog/2021/04/20-must-known-pandas-function-for-exploratory-data-analysis-eda/)\n",
        "\n",
        "\n",
        "Also [Panda profiling](https://www.kdnuggets.com/2021/02/pandas-profiling-one-line-magical-code-eda.html)\n",
        "\n"
      ],
      "metadata": {
        "id": "tj-48wuPLPPc"
      }
    },
    {
      "cell_type": "markdown",
      "source": [
        "### Panda profiling"
      ],
      "metadata": {
        "id": "kfRXbTI1iTPj"
      }
    },
    {
      "cell_type": "code",
      "source": [
        ""
      ],
      "metadata": {
        "id": "rsNvWnpZd0Gw"
      },
      "execution_count": null,
      "outputs": []
    },
    {
      "cell_type": "code",
      "source": [
        ""
      ],
      "metadata": {
        "id": "w2N90ZZ9d0Bw"
      },
      "execution_count": null,
      "outputs": []
    },
    {
      "cell_type": "code",
      "source": [
        ""
      ],
      "metadata": {
        "id": "9PSC3_Xvdz7B"
      },
      "execution_count": null,
      "outputs": []
    },
    {
      "cell_type": "markdown",
      "source": [
        "### Number of student, teacher, school per country. (Choroplet)"
      ],
      "metadata": {
        "id": "Bk2r98y24Pm5"
      }
    },
    {
      "cell_type": "code",
      "source": [
        ""
      ],
      "metadata": {
        "id": "qhwYrbbB4PWS"
      },
      "execution_count": null,
      "outputs": []
    },
    {
      "cell_type": "markdown",
      "source": [
        "### Mean age, achievement per country, (Choroplet)"
      ],
      "metadata": {
        "id": "YCQycwDu4Wm8"
      }
    },
    {
      "cell_type": "code",
      "source": [
        ""
      ],
      "metadata": {
        "id": "Wm19Qh5_onFN"
      },
      "execution_count": null,
      "outputs": []
    },
    {
      "cell_type": "markdown",
      "source": [
        "### Student gender per country  (Choroplet)"
      ],
      "metadata": {
        "id": "fybpcgbV4tKX"
      }
    },
    {
      "cell_type": "code",
      "source": [
        ""
      ],
      "metadata": {
        "id": "ggcNpgTV4y0o"
      },
      "execution_count": null,
      "outputs": []
    },
    {
      "cell_type": "markdown",
      "source": [
        "#### Preprocessing the data prior to putting in database"
      ],
      "metadata": {
        "id": "QXgtJ6uizUL0"
      }
    },
    {
      "cell_type": "markdown",
      "source": [
        "Now let us preprocess the data by changing the type of variables."
      ],
      "metadata": {
        "id": "xkVm2Az10sSl"
      }
    },
    {
      "cell_type": "code",
      "source": [
        ""
      ],
      "metadata": {
        "id": "2nlsPSZueUIf"
      },
      "execution_count": null,
      "outputs": []
    },
    {
      "cell_type": "markdown",
      "source": [
        "## Building a regression model"
      ],
      "metadata": {
        "id": "FbtmYfQHhDtc"
      }
    },
    {
      "cell_type": "markdown",
      "source": [
        "For this twist challenge, let us use Random forest regressor."
      ],
      "metadata": {
        "id": "PQO5iO5jxjcj"
      }
    },
    {
      "cell_type": "markdown",
      "source": [
        "### Splitting the data into train and test."
      ],
      "metadata": {
        "id": "nvxaliAzz9NK"
      }
    },
    {
      "cell_type": "code",
      "source": [
        "L = data_USA.columns"
      ],
      "metadata": {
        "id": "6MpdU4JF0UDC"
      },
      "execution_count": null,
      "outputs": []
    },
    {
      "cell_type": "code",
      "source": [
        "L = L.drop('target')"
      ],
      "metadata": {
        "id": "aT5SEbkT0bBL"
      },
      "execution_count": null,
      "outputs": []
    },
    {
      "cell_type": "code",
      "source": [
        "from sklearn.model_selection import train_test_split\n",
        "X_train, X_test, y_train, y_test = train_test_split( data_USA[L], data_USA['target'], test_size=0.2, random_state=42)"
      ],
      "metadata": {
        "id": "391GbRMU0BWj"
      },
      "execution_count": null,
      "outputs": []
    },
    {
      "cell_type": "code",
      "source": [
        "X_train.head()"
      ],
      "metadata": {
        "colab": {
          "base_uri": "https://localhost:8080/",
          "height": 206
        },
        "id": "ehWxTlkE2cqW",
        "outputId": "59277b38-7e3b-48bd-d3b0-9e9826b9de60"
      },
      "execution_count": null,
      "outputs": [
        {
          "output_type": "execute_result",
          "data": {
            "text/plain": [
              "     IDCNTRY ASBG10E ASBG11F ASBM01 ASDAGE ASBS08D ASBG04  ITSEX_Male  \\\n",
              "3758   840.0       2       3      2  10.33       3      1           1   \n",
              "3093   840.0       3       3      3  10.08       3      1           1   \n",
              "2223   840.0       3       0      3  10.25       2      3           1   \n",
              "9302   840.0       3       0      2  10.08       3      1           0   \n",
              "7831   840.0       3       1      1   9.83       1      1           1   \n",
              "\n",
              "      ASBG05C_Yes  ASBG05D_Yes  \n",
              "3758            1            1  \n",
              "3093            1            1  \n",
              "2223            1            1  \n",
              "9302            1            1  \n",
              "7831            1            1  "
            ],
            "text/html": [
              "\n",
              "  <div id=\"df-9ea52ef3-a92a-4c54-a200-c7b613d2ae6a\">\n",
              "    <div class=\"colab-df-container\">\n",
              "      <div>\n",
              "<style scoped>\n",
              "    .dataframe tbody tr th:only-of-type {\n",
              "        vertical-align: middle;\n",
              "    }\n",
              "\n",
              "    .dataframe tbody tr th {\n",
              "        vertical-align: top;\n",
              "    }\n",
              "\n",
              "    .dataframe thead th {\n",
              "        text-align: right;\n",
              "    }\n",
              "</style>\n",
              "<table border=\"1\" class=\"dataframe\">\n",
              "  <thead>\n",
              "    <tr style=\"text-align: right;\">\n",
              "      <th></th>\n",
              "      <th>IDCNTRY</th>\n",
              "      <th>ASBG10E</th>\n",
              "      <th>ASBG11F</th>\n",
              "      <th>ASBM01</th>\n",
              "      <th>ASDAGE</th>\n",
              "      <th>ASBS08D</th>\n",
              "      <th>ASBG04</th>\n",
              "      <th>ITSEX_Male</th>\n",
              "      <th>ASBG05C_Yes</th>\n",
              "      <th>ASBG05D_Yes</th>\n",
              "    </tr>\n",
              "  </thead>\n",
              "  <tbody>\n",
              "    <tr>\n",
              "      <th>3758</th>\n",
              "      <td>840.0</td>\n",
              "      <td>2</td>\n",
              "      <td>3</td>\n",
              "      <td>2</td>\n",
              "      <td>10.33</td>\n",
              "      <td>3</td>\n",
              "      <td>1</td>\n",
              "      <td>1</td>\n",
              "      <td>1</td>\n",
              "      <td>1</td>\n",
              "    </tr>\n",
              "    <tr>\n",
              "      <th>3093</th>\n",
              "      <td>840.0</td>\n",
              "      <td>3</td>\n",
              "      <td>3</td>\n",
              "      <td>3</td>\n",
              "      <td>10.08</td>\n",
              "      <td>3</td>\n",
              "      <td>1</td>\n",
              "      <td>1</td>\n",
              "      <td>1</td>\n",
              "      <td>1</td>\n",
              "    </tr>\n",
              "    <tr>\n",
              "      <th>2223</th>\n",
              "      <td>840.0</td>\n",
              "      <td>3</td>\n",
              "      <td>0</td>\n",
              "      <td>3</td>\n",
              "      <td>10.25</td>\n",
              "      <td>2</td>\n",
              "      <td>3</td>\n",
              "      <td>1</td>\n",
              "      <td>1</td>\n",
              "      <td>1</td>\n",
              "    </tr>\n",
              "    <tr>\n",
              "      <th>9302</th>\n",
              "      <td>840.0</td>\n",
              "      <td>3</td>\n",
              "      <td>0</td>\n",
              "      <td>2</td>\n",
              "      <td>10.08</td>\n",
              "      <td>3</td>\n",
              "      <td>1</td>\n",
              "      <td>0</td>\n",
              "      <td>1</td>\n",
              "      <td>1</td>\n",
              "    </tr>\n",
              "    <tr>\n",
              "      <th>7831</th>\n",
              "      <td>840.0</td>\n",
              "      <td>3</td>\n",
              "      <td>1</td>\n",
              "      <td>1</td>\n",
              "      <td>9.83</td>\n",
              "      <td>1</td>\n",
              "      <td>1</td>\n",
              "      <td>1</td>\n",
              "      <td>1</td>\n",
              "      <td>1</td>\n",
              "    </tr>\n",
              "  </tbody>\n",
              "</table>\n",
              "</div>\n",
              "      <button class=\"colab-df-convert\" onclick=\"convertToInteractive('df-9ea52ef3-a92a-4c54-a200-c7b613d2ae6a')\"\n",
              "              title=\"Convert this dataframe to an interactive table.\"\n",
              "              style=\"display:none;\">\n",
              "        \n",
              "  <svg xmlns=\"http://www.w3.org/2000/svg\" height=\"24px\"viewBox=\"0 0 24 24\"\n",
              "       width=\"24px\">\n",
              "    <path d=\"M0 0h24v24H0V0z\" fill=\"none\"/>\n",
              "    <path d=\"M18.56 5.44l.94 2.06.94-2.06 2.06-.94-2.06-.94-.94-2.06-.94 2.06-2.06.94zm-11 1L8.5 8.5l.94-2.06 2.06-.94-2.06-.94L8.5 2.5l-.94 2.06-2.06.94zm10 10l.94 2.06.94-2.06 2.06-.94-2.06-.94-.94-2.06-.94 2.06-2.06.94z\"/><path d=\"M17.41 7.96l-1.37-1.37c-.4-.4-.92-.59-1.43-.59-.52 0-1.04.2-1.43.59L10.3 9.45l-7.72 7.72c-.78.78-.78 2.05 0 2.83L4 21.41c.39.39.9.59 1.41.59.51 0 1.02-.2 1.41-.59l7.78-7.78 2.81-2.81c.8-.78.8-2.07 0-2.86zM5.41 20L4 18.59l7.72-7.72 1.47 1.35L5.41 20z\"/>\n",
              "  </svg>\n",
              "      </button>\n",
              "      \n",
              "  <style>\n",
              "    .colab-df-container {\n",
              "      display:flex;\n",
              "      flex-wrap:wrap;\n",
              "      gap: 12px;\n",
              "    }\n",
              "\n",
              "    .colab-df-convert {\n",
              "      background-color: #E8F0FE;\n",
              "      border: none;\n",
              "      border-radius: 50%;\n",
              "      cursor: pointer;\n",
              "      display: none;\n",
              "      fill: #1967D2;\n",
              "      height: 32px;\n",
              "      padding: 0 0 0 0;\n",
              "      width: 32px;\n",
              "    }\n",
              "\n",
              "    .colab-df-convert:hover {\n",
              "      background-color: #E2EBFA;\n",
              "      box-shadow: 0px 1px 2px rgba(60, 64, 67, 0.3), 0px 1px 3px 1px rgba(60, 64, 67, 0.15);\n",
              "      fill: #174EA6;\n",
              "    }\n",
              "\n",
              "    [theme=dark] .colab-df-convert {\n",
              "      background-color: #3B4455;\n",
              "      fill: #D2E3FC;\n",
              "    }\n",
              "\n",
              "    [theme=dark] .colab-df-convert:hover {\n",
              "      background-color: #434B5C;\n",
              "      box-shadow: 0px 1px 3px 1px rgba(0, 0, 0, 0.15);\n",
              "      filter: drop-shadow(0px 1px 2px rgba(0, 0, 0, 0.3));\n",
              "      fill: #FFFFFF;\n",
              "    }\n",
              "  </style>\n",
              "\n",
              "      <script>\n",
              "        const buttonEl =\n",
              "          document.querySelector('#df-9ea52ef3-a92a-4c54-a200-c7b613d2ae6a button.colab-df-convert');\n",
              "        buttonEl.style.display =\n",
              "          google.colab.kernel.accessAllowed ? 'block' : 'none';\n",
              "\n",
              "        async function convertToInteractive(key) {\n",
              "          const element = document.querySelector('#df-9ea52ef3-a92a-4c54-a200-c7b613d2ae6a');\n",
              "          const dataTable =\n",
              "            await google.colab.kernel.invokeFunction('convertToInteractive',\n",
              "                                                     [key], {});\n",
              "          if (!dataTable) return;\n",
              "\n",
              "          const docLinkHtml = 'Like what you see? Visit the ' +\n",
              "            '<a target=\"_blank\" href=https://colab.research.google.com/notebooks/data_table.ipynb>data table notebook</a>'\n",
              "            + ' to learn more about interactive tables.';\n",
              "          element.innerHTML = '';\n",
              "          dataTable['output_type'] = 'display_data';\n",
              "          await google.colab.output.renderOutput(dataTable, element);\n",
              "          const docLink = document.createElement('div');\n",
              "          docLink.innerHTML = docLinkHtml;\n",
              "          element.appendChild(docLink);\n",
              "        }\n",
              "      </script>\n",
              "    </div>\n",
              "  </div>\n",
              "  "
            ]
          },
          "metadata": {},
          "execution_count": 24
        }
      ]
    },
    {
      "cell_type": "code",
      "source": [
        "y_train.head()"
      ],
      "metadata": {
        "colab": {
          "base_uri": "https://localhost:8080/"
        },
        "id": "jjKr9oYN2f3_",
        "outputId": "aba53f70-4e11-436a-f3a8-16118e47d9f1"
      },
      "execution_count": null,
      "outputs": [
        {
          "output_type": "execute_result",
          "data": {
            "text/plain": [
              "3758    500.902970\n",
              "3093    599.405774\n",
              "2223    531.362990\n",
              "9302    560.740720\n",
              "7831    426.118330\n",
              "Name: target, dtype: float64"
            ]
          },
          "metadata": {},
          "execution_count": 25
        }
      ]
    },
    {
      "cell_type": "markdown",
      "source": [
        "### Loading the model"
      ],
      "metadata": {
        "id": "JSh4ImdRxy2U"
      }
    },
    {
      "cell_type": "code",
      "source": [
        "# Fitting Random Forest Regression to the dataset\n",
        "# import the regressor\n",
        "from sklearn.ensemble import RandomForestRegressor\n",
        " \n",
        " # create regressor object\n",
        "regressor = RandomForestRegressor(n_estimators = 100, random_state = 0)\n"
      ],
      "metadata": {
        "id": "S5Ah_xfFz8GR"
      },
      "execution_count": null,
      "outputs": []
    },
    {
      "cell_type": "markdown",
      "source": [
        "### Training the model"
      ],
      "metadata": {
        "id": "AT7V9Sb8xvE0"
      }
    },
    {
      "cell_type": "code",
      "source": [
        " # fit the regressor with x and y data\n",
        "regressor.fit(X_train, y_train) "
      ],
      "metadata": {
        "id": "ncMnoZ5_mQsh",
        "colab": {
          "base_uri": "https://localhost:8080/"
        },
        "outputId": "603e8402-f220-459f-9af3-3b11eb75aa63"
      },
      "execution_count": null,
      "outputs": [
        {
          "output_type": "execute_result",
          "data": {
            "text/plain": [
              "RandomForestRegressor(random_state=0)"
            ]
          },
          "metadata": {},
          "execution_count": 27
        }
      ]
    },
    {
      "cell_type": "markdown",
      "source": [
        "### Feature importance and prediction"
      ],
      "metadata": {
        "id": "qhNNg43vPEJ-"
      }
    },
    {
      "cell_type": "code",
      "source": [
        "import time\n",
        "import numpy as np\n",
        "\n",
        "start_time = time.time()\n",
        "importances = regressor.feature_importances_\n",
        "std = np.std([tree.feature_importances_ for tree in regressor.estimators_], axis=0)\n",
        "elapsed_time = time.time() - start_time\n",
        "\n",
        "print(f\"Elapsed time to compute the importances: {elapsed_time:.3f} seconds\")"
      ],
      "metadata": {
        "id": "t0M95eW3x2Iz",
        "colab": {
          "base_uri": "https://localhost:8080/"
        },
        "outputId": "58ff98f5-513e-4de0-bd4d-f4335d2cf4c5"
      },
      "execution_count": null,
      "outputs": [
        {
          "output_type": "stream",
          "name": "stdout",
          "text": [
            "Elapsed time to compute the importances: 0.036 seconds\n"
          ]
        }
      ]
    },
    {
      "cell_type": "code",
      "source": [
        "import pandas as pd\n",
        "import matplotlib.pyplot as plt\n",
        "\n",
        "\n",
        "forest_importances = pd.Series(importances, index=L)\n",
        "\n",
        "fig, ax = plt.subplots()\n",
        "forest_importances.plot.bar(yerr=std, ax=ax)\n",
        "ax.set_title(\"Feature importances using MDI\")\n",
        "ax.set_ylabel(\"Mean decrease in impurity\")\n",
        "fig.tight_layout()"
      ],
      "metadata": {
        "id": "pQyS42A-0uEb",
        "colab": {
          "base_uri": "https://localhost:8080/",
          "height": 297
        },
        "outputId": "cf7b8d0c-d5ab-479c-85a3-b9c06db4388f"
      },
      "execution_count": null,
      "outputs": [
        {
          "output_type": "display_data",
          "data": {
            "text/plain": [
              "<Figure size 432x288 with 1 Axes>"
            ],
            "image/png": "[encoded data removed]"
          },
          "metadata": {
            "needs_background": "light"
          }
        }
      ]
    },
    {
      "cell_type": "code",
      "source": [
        "forest_importances"
      ],
      "metadata": {
        "colab": {
          "base_uri": "https://localhost:8080/"
        },
        "id": "Oi-oIW5AP5hV",
        "outputId": "12b600c9-1769-4d28-a9e6-feab62a79906"
      },
      "execution_count": null,
      "outputs": [
        {
          "output_type": "execute_result",
          "data": {
            "text/plain": [
              "IDCNTRY        0.000000\n",
              "ASBG10E        0.100363\n",
              "ASBG11F        0.108055\n",
              "ASBM01         0.119141\n",
              "ASDAGE         0.306218\n",
              "ASBS08D        0.082764\n",
              "ASBG04         0.146251\n",
              "ITSEX_Male     0.048129\n",
              "ASBG05C_Yes    0.055608\n",
              "ASBG05D_Yes    0.033472\n",
              "dtype: float64"
            ]
          },
          "metadata": {},
          "execution_count": 40
        }
      ]
    },
    {
      "cell_type": "code",
      "source": [
        "list(forest_importances)"
      ],
      "metadata": {
        "colab": {
          "base_uri": "https://localhost:8080/"
        },
        "id": "TBuHNosHQdRN",
        "outputId": "3cbdaa91-a4fb-4258-cf18-b748c0e6946d"
      },
      "execution_count": null,
      "outputs": [
        {
          "output_type": "execute_result",
          "data": {
            "text/plain": [
              "[0.0,\n",
              " 0.10036294823363204,\n",
              " 0.10805461659440871,\n",
              " 0.11914050206247966,\n",
              " 0.30621826432586946,\n",
              " 0.08276419121267217,\n",
              " 0.14625061827982055,\n",
              " 0.048129065166746525,\n",
              " 0.0556078414677752,\n",
              " 0.03347195265659578]"
            ]
          },
          "metadata": {},
          "execution_count": 41
        }
      ]
    },
    {
      "cell_type": "code",
      "source": [
        "importance = pd.DataFrame(forest_importances, columns = ['USA'])"
      ],
      "metadata": {
        "id": "dbVqYP9hQB-M"
      },
      "execution_count": null,
      "outputs": []
    },
    {
      "cell_type": "code",
      "source": [
        "importance"
      ],
      "metadata": {
        "colab": {
          "base_uri": "https://localhost:8080/",
          "height": 362
        },
        "id": "KKdy9NYTQMDd",
        "outputId": "4fdc38de-918e-4a14-e4d0-4627aa237b35"
      },
      "execution_count": null,
      "outputs": [
        {
          "output_type": "execute_result",
          "data": {
            "text/plain": [
              "                  USA\n",
              "IDCNTRY      0.000000\n",
              "ASBG10E      0.100363\n",
              "ASBG11F      0.108055\n",
              "ASBM01       0.119141\n",
              "ASDAGE       0.306218\n",
              "ASBS08D      0.082764\n",
              "ASBG04       0.146251\n",
              "ITSEX_Male   0.048129\n",
              "ASBG05C_Yes  0.055608\n",
              "ASBG05D_Yes  0.033472"
            ],
            "text/html": [
              "\n",
              "  <div id=\"df-1cc705f1-b7e2-4006-9bec-f24163162afa\">\n",
              "    <div class=\"colab-df-container\">\n",
              "      <div>\n",
              "<style scoped>\n",
              "    .dataframe tbody tr th:only-of-type {\n",
              "        vertical-align: middle;\n",
              "    }\n",
              "\n",
              "    .dataframe tbody tr th {\n",
              "        vertical-align: top;\n",
              "    }\n",
              "\n",
              "    .dataframe thead th {\n",
              "        text-align: right;\n",
              "    }\n",
              "</style>\n",
              "<table border=\"1\" class=\"dataframe\">\n",
              "  <thead>\n",
              "    <tr style=\"text-align: right;\">\n",
              "      <th></th>\n",
              "      <th>USA</th>\n",
              "    </tr>\n",
              "  </thead>\n",
              "  <tbody>\n",
              "    <tr>\n",
              "      <th>IDCNTRY</th>\n",
              "      <td>0.000000</td>\n",
              "    </tr>\n",
              "    <tr>\n",
              "      <th>ASBG10E</th>\n",
              "      <td>0.100363</td>\n",
              "    </tr>\n",
              "    <tr>\n",
              "      <th>ASBG11F</th>\n",
              "      <td>0.108055</td>\n",
              "    </tr>\n",
              "    <tr>\n",
              "      <th>ASBM01</th>\n",
              "      <td>0.119141</td>\n",
              "    </tr>\n",
              "    <tr>\n",
              "      <th>ASDAGE</th>\n",
              "      <td>0.306218</td>\n",
              "    </tr>\n",
              "    <tr>\n",
              "      <th>ASBS08D</th>\n",
              "      <td>0.082764</td>\n",
              "    </tr>\n",
              "    <tr>\n",
              "      <th>ASBG04</th>\n",
              "      <td>0.146251</td>\n",
              "    </tr>\n",
              "    <tr>\n",
              "      <th>ITSEX_Male</th>\n",
              "      <td>0.048129</td>\n",
              "    </tr>\n",
              "    <tr>\n",
              "      <th>ASBG05C_Yes</th>\n",
              "      <td>0.055608</td>\n",
              "    </tr>\n",
              "    <tr>\n",
              "      <th>ASBG05D_Yes</th>\n",
              "      <td>0.033472</td>\n",
              "    </tr>\n",
              "  </tbody>\n",
              "</table>\n",
              "</div>\n",
              "      <button class=\"colab-df-convert\" onclick=\"convertToInteractive('df-1cc705f1-b7e2-4006-9bec-f24163162afa')\"\n",
              "              title=\"Convert this dataframe to an interactive table.\"\n",
              "              style=\"display:none;\">\n",
              "        \n",
              "  <svg xmlns=\"http://www.w3.org/2000/svg\" height=\"24px\"viewBox=\"0 0 24 24\"\n",
              "       width=\"24px\">\n",
              "    <path d=\"M0 0h24v24H0V0z\" fill=\"none\"/>\n",
              "    <path d=\"M18.56 5.44l.94 2.06.94-2.06 2.06-.94-2.06-.94-.94-2.06-.94 2.06-2.06.94zm-11 1L8.5 8.5l.94-2.06 2.06-.94-2.06-.94L8.5 2.5l-.94 2.06-2.06.94zm10 10l.94 2.06.94-2.06 2.06-.94-2.06-.94-.94-2.06-.94 2.06-2.06.94z\"/><path d=\"M17.41 7.96l-1.37-1.37c-.4-.4-.92-.59-1.43-.59-.52 0-1.04.2-1.43.59L10.3 9.45l-7.72 7.72c-.78.78-.78 2.05 0 2.83L4 21.41c.39.39.9.59 1.41.59.51 0 1.02-.2 1.41-.59l7.78-7.78 2.81-2.81c.8-.78.8-2.07 0-2.86zM5.41 20L4 18.59l7.72-7.72 1.47 1.35L5.41 20z\"/>\n",
              "  </svg>\n",
              "      </button>\n",
              "      \n",
              "  <style>\n",
              "    .colab-df-container {\n",
              "      display:flex;\n",
              "      flex-wrap:wrap;\n",
              "      gap: 12px;\n",
              "    }\n",
              "\n",
              "    .colab-df-convert {\n",
              "      background-color: #E8F0FE;\n",
              "      border: none;\n",
              "      border-radius: 50%;\n",
              "      cursor: pointer;\n",
              "      display: none;\n",
              "      fill: #1967D2;\n",
              "      height: 32px;\n",
              "      padding: 0 0 0 0;\n",
              "      width: 32px;\n",
              "    }\n",
              "\n",
              "    .colab-df-convert:hover {\n",
              "      background-color: #E2EBFA;\n",
              "      box-shadow: 0px 1px 2px rgba(60, 64, 67, 0.3), 0px 1px 3px 1px rgba(60, 64, 67, 0.15);\n",
              "      fill: #174EA6;\n",
              "    }\n",
              "\n",
              "    [theme=dark] .colab-df-convert {\n",
              "      background-color: #3B4455;\n",
              "      fill: #D2E3FC;\n",
              "    }\n",
              "\n",
              "    [theme=dark] .colab-df-convert:hover {\n",
              "      background-color: #434B5C;\n",
              "      box-shadow: 0px 1px 3px 1px rgba(0, 0, 0, 0.15);\n",
              "      filter: drop-shadow(0px 1px 2px rgba(0, 0, 0, 0.3));\n",
              "      fill: #FFFFFF;\n",
              "    }\n",
              "  </style>\n",
              "\n",
              "      <script>\n",
              "        const buttonEl =\n",
              "          document.querySelector('#df-1cc705f1-b7e2-4006-9bec-f24163162afa button.colab-df-convert');\n",
              "        buttonEl.style.display =\n",
              "          google.colab.kernel.accessAllowed ? 'block' : 'none';\n",
              "\n",
              "        async function convertToInteractive(key) {\n",
              "          const element = document.querySelector('#df-1cc705f1-b7e2-4006-9bec-f24163162afa');\n",
              "          const dataTable =\n",
              "            await google.colab.kernel.invokeFunction('convertToInteractive',\n",
              "                                                     [key], {});\n",
              "          if (!dataTable) return;\n",
              "\n",
              "          const docLinkHtml = 'Like what you see? Visit the ' +\n",
              "            '<a target=\"_blank\" href=https://colab.research.google.com/notebooks/data_table.ipynb>data table notebook</a>'\n",
              "            + ' to learn more about interactive tables.';\n",
              "          element.innerHTML = '';\n",
              "          dataTable['output_type'] = 'display_data';\n",
              "          await google.colab.output.renderOutput(dataTable, element);\n",
              "          const docLink = document.createElement('div');\n",
              "          docLink.innerHTML = docLinkHtml;\n",
              "          element.appendChild(docLink);\n",
              "        }\n",
              "      </script>\n",
              "    </div>\n",
              "  </div>\n",
              "  "
            ]
          },
          "metadata": {},
          "execution_count": 44
        }
      ]
    },
    {
      "cell_type": "code",
      "source": [
        "from sklearn.inspection import permutation_importance\n",
        "\n",
        "start_time = time.time()\n",
        "result = permutation_importance(\n",
        "    regressor, X_test, y_test, n_repeats=10, random_state=42, n_jobs=2\n",
        ")\n",
        "elapsed_time = time.time() - start_time\n",
        "print(f\"Elapsed time to compute the importances: {elapsed_time:.3f} seconds\")\n",
        "\n",
        "forest_importances = pd.Series(result.importances_mean, index=L)"
      ],
      "metadata": {
        "colab": {
          "base_uri": "https://localhost:8080/"
        },
        "id": "7bDkyJ52PPr2",
        "outputId": "7f1fe516-edc8-4d40-ac87-21e0bc83c375"
      },
      "execution_count": null,
      "outputs": [
        {
          "output_type": "stream",
          "name": "stdout",
          "text": [
            "Elapsed time to compute the importances: 7.127 seconds\n"
          ]
        }
      ]
    },
    {
      "cell_type": "code",
      "source": [
        "fig, ax = plt.subplots()\n",
        "forest_importances.plot.bar(yerr=result.importances_std, ax=ax)\n",
        "ax.set_title(\"Feature importances using permutation on full model\")\n",
        "ax.set_ylabel(\"Mean accuracy decrease\")\n",
        "fig.tight_layout()\n",
        "plt.show()"
      ],
      "metadata": {
        "colab": {
          "base_uri": "https://localhost:8080/",
          "height": 297
        },
        "id": "Veu7Oz4QPf1-",
        "outputId": "44304f47-e27d-4575-db41-2d9233649d09"
      },
      "execution_count": null,
      "outputs": [
        {
          "output_type": "display_data",
          "data": {
            "text/plain": [
              "<Figure size 432x288 with 1 Axes>"
            ],
            "image/png": "[encoded data removed]"
          },
          "metadata": {
            "needs_background": "light"
          }
        }
      ]
    },
    {
      "cell_type": "code",
      "source": [
        "# Doing the same thing for Turkey\n",
        "\n",
        "Xtur_train, Xtur_test, ytur_train, ytur_test = train_test_split( data_TUR[L], data_TUR['target'], test_size=0.2, random_state=42)"
      ],
      "metadata": {
        "id": "iXWIk-0US24v"
      },
      "execution_count": null,
      "outputs": []
    },
    {
      "cell_type": "code",
      "source": [
        "regressortur = RandomForestRegressor(n_estimators = 100, random_state = 0)\n",
        "regressortur.fit(Xtur_train, ytur_train) \n",
        "importancestur = regressortur.feature_importances_\n",
        "forest_importancestur = pd.Series(importancestur, index=L)\n",
        "\n"
      ],
      "metadata": {
        "id": "SamEhCapTLxj"
      },
      "execution_count": null,
      "outputs": []
    },
    {
      "cell_type": "code",
      "source": [
        "importancetur = pd.DataFrame(forest_importancestur, columns =['TUR'])"
      ],
      "metadata": {
        "id": "PdTH0JReVNOZ"
      },
      "execution_count": null,
      "outputs": []
    },
    {
      "cell_type": "code",
      "source": [
        "importancetur"
      ],
      "metadata": {
        "colab": {
          "base_uri": "https://localhost:8080/",
          "height": 362
        },
        "id": "2tUnTuWiU4Dx",
        "outputId": "e1e12ff6-cb56-4c6b-cb80-5045c9bf0204"
      },
      "execution_count": null,
      "outputs": [
        {
          "output_type": "execute_result",
          "data": {
            "text/plain": [
              "                  TUR\n",
              "IDCNTRY      0.000000\n",
              "ASBG10E      0.069465\n",
              "ASBG11F      0.089420\n",
              "ASBM01       0.146794\n",
              "ASDAGE       0.302076\n",
              "ASBS08D      0.073222\n",
              "ASBG04       0.143912\n",
              "ITSEX_Male   0.059700\n",
              "ASBG05C_Yes  0.062765\n",
              "ASBG05D_Yes  0.052645"
            ],
            "text/html": [
              "\n",
              "  <div id=\"df-80654522-7181-4b7e-93b9-5f63565f66a9\">\n",
              "    <div class=\"colab-df-container\">\n",
              "      <div>\n",
              "<style scoped>\n",
              "    .dataframe tbody tr th:only-of-type {\n",
              "        vertical-align: middle;\n",
              "    }\n",
              "\n",
              "    .dataframe tbody tr th {\n",
              "        vertical-align: top;\n",
              "    }\n",
              "\n",
              "    .dataframe thead th {\n",
              "        text-align: right;\n",
              "    }\n",
              "</style>\n",
              "<table border=\"1\" class=\"dataframe\">\n",
              "  <thead>\n",
              "    <tr style=\"text-align: right;\">\n",
              "      <th></th>\n",
              "      <th>TUR</th>\n",
              "    </tr>\n",
              "  </thead>\n",
              "  <tbody>\n",
              "    <tr>\n",
              "      <th>IDCNTRY</th>\n",
              "      <td>0.000000</td>\n",
              "    </tr>\n",
              "    <tr>\n",
              "      <th>ASBG10E</th>\n",
              "      <td>0.069465</td>\n",
              "    </tr>\n",
              "    <tr>\n",
              "      <th>ASBG11F</th>\n",
              "      <td>0.089420</td>\n",
              "    </tr>\n",
              "    <tr>\n",
              "      <th>ASBM01</th>\n",
              "      <td>0.146794</td>\n",
              "    </tr>\n",
              "    <tr>\n",
              "      <th>ASDAGE</th>\n",
              "      <td>0.302076</td>\n",
              "    </tr>\n",
              "    <tr>\n",
              "      <th>ASBS08D</th>\n",
              "      <td>0.073222</td>\n",
              "    </tr>\n",
              "    <tr>\n",
              "      <th>ASBG04</th>\n",
              "      <td>0.143912</td>\n",
              "    </tr>\n",
              "    <tr>\n",
              "      <th>ITSEX_Male</th>\n",
              "      <td>0.059700</td>\n",
              "    </tr>\n",
              "    <tr>\n",
              "      <th>ASBG05C_Yes</th>\n",
              "      <td>0.062765</td>\n",
              "    </tr>\n",
              "    <tr>\n",
              "      <th>ASBG05D_Yes</th>\n",
              "      <td>0.052645</td>\n",
              "    </tr>\n",
              "  </tbody>\n",
              "</table>\n",
              "</div>\n",
              "      <button class=\"colab-df-convert\" onclick=\"convertToInteractive('df-80654522-7181-4b7e-93b9-5f63565f66a9')\"\n",
              "              title=\"Convert this dataframe to an interactive table.\"\n",
              "              style=\"display:none;\">\n",
              "        \n",
              "  <svg xmlns=\"http://www.w3.org/2000/svg\" height=\"24px\"viewBox=\"0 0 24 24\"\n",
              "       width=\"24px\">\n",
              "    <path d=\"M0 0h24v24H0V0z\" fill=\"none\"/>\n",
              "    <path d=\"M18.56 5.44l.94 2.06.94-2.06 2.06-.94-2.06-.94-.94-2.06-.94 2.06-2.06.94zm-11 1L8.5 8.5l.94-2.06 2.06-.94-2.06-.94L8.5 2.5l-.94 2.06-2.06.94zm10 10l.94 2.06.94-2.06 2.06-.94-2.06-.94-.94-2.06-.94 2.06-2.06.94z\"/><path d=\"M17.41 7.96l-1.37-1.37c-.4-.4-.92-.59-1.43-.59-.52 0-1.04.2-1.43.59L10.3 9.45l-7.72 7.72c-.78.78-.78 2.05 0 2.83L4 21.41c.39.39.9.59 1.41.59.51 0 1.02-.2 1.41-.59l7.78-7.78 2.81-2.81c.8-.78.8-2.07 0-2.86zM5.41 20L4 18.59l7.72-7.72 1.47 1.35L5.41 20z\"/>\n",
              "  </svg>\n",
              "      </button>\n",
              "      \n",
              "  <style>\n",
              "    .colab-df-container {\n",
              "      display:flex;\n",
              "      flex-wrap:wrap;\n",
              "      gap: 12px;\n",
              "    }\n",
              "\n",
              "    .colab-df-convert {\n",
              "      background-color: #E8F0FE;\n",
              "      border: none;\n",
              "      border-radius: 50%;\n",
              "      cursor: pointer;\n",
              "      display: none;\n",
              "      fill: #1967D2;\n",
              "      height: 32px;\n",
              "      padding: 0 0 0 0;\n",
              "      width: 32px;\n",
              "    }\n",
              "\n",
              "    .colab-df-convert:hover {\n",
              "      background-color: #E2EBFA;\n",
              "      box-shadow: 0px 1px 2px rgba(60, 64, 67, 0.3), 0px 1px 3px 1px rgba(60, 64, 67, 0.15);\n",
              "      fill: #174EA6;\n",
              "    }\n",
              "\n",
              "    [theme=dark] .colab-df-convert {\n",
              "      background-color: #3B4455;\n",
              "      fill: #D2E3FC;\n",
              "    }\n",
              "\n",
              "    [theme=dark] .colab-df-convert:hover {\n",
              "      background-color: #434B5C;\n",
              "      box-shadow: 0px 1px 3px 1px rgba(0, 0, 0, 0.15);\n",
              "      filter: drop-shadow(0px 1px 2px rgba(0, 0, 0, 0.3));\n",
              "      fill: #FFFFFF;\n",
              "    }\n",
              "  </style>\n",
              "\n",
              "      <script>\n",
              "        const buttonEl =\n",
              "          document.querySelector('#df-80654522-7181-4b7e-93b9-5f63565f66a9 button.colab-df-convert');\n",
              "        buttonEl.style.display =\n",
              "          google.colab.kernel.accessAllowed ? 'block' : 'none';\n",
              "\n",
              "        async function convertToInteractive(key) {\n",
              "          const element = document.querySelector('#df-80654522-7181-4b7e-93b9-5f63565f66a9');\n",
              "          const dataTable =\n",
              "            await google.colab.kernel.invokeFunction('convertToInteractive',\n",
              "                                                     [key], {});\n",
              "          if (!dataTable) return;\n",
              "\n",
              "          const docLinkHtml = 'Like what you see? Visit the ' +\n",
              "            '<a target=\"_blank\" href=https://colab.research.google.com/notebooks/data_table.ipynb>data table notebook</a>'\n",
              "            + ' to learn more about interactive tables.';\n",
              "          element.innerHTML = '';\n",
              "          dataTable['output_type'] = 'display_data';\n",
              "          await google.colab.output.renderOutput(dataTable, element);\n",
              "          const docLink = document.createElement('div');\n",
              "          docLink.innerHTML = docLinkHtml;\n",
              "          element.appendChild(docLink);\n",
              "        }\n",
              "      </script>\n",
              "    </div>\n",
              "  </div>\n",
              "  "
            ]
          },
          "metadata": {},
          "execution_count": 50
        }
      ]
    },
    {
      "cell_type": "code",
      "source": [
        "importancerf = pd.concat([importance,importancetur], axis=1)"
      ],
      "metadata": {
        "id": "fs2oS7gYU6JI"
      },
      "execution_count": null,
      "outputs": []
    },
    {
      "cell_type": "code",
      "source": [
        ""
      ],
      "metadata": {
        "id": "hRcfNm7P8Rgk"
      },
      "execution_count": null,
      "outputs": []
    },
    {
      "cell_type": "code",
      "source": [
        "importancerf"
      ],
      "metadata": {
        "colab": {
          "base_uri": "https://localhost:8080/",
          "height": 362
        },
        "id": "yMn4e9tvVm35",
        "outputId": "80b8c7e6-7682-4e19-84f1-1cc2094ad640"
      },
      "execution_count": null,
      "outputs": [
        {
          "output_type": "execute_result",
          "data": {
            "text/plain": [
              "                  USA       TUR\n",
              "IDCNTRY      0.000000  0.000000\n",
              "ASBG10E      0.100363  0.069465\n",
              "ASBG11F      0.108055  0.089420\n",
              "ASBM01       0.119141  0.146794\n",
              "ASDAGE       0.306218  0.302076\n",
              "ASBS08D      0.082764  0.073222\n",
              "ASBG04       0.146251  0.143912\n",
              "ITSEX_Male   0.048129  0.059700\n",
              "ASBG05C_Yes  0.055608  0.062765\n",
              "ASBG05D_Yes  0.033472  0.052645"
            ],
            "text/html": [
              "\n",
              "  <div id=\"df-9d89f118-a24a-4489-8889-afeb1059e861\">\n",
              "    <div class=\"colab-df-container\">\n",
              "      <div>\n",
              "<style scoped>\n",
              "    .dataframe tbody tr th:only-of-type {\n",
              "        vertical-align: middle;\n",
              "    }\n",
              "\n",
              "    .dataframe tbody tr th {\n",
              "        vertical-align: top;\n",
              "    }\n",
              "\n",
              "    .dataframe thead th {\n",
              "        text-align: right;\n",
              "    }\n",
              "</style>\n",
              "<table border=\"1\" class=\"dataframe\">\n",
              "  <thead>\n",
              "    <tr style=\"text-align: right;\">\n",
              "      <th></th>\n",
              "      <th>USA</th>\n",
              "      <th>TUR</th>\n",
              "    </tr>\n",
              "  </thead>\n",
              "  <tbody>\n",
              "    <tr>\n",
              "      <th>IDCNTRY</th>\n",
              "      <td>0.000000</td>\n",
              "      <td>0.000000</td>\n",
              "    </tr>\n",
              "    <tr>\n",
              "      <th>ASBG10E</th>\n",
              "      <td>0.100363</td>\n",
              "      <td>0.069465</td>\n",
              "    </tr>\n",
              "    <tr>\n",
              "      <th>ASBG11F</th>\n",
              "      <td>0.108055</td>\n",
              "      <td>0.089420</td>\n",
              "    </tr>\n",
              "    <tr>\n",
              "      <th>ASBM01</th>\n",
              "      <td>0.119141</td>\n",
              "      <td>0.146794</td>\n",
              "    </tr>\n",
              "    <tr>\n",
              "      <th>ASDAGE</th>\n",
              "      <td>0.306218</td>\n",
              "      <td>0.302076</td>\n",
              "    </tr>\n",
              "    <tr>\n",
              "      <th>ASBS08D</th>\n",
              "      <td>0.082764</td>\n",
              "      <td>0.073222</td>\n",
              "    </tr>\n",
              "    <tr>\n",
              "      <th>ASBG04</th>\n",
              "      <td>0.146251</td>\n",
              "      <td>0.143912</td>\n",
              "    </tr>\n",
              "    <tr>\n",
              "      <th>ITSEX_Male</th>\n",
              "      <td>0.048129</td>\n",
              "      <td>0.059700</td>\n",
              "    </tr>\n",
              "    <tr>\n",
              "      <th>ASBG05C_Yes</th>\n",
              "      <td>0.055608</td>\n",
              "      <td>0.062765</td>\n",
              "    </tr>\n",
              "    <tr>\n",
              "      <th>ASBG05D_Yes</th>\n",
              "      <td>0.033472</td>\n",
              "      <td>0.052645</td>\n",
              "    </tr>\n",
              "  </tbody>\n",
              "</table>\n",
              "</div>\n",
              "      <button class=\"colab-df-convert\" onclick=\"convertToInteractive('df-9d89f118-a24a-4489-8889-afeb1059e861')\"\n",
              "              title=\"Convert this dataframe to an interactive table.\"\n",
              "              style=\"display:none;\">\n",
              "        \n",
              "  <svg xmlns=\"http://www.w3.org/2000/svg\" height=\"24px\"viewBox=\"0 0 24 24\"\n",
              "       width=\"24px\">\n",
              "    <path d=\"M0 0h24v24H0V0z\" fill=\"none\"/>\n",
              "    <path d=\"M18.56 5.44l.94 2.06.94-2.06 2.06-.94-2.06-.94-.94-2.06-.94 2.06-2.06.94zm-11 1L8.5 8.5l.94-2.06 2.06-.94-2.06-.94L8.5 2.5l-.94 2.06-2.06.94zm10 10l.94 2.06.94-2.06 2.06-.94-2.06-.94-.94-2.06-.94 2.06-2.06.94z\"/><path d=\"M17.41 7.96l-1.37-1.37c-.4-.4-.92-.59-1.43-.59-.52 0-1.04.2-1.43.59L10.3 9.45l-7.72 7.72c-.78.78-.78 2.05 0 2.83L4 21.41c.39.39.9.59 1.41.59.51 0 1.02-.2 1.41-.59l7.78-7.78 2.81-2.81c.8-.78.8-2.07 0-2.86zM5.41 20L4 18.59l7.72-7.72 1.47 1.35L5.41 20z\"/>\n",
              "  </svg>\n",
              "      </button>\n",
              "      \n",
              "  <style>\n",
              "    .colab-df-container {\n",
              "      display:flex;\n",
              "      flex-wrap:wrap;\n",
              "      gap: 12px;\n",
              "    }\n",
              "\n",
              "    .colab-df-convert {\n",
              "      background-color: #E8F0FE;\n",
              "      border: none;\n",
              "      border-radius: 50%;\n",
              "      cursor: pointer;\n",
              "      display: none;\n",
              "      fill: #1967D2;\n",
              "      height: 32px;\n",
              "      padding: 0 0 0 0;\n",
              "      width: 32px;\n",
              "    }\n",
              "\n",
              "    .colab-df-convert:hover {\n",
              "      background-color: #E2EBFA;\n",
              "      box-shadow: 0px 1px 2px rgba(60, 64, 67, 0.3), 0px 1px 3px 1px rgba(60, 64, 67, 0.15);\n",
              "      fill: #174EA6;\n",
              "    }\n",
              "\n",
              "    [theme=dark] .colab-df-convert {\n",
              "      background-color: #3B4455;\n",
              "      fill: #D2E3FC;\n",
              "    }\n",
              "\n",
              "    [theme=dark] .colab-df-convert:hover {\n",
              "      background-color: #434B5C;\n",
              "      box-shadow: 0px 1px 3px 1px rgba(0, 0, 0, 0.15);\n",
              "      filter: drop-shadow(0px 1px 2px rgba(0, 0, 0, 0.3));\n",
              "      fill: #FFFFFF;\n",
              "    }\n",
              "  </style>\n",
              "\n",
              "      <script>\n",
              "        const buttonEl =\n",
              "          document.querySelector('#df-9d89f118-a24a-4489-8889-afeb1059e861 button.colab-df-convert');\n",
              "        buttonEl.style.display =\n",
              "          google.colab.kernel.accessAllowed ? 'block' : 'none';\n",
              "\n",
              "        async function convertToInteractive(key) {\n",
              "          const element = document.querySelector('#df-9d89f118-a24a-4489-8889-afeb1059e861');\n",
              "          const dataTable =\n",
              "            await google.colab.kernel.invokeFunction('convertToInteractive',\n",
              "                                                     [key], {});\n",
              "          if (!dataTable) return;\n",
              "\n",
              "          const docLinkHtml = 'Like what you see? Visit the ' +\n",
              "            '<a target=\"_blank\" href=https://colab.research.google.com/notebooks/data_table.ipynb>data table notebook</a>'\n",
              "            + ' to learn more about interactive tables.';\n",
              "          element.innerHTML = '';\n",
              "          dataTable['output_type'] = 'display_data';\n",
              "          await google.colab.output.renderOutput(dataTable, element);\n",
              "          const docLink = document.createElement('div');\n",
              "          docLink.innerHTML = docLinkHtml;\n",
              "          element.appendChild(docLink);\n",
              "        }\n",
              "      </script>\n",
              "    </div>\n",
              "  </div>\n",
              "  "
            ]
          },
          "metadata": {},
          "execution_count": 52
        }
      ]
    },
    {
      "cell_type": "code",
      "source": [
        "importancerf.columns"
      ],
      "metadata": {
        "colab": {
          "base_uri": "https://localhost:8080/"
        },
        "id": "4n6OK-Fr8Z_F",
        "outputId": "92826949-8e1b-446c-a146-4febd13c9676"
      },
      "execution_count": null,
      "outputs": [
        {
          "output_type": "execute_result",
          "data": {
            "text/plain": [
              "Index(['USA', 'TUR'], dtype='object')"
            ]
          },
          "metadata": {},
          "execution_count": 54
        }
      ]
    },
    {
      "cell_type": "code",
      "source": [
        "L"
      ],
      "metadata": {
        "colab": {
          "base_uri": "https://localhost:8080/"
        },
        "id": "6dB2ZfYW88gn",
        "outputId": "f71a80a4-9a0b-4da2-b76c-aab2677d02cb"
      },
      "execution_count": null,
      "outputs": [
        {
          "output_type": "execute_result",
          "data": {
            "text/plain": [
              "Index(['IDCNTRY', 'ASBG10E', 'ASBG11F', 'ASBM01', 'ASDAGE', 'ASBS08D',\n",
              "       'ASBG04', 'ITSEX_Male', 'ASBG05C_Yes', 'ASBG05D_Yes'],\n",
              "      dtype='object')"
            ]
          },
          "metadata": {},
          "execution_count": 55
        }
      ]
    },
    {
      "cell_type": "code",
      "source": [
        "cols = { 'IDCNTRY' : 'IDCNTRY', 'ASBG10E' : 'ASBG10E', 'ASBG11F' : 'ASBG11F', 'ASBM01' : 'ASBM01', 'ASDAGE' : 'ASDAGE', 'ASBS08D' : 'ASBS08D',\n",
        "       'ASBG04' : 'ASBG04', 'ITSEX_Male' : 'ITSEX_Male', 'ASBG05C_Yes' : 'ASBG05C_Yes', 'ASBG05D_Yes': 'ASBG05D_Yes'}\n",
        "colcol = pd.Series(data=cols, index=L)"
      ],
      "metadata": {
        "id": "el57Pfw08MOd"
      },
      "execution_count": null,
      "outputs": []
    },
    {
      "cell_type": "code",
      "source": [
        "colcol"
      ],
      "metadata": {
        "colab": {
          "base_uri": "https://localhost:8080/"
        },
        "id": "7jL1gDy59VCe",
        "outputId": "5d9c32d2-6206-435c-c892-ce56fb773ec3"
      },
      "execution_count": null,
      "outputs": [
        {
          "output_type": "execute_result",
          "data": {
            "text/plain": [
              "IDCNTRY            IDCNTRY\n",
              "ASBG10E            ASBG10E\n",
              "ASBG11F            ASBG11F\n",
              "ASBM01              ASBM01\n",
              "ASDAGE              ASDAGE\n",
              "ASBS08D            ASBS08D\n",
              "ASBG04              ASBG04\n",
              "ITSEX_Male      ITSEX_Male\n",
              "ASBG05C_Yes    ASBG05C_Yes\n",
              "ASBG05D_Yes    ASBG05D_Yes\n",
              "dtype: object"
            ]
          },
          "metadata": {},
          "execution_count": 58
        }
      ]
    },
    {
      "cell_type": "code",
      "source": [
        "coltodata = pd.DataFrame(colcol, columns =['COL'])"
      ],
      "metadata": {
        "id": "PjHCgkfY9ai1"
      },
      "execution_count": null,
      "outputs": []
    },
    {
      "cell_type": "code",
      "source": [
        ""
      ],
      "metadata": {
        "id": "NCBMwR9M9qHg"
      },
      "execution_count": null,
      "outputs": []
    },
    {
      "cell_type": "code",
      "source": [
        "importancerf = pd.concat([importancerf,coltodata], axis=1)"
      ],
      "metadata": {
        "id": "2oHN811_9fZ9"
      },
      "execution_count": null,
      "outputs": []
    },
    {
      "cell_type": "code",
      "source": [
        "importancerf"
      ],
      "metadata": {
        "colab": {
          "base_uri": "https://localhost:8080/",
          "height": 362
        },
        "id": "edySDV5x9l4I",
        "outputId": "ef26e512-8ecf-4dcf-c48e-9798d96c04d6"
      },
      "execution_count": null,
      "outputs": [
        {
          "output_type": "execute_result",
          "data": {
            "text/plain": [
              "                  USA       TUR          COL\n",
              "IDCNTRY      0.000000  0.000000      IDCNTRY\n",
              "ASBG10E      0.100363  0.069465      ASBG10E\n",
              "ASBG11F      0.108055  0.089420      ASBG11F\n",
              "ASBM01       0.119141  0.146794       ASBM01\n",
              "ASDAGE       0.306218  0.302076       ASDAGE\n",
              "ASBS08D      0.082764  0.073222      ASBS08D\n",
              "ASBG04       0.146251  0.143912       ASBG04\n",
              "ITSEX_Male   0.048129  0.059700   ITSEX_Male\n",
              "ASBG05C_Yes  0.055608  0.062765  ASBG05C_Yes\n",
              "ASBG05D_Yes  0.033472  0.052645  ASBG05D_Yes"
            ],
            "text/html": [
              "\n",
              "  <div id=\"df-d6fcc360-e511-4afa-ada0-efac0eda4048\">\n",
              "    <div class=\"colab-df-container\">\n",
              "      <div>\n",
              "<style scoped>\n",
              "    .dataframe tbody tr th:only-of-type {\n",
              "        vertical-align: middle;\n",
              "    }\n",
              "\n",
              "    .dataframe tbody tr th {\n",
              "        vertical-align: top;\n",
              "    }\n",
              "\n",
              "    .dataframe thead th {\n",
              "        text-align: right;\n",
              "    }\n",
              "</style>\n",
              "<table border=\"1\" class=\"dataframe\">\n",
              "  <thead>\n",
              "    <tr style=\"text-align: right;\">\n",
              "      <th></th>\n",
              "      <th>USA</th>\n",
              "      <th>TUR</th>\n",
              "      <th>COL</th>\n",
              "    </tr>\n",
              "  </thead>\n",
              "  <tbody>\n",
              "    <tr>\n",
              "      <th>IDCNTRY</th>\n",
              "      <td>0.000000</td>\n",
              "      <td>0.000000</td>\n",
              "      <td>IDCNTRY</td>\n",
              "    </tr>\n",
              "    <tr>\n",
              "      <th>ASBG10E</th>\n",
              "      <td>0.100363</td>\n",
              "      <td>0.069465</td>\n",
              "      <td>ASBG10E</td>\n",
              "    </tr>\n",
              "    <tr>\n",
              "      <th>ASBG11F</th>\n",
              "      <td>0.108055</td>\n",
              "      <td>0.089420</td>\n",
              "      <td>ASBG11F</td>\n",
              "    </tr>\n",
              "    <tr>\n",
              "      <th>ASBM01</th>\n",
              "      <td>0.119141</td>\n",
              "      <td>0.146794</td>\n",
              "      <td>ASBM01</td>\n",
              "    </tr>\n",
              "    <tr>\n",
              "      <th>ASDAGE</th>\n",
              "      <td>0.306218</td>\n",
              "      <td>0.302076</td>\n",
              "      <td>ASDAGE</td>\n",
              "    </tr>\n",
              "    <tr>\n",
              "      <th>ASBS08D</th>\n",
              "      <td>0.082764</td>\n",
              "      <td>0.073222</td>\n",
              "      <td>ASBS08D</td>\n",
              "    </tr>\n",
              "    <tr>\n",
              "      <th>ASBG04</th>\n",
              "      <td>0.146251</td>\n",
              "      <td>0.143912</td>\n",
              "      <td>ASBG04</td>\n",
              "    </tr>\n",
              "    <tr>\n",
              "      <th>ITSEX_Male</th>\n",
              "      <td>0.048129</td>\n",
              "      <td>0.059700</td>\n",
              "      <td>ITSEX_Male</td>\n",
              "    </tr>\n",
              "    <tr>\n",
              "      <th>ASBG05C_Yes</th>\n",
              "      <td>0.055608</td>\n",
              "      <td>0.062765</td>\n",
              "      <td>ASBG05C_Yes</td>\n",
              "    </tr>\n",
              "    <tr>\n",
              "      <th>ASBG05D_Yes</th>\n",
              "      <td>0.033472</td>\n",
              "      <td>0.052645</td>\n",
              "      <td>ASBG05D_Yes</td>\n",
              "    </tr>\n",
              "  </tbody>\n",
              "</table>\n",
              "</div>\n",
              "      <button class=\"colab-df-convert\" onclick=\"convertToInteractive('df-d6fcc360-e511-4afa-ada0-efac0eda4048')\"\n",
              "              title=\"Convert this dataframe to an interactive table.\"\n",
              "              style=\"display:none;\">\n",
              "        \n",
              "  <svg xmlns=\"http://www.w3.org/2000/svg\" height=\"24px\"viewBox=\"0 0 24 24\"\n",
              "       width=\"24px\">\n",
              "    <path d=\"M0 0h24v24H0V0z\" fill=\"none\"/>\n",
              "    <path d=\"M18.56 5.44l.94 2.06.94-2.06 2.06-.94-2.06-.94-.94-2.06-.94 2.06-2.06.94zm-11 1L8.5 8.5l.94-2.06 2.06-.94-2.06-.94L8.5 2.5l-.94 2.06-2.06.94zm10 10l.94 2.06.94-2.06 2.06-.94-2.06-.94-.94-2.06-.94 2.06-2.06.94z\"/><path d=\"M17.41 7.96l-1.37-1.37c-.4-.4-.92-.59-1.43-.59-.52 0-1.04.2-1.43.59L10.3 9.45l-7.72 7.72c-.78.78-.78 2.05 0 2.83L4 21.41c.39.39.9.59 1.41.59.51 0 1.02-.2 1.41-.59l7.78-7.78 2.81-2.81c.8-.78.8-2.07 0-2.86zM5.41 20L4 18.59l7.72-7.72 1.47 1.35L5.41 20z\"/>\n",
              "  </svg>\n",
              "      </button>\n",
              "      \n",
              "  <style>\n",
              "    .colab-df-container {\n",
              "      display:flex;\n",
              "      flex-wrap:wrap;\n",
              "      gap: 12px;\n",
              "    }\n",
              "\n",
              "    .colab-df-convert {\n",
              "      background-color: #E8F0FE;\n",
              "      border: none;\n",
              "      border-radius: 50%;\n",
              "      cursor: pointer;\n",
              "      display: none;\n",
              "      fill: #1967D2;\n",
              "      height: 32px;\n",
              "      padding: 0 0 0 0;\n",
              "      width: 32px;\n",
              "    }\n",
              "\n",
              "    .colab-df-convert:hover {\n",
              "      background-color: #E2EBFA;\n",
              "      box-shadow: 0px 1px 2px rgba(60, 64, 67, 0.3), 0px 1px 3px 1px rgba(60, 64, 67, 0.15);\n",
              "      fill: #174EA6;\n",
              "    }\n",
              "\n",
              "    [theme=dark] .colab-df-convert {\n",
              "      background-color: #3B4455;\n",
              "      fill: #D2E3FC;\n",
              "    }\n",
              "\n",
              "    [theme=dark] .colab-df-convert:hover {\n",
              "      background-color: #434B5C;\n",
              "      box-shadow: 0px 1px 3px 1px rgba(0, 0, 0, 0.15);\n",
              "      filter: drop-shadow(0px 1px 2px rgba(0, 0, 0, 0.3));\n",
              "      fill: #FFFFFF;\n",
              "    }\n",
              "  </style>\n",
              "\n",
              "      <script>\n",
              "        const buttonEl =\n",
              "          document.querySelector('#df-d6fcc360-e511-4afa-ada0-efac0eda4048 button.colab-df-convert');\n",
              "        buttonEl.style.display =\n",
              "          google.colab.kernel.accessAllowed ? 'block' : 'none';\n",
              "\n",
              "        async function convertToInteractive(key) {\n",
              "          const element = document.querySelector('#df-d6fcc360-e511-4afa-ada0-efac0eda4048');\n",
              "          const dataTable =\n",
              "            await google.colab.kernel.invokeFunction('convertToInteractive',\n",
              "                                                     [key], {});\n",
              "          if (!dataTable) return;\n",
              "\n",
              "          const docLinkHtml = 'Like what you see? Visit the ' +\n",
              "            '<a target=\"_blank\" href=https://colab.research.google.com/notebooks/data_table.ipynb>data table notebook</a>'\n",
              "            + ' to learn more about interactive tables.';\n",
              "          element.innerHTML = '';\n",
              "          dataTable['output_type'] = 'display_data';\n",
              "          await google.colab.output.renderOutput(dataTable, element);\n",
              "          const docLink = document.createElement('div');\n",
              "          docLink.innerHTML = docLinkHtml;\n",
              "          element.appendChild(docLink);\n",
              "        }\n",
              "      </script>\n",
              "    </div>\n",
              "  </div>\n",
              "  "
            ]
          },
          "metadata": {},
          "execution_count": 67
        }
      ]
    },
    {
      "cell_type": "code",
      "source": [
        "importancecsv = importancerf.to_csv('importance1.csv')"
      ],
      "metadata": {
        "id": "l2to2vOVVqop"
      },
      "execution_count": null,
      "outputs": []
    },
    {
      "cell_type": "code",
      "source": [
        ""
      ],
      "metadata": {
        "id": "m8i-NncPV0WD"
      },
      "execution_count": null,
      "outputs": []
    },
    {
      "cell_type": "code",
      "source": [
        ""
      ],
      "metadata": {
        "id": "Q_wfOFLu-T3T"
      },
      "execution_count": null,
      "outputs": []
    },
    {
      "cell_type": "code",
      "source": [
        ""
      ],
      "metadata": {
        "id": "N5VuCI8d-Y0K"
      },
      "execution_count": null,
      "outputs": []
    },
    {
      "cell_type": "markdown",
      "source": [
        "### Making prediction"
      ],
      "metadata": {
        "id": "VLXZAmVZx2d-"
      }
    },
    {
      "cell_type": "code",
      "source": [
        "y_pred = regressor.predict(X_test)"
      ],
      "metadata": {
        "id": "otO7o0d0mO6y"
      },
      "execution_count": null,
      "outputs": []
    },
    {
      "cell_type": "code",
      "source": [
        ""
      ],
      "metadata": {
        "id": "4xBk4DIPnP62"
      },
      "execution_count": null,
      "outputs": []
    },
    {
      "cell_type": "markdown",
      "source": [
        "### Showing our result in the dashboard."
      ],
      "metadata": {
        "id": "zYqTjUrSy0u_"
      }
    },
    {
      "cell_type": "code",
      "source": [
        ""
      ],
      "metadata": {
        "id": "rysbN1aGm5wU"
      },
      "execution_count": null,
      "outputs": []
    },
    {
      "cell_type": "code",
      "source": [
        ""
      ],
      "metadata": {
        "id": "5SI9ejVRm6bD"
      },
      "execution_count": null,
      "outputs": []
    },
    {
      "cell_type": "code",
      "source": [
        ""
      ],
      "metadata": {
        "id": "lh6xi3KkIPnZ"
      },
      "execution_count": null,
      "outputs": []
    },
    {
      "cell_type": "code",
      "source": [
        "test_list3 = [1, 4, 5, 6, 5]\n",
        "test_list4 = [3, 5, 7, 2, 5]\n",
        "  \n",
        "# using + operator to concat\n",
        "test_list3 = test_list3 + test_list4"
      ],
      "metadata": {
        "id": "wJAD900kIaGm"
      },
      "execution_count": null,
      "outputs": []
    },
    {
      "cell_type": "code",
      "source": [
        "test_list3"
      ],
      "metadata": {
        "colab": {
          "base_uri": "https://localhost:8080/"
        },
        "id": "DQaAK4LzOlY5",
        "outputId": "752bbf32-d99d-4889-d64b-8f215273a4cb"
      },
      "execution_count": null,
      "outputs": [
        {
          "output_type": "execute_result",
          "data": {
            "text/plain": [
              "[1, 4, 5, 6, 5, 3, 5, 7, 2, 5]"
            ]
          },
          "metadata": {},
          "execution_count": 2
        }
      ]
    },
    {
      "cell_type": "code",
      "source": [
        ""
      ],
      "metadata": {
        "id": "NXDT-vhnOnXQ"
      },
      "execution_count": null,
      "outputs": []
    }
  ],
  "metadata": {
    "colab": {
      "collapsed_sections": [],
      "name": "Capstone project Antsa Rakotondrafara",
      "provenance": [],
      "include_colab_link": true
    },
    "kernelspec": {
      "display_name": "Python 3",
      "name": "python3"
    }
  },
  "nbformat": 4,
  "nbformat_minor": 0
}